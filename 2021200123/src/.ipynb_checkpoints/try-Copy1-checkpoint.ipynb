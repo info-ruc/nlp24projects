{
 "cells": [
  {
   "cell_type": "code",
   "execution_count": 1,
   "id": "3181257b-7776-422a-b8dc-504bf5d54339",
   "metadata": {},
   "outputs": [],
   "source": [
    "import pandas as pd\n",
    "poetry_df=pd.read_csv('poems.csv')\n"
   ]
  },
  {
   "cell_type": "code",
   "execution_count": 2,
   "id": "0703c44a-e6b7-4afd-bf1f-9edbf832a939",
   "metadata": {},
   "outputs": [
    {
     "data": {
      "text/html": [
       "<div>\n",
       "<style scoped>\n",
       "    .dataframe tbody tr th:only-of-type {\n",
       "        vertical-align: middle;\n",
       "    }\n",
       "\n",
       "    .dataframe tbody tr th {\n",
       "        vertical-align: top;\n",
       "    }\n",
       "\n",
       "    .dataframe thead th {\n",
       "        text-align: right;\n",
       "    }\n",
       "</style>\n",
       "<table border=\"1\" class=\"dataframe\">\n",
       "  <thead>\n",
       "    <tr style=\"text-align: right;\">\n",
       "      <th></th>\n",
       "      <th>Unnamed: 0</th>\n",
       "      <th>id</th>\n",
       "      <th>title</th>\n",
       "      <th>content</th>\n",
       "      <th>author_id</th>\n",
       "      <th>dynasty</th>\n",
       "      <th>author</th>\n",
       "    </tr>\n",
       "  </thead>\n",
       "  <tbody>\n",
       "    <tr>\n",
       "      <th>2451</th>\n",
       "      <td>2451</td>\n",
       "      <td>2452</td>\n",
       "      <td>菩萨蛮</td>\n",
       "      <td>丝丝柳色清愁织。\\n山城望断花溪碧。\\n回首仲宣楼。\\n登临无计愁。\\n雨声吹海立。\\n流转...</td>\n",
       "      <td>0</td>\n",
       "      <td>NaN</td>\n",
       "      <td>韩</td>\n",
       "    </tr>\n",
       "    <tr>\n",
       "      <th>15907</th>\n",
       "      <td>15907</td>\n",
       "      <td>15908</td>\n",
       "      <td>水龙吟</td>\n",
       "      <td>杜陵折柳狂吟，砚波尚湿红衣露。\\n仙桃宴早，江梅春近，还催客句。\\n宫漏传鸡，禁门嘶骑，宦情...</td>\n",
       "      <td>6</td>\n",
       "      <td>NaN</td>\n",
       "      <td>吴文英</td>\n",
       "    </tr>\n",
       "    <tr>\n",
       "      <th>5917</th>\n",
       "      <td>5917</td>\n",
       "      <td>5918</td>\n",
       "      <td>生查子</td>\n",
       "      <td>轻云浅护霜，晓日红生砌。\\n烟共宝薰浓，人与山长翠。\\n银浪酒杯浓，锦幄双鸾戏。\\n庭下彩衣...</td>\n",
       "      <td>1468</td>\n",
       "      <td>NaN</td>\n",
       "      <td>周紫芝</td>\n",
       "    </tr>\n",
       "    <tr>\n",
       "      <th>15880</th>\n",
       "      <td>15880</td>\n",
       "      <td>15881</td>\n",
       "      <td>霜叶飞</td>\n",
       "      <td>断烟离绪。\\n关心事，斜阳红隐霜树。\\n半壶秋水荐黄花，香西风雨。\\n纵玉勒、轻飞迅羽。\\n...</td>\n",
       "      <td>6</td>\n",
       "      <td>NaN</td>\n",
       "      <td>吴文英</td>\n",
       "    </tr>\n",
       "    <tr>\n",
       "      <th>3196</th>\n",
       "      <td>3196</td>\n",
       "      <td>3197</td>\n",
       "      <td>水龙吟</td>\n",
       "      <td>夜来井络参躔，使星一点明如昼。\\n谁将天上麒麟，锺作人间英秀。\\n从橐仪刑，御屏名姓，暂烦衣...</td>\n",
       "      <td>411</td>\n",
       "      <td>NaN</td>\n",
       "      <td>京镗</td>\n",
       "    </tr>\n",
       "    <tr>\n",
       "      <th>20201</th>\n",
       "      <td>20201</td>\n",
       "      <td>20202</td>\n",
       "      <td>瑞鹧鸪</td>\n",
       "      <td>璇源一派接天流。\\n秀毓君家公共侯。\\n满月佳时近重九，生朝令节踵千秋。</td>\n",
       "      <td>998</td>\n",
       "      <td>NaN</td>\n",
       "      <td>无名氏</td>\n",
       "    </tr>\n",
       "    <tr>\n",
       "      <th>14739</th>\n",
       "      <td>14739</td>\n",
       "      <td>14740</td>\n",
       "      <td>贺新郎</td>\n",
       "      <td>想赴瑶池约。\\n向东风、名姬骏马，翠鞯金络。\\n太液池边鹄群下，又似南楼呼鹤。\\n画不就、纤...</td>\n",
       "      <td>18</td>\n",
       "      <td>NaN</td>\n",
       "      <td>刘克庄</td>\n",
       "    </tr>\n",
       "    <tr>\n",
       "      <th>15989</th>\n",
       "      <td>15989</td>\n",
       "      <td>15990</td>\n",
       "      <td>惜秋华</td>\n",
       "      <td>思渺西风，怅行踪、浪逐南飞高雁。\\n怯上翠微，危楼更堪凭晚。\\n蓬莱对起幽云，澹野色山容愁卷...</td>\n",
       "      <td>6</td>\n",
       "      <td>NaN</td>\n",
       "      <td>吴文英</td>\n",
       "    </tr>\n",
       "    <tr>\n",
       "      <th>15786</th>\n",
       "      <td>15786</td>\n",
       "      <td>15787</td>\n",
       "      <td>水调歌头</td>\n",
       "      <td>佳丽东阳境，瑞气晓笼晴。\\n中元逾了十日，上相喜重生。\\n四海文章宗匠，百里弦歌德化，官与水...</td>\n",
       "      <td>1498</td>\n",
       "      <td>NaN</td>\n",
       "      <td>祖吴</td>\n",
       "    </tr>\n",
       "    <tr>\n",
       "      <th>19331</th>\n",
       "      <td>19331</td>\n",
       "      <td>19332</td>\n",
       "      <td>南歌子</td>\n",
       "      <td>小小生金屋，盈盈向凤帏。\\n斜枝石竹绣罗衣。\\n为怕春来风日、卷帘稀。\\n金殿承恩久，兰堂得...</td>\n",
       "      <td>998</td>\n",
       "      <td>NaN</td>\n",
       "      <td>无名氏</td>\n",
       "    </tr>\n",
       "  </tbody>\n",
       "</table>\n",
       "</div>"
      ],
      "text/plain": [
       "       Unnamed: 0     id title  \\\n",
       "2451         2451   2452   菩萨蛮   \n",
       "15907       15907  15908   水龙吟   \n",
       "5917         5917   5918   生查子   \n",
       "15880       15880  15881   霜叶飞   \n",
       "3196         3196   3197   水龙吟   \n",
       "20201       20201  20202   瑞鹧鸪   \n",
       "14739       14739  14740   贺新郎   \n",
       "15989       15989  15990   惜秋华   \n",
       "15786       15786  15787  水调歌头   \n",
       "19331       19331  19332   南歌子   \n",
       "\n",
       "                                                 content  author_id  dynasty  \\\n",
       "2451   丝丝柳色清愁织。\\n山城望断花溪碧。\\n回首仲宣楼。\\n登临无计愁。\\n雨声吹海立。\\n流转...          0      NaN   \n",
       "15907  杜陵折柳狂吟，砚波尚湿红衣露。\\n仙桃宴早，江梅春近，还催客句。\\n宫漏传鸡，禁门嘶骑，宦情...          6      NaN   \n",
       "5917   轻云浅护霜，晓日红生砌。\\n烟共宝薰浓，人与山长翠。\\n银浪酒杯浓，锦幄双鸾戏。\\n庭下彩衣...       1468      NaN   \n",
       "15880  断烟离绪。\\n关心事，斜阳红隐霜树。\\n半壶秋水荐黄花，香西风雨。\\n纵玉勒、轻飞迅羽。\\n...          6      NaN   \n",
       "3196   夜来井络参躔，使星一点明如昼。\\n谁将天上麒麟，锺作人间英秀。\\n从橐仪刑，御屏名姓，暂烦衣...        411      NaN   \n",
       "20201               璇源一派接天流。\\n秀毓君家公共侯。\\n满月佳时近重九，生朝令节踵千秋。        998      NaN   \n",
       "14739  想赴瑶池约。\\n向东风、名姬骏马，翠鞯金络。\\n太液池边鹄群下，又似南楼呼鹤。\\n画不就、纤...         18      NaN   \n",
       "15989  思渺西风，怅行踪、浪逐南飞高雁。\\n怯上翠微，危楼更堪凭晚。\\n蓬莱对起幽云，澹野色山容愁卷...          6      NaN   \n",
       "15786  佳丽东阳境，瑞气晓笼晴。\\n中元逾了十日，上相喜重生。\\n四海文章宗匠，百里弦歌德化，官与水...       1498      NaN   \n",
       "19331  小小生金屋，盈盈向凤帏。\\n斜枝石竹绣罗衣。\\n为怕春来风日、卷帘稀。\\n金殿承恩久，兰堂得...        998      NaN   \n",
       "\n",
       "      author  \n",
       "2451       韩  \n",
       "15907    吴文英  \n",
       "5917     周紫芝  \n",
       "15880    吴文英  \n",
       "3196      京镗  \n",
       "20201    无名氏  \n",
       "14739    刘克庄  \n",
       "15989    吴文英  \n",
       "15786     祖吴  \n",
       "19331    无名氏  "
      ]
     },
     "execution_count": 2,
     "metadata": {},
     "output_type": "execute_result"
    }
   ],
   "source": [
    "\n",
    "poetry_df.sample(10)"
   ]
  },
  {
   "cell_type": "code",
   "execution_count": 3,
   "id": "83b65cc4-9d83-4b00-810c-539b99f03123",
   "metadata": {},
   "outputs": [
    {
     "data": {
      "text/plain": [
       "Unnamed: 0      int64\n",
       "id              int64\n",
       "title          object\n",
       "content        object\n",
       "author_id       int64\n",
       "dynasty       float64\n",
       "author         object\n",
       "dtype: object"
      ]
     },
     "execution_count": 3,
     "metadata": {},
     "output_type": "execute_result"
    }
   ],
   "source": [
    "poetry_df.dtypes"
   ]
  },
  {
   "cell_type": "code",
   "execution_count": 4,
   "id": "01b34aad-67b0-4c40-8003-92b7ae5ae4e4",
   "metadata": {},
   "outputs": [],
   "source": [
    "poetry_df['content'] = poetry_df['content'].fillna(\"\")\n",
    "poetry_df['title'] = poetry_df['title'].fillna(\"\")\n",
    "poetry_df['author'] = poetry_df['author'].fillna(\"\")"
   ]
  },
  {
   "cell_type": "code",
   "execution_count": 5,
   "id": "f0a870a4-6042-401c-aba9-ee5877dd55a2",
   "metadata": {},
   "outputs": [
    {
     "name": "stderr",
     "output_type": "stream",
     "text": [
      "100%|██████████| 21050/21050 [00:00<00:00, 243072.75it/s]\n"
     ]
    }
   ],
   "source": [
    "from hanziconv import HanziConv as HC\n",
    "import pandas as pd\n",
    "from concurrent.futures import ThreadPoolExecutor, as_completed\n",
    "from tqdm import tqdm\n",
    "\n",
    "# 假设 HC.toSimplified 是转换函数\n",
    "def process_row(row):\n",
    "    row['content'] = HC.toSimplified(row['content'])\n",
    "    row['title'] = HC.toSimplified(row['title'])\n",
    "    row['author'] = HC.toSimplified(row['author'])\n",
    "    return row\n",
    "\n",
    "# 并行处理并显示进度\n",
    "def parallel_process_with_progress(df):\n",
    "    results = []\n",
    "    with ThreadPoolExecutor(14) as executor:\n",
    "        # 创建任务\n",
    "        tasks = {executor.submit(process_row, row): i for i, row in df.iterrows()}\n",
    "        # 使用 tqdm 显示进度\n",
    "        for future in tqdm(as_completed(tasks), total=len(tasks)):\n",
    "            results.append(future.result())\n",
    "    return pd.DataFrame(results)\n",
    "\n",
    "# 转换\n",
    "poetry_df = parallel_process_with_progress(poetry_df)"
   ]
  },
  {
   "cell_type": "code",
   "execution_count": 6,
   "id": "3e802857-80ac-4f7d-a21b-9601d2acec94",
   "metadata": {},
   "outputs": [
    {
     "data": {
      "text/html": [
       "<div>\n",
       "<style scoped>\n",
       "    .dataframe tbody tr th:only-of-type {\n",
       "        vertical-align: middle;\n",
       "    }\n",
       "\n",
       "    .dataframe tbody tr th {\n",
       "        vertical-align: top;\n",
       "    }\n",
       "\n",
       "    .dataframe thead th {\n",
       "        text-align: right;\n",
       "    }\n",
       "</style>\n",
       "<table border=\"1\" class=\"dataframe\">\n",
       "  <thead>\n",
       "    <tr style=\"text-align: right;\">\n",
       "      <th></th>\n",
       "      <th>Unnamed: 0</th>\n",
       "      <th>id</th>\n",
       "      <th>title</th>\n",
       "      <th>content</th>\n",
       "      <th>author_id</th>\n",
       "      <th>dynasty</th>\n",
       "      <th>author</th>\n",
       "    </tr>\n",
       "  </thead>\n",
       "  <tbody>\n",
       "    <tr>\n",
       "      <th>9489</th>\n",
       "      <td>9489</td>\n",
       "      <td>9490</td>\n",
       "      <td>生查子</td>\n",
       "      <td>帘栊月上时，寂寞东风里。\\n又是立黄昏，梅影临窗绮。\\n玉梅清夜寒，梦断还无寐。\\n晓角一声...</td>\n",
       "      <td>1482</td>\n",
       "      <td>NaN</td>\n",
       "      <td>朱雍</td>\n",
       "    </tr>\n",
       "    <tr>\n",
       "      <th>17599</th>\n",
       "      <td>17599</td>\n",
       "      <td>17600</td>\n",
       "      <td>摸鱼儿</td>\n",
       "      <td>正何须、阳关肠断，吴姬苦劝人酒。\\n中年怀抱萦萦处，看取伴烟和柳。\\n柳摇首。\\n笑飞到家山...</td>\n",
       "      <td>559</td>\n",
       "      <td>NaN</td>\n",
       "      <td>刘辰翁</td>\n",
       "    </tr>\n",
       "    <tr>\n",
       "      <th>391</th>\n",
       "      <td>391</td>\n",
       "      <td>392</td>\n",
       "      <td>醉垂鞭</td>\n",
       "      <td>酒面滟金鱼。\\n吴娃唱。\\n吴潮上。\\n玉殿白麻书。\\n待君归后除。\\n勾留风月好。\\n平湖...</td>\n",
       "      <td>1316</td>\n",
       "      <td>NaN</td>\n",
       "      <td>张先</td>\n",
       "    </tr>\n",
       "    <tr>\n",
       "      <th>1256</th>\n",
       "      <td>1256</td>\n",
       "      <td>1257</td>\n",
       "      <td>六么令</td>\n",
       "      <td>日高春睡，唤起懒装束。\\n年年落花时候，惯得娇眠足。\\n学唱宫梅便好，更暖银笙逐。\\n黛蛾低...</td>\n",
       "      <td>20</td>\n",
       "      <td>NaN</td>\n",
       "      <td>晏几道</td>\n",
       "    </tr>\n",
       "    <tr>\n",
       "      <th>17912</th>\n",
       "      <td>17912</td>\n",
       "      <td>17913</td>\n",
       "      <td>声声慢</td>\n",
       "      <td>捷书连昼，甘洒通宵，新来喜沁尧眉。\\n许大担当，人间佛力须弥。\\n年年八月八日，长记他、三月...</td>\n",
       "      <td>263</td>\n",
       "      <td>NaN</td>\n",
       "      <td>郭居安</td>\n",
       "    </tr>\n",
       "    <tr>\n",
       "      <th>10375</th>\n",
       "      <td>10375</td>\n",
       "      <td>10376</td>\n",
       "      <td>菩萨蛮</td>\n",
       "      <td>玉龙细点三更月。\\n庭花影下馀残雪。\\n寒色到书帏。\\n有人清梦迷。\\n墙西歌吹好。\\n烛暖...</td>\n",
       "      <td>1318</td>\n",
       "      <td>NaN</td>\n",
       "      <td>张孝祥</td>\n",
       "    </tr>\n",
       "    <tr>\n",
       "      <th>7991</th>\n",
       "      <td>7991</td>\n",
       "      <td>7992</td>\n",
       "      <td>如梦令</td>\n",
       "      <td>翠柏红蕉影乱。\\n月上朱栏一半。\\n风自碧空来，吹落歌珠一串。\\n不见。\\n不见。\\n人被绣...</td>\n",
       "      <td>838</td>\n",
       "      <td>NaN</td>\n",
       "      <td>孙道绚</td>\n",
       "    </tr>\n",
       "    <tr>\n",
       "      <th>16593</th>\n",
       "      <td>16593</td>\n",
       "      <td>16594</td>\n",
       "      <td>西江月</td>\n",
       "      <td>宝瑟屏金深深处，斑衣箫玉香中。\\n人生二美古难逢。\\n杏苑今朝喜共。\\n一霎豆花新雨，半帘梧...</td>\n",
       "      <td>137</td>\n",
       "      <td>NaN</td>\n",
       "      <td>陈着</td>\n",
       "    </tr>\n",
       "    <tr>\n",
       "      <th>6392</th>\n",
       "      <td>6392</td>\n",
       "      <td>6393</td>\n",
       "      <td>卜算子</td>\n",
       "      <td>屈指数春来，弹指惊春去。\\n檐外蛛丝网落花，也要留春住。\\n几日喜春晴，几夜愁春雨。\\n十二...</td>\n",
       "      <td>243</td>\n",
       "      <td>NaN</td>\n",
       "      <td>高观国</td>\n",
       "    </tr>\n",
       "    <tr>\n",
       "      <th>1592</th>\n",
       "      <td>1592</td>\n",
       "      <td>1593</td>\n",
       "      <td>行香子</td>\n",
       "      <td>绮席才终。\\n欢意犹浓。\\n酒阑时、高兴无穷。\\n共夸君赐，初拆臣封。\\n看分香饼，黄金缕，...</td>\n",
       "      <td>1</td>\n",
       "      <td>NaN</td>\n",
       "      <td>苏轼</td>\n",
       "    </tr>\n",
       "  </tbody>\n",
       "</table>\n",
       "</div>"
      ],
      "text/plain": [
       "       Unnamed: 0     id title  \\\n",
       "9489         9489   9490   生查子   \n",
       "17599       17599  17600   摸鱼儿   \n",
       "391           391    392   醉垂鞭   \n",
       "1256         1256   1257   六么令   \n",
       "17912       17912  17913   声声慢   \n",
       "10375       10375  10376   菩萨蛮   \n",
       "7991         7991   7992   如梦令   \n",
       "16593       16593  16594   西江月   \n",
       "6392         6392   6393   卜算子   \n",
       "1592         1592   1593   行香子   \n",
       "\n",
       "                                                 content  author_id  dynasty  \\\n",
       "9489   帘栊月上时，寂寞东风里。\\n又是立黄昏，梅影临窗绮。\\n玉梅清夜寒，梦断还无寐。\\n晓角一声...       1482      NaN   \n",
       "17599  正何须、阳关肠断，吴姬苦劝人酒。\\n中年怀抱萦萦处，看取伴烟和柳。\\n柳摇首。\\n笑飞到家山...        559      NaN   \n",
       "391    酒面滟金鱼。\\n吴娃唱。\\n吴潮上。\\n玉殿白麻书。\\n待君归后除。\\n勾留风月好。\\n平湖...       1316      NaN   \n",
       "1256   日高春睡，唤起懒装束。\\n年年落花时候，惯得娇眠足。\\n学唱宫梅便好，更暖银笙逐。\\n黛蛾低...         20      NaN   \n",
       "17912  捷书连昼，甘洒通宵，新来喜沁尧眉。\\n许大担当，人间佛力须弥。\\n年年八月八日，长记他、三月...        263      NaN   \n",
       "10375  玉龙细点三更月。\\n庭花影下馀残雪。\\n寒色到书帏。\\n有人清梦迷。\\n墙西歌吹好。\\n烛暖...       1318      NaN   \n",
       "7991   翠柏红蕉影乱。\\n月上朱栏一半。\\n风自碧空来，吹落歌珠一串。\\n不见。\\n不见。\\n人被绣...        838      NaN   \n",
       "16593  宝瑟屏金深深处，斑衣箫玉香中。\\n人生二美古难逢。\\n杏苑今朝喜共。\\n一霎豆花新雨，半帘梧...        137      NaN   \n",
       "6392   屈指数春来，弹指惊春去。\\n檐外蛛丝网落花，也要留春住。\\n几日喜春晴，几夜愁春雨。\\n十二...        243      NaN   \n",
       "1592   绮席才终。\\n欢意犹浓。\\n酒阑时、高兴无穷。\\n共夸君赐，初拆臣封。\\n看分香饼，黄金缕，...          1      NaN   \n",
       "\n",
       "      author  \n",
       "9489      朱雍  \n",
       "17599    刘辰翁  \n",
       "391       张先  \n",
       "1256     晏几道  \n",
       "17912    郭居安  \n",
       "10375    张孝祥  \n",
       "7991     孙道绚  \n",
       "16593     陈着  \n",
       "6392     高观国  \n",
       "1592      苏轼  "
      ]
     },
     "execution_count": 6,
     "metadata": {},
     "output_type": "execute_result"
    }
   ],
   "source": [
    "poetry_df.sample(10)"
   ]
  },
  {
   "cell_type": "code",
   "execution_count": 7,
   "id": "8f7d31e7-7c3f-459e-a4a9-fd195efe80f0",
   "metadata": {},
   "outputs": [
    {
     "name": "stdout",
     "output_type": "stream",
     "text": [
      "21050\n"
     ]
    }
   ],
   "source": [
    "df_TS_all=poetry_df\n",
    "print(len(df_TS_all))\n",
    "df_TS=df_TS_all"
   ]
  },
  {
   "cell_type": "code",
   "execution_count": 8,
   "id": "bb000766-46ad-4993-9c3f-fb6742b435a0",
   "metadata": {},
   "outputs": [],
   "source": [
    "import warnings\n",
    "warnings.filterwarnings('ignore')"
   ]
  },
  {
   "cell_type": "code",
   "execution_count": 9,
   "id": "552a8cb8-41c4-4f3f-bb21-f420eec968e6",
   "metadata": {},
   "outputs": [],
   "source": [
    "import torch\n",
    "from transformers import BertTokenizer, GPT2LMHeadModel,TextGenerationPipeline\n",
    "# 本地模型路径\n",
    "local_model_path = './gpt2-chn'\n",
    "tokenizer = BertTokenizer.from_pretrained(local_model_path)\n",
    "model = GPT2LMHeadModel.from_pretrained(local_model_path)\n"
   ]
  },
  {
   "cell_type": "code",
   "execution_count": 10,
   "id": "cefaea53-d56f-42e7-91e6-bf2a5091c391",
   "metadata": {
    "scrolled": true
   },
   "outputs": [],
   "source": [
    "poem_begin = '[CLS]'  # 诗句开始的标志\n",
    "poem_sep = '[SEP]'    # 诗句结束的标志\n",
    "title_separator = ' ： '  # 标题与诗句之间的分隔符\n",
    "disallow = ['（', '）', '(', ')', '__', '《', '》', '【', '】','+','-','/']\n",
    "df_TS['fullpoem']=''\n",
    "df_TS.dropna()\n",
    "poems=[]\n",
    "poems_tc=pd.DataFrame(columns=['title','content'])\n",
    "titles=[]\n",
    "contents=[]\n",
    "for i in range(0,len(df_TS)):  # 遍历指定列，跳过缺失值\n",
    "    ignore_flag =False\n",
    "    title=df_TS['title'].iloc[i]\n",
    "    content=df_TS['content'].iloc[i]\n",
    "    for dis_word in disallow:\n",
    "        if dis_word in content or dis_word in content:\n",
    "            ignore_flag = True\n",
    "            break\n",
    "    '''\n",
    "    for line in content.split('|'):\n",
    "        line = line.strip()\n",
    "        if len(line)!=16 :\n",
    "            ignore_flag = True\n",
    "            break\n",
    "    '''\n",
    "    if ignore_flag:\n",
    "        continue\n",
    "    content1 = content.replace('\\n', '') \n",
    "    content_with_space = ' '.join(content1)\n",
    "    title_with_space=' '.join(title) \n",
    "    poem=poem_begin+content_with_space+poem_sep\n",
    "    content2=poem_begin+content_with_space+poem_sep\n",
    "    poems.append(poem)\n",
    "    titles.append(title_with_space)\n",
    "    contents.append(content2)"
   ]
  },
  {
   "cell_type": "code",
   "execution_count": 11,
   "id": "dae0b36e-ab19-4e7a-8160-347841758431",
   "metadata": {},
   "outputs": [
    {
     "name": "stdout",
     "output_type": "stream",
     "text": [
      "21036\n"
     ]
    }
   ],
   "source": [
    "print(len(poems))\n",
    "df_poems = pd.DataFrame(poems, columns=['fullpoem'])\n",
    "\n"
   ]
  },
  {
   "cell_type": "code",
   "execution_count": 12,
   "id": "076cd75f-fbc6-4c3f-a87a-c353d836a180",
   "metadata": {},
   "outputs": [
    {
     "data": {
      "text/html": [
       "<div>\n",
       "<style scoped>\n",
       "    .dataframe tbody tr th:only-of-type {\n",
       "        vertical-align: middle;\n",
       "    }\n",
       "\n",
       "    .dataframe tbody tr th {\n",
       "        vertical-align: top;\n",
       "    }\n",
       "\n",
       "    .dataframe thead th {\n",
       "        text-align: right;\n",
       "    }\n",
       "</style>\n",
       "<table border=\"1\" class=\"dataframe\">\n",
       "  <thead>\n",
       "    <tr style=\"text-align: right;\">\n",
       "      <th></th>\n",
       "      <th>title</th>\n",
       "      <th>content</th>\n",
       "    </tr>\n",
       "  </thead>\n",
       "  <tbody>\n",
       "    <tr>\n",
       "      <th>0</th>\n",
       "      <td>好 事 近</td>\n",
       "      <td>[CLS]华 屋 翠 云 深 ， 云 外 晚 山 千 叠 。 眼 底 无 穷 春 事 ， 对...</td>\n",
       "    </tr>\n",
       "    <tr>\n",
       "      <th>1</th>\n",
       "      <td>沁 园 春</td>\n",
       "      <td>[CLS]鸣 兮 ， 卉 木 萋 止 ， 维 暮 之 春 。 笑 憨 翁 渐 老 ， 年 加...</td>\n",
       "    </tr>\n",
       "    <tr>\n",
       "      <th>2</th>\n",
       "      <td>卜 算 子</td>\n",
       "      <td>[CLS]睡 觉 五 更 钟 ， 正 好 深 提 省 。 只 看 如 今 梦 几 般 ， 觉...</td>\n",
       "    </tr>\n",
       "    <tr>\n",
       "      <th>3</th>\n",
       "      <td>法 曲 第 二 ・ 法 曲</td>\n",
       "      <td>[CLS]青 翼 传 情 ， 香 径 偷 期 ， 自 觉 当 初 草 草 。 未 省 同 衾...</td>\n",
       "    </tr>\n",
       "    <tr>\n",
       "      <th>4</th>\n",
       "      <td>浣 溪 沙</td>\n",
       "      <td>[CLS]人 意 天 公 则 甚 知 。 故 教 小 雨 作 深 悲 。 桃 花 浑 似 泪...</td>\n",
       "    </tr>\n",
       "    <tr>\n",
       "      <th>5</th>\n",
       "      <td>点 绛 唇</td>\n",
       "      <td>[CLS]小 小 朱 桥 ， 柳 边 人 过 横 塘 路 。 细 风 时 度 。 □ 浪 痕...</td>\n",
       "    </tr>\n",
       "    <tr>\n",
       "      <th>6</th>\n",
       "      <td>临 江 仙</td>\n",
       "      <td>[CLS]昨 夜 渡 江 何 处 宿 ， 望 中 疑 是 秦 淮 。 月 明 谁 起 笛 中...</td>\n",
       "    </tr>\n",
       "    <tr>\n",
       "      <th>7</th>\n",
       "      <td>谒 金 门</td>\n",
       "      <td>[CLS]幽 槛 暑 。 又 是 一 年 重 午 。 猎 猎 风 蒲 吹 翠 羽 。 楚 天...</td>\n",
       "    </tr>\n",
       "    <tr>\n",
       "      <th>8</th>\n",
       "      <td>阮 郎 归</td>\n",
       "      <td>[CLS]潇 湘 门 外 水 平 铺 。 月 寒 征 棹 孤 。 红 妆 饮 罢 少 踟 蹰...</td>\n",
       "    </tr>\n",
       "    <tr>\n",
       "      <th>9</th>\n",
       "      <td>满 庭 芳</td>\n",
       "      <td>[CLS]红 叶 飘 零 ， 寒 烟 疏 淡 ， 楼 台 半 在 云 间 。 望 中 风 景...</td>\n",
       "    </tr>\n",
       "  </tbody>\n",
       "</table>\n",
       "</div>"
      ],
      "text/plain": [
       "           title                                            content\n",
       "0          好 事 近  [CLS]华 屋 翠 云 深 ， 云 外 晚 山 千 叠 。 眼 底 无 穷 春 事 ， 对...\n",
       "1          沁 园 春  [CLS]鸣 兮 ， 卉 木 萋 止 ， 维 暮 之 春 。 笑 憨 翁 渐 老 ， 年 加...\n",
       "2          卜 算 子  [CLS]睡 觉 五 更 钟 ， 正 好 深 提 省 。 只 看 如 今 梦 几 般 ， 觉...\n",
       "3  法 曲 第 二 ・ 法 曲  [CLS]青 翼 传 情 ， 香 径 偷 期 ， 自 觉 当 初 草 草 。 未 省 同 衾...\n",
       "4          浣 溪 沙  [CLS]人 意 天 公 则 甚 知 。 故 教 小 雨 作 深 悲 。 桃 花 浑 似 泪...\n",
       "5          点 绛 唇  [CLS]小 小 朱 桥 ， 柳 边 人 过 横 塘 路 。 细 风 时 度 。 □ 浪 痕...\n",
       "6          临 江 仙  [CLS]昨 夜 渡 江 何 处 宿 ， 望 中 疑 是 秦 淮 。 月 明 谁 起 笛 中...\n",
       "7          谒 金 门  [CLS]幽 槛 暑 。 又 是 一 年 重 午 。 猎 猎 风 蒲 吹 翠 羽 。 楚 天...\n",
       "8          阮 郎 归  [CLS]潇 湘 门 外 水 平 铺 。 月 寒 征 棹 孤 。 红 妆 饮 罢 少 踟 蹰...\n",
       "9          满 庭 芳  [CLS]红 叶 飘 零 ， 寒 烟 疏 淡 ， 楼 台 半 在 云 间 。 望 中 风 景..."
      ]
     },
     "execution_count": 12,
     "metadata": {},
     "output_type": "execute_result"
    }
   ],
   "source": [
    "poems_tc['title']=titles\n",
    "poems_tc['content']=contents\n",
    "poems_tc.head(10)"
   ]
  },
  {
   "cell_type": "code",
   "execution_count": 13,
   "id": "c58bd28a-f80c-472f-b4a5-585f6f1a98a8",
   "metadata": {},
   "outputs": [
    {
     "data": {
      "text/html": [
       "<div>\n",
       "<style scoped>\n",
       "    .dataframe tbody tr th:only-of-type {\n",
       "        vertical-align: middle;\n",
       "    }\n",
       "\n",
       "    .dataframe tbody tr th {\n",
       "        vertical-align: top;\n",
       "    }\n",
       "\n",
       "    .dataframe thead th {\n",
       "        text-align: right;\n",
       "    }\n",
       "</style>\n",
       "<table border=\"1\" class=\"dataframe\">\n",
       "  <thead>\n",
       "    <tr style=\"text-align: right;\">\n",
       "      <th></th>\n",
       "      <th>fullpoem</th>\n",
       "    </tr>\n",
       "  </thead>\n",
       "  <tbody>\n",
       "    <tr>\n",
       "      <th>9968</th>\n",
       "      <td>[CLS]莫 问 清 江 与 洛 阳 。 山 林 总 是 一 般 香 。 两 家 地 占 西...</td>\n",
       "    </tr>\n",
       "    <tr>\n",
       "      <th>9572</th>\n",
       "      <td>[CLS]平 旦 出 秦 关 ， 雪 色 驾 车 双 鹿 。 借 问 此 行 安 往 ， 赏...</td>\n",
       "    </tr>\n",
       "    <tr>\n",
       "      <th>10605</th>\n",
       "      <td>[CLS]风 露 浸 秋 色 ， 烟 雨 媚 湖 弦 。 旌 旗 十 里 小 队 ， 拟 约...</td>\n",
       "    </tr>\n",
       "    <tr>\n",
       "      <th>20476</th>\n",
       "      <td>[CLS]小 雨 阻 行 舟 。 人 在 烟 林 古 渡 头 。 欲 挈 一 尊 相 就 醉...</td>\n",
       "    </tr>\n",
       "    <tr>\n",
       "      <th>8770</th>\n",
       "      <td>[CLS]柳 烟 浓 ， 梅 雨 润 。 芳 草 绵 绵 离 恨 。 花 坞 风 来 几 阵...</td>\n",
       "    </tr>\n",
       "    <tr>\n",
       "      <th>18475</th>\n",
       "      <td>[CLS]皂 盖 朱 幡 ， 玉 节 虎 符 ， 宏 开 大 藩 。 把 济 川 秀 楫 ，...</td>\n",
       "    </tr>\n",
       "    <tr>\n",
       "      <th>5686</th>\n",
       "      <td>[CLS]又 见 花 阴 如 水 ， 两 心 犹 未 平 。 正 坐 久 、 主 客 成 三...</td>\n",
       "    </tr>\n",
       "    <tr>\n",
       "      <th>942</th>\n",
       "      <td>[CLS]策 杖 穿 荒 圃 ， 登 临 笑 晚 风 。 无 穷 秋 色 蔽 晴 空 。 遥...</td>\n",
       "    </tr>\n",
       "    <tr>\n",
       "      <th>2353</th>\n",
       "      <td>[CLS]宝 香 盈 袖 。 约 腕 金 条 瘦 。 裙 儿 细 裥 如 肩 皱 。 笑 多...</td>\n",
       "    </tr>\n",
       "    <tr>\n",
       "      <th>3083</th>\n",
       "      <td>[CLS]残 梦 腾 腾 。 好 鸟 一 声 唿 醒 。 小 窗 明 、 萧 萧 鬓 影 。...</td>\n",
       "    </tr>\n",
       "  </tbody>\n",
       "</table>\n",
       "</div>"
      ],
      "text/plain": [
       "                                                fullpoem\n",
       "9968   [CLS]莫 问 清 江 与 洛 阳 。 山 林 总 是 一 般 香 。 两 家 地 占 西...\n",
       "9572   [CLS]平 旦 出 秦 关 ， 雪 色 驾 车 双 鹿 。 借 问 此 行 安 往 ， 赏...\n",
       "10605  [CLS]风 露 浸 秋 色 ， 烟 雨 媚 湖 弦 。 旌 旗 十 里 小 队 ， 拟 约...\n",
       "20476  [CLS]小 雨 阻 行 舟 。 人 在 烟 林 古 渡 头 。 欲 挈 一 尊 相 就 醉...\n",
       "8770   [CLS]柳 烟 浓 ， 梅 雨 润 。 芳 草 绵 绵 离 恨 。 花 坞 风 来 几 阵...\n",
       "18475  [CLS]皂 盖 朱 幡 ， 玉 节 虎 符 ， 宏 开 大 藩 。 把 济 川 秀 楫 ，...\n",
       "5686   [CLS]又 见 花 阴 如 水 ， 两 心 犹 未 平 。 正 坐 久 、 主 客 成 三...\n",
       "942    [CLS]策 杖 穿 荒 圃 ， 登 临 笑 晚 风 。 无 穷 秋 色 蔽 晴 空 。 遥...\n",
       "2353   [CLS]宝 香 盈 袖 。 约 腕 金 条 瘦 。 裙 儿 细 裥 如 肩 皱 。 笑 多...\n",
       "3083   [CLS]残 梦 腾 腾 。 好 鸟 一 声 唿 醒 。 小 窗 明 、 萧 萧 鬓 影 。..."
      ]
     },
     "execution_count": 13,
     "metadata": {},
     "output_type": "execute_result"
    }
   ],
   "source": [
    "df_poems.sample(10)"
   ]
  },
  {
   "cell_type": "code",
   "execution_count": 14,
   "id": "bf09ae11-cced-4a78-b6d2-c6badd41b920",
   "metadata": {},
   "outputs": [
    {
     "data": {
      "application/vnd.jupyter.widget-view+json": {
       "model_id": "55c1bb554db9421696ef970da40f9c97",
       "version_major": 2,
       "version_minor": 0
      },
      "text/plain": [
       "Map:   0%|          | 0/21036 [00:00<?, ? examples/s]"
      ]
     },
     "metadata": {},
     "output_type": "display_data"
    }
   ],
   "source": [
    "from datasets import Dataset\n",
    "max_length=128\n",
    "def tokenize_function(examples):\n",
    "    encodings = tokenizer(examples['fullpoem'], padding=\"max_length\", truncation=True, max_length=max_length, return_tensors=\"pt\")\n",
    "    # 设置标签为右移一个字符的结果\n",
    "    input_ids = encodings['input_ids']\n",
    "    labels = input_ids.clone()\n",
    "    encodings['labels'] = labels\n",
    "    return encodings\n",
    "\n",
    "# 使用 datasets 库的 Dataset 对象来加载数据\n",
    "dataset = Dataset.from_pandas(df_poems)\n",
    "\n",
    "# 应用标记化\n",
    "tokenized_dataset = dataset.map(tokenize_function, batched=True)\n",
    "\n",
    "# 检查处理后的数据\n",
    "tokenized_dataset[0]\n",
    "\n",
    "tokenized_dataset.set_format(type='torch', columns=['labels','input_ids', 'attention_mask'])"
   ]
  },
  {
   "cell_type": "code",
   "execution_count": 18,
   "id": "86912055-82d9-40fb-b802-18419de748ae",
   "metadata": {},
   "outputs": [],
   "source": [
    "from transformers import Trainer, TrainingArguments,EarlyStoppingCallback\n",
    "\n",
    "training_args = TrainingArguments(\n",
    "    output_dir='./results',             # 训练结果保存目录\n",
    "    num_train_epochs=5,                 # 训练轮次\n",
    "    per_device_train_batch_size=128,  # 相对较小的批次大小\n",
    "    gradient_accumulation_steps=4,   # 累积梯度以模拟更大的批次  \n",
    "    save_steps=200,                     # 每500步保存一次模型\n",
    "    save_total_limit=2,                 # 保留最新的2个模型\n",
    "    logging_dir='./logs',               # 日志目录\n",
    "    logging_steps=50,                   # 每10步记录一次日志\n",
    "    fp16=True, \n",
    ")\n",
    "\n"
   ]
  },
  {
   "cell_type": "code",
   "execution_count": 19,
   "id": "177886fb-59d0-42b3-bb92-b150fddc4720",
   "metadata": {},
   "outputs": [
    {
     "name": "stdout",
     "output_type": "stream",
     "text": [
      "Model is loaded on device: cuda:0\n"
     ]
    }
   ],
   "source": [
    "from transformers import GPT2LMHeadModel\n",
    "# 设置训练设备\n",
    "device = torch.device(\"cuda:0\" if torch.cuda.is_available() else \"cpu\")\n",
    "\n",
    "# 加载模型并移动到设备上\n",
    "model = model.to(device)\n",
    "# 打印模型所在的设备\n",
    "print(f'Model is loaded on device: {model.device}')"
   ]
  },
  {
   "cell_type": "code",
   "execution_count": 20,
   "id": "c060ca91-5f06-41d0-9951-89a31954ecad",
   "metadata": {},
   "outputs": [
    {
     "data": {
      "text/html": [
       "\n",
       "    <div>\n",
       "      \n",
       "      <progress value='205' max='205' style='width:300px; height:20px; vertical-align: middle;'></progress>\n",
       "      [205/205 03:30, Epoch 4/5]\n",
       "    </div>\n",
       "    <table border=\"1\" class=\"dataframe\">\n",
       "  <thead>\n",
       " <tr style=\"text-align: left;\">\n",
       "      <th>Step</th>\n",
       "      <th>Training Loss</th>\n",
       "    </tr>\n",
       "  </thead>\n",
       "  <tbody>\n",
       "    <tr>\n",
       "      <td>50</td>\n",
       "      <td>6.597500</td>\n",
       "    </tr>\n",
       "    <tr>\n",
       "      <td>100</td>\n",
       "      <td>2.632800</td>\n",
       "    </tr>\n",
       "    <tr>\n",
       "      <td>150</td>\n",
       "      <td>2.461800</td>\n",
       "    </tr>\n",
       "    <tr>\n",
       "      <td>200</td>\n",
       "      <td>2.419700</td>\n",
       "    </tr>\n",
       "  </tbody>\n",
       "</table><p>"
      ],
      "text/plain": [
       "<IPython.core.display.HTML object>"
      ]
     },
     "metadata": {},
     "output_type": "display_data"
    },
    {
     "data": {
      "text/plain": [
       "TrainOutput(global_step=205, training_loss=3.5013739050888435, metrics={'train_runtime': 211.3976, 'train_samples_per_second': 497.546, 'train_steps_per_second': 0.97, 'total_flos': 6734018248704000.0, 'train_loss': 3.5013739050888435, 'epoch': 4.8969696969696965})"
      ]
     },
     "execution_count": 20,
     "metadata": {},
     "output_type": "execute_result"
    }
   ],
   "source": [
    "\n",
    "# 使用 Trainer 进行训练\n",
    "trainer = Trainer(\n",
    "    model=model,\n",
    "    args=training_args,\n",
    "    train_dataset=tokenized_dataset,\n",
    "\n",
    ")\n",
    "\n",
    "trainer.train()"
   ]
  },
  {
   "cell_type": "code",
   "execution_count": 21,
   "id": "b6cd7f7c-a87a-4899-833f-88c5dd87642c",
   "metadata": {},
   "outputs": [
    {
     "data": {
      "text/plain": [
       "('./fine_tuned_gpt2_chn_ci-tmp/tokenizer_config.json',\n",
       " './fine_tuned_gpt2_chn_ci-tmp/special_tokens_map.json',\n",
       " './fine_tuned_gpt2_chn_ci-tmp/vocab.txt',\n",
       " './fine_tuned_gpt2_chn_ci-tmp/added_tokens.json')"
      ]
     },
     "execution_count": 21,
     "metadata": {},
     "output_type": "execute_result"
    }
   ],
   "source": [
    "model.save_pretrained('./fine_tuned_gpt2_chn_ci-tmp')\n",
    "tokenizer.save_pretrained('./fine_tuned_gpt2_chn_ci-tmp')"
   ]
  },
  {
   "cell_type": "code",
   "execution_count": 50,
   "id": "68f88b02-fcc4-4a11-bb94-df61f4d46d76",
   "metadata": {},
   "outputs": [
    {
     "name": "stderr",
     "output_type": "stream",
     "text": [
      "Device set to use cuda:0\n"
     ]
    }
   ],
   "source": [
    "from transformers import BertTokenizer, GPT2LMHeadModel,TextGenerationPipeline\n",
    "tokenizer = BertTokenizer.from_pretrained('./fine_tuned_gpt2_chn_7-tmp')\n",
    "model = GPT2LMHeadModel.from_pretrained('./fine_tuned_gpt2_chn_7-tmp')\n",
    "text_generator = TextGenerationPipeline(model, tokenizer)   \n"
   ]
  },
  {
   "cell_type": "code",
   "execution_count": 76,
   "id": "f4724549-c1cc-4e3b-bfa6-2e84fff24ded",
   "metadata": {},
   "outputs": [
    {
     "data": {
      "text/plain": [
       "[{'generated_text': '[CLS]枫 桥 ： 云 昏 晚 泊 柳 边 亭 ， 独 倚 危 栏 醉 眼 醒 。 过 雨 乱 鸦 鸣 老 树 ， 贪 凉 团 扇 扑 流 萤 。 年 来 忧 患 侵 双 鬓 ， 夜 久 尘 劳 减 寸 灵 。 欲 写 凄 凉 无 好 语 ， 秋 风 残 月 下 沧 溟 。'}]"
      ]
     },
     "execution_count": 76,
     "metadata": {},
     "output_type": "execute_result"
    }
   ],
   "source": [
    "text_generator(\"[CLS]枫 桥\", max_length=100, do_sample=True,temperature=1.1)"
   ]
  },
  {
   "cell_type": "code",
   "execution_count": 80,
   "id": "8101b6ad-34c9-42d5-b715-8732ab578c20",
   "metadata": {},
   "outputs": [
    {
     "data": {
      "text/plain": [
       "[{'generated_text': '[CLS]初 晴 后 雨 其 一 ： 雨 后 溪 山 分 外 佳 ， 路 行 焦 尾 到 东 家 。 篮 舆 少 憇 山 亭 上 ， 喜 见 清 风 长 稻 花 。'}]"
      ]
     },
     "execution_count": 80,
     "metadata": {},
     "output_type": "execute_result"
    }
   ],
   "source": [
    "text_generator(\"[CLS]初 晴 后 雨\", max_length=100, do_sample=True,temperature=0.9)"
   ]
  },
  {
   "cell_type": "code",
   "execution_count": 70,
   "id": "acae1452-7d73-41f8-8b68-754d60e254d2",
   "metadata": {},
   "outputs": [
    {
     "data": {
      "text/plain": [
       "[{'generated_text': '[CLS]雪 夜 行 二 首 其 一 ： 小 隠 丛 祠 枕 碧 流 ， 当 年 曾 此 共 追 游 。 玉 箫 吹 断 暮 天 远 ， 黄 鹤 归 来 寒 雨 秋 。 人 物 寂 寥 真 复 见 ， 江 山 憔 悴 久 如 休 。 暮 云 不 作 知 音 恨 ， 空 使 遗 民 叹 白 头 。'}]"
      ]
     },
     "execution_count": 70,
     "metadata": {},
     "output_type": "execute_result"
    }
   ],
   "source": [
    "text_generator(\"[CLS]雪 夜\", max_length=140, do_sample=True,temperature=0.9)"
   ]
  },
  {
   "cell_type": "code",
   "execution_count": null,
   "id": "95e7d0b6-216a-475f-ad06-47ccbacbabb2",
   "metadata": {},
   "outputs": [],
   "source": [
    "from transformers import BertTokenizer, GPT2LMHeadModel,TextGenerationPipeline\n",
    "tokenizer = BertTokenizer.from_pretrained('./gpt2-chn')\n",
    "model = GPT2LMHeadModel.from_pretrained('./gpt2-chn')\n",
    "text_generator = TextGenerationPipeline(model, tokenizer)   \n",
    "text_generator(\"[CLS]雪 夜 上 梁 山，\", max_length=100, do_sample=True)"
   ]
  }
 ],
 "metadata": {
  "kernelspec": {
   "display_name": "Python 3 (ipykernel)",
   "language": "python",
   "name": "python3"
  },
  "language_info": {
   "codemirror_mode": {
    "name": "ipython",
    "version": 3
   },
   "file_extension": ".py",
   "mimetype": "text/x-python",
   "name": "python",
   "nbconvert_exporter": "python",
   "pygments_lexer": "ipython3",
   "version": "3.12.3"
  }
 },
 "nbformat": 4,
 "nbformat_minor": 5
}
