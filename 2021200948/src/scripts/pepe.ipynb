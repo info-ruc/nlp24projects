{
  "cells": [
    {
      "cell_type": "code",
      "execution_count": 3,
      "metadata": {
        "colab": {
          "base_uri": "https://localhost:8080/"
        },
        "id": "rtQgkiidYEPz",
        "outputId": "65313d62-f3d8-4093-e7d0-e2304c4780b1"
      },
      "outputs": [
        {
          "ename": "ModuleNotFoundError",
          "evalue": "No module named 'google'",
          "output_type": "error",
          "traceback": [
            "\u001b[0;31m---------------------------------------------------------------------------\u001b[0m",
            "\u001b[0;31mModuleNotFoundError\u001b[0m                       Traceback (most recent call last)",
            "Cell \u001b[0;32mIn[3], line 1\u001b[0m\n\u001b[0;32m----> 1\u001b[0m \u001b[38;5;28;01mfrom\u001b[39;00m \u001b[38;5;21;01mgoogle\u001b[39;00m\u001b[38;5;21;01m.\u001b[39;00m\u001b[38;5;21;01mcolab\u001b[39;00m \u001b[38;5;28;01mimport\u001b[39;00m drive\n\u001b[1;32m      2\u001b[0m drive\u001b[38;5;241m.\u001b[39mmount(\u001b[38;5;124m'\u001b[39m\u001b[38;5;124m/content/drive\u001b[39m\u001b[38;5;124m'\u001b[39m)\n",
            "\u001b[0;31mModuleNotFoundError\u001b[0m: No module named 'google'"
          ]
        }
      ],
      "source": [
        "from google.colab import drive\n",
        "drive.mount('/content/drive')"
      ]
    },
    {
      "cell_type": "code",
      "execution_count": 4,
      "metadata": {
        "colab": {
          "base_uri": "https://localhost:8080/"
        },
        "id": "OU0nX4mTX_W6",
        "outputId": "42229d1e-6873-4668-aa80-6156b5f7a13d"
      },
      "outputs": [
        {
          "ename": "FileNotFoundError",
          "evalue": "[Errno 2] No such file or directory: '/content/drive/MyDrive/negacio_uab_revised_version.json'",
          "output_type": "error",
          "traceback": [
            "\u001b[0;31m---------------------------------------------------------------------------\u001b[0m",
            "\u001b[0;31mFileNotFoundError\u001b[0m                         Traceback (most recent call last)",
            "Cell \u001b[0;32mIn[4], line 2\u001b[0m\n\u001b[1;32m      1\u001b[0m \u001b[38;5;28;01mimport\u001b[39;00m \u001b[38;5;21;01mjson\u001b[39;00m\n\u001b[0;32m----> 2\u001b[0m \u001b[38;5;28;01mwith\u001b[39;00m \u001b[38;5;28;43mopen\u001b[39;49m\u001b[43m(\u001b[49m\u001b[38;5;124;43m\"\u001b[39;49m\u001b[38;5;124;43m/content/drive/MyDrive/negacio_uab_revised_version.json\u001b[39;49m\u001b[38;5;124;43m\"\u001b[39;49m\u001b[43m,\u001b[49m\u001b[38;5;124;43m\"\u001b[39;49m\u001b[38;5;124;43mr\u001b[39;49m\u001b[38;5;124;43m\"\u001b[39;49m\u001b[43m)\u001b[49m \u001b[38;5;28;01mas\u001b[39;00m f:\n\u001b[1;32m      3\u001b[0m     data \u001b[38;5;241m=\u001b[39m json\u001b[38;5;241m.\u001b[39mload(f)\n\u001b[1;32m      4\u001b[0m data\n",
            "File \u001b[0;32m~/miniforge3/envs/ML/lib/python3.10/site-packages/IPython/core/interactiveshell.py:282\u001b[0m, in \u001b[0;36m_modified_open\u001b[0;34m(file, *args, **kwargs)\u001b[0m\n\u001b[1;32m    275\u001b[0m \u001b[39mif\u001b[39;00m file \u001b[39min\u001b[39;00m {\u001b[39m0\u001b[39m, \u001b[39m1\u001b[39m, \u001b[39m2\u001b[39m}:\n\u001b[1;32m    276\u001b[0m     \u001b[39mraise\u001b[39;00m \u001b[39mValueError\u001b[39;00m(\n\u001b[1;32m    277\u001b[0m         \u001b[39mf\u001b[39m\u001b[39m\"\u001b[39m\u001b[39mIPython won\u001b[39m\u001b[39m'\u001b[39m\u001b[39mt let you open fd=\u001b[39m\u001b[39m{\u001b[39;00mfile\u001b[39m}\u001b[39;00m\u001b[39m by default \u001b[39m\u001b[39m\"\u001b[39m\n\u001b[1;32m    278\u001b[0m         \u001b[39m\"\u001b[39m\u001b[39mas it is likely to crash IPython. If you know what you are doing, \u001b[39m\u001b[39m\"\u001b[39m\n\u001b[1;32m    279\u001b[0m         \u001b[39m\"\u001b[39m\u001b[39myou can use builtins\u001b[39m\u001b[39m'\u001b[39m\u001b[39m open.\u001b[39m\u001b[39m\"\u001b[39m\n\u001b[1;32m    280\u001b[0m     )\n\u001b[0;32m--> 282\u001b[0m \u001b[39mreturn\u001b[39;00m io_open(file, \u001b[39m*\u001b[39;49margs, \u001b[39m*\u001b[39;49m\u001b[39m*\u001b[39;49mkwargs)\n",
            "\u001b[0;31mFileNotFoundError\u001b[0m: [Errno 2] No such file or directory: '/content/drive/MyDrive/negacio_uab_revised_version.json'"
          ]
        }
      ],
      "source": [
        "import json\n",
        "with open(\"/content/drive/MyDrive/negacio_uab_revised_version.json\",\"r\") as f:\n",
        "    data = json.load(f)\n",
        "data"
      ]
    },
    {
      "cell_type": "markdown",
      "metadata": {
        "id": "3CgKWUCDX_W8"
      },
      "source": [
        "data -> array. Each cell is one \"historia clinica\" entry\n",
        "\n",
        "data[0] -> dictionary with \"data\" and \"anotations\" and \"predictions\"\n",
        "\n",
        "        -> \"data\" would be the \"x\". Contains id, actual text. And other data.\n",
        "\n",
        "        -> \"annotations\" seems to be empty\n",
        "        \n",
        "        -> \"predictions\" our \"y\", \"label\". Contains the tags for indexes of the text.\n",
        "\n",
        "data[0][\"predictions\"][0] <- for some reason nested inside an unnecessary array\n",
        "\n",
        "data[0][\"predictions\"][0][\"result\"] <- also nested inside unnecessary dictionary with one key\n",
        "\n",
        "\n",
        "data[0][\"predictions\"][0][\"result\"] -> inside here we have a list of tags for different ranges.\n",
        "\n",
        "data[0][\"predictions\"][0][\"result\"][0] -> in each of these elements of the list, we have another dictionary\n",
        "\n",
        "data[0][\"pred2ictions\"][0][\"result\"][0][\"value\"] -> to access a dictionary with the keys \"start\", \"end\", and \"labels\". For start, end index and the tag\n",
        "\n",
        "data[0][\"pred2ictions\"][0][\"result\"][0] -> we have more keys such as \"id\", \"from_name\", \"to_name\" and \"type\". Use?? differentiate if is label or not? what else can we have?\n",
        "\n",
        "data[0][\"pred2ictions\"][0][\"result\"][0][\"value\"][\"labels\"] -> Not sure if we can have more than one tag per range but the tags are in an array in string form ['NEG']"
      ]
    },
    {
      "cell_type": "code",
      "execution_count": 3,
      "metadata": {
        "colab": {
          "base_uri": "https://localhost:8080/"
        },
        "id": "UegiMBwwX_W-",
        "outputId": "e84d3c2f-f5fc-432b-e224-c7a2c228bc63"
      },
      "outputs": [
        {
          "data": {
            "text/plain": [
              "['NEG']"
            ]
          },
          "execution_count": 3,
          "metadata": {},
          "output_type": "execute_result"
        }
      ],
      "source": [
        "data[2][\"predictions\"][0][\"result\"][0][\"value\"][\"labels\"]"
      ]
    },
    {
      "cell_type": "code",
      "execution_count": 4,
      "metadata": {
        "id": "mA2dZfA0X_W_"
      },
      "outputs": [],
      "source": [
        "import torch\n",
        "from torch.utils.data import Dataset, DataLoader\n",
        "import numpy as np\n",
        "import copy"
      ]
    },
    {
      "cell_type": "code",
      "execution_count": 5,
      "metadata": {
        "colab": {
          "base_uri": "https://localhost:8080/"
        },
        "id": "FCGcPILgX_XA",
        "outputId": "5c556e2d-7fd3-4a12-973f-cc3957d8c01a"
      },
      "outputs": [
        {
          "name": "stdout",
          "output_type": "stream",
          "text": [
            "Looking in indexes: https://pypi.org/simple, https://us-python.pkg.dev/colab-wheels/public/simple/\n",
            "Collecting icecream\n",
            "  Downloading icecream-2.1.3-py2.py3-none-any.whl (8.4 kB)\n",
            "Collecting colorama>=0.3.9 (from icecream)\n",
            "  Downloading colorama-0.4.6-py2.py3-none-any.whl (25 kB)\n",
            "Requirement already satisfied: pygments>=2.2.0 in /usr/local/lib/python3.10/dist-packages (from icecream) (2.14.0)\n",
            "Collecting executing>=0.3.1 (from icecream)\n",
            "  Downloading executing-1.2.0-py2.py3-none-any.whl (24 kB)\n",
            "Collecting asttokens>=2.0.1 (from icecream)\n",
            "  Downloading asttokens-2.2.1-py2.py3-none-any.whl (26 kB)\n",
            "Requirement already satisfied: six in /usr/local/lib/python3.10/dist-packages (from asttokens>=2.0.1->icecream) (1.16.0)\n",
            "Installing collected packages: executing, colorama, asttokens, icecream\n",
            "Successfully installed asttokens-2.2.1 colorama-0.4.6 executing-1.2.0 icecream-2.1.3\n"
          ]
        }
      ],
      "source": [
        "!pip install icecream\n",
        "from icecream import ic"
      ]
    },
    {
      "cell_type": "code",
      "execution_count": 6,
      "metadata": {
        "id": "jVOLuH63X_XA"
      },
      "outputs": [],
      "source": [
        "import matplotlib.pyplot as plt"
      ]
    },
    {
      "cell_type": "code",
      "execution_count": 7,
      "metadata": {
        "id": "JPtdgrTcX_XA"
      },
      "outputs": [],
      "source": [
        "class characters_text2tagsDataset(Dataset):\n",
        "    \"\"\"\n",
        "    This class takes the given dataset in form of a list of nested dictionaries\n",
        "    and outputs a window of sequence_length characters and tags around an id word.\n",
        "    Given a center word we get from -sequence_lenght/2 to +sequence_lenght/2.\n",
        "    \"\"\"\n",
        "\n",
        "    def __init__(self,data,sequence_length): \n",
        "        self.sequence_lenght = sequence_length\n",
        "        self.data = copy.deepcopy(data)\n",
        "        self.tags = list(np.empty(len(data)))\n",
        "\n",
        "        #we'll use this for as we go extract vocab an usable tags\n",
        "        self.vocab = set()\n",
        "        self.uniq_tags = set()\n",
        "\n",
        "        #To start, we should clean up a bit our data, as we noticed that there are a lot of unnecessary empty spaces.\n",
        "        for i,report in enumerate(data):\n",
        "            self.remove_empty_spaces(i,report)\n",
        "        \n",
        "        #We should padd the reports so that no window of sequence_lenght captures more than one document\n",
        "        #save previous reports length to later on keep track.\n",
        "        self.data_l = np.array([len(d[\"data\"][\"text\"]) for d in data])\n",
        "        self.dataset_lenght = np.sum(self.data_l) #how many characters over whole reports\n",
        "        \n",
        "        for i,report in enumerate(data): #iterate over all reports\n",
        "            self.extract_vocab(report)\n",
        "            self.extract_unique_tags(report)\n",
        "            self.pad_report(i,report)\n",
        "        \n",
        "        #get lenghts for padded data\n",
        "        self.pdata_l = np.array([len(d[\"data\"][\"text\"]) for d in data])\n",
        "        self.pdata_cl = np.array([int(np.sum(self.pdata_l[:i])) for i in range(len(self.pdata_l))])\n",
        "        \n",
        "        #Manually add a \"NONE\" tag for untagged characters\n",
        "        self.uniq_tags.add('NONE')\n",
        "\n",
        "        #convert vocab and uniq_tags to list so they have an index we can use\n",
        "        self.vocab = list(self.vocab)\n",
        "        self.uniq_tags = list(self.uniq_tags)\n",
        "        #generate tag data for every caracter in each report\n",
        "        self.generate_tags_data()\n",
        "\n",
        "    def __len__(self):\n",
        "       return self.dataset_lenght\n",
        "\n",
        "    def __getitem__(self, idx): #idx iterates over all characters in the dataset\n",
        "        assert (idx >= 0) & (idx < self.dataset_lenght), \"Dataset index out of range\"\n",
        "        #ic(idx)\n",
        "\n",
        "        #look at what report of all we are looking at and calculate the index taking into account the paddings:\n",
        "        # idx passed would be the index of a character among all reports concatenated without padding.\n",
        "        \n",
        "        prev_reports = np.where(self.pdata_cl < idx)[0]\n",
        "        if(len(prev_reports)) == 0: #if all idx are bigger or equal then we are in the first report\n",
        "            rep_idx = 0 \n",
        "            real_idx = self.sequence_lenght \n",
        "        else:\n",
        "            rep_idx = prev_reports[-1] #last report is the one we are on\n",
        "            real_idx = idx - self.pdata_cl[rep_idx] + self.sequence_lenght\n",
        "        \n",
        "        #ic(rep_idx)\n",
        "        #ic(real_idx)\n",
        "\n",
        "        a_i = real_idx-int(self.sequence_lenght/2)\n",
        "        b_i = real_idx+int(self.sequence_lenght/2)\n",
        "        \n",
        "        #ic(a_i)\n",
        "        #ic(b_i)\n",
        "\n",
        "        txt_window = self.data[rep_idx][\"data\"][\"text\"][a_i:b_i]\n",
        "        tensor_txt_window = torch.tensor([self.vocab.index(ch) for ch in txt_window])\n",
        "        tag_window = torch.tensor(self.tags[rep_idx][a_i:b_i])\n",
        "\n",
        "        return tensor_txt_window, tag_window\n",
        "    \n",
        "    ####\n",
        "    #AUXILIARY FUNCTIONS FOR CLEANER CODE\n",
        "    ####\n",
        "    def extract_vocab(self,report):\n",
        "        for l in list(report[\"data\"][\"text\"]):\n",
        "            self.vocab.add(l) #as vocab is a set it will take care of having unique values\n",
        "\n",
        "    def extract_unique_tags(self,report):\n",
        "        for tagged_range in report[\"predictions\"][0][\"result\"]:\n",
        "            #we checked and this array for all reports only contains one element one label per tagged range\n",
        "            self.uniq_tags.add(tagged_range[\"value\"][\"labels\"][0])\n",
        "    \n",
        "    def pad_report(self,i,report):\n",
        "        padd = \" \"*self.sequence_lenght\n",
        "        self.data[i][\"data\"][\"text\"] = padd + report[\"data\"][\"text\"] + padd\n",
        "\n",
        "    def remove_empty_spaces(self,i,report):\n",
        "        self.data[i][\"data\"][\"text\"] = report[\"data\"][\"text\"].strip()\n",
        "    \n",
        "    def generate_tags_data(self):\n",
        "        for i,report in enumerate(self.data):\n",
        "            text = report[\"data\"][\"text\"]\n",
        "            #start by assigning NONE tag to all characters\n",
        "            self.tags[i] = np.array([self.uniq_tags.index('NONE')]*len(text))\n",
        "            \n",
        "            #iterate among know tagged ranges and assign\n",
        "            for tagged_range in report[\"predictions\"][0][\"result\"]:\n",
        "                start_idx = tagged_range[\"value\"][\"start\"]\n",
        "                end_idx = tagged_range[\"value\"][\"end\"]\n",
        "                tag = tagged_range[\"value\"][\"labels\"][0]\n",
        "\n",
        "                #these idx are without taking into account the initial padding so take that into account:\n",
        "                start_idx += self.sequence_lenght\n",
        "                end_idx += self.sequence_lenght\n",
        "                for j in range(start_idx,end_idx): #end_idx +1, the last one is also tagged?  \n",
        "                    self.tags[i][j] = self.uniq_tags.index(tag)         \n",
        "    ####\n",
        "    ####"
      ]
    },
    {
      "cell_type": "code",
      "execution_count": 8,
      "metadata": {
        "id": "ZwQIvx3pX_XB"
      },
      "outputs": [],
      "source": [
        "sequence_length=100"
      ]
    },
    {
      "cell_type": "code",
      "execution_count": 9,
      "metadata": {
        "id": "BdvEeczlX_XC"
      },
      "outputs": [],
      "source": [
        "dataset = characters_text2tagsDataset(data,sequence_length)"
      ]
    },
    {
      "cell_type": "code",
      "execution_count": 10,
      "metadata": {
        "colab": {
          "base_uri": "https://localhost:8080/"
        },
        "id": "pRT59HxYX_XC",
        "outputId": "cfa16b64-71e0-45a9-c073-86f969a8de9d"
      },
      "outputs": [
        {
          "data": {
            "text/plain": [
              "(tensor([68, 68, 68, 68,  7, 65, 68, 44, 50, 12, 69, 36, 52, 50, 21, 68, 63, 54,\n",
              "         50,  7, 50, 63, 21, 37, 68, 26, 26, 68, 26, 26, 26, 68, 26, 26, 26, 68,\n",
              "          7, 65, 72,  2, 50, 12, 36, 15, 50, 37, 68, 26, 26, 26, 26, 26, 26, 26,\n",
              "         26, 68, 12, 72, 11, 72, 37, 68, 15, 36,  7, 21, 68, 15, 21, 69, 21, 68,\n",
              "         15, 72, 68,  7, 21, 50, 11, 72, 66, 72,  7, 69, 37, 68, 33,  4, 49, 16,\n",
              "         33, 49, 33,  4, 13, 62, 68, 72, 15, 21]),\n",
              " tensor([2, 2, 2, 2, 2, 2, 2, 2, 2, 2, 2, 2, 2, 2, 2, 2, 2, 2, 2, 2, 2, 2, 2, 2,\n",
              "         2, 2, 2, 2, 2, 2, 2, 2, 2, 2, 2, 2, 2, 2, 2, 2, 2, 2, 2, 2, 2, 2, 2, 2,\n",
              "         2, 2, 2, 2, 2, 2, 2, 2, 2, 2, 2, 2, 2, 2, 2, 2, 2, 2, 2, 2, 2, 2, 2, 2,\n",
              "         2, 2, 2, 2, 2, 2, 2, 2, 2, 2, 2, 2, 2, 2, 2, 2, 2, 2, 2, 2, 2, 2, 2, 2,\n",
              "         2, 2, 2, 2]))"
            ]
          },
          "execution_count": 10,
          "metadata": {},
          "output_type": "execute_result"
        }
      ],
      "source": [
        "dataset.__getitem__(1444556)"
      ]
    },
    {
      "cell_type": "code",
      "execution_count": 11,
      "metadata": {
        "colab": {
          "base_uri": "https://localhost:8080/"
        },
        "id": "d_5i4SCTX_XC",
        "outputId": "6d646477-970b-43db-ad3d-ac4d23e09270"
      },
      "outputs": [
        {
          "data": {
            "text/plain": [
              "100"
            ]
          },
          "execution_count": 11,
          "metadata": {},
          "output_type": "execute_result"
        }
      ],
      "source": [
        "txt, tag = dataset.__getitem__(5304)\n",
        "len(txt)"
      ]
    },
    {
      "cell_type": "code",
      "execution_count": 12,
      "metadata": {
        "id": "EgKcuDdoX_XD"
      },
      "outputs": [],
      "source": [
        "ic.enable()"
      ]
    },
    {
      "cell_type": "code",
      "execution_count": 13,
      "metadata": {
        "colab": {
          "base_uri": "https://localhost:8080/",
          "height": 53
        },
        "id": "raiUECHwX_XD",
        "outputId": "3a26ad6a-9dd1-49f4-aa06-e19357e8d8fe"
      },
      "outputs": [
        {
          "data": {
            "application/vnd.google.colaboratory.intrinsic+json": {
              "type": "string"
            },
            "text/plain": [
              "'                                                                                                   '"
            ]
          },
          "execution_count": 13,
          "metadata": {},
          "output_type": "execute_result"
        }
      ],
      "source": [
        "dataset.data[1][\"data\"][\"text\"][1899:1999]"
      ]
    },
    {
      "cell_type": "code",
      "execution_count": 14,
      "metadata": {
        "colab": {
          "base_uri": "https://localhost:8080/"
        },
        "id": "wgsLbtAkX_XD",
        "outputId": "bbd021cb-f6ba-450b-ba87-df1fe1705362"
      },
      "outputs": [
        {
          "data": {
            "text/plain": [
              "(tensor([68, 72, 12, 69, 21, 24, 54, 72, 20, 68, 21, 64, 72, 24, 52, 50, 54, 68,\n",
              "         50, 68, 21, 66, 24, 68, 24, 36,  7, 68, 63, 36,  7, 69, 52, 36, 54, 68,\n",
              "         15, 72, 54, 68, 15, 36, 54, 36, 52, 49, 68, 24, 36,  7, 68, 69, 52, 36,\n",
              "         64, 50, 12, 66, 72, 68, 15, 50, 12, 69, 21, 54, 49, 68, 15, 36,  7, 21,\n",
              "         15, 21, 68, 54, 21, 68, 24, 36,  7, 21, 68, 72,  5, 36, 54, 56, 63, 50,\n",
              "         36, 68, 63, 54, 50,  7, 50, 63, 21, 68]),\n",
              " tensor([2, 2, 2, 2, 2, 2, 2, 2, 2, 2, 4, 4, 4, 4, 4, 4, 4, 4, 2, 2, 2, 2, 2, 2,\n",
              "         2, 2, 2, 2, 2, 2, 2, 2, 2, 2, 2, 2, 2, 2, 2, 2, 2, 2, 2, 2, 2, 2, 2, 2,\n",
              "         2, 2, 2, 2, 2, 2, 2, 2, 2, 2, 2, 2, 2, 2, 2, 2, 2, 2, 2, 2, 2, 2, 2, 2,\n",
              "         2, 2, 2, 2, 2, 2, 2, 2, 2, 2, 2, 2, 2, 2, 2, 2, 2, 2, 2, 2, 2, 2, 2, 2,\n",
              "         2, 2, 2, 2]))"
            ]
          },
          "execution_count": 14,
          "metadata": {},
          "output_type": "execute_result"
        }
      ],
      "source": [
        "dataset.__getitem__(533540)"
      ]
    },
    {
      "cell_type": "code",
      "execution_count": 15,
      "metadata": {
        "colab": {
          "base_uri": "https://localhost:8080/"
        },
        "id": "EavPl6p7X_XD",
        "outputId": "fb3f33d9-e913-40fd-9224-fcd8e069fec7"
      },
      "outputs": [
        {
          "data": {
            "text/plain": [
              "(tensor([72, 52,  7, 21, 49, 68, 15, 72, 24, 50, 15, 36, 68, 21, 68, 54, 21, 68,\n",
              "         24, 56, 72,  7, 21, 68, 72,  5, 36, 54, 56, 63, 50, 36,  7, 68, 63, 54,\n",
              "         50,  7, 50, 63, 21, 20, 68, 12, 72, 68, 15, 72, 63, 50, 15, 72, 68, 21,\n",
              "         54, 69, 21, 68, 44, 36, 12,  2, 50, 69, 21, 54, 21, 52, 50, 21, 49, 68,\n",
              "         36, 52, 50, 72,  7, 69, 21, 63, 50, 36, 68, 15, 50, 21, 31,  7, 36, 12,\n",
              "         69, 50, 63, 21, 68, 21, 12, 66, 21, 68]),\n",
              " tensor([2, 2, 2, 2, 2, 2, 2, 2, 2, 2, 2, 2, 2, 2, 2, 2, 2, 2, 2, 2, 2, 2, 2, 2,\n",
              "         2, 2, 2, 2, 2, 2, 2, 2, 2, 2, 2, 2, 2, 2, 2, 2, 2, 2, 2, 2, 2, 2, 2, 2,\n",
              "         2, 2, 2, 2, 2, 2, 2, 2, 2, 2, 2, 2, 2, 2, 2, 2, 2, 2, 2, 2, 2, 2, 2, 2,\n",
              "         2, 2, 2, 2, 2, 2, 2, 2, 2, 2, 2, 2, 2, 2, 2, 2, 2, 2, 2, 2, 2, 2, 2, 2,\n",
              "         2, 2, 2, 2]))"
            ]
          },
          "execution_count": 15,
          "metadata": {},
          "output_type": "execute_result"
        }
      ],
      "source": [
        "dataset.__getitem__(33490)\n"
      ]
    },
    {
      "cell_type": "code",
      "execution_count": 16,
      "metadata": {
        "colab": {
          "base_uri": "https://localhost:8080/"
        },
        "id": "lmBtBKf4X_XD",
        "outputId": "eedfe84d-df4b-426a-9080-c1035b134c08"
      },
      "outputs": [
        {
          "name": "stdout",
          "output_type": "stream",
          "text": [
            "365\n",
            "tensor([68, 15,  1, 50,  7, 31, 52, 72, 12, 68,  2, 21, 63, 50, 72,  7, 69, 72,\n",
            "        68, 15, 72, 68, 10,  4, 68, 21, 17, 36, 12, 68, 23, 56, 72, 68, 21, 63,\n",
            "        56, 15, 72, 68, 15, 72, 52, 50,  5, 21, 15, 21, 68, 21, 68, 56, 52, 31,\n",
            "        72,  7, 63, 50, 21, 12, 68, 15, 72, 68,  2, 12, 50, 23, 56, 50, 21, 69,\n",
            "        52, 50, 21, 68, 69, 52, 21, 12, 68, 12, 50, 66, 49, 68, 21,  7, 69, 72,\n",
            "        63, 72, 15, 72,  7, 69, 12, 68,  8, 12])\n",
            "tensor([2, 2, 2, 2, 2, 2, 2, 2, 2, 2, 2, 2, 2, 2, 2, 2, 2, 2, 2, 2, 2, 2, 2, 2,\n",
            "        2, 2, 2, 2, 2, 2, 2, 2, 2, 2, 2, 2, 2, 2, 2, 2, 2, 2, 2, 2, 2, 2, 2, 2,\n",
            "        2, 2, 2, 2, 2, 2, 2, 2, 2, 2, 2, 2, 2, 2, 2, 2, 2, 2, 2, 2, 2, 2, 2, 2,\n",
            "        2, 2, 2, 2, 2, 2, 2, 2, 2, 2, 2, 2, 2, 2, 2, 2, 2, 2, 2, 2, 2, 2, 2, 2,\n",
            "        2, 2, 2, 4])\n",
            "366\n",
            "tensor([15,  1, 50,  7, 31, 52, 72, 12, 68,  2, 21, 63, 50, 72,  7, 69, 72, 68,\n",
            "        15, 72, 68, 10,  4, 68, 21, 17, 36, 12, 68, 23, 56, 72, 68, 21, 63, 56,\n",
            "        15, 72, 68, 15, 72, 52, 50,  5, 21, 15, 21, 68, 21, 68, 56, 52, 31, 72,\n",
            "         7, 63, 50, 21, 12, 68, 15, 72, 68,  2, 12, 50, 23, 56, 50, 21, 69, 52,\n",
            "        50, 21, 68, 69, 52, 21, 12, 68, 12, 50, 66, 49, 68, 21,  7, 69, 72, 63,\n",
            "        72, 15, 72,  7, 69, 12, 68,  8, 12, 50])\n",
            "tensor([2, 2, 2, 2, 2, 2, 2, 2, 2, 2, 2, 2, 2, 2, 2, 2, 2, 2, 2, 2, 2, 2, 2, 2,\n",
            "        2, 2, 2, 2, 2, 2, 2, 2, 2, 2, 2, 2, 2, 2, 2, 2, 2, 2, 2, 2, 2, 2, 2, 2,\n",
            "        2, 2, 2, 2, 2, 2, 2, 2, 2, 2, 2, 2, 2, 2, 2, 2, 2, 2, 2, 2, 2, 2, 2, 2,\n",
            "        2, 2, 2, 2, 2, 2, 2, 2, 2, 2, 2, 2, 2, 2, 2, 2, 2, 2, 2, 2, 2, 2, 2, 2,\n",
            "        2, 2, 4, 4])\n",
            "367\n",
            "tensor([ 1, 50,  7, 31, 52, 72, 12, 68,  2, 21, 63, 50, 72,  7, 69, 72, 68, 15,\n",
            "        72, 68, 10,  4, 68, 21, 17, 36, 12, 68, 23, 56, 72, 68, 21, 63, 56, 15,\n",
            "        72, 68, 15, 72, 52, 50,  5, 21, 15, 21, 68, 21, 68, 56, 52, 31, 72,  7,\n",
            "        63, 50, 21, 12, 68, 15, 72, 68,  2, 12, 50, 23, 56, 50, 21, 69, 52, 50,\n",
            "        21, 68, 69, 52, 21, 12, 68, 12, 50, 66, 49, 68, 21,  7, 69, 72, 63, 72,\n",
            "        15, 72,  7, 69, 12, 68,  8, 12, 50,  7])\n",
            "tensor([2, 2, 2, 2, 2, 2, 2, 2, 2, 2, 2, 2, 2, 2, 2, 2, 2, 2, 2, 2, 2, 2, 2, 2,\n",
            "        2, 2, 2, 2, 2, 2, 2, 2, 2, 2, 2, 2, 2, 2, 2, 2, 2, 2, 2, 2, 2, 2, 2, 2,\n",
            "        2, 2, 2, 2, 2, 2, 2, 2, 2, 2, 2, 2, 2, 2, 2, 2, 2, 2, 2, 2, 2, 2, 2, 2,\n",
            "        2, 2, 2, 2, 2, 2, 2, 2, 2, 2, 2, 2, 2, 2, 2, 2, 2, 2, 2, 2, 2, 2, 2, 2,\n",
            "        2, 4, 4, 4])\n",
            "368\n",
            "tensor([50,  7, 31, 52, 72, 12, 68,  2, 21, 63, 50, 72,  7, 69, 72, 68, 15, 72,\n",
            "        68, 10,  4, 68, 21, 17, 36, 12, 68, 23, 56, 72, 68, 21, 63, 56, 15, 72,\n",
            "        68, 15, 72, 52, 50,  5, 21, 15, 21, 68, 21, 68, 56, 52, 31, 72,  7, 63,\n",
            "        50, 21, 12, 68, 15, 72, 68,  2, 12, 50, 23, 56, 50, 21, 69, 52, 50, 21,\n",
            "        68, 69, 52, 21, 12, 68, 12, 50, 66, 49, 68, 21,  7, 69, 72, 63, 72, 15,\n",
            "        72,  7, 69, 12, 68,  8, 12, 50,  7, 68])\n",
            "tensor([2, 2, 2, 2, 2, 2, 2, 2, 2, 2, 2, 2, 2, 2, 2, 2, 2, 2, 2, 2, 2, 2, 2, 2,\n",
            "        2, 2, 2, 2, 2, 2, 2, 2, 2, 2, 2, 2, 2, 2, 2, 2, 2, 2, 2, 2, 2, 2, 2, 2,\n",
            "        2, 2, 2, 2, 2, 2, 2, 2, 2, 2, 2, 2, 2, 2, 2, 2, 2, 2, 2, 2, 2, 2, 2, 2,\n",
            "        2, 2, 2, 2, 2, 2, 2, 2, 2, 2, 2, 2, 2, 2, 2, 2, 2, 2, 2, 2, 2, 2, 2, 2,\n",
            "        4, 4, 4, 2])\n",
            "369\n",
            "tensor([ 7, 31, 52, 72, 12, 68,  2, 21, 63, 50, 72,  7, 69, 72, 68, 15, 72, 68,\n",
            "        10,  4, 68, 21, 17, 36, 12, 68, 23, 56, 72, 68, 21, 63, 56, 15, 72, 68,\n",
            "        15, 72, 52, 50,  5, 21, 15, 21, 68, 21, 68, 56, 52, 31, 72,  7, 63, 50,\n",
            "        21, 12, 68, 15, 72, 68,  2, 12, 50, 23, 56, 50, 21, 69, 52, 50, 21, 68,\n",
            "        69, 52, 21, 12, 68, 12, 50, 66, 49, 68, 21,  7, 69, 72, 63, 72, 15, 72,\n",
            "         7, 69, 12, 68,  8, 12, 50,  7, 68, 21])\n",
            "tensor([2, 2, 2, 2, 2, 2, 2, 2, 2, 2, 2, 2, 2, 2, 2, 2, 2, 2, 2, 2, 2, 2, 2, 2,\n",
            "        2, 2, 2, 2, 2, 2, 2, 2, 2, 2, 2, 2, 2, 2, 2, 2, 2, 2, 2, 2, 2, 2, 2, 2,\n",
            "        2, 2, 2, 2, 2, 2, 2, 2, 2, 2, 2, 2, 2, 2, 2, 2, 2, 2, 2, 2, 2, 2, 2, 2,\n",
            "        2, 2, 2, 2, 2, 2, 2, 2, 2, 2, 2, 2, 2, 2, 2, 2, 2, 2, 2, 2, 2, 2, 2, 4,\n",
            "        4, 4, 2, 3])\n",
            "370\n",
            "tensor([31, 52, 72, 12, 68,  2, 21, 63, 50, 72,  7, 69, 72, 68, 15, 72, 68, 10,\n",
            "         4, 68, 21, 17, 36, 12, 68, 23, 56, 72, 68, 21, 63, 56, 15, 72, 68, 15,\n",
            "        72, 52, 50,  5, 21, 15, 21, 68, 21, 68, 56, 52, 31, 72,  7, 63, 50, 21,\n",
            "        12, 68, 15, 72, 68,  2, 12, 50, 23, 56, 50, 21, 69, 52, 50, 21, 68, 69,\n",
            "        52, 21, 12, 68, 12, 50, 66, 49, 68, 21,  7, 69, 72, 63, 72, 15, 72,  7,\n",
            "        69, 12, 68,  8, 12, 50,  7, 68, 21, 54])\n",
            "tensor([2, 2, 2, 2, 2, 2, 2, 2, 2, 2, 2, 2, 2, 2, 2, 2, 2, 2, 2, 2, 2, 2, 2, 2,\n",
            "        2, 2, 2, 2, 2, 2, 2, 2, 2, 2, 2, 2, 2, 2, 2, 2, 2, 2, 2, 2, 2, 2, 2, 2,\n",
            "        2, 2, 2, 2, 2, 2, 2, 2, 2, 2, 2, 2, 2, 2, 2, 2, 2, 2, 2, 2, 2, 2, 2, 2,\n",
            "        2, 2, 2, 2, 2, 2, 2, 2, 2, 2, 2, 2, 2, 2, 2, 2, 2, 2, 2, 2, 2, 2, 4, 4,\n",
            "        4, 2, 3, 3])\n",
            "371\n",
            "tensor([52, 72, 12, 68,  2, 21, 63, 50, 72,  7, 69, 72, 68, 15, 72, 68, 10,  4,\n",
            "        68, 21, 17, 36, 12, 68, 23, 56, 72, 68, 21, 63, 56, 15, 72, 68, 15, 72,\n",
            "        52, 50,  5, 21, 15, 21, 68, 21, 68, 56, 52, 31, 72,  7, 63, 50, 21, 12,\n",
            "        68, 15, 72, 68,  2, 12, 50, 23, 56, 50, 21, 69, 52, 50, 21, 68, 69, 52,\n",
            "        21, 12, 68, 12, 50, 66, 49, 68, 21,  7, 69, 72, 63, 72, 15, 72,  7, 69,\n",
            "        12, 68,  8, 12, 50,  7, 68, 21, 54, 72])\n",
            "tensor([2, 2, 2, 2, 2, 2, 2, 2, 2, 2, 2, 2, 2, 2, 2, 2, 2, 2, 2, 2, 2, 2, 2, 2,\n",
            "        2, 2, 2, 2, 2, 2, 2, 2, 2, 2, 2, 2, 2, 2, 2, 2, 2, 2, 2, 2, 2, 2, 2, 2,\n",
            "        2, 2, 2, 2, 2, 2, 2, 2, 2, 2, 2, 2, 2, 2, 2, 2, 2, 2, 2, 2, 2, 2, 2, 2,\n",
            "        2, 2, 2, 2, 2, 2, 2, 2, 2, 2, 2, 2, 2, 2, 2, 2, 2, 2, 2, 2, 2, 4, 4, 4,\n",
            "        2, 3, 3, 3])\n",
            "372\n",
            "tensor([72, 12, 68,  2, 21, 63, 50, 72,  7, 69, 72, 68, 15, 72, 68, 10,  4, 68,\n",
            "        21, 17, 36, 12, 68, 23, 56, 72, 68, 21, 63, 56, 15, 72, 68, 15, 72, 52,\n",
            "        50,  5, 21, 15, 21, 68, 21, 68, 56, 52, 31, 72,  7, 63, 50, 21, 12, 68,\n",
            "        15, 72, 68,  2, 12, 50, 23, 56, 50, 21, 69, 52, 50, 21, 68, 69, 52, 21,\n",
            "        12, 68, 12, 50, 66, 49, 68, 21,  7, 69, 72, 63, 72, 15, 72,  7, 69, 12,\n",
            "        68,  8, 12, 50,  7, 68, 21, 54, 72, 52])\n",
            "tensor([2, 2, 2, 2, 2, 2, 2, 2, 2, 2, 2, 2, 2, 2, 2, 2, 2, 2, 2, 2, 2, 2, 2, 2,\n",
            "        2, 2, 2, 2, 2, 2, 2, 2, 2, 2, 2, 2, 2, 2, 2, 2, 2, 2, 2, 2, 2, 2, 2, 2,\n",
            "        2, 2, 2, 2, 2, 2, 2, 2, 2, 2, 2, 2, 2, 2, 2, 2, 2, 2, 2, 2, 2, 2, 2, 2,\n",
            "        2, 2, 2, 2, 2, 2, 2, 2, 2, 2, 2, 2, 2, 2, 2, 2, 2, 2, 2, 2, 4, 4, 4, 2,\n",
            "        3, 3, 3, 3])\n",
            "373\n",
            "tensor([12, 68,  2, 21, 63, 50, 72,  7, 69, 72, 68, 15, 72, 68, 10,  4, 68, 21,\n",
            "        17, 36, 12, 68, 23, 56, 72, 68, 21, 63, 56, 15, 72, 68, 15, 72, 52, 50,\n",
            "         5, 21, 15, 21, 68, 21, 68, 56, 52, 31, 72,  7, 63, 50, 21, 12, 68, 15,\n",
            "        72, 68,  2, 12, 50, 23, 56, 50, 21, 69, 52, 50, 21, 68, 69, 52, 21, 12,\n",
            "        68, 12, 50, 66, 49, 68, 21,  7, 69, 72, 63, 72, 15, 72,  7, 69, 12, 68,\n",
            "         8, 12, 50,  7, 68, 21, 54, 72, 52, 31])\n",
            "tensor([2, 2, 2, 2, 2, 2, 2, 2, 2, 2, 2, 2, 2, 2, 2, 2, 2, 2, 2, 2, 2, 2, 2, 2,\n",
            "        2, 2, 2, 2, 2, 2, 2, 2, 2, 2, 2, 2, 2, 2, 2, 2, 2, 2, 2, 2, 2, 2, 2, 2,\n",
            "        2, 2, 2, 2, 2, 2, 2, 2, 2, 2, 2, 2, 2, 2, 2, 2, 2, 2, 2, 2, 2, 2, 2, 2,\n",
            "        2, 2, 2, 2, 2, 2, 2, 2, 2, 2, 2, 2, 2, 2, 2, 2, 2, 2, 2, 4, 4, 4, 2, 3,\n",
            "        3, 3, 3, 3])\n",
            "374\n",
            "tensor([68,  2, 21, 63, 50, 72,  7, 69, 72, 68, 15, 72, 68, 10,  4, 68, 21, 17,\n",
            "        36, 12, 68, 23, 56, 72, 68, 21, 63, 56, 15, 72, 68, 15, 72, 52, 50,  5,\n",
            "        21, 15, 21, 68, 21, 68, 56, 52, 31, 72,  7, 63, 50, 21, 12, 68, 15, 72,\n",
            "        68,  2, 12, 50, 23, 56, 50, 21, 69, 52, 50, 21, 68, 69, 52, 21, 12, 68,\n",
            "        12, 50, 66, 49, 68, 21,  7, 69, 72, 63, 72, 15, 72,  7, 69, 12, 68,  8,\n",
            "        12, 50,  7, 68, 21, 54, 72, 52, 31, 50])\n",
            "tensor([2, 2, 2, 2, 2, 2, 2, 2, 2, 2, 2, 2, 2, 2, 2, 2, 2, 2, 2, 2, 2, 2, 2, 2,\n",
            "        2, 2, 2, 2, 2, 2, 2, 2, 2, 2, 2, 2, 2, 2, 2, 2, 2, 2, 2, 2, 2, 2, 2, 2,\n",
            "        2, 2, 2, 2, 2, 2, 2, 2, 2, 2, 2, 2, 2, 2, 2, 2, 2, 2, 2, 2, 2, 2, 2, 2,\n",
            "        2, 2, 2, 2, 2, 2, 2, 2, 2, 2, 2, 2, 2, 2, 2, 2, 2, 2, 4, 4, 4, 2, 3, 3,\n",
            "        3, 3, 3, 3])\n",
            "375\n",
            "tensor([ 2, 21, 63, 50, 72,  7, 69, 72, 68, 15, 72, 68, 10,  4, 68, 21, 17, 36,\n",
            "        12, 68, 23, 56, 72, 68, 21, 63, 56, 15, 72, 68, 15, 72, 52, 50,  5, 21,\n",
            "        15, 21, 68, 21, 68, 56, 52, 31, 72,  7, 63, 50, 21, 12, 68, 15, 72, 68,\n",
            "         2, 12, 50, 23, 56, 50, 21, 69, 52, 50, 21, 68, 69, 52, 21, 12, 68, 12,\n",
            "        50, 66, 49, 68, 21,  7, 69, 72, 63, 72, 15, 72,  7, 69, 12, 68,  8, 12,\n",
            "        50,  7, 68, 21, 54, 72, 52, 31, 50, 21])\n",
            "tensor([2, 2, 2, 2, 2, 2, 2, 2, 2, 2, 2, 2, 2, 2, 2, 2, 2, 2, 2, 2, 2, 2, 2, 2,\n",
            "        2, 2, 2, 2, 2, 2, 2, 2, 2, 2, 2, 2, 2, 2, 2, 2, 2, 2, 2, 2, 2, 2, 2, 2,\n",
            "        2, 2, 2, 2, 2, 2, 2, 2, 2, 2, 2, 2, 2, 2, 2, 2, 2, 2, 2, 2, 2, 2, 2, 2,\n",
            "        2, 2, 2, 2, 2, 2, 2, 2, 2, 2, 2, 2, 2, 2, 2, 2, 2, 4, 4, 4, 2, 3, 3, 3,\n",
            "        3, 3, 3, 3])\n",
            "376\n",
            "tensor([21, 63, 50, 72,  7, 69, 72, 68, 15, 72, 68, 10,  4, 68, 21, 17, 36, 12,\n",
            "        68, 23, 56, 72, 68, 21, 63, 56, 15, 72, 68, 15, 72, 52, 50,  5, 21, 15,\n",
            "        21, 68, 21, 68, 56, 52, 31, 72,  7, 63, 50, 21, 12, 68, 15, 72, 68,  2,\n",
            "        12, 50, 23, 56, 50, 21, 69, 52, 50, 21, 68, 69, 52, 21, 12, 68, 12, 50,\n",
            "        66, 49, 68, 21,  7, 69, 72, 63, 72, 15, 72,  7, 69, 12, 68,  8, 12, 50,\n",
            "         7, 68, 21, 54, 72, 52, 31, 50, 21, 12])\n",
            "tensor([2, 2, 2, 2, 2, 2, 2, 2, 2, 2, 2, 2, 2, 2, 2, 2, 2, 2, 2, 2, 2, 2, 2, 2,\n",
            "        2, 2, 2, 2, 2, 2, 2, 2, 2, 2, 2, 2, 2, 2, 2, 2, 2, 2, 2, 2, 2, 2, 2, 2,\n",
            "        2, 2, 2, 2, 2, 2, 2, 2, 2, 2, 2, 2, 2, 2, 2, 2, 2, 2, 2, 2, 2, 2, 2, 2,\n",
            "        2, 2, 2, 2, 2, 2, 2, 2, 2, 2, 2, 2, 2, 2, 2, 2, 4, 4, 4, 2, 3, 3, 3, 3,\n",
            "        3, 3, 3, 3])\n",
            "377\n",
            "tensor([63, 50, 72,  7, 69, 72, 68, 15, 72, 68, 10,  4, 68, 21, 17, 36, 12, 68,\n",
            "        23, 56, 72, 68, 21, 63, 56, 15, 72, 68, 15, 72, 52, 50,  5, 21, 15, 21,\n",
            "        68, 21, 68, 56, 52, 31, 72,  7, 63, 50, 21, 12, 68, 15, 72, 68,  2, 12,\n",
            "        50, 23, 56, 50, 21, 69, 52, 50, 21, 68, 69, 52, 21, 12, 68, 12, 50, 66,\n",
            "        49, 68, 21,  7, 69, 72, 63, 72, 15, 72,  7, 69, 12, 68,  8, 12, 50,  7,\n",
            "        68, 21, 54, 72, 52, 31, 50, 21, 12, 68])\n",
            "tensor([2, 2, 2, 2, 2, 2, 2, 2, 2, 2, 2, 2, 2, 2, 2, 2, 2, 2, 2, 2, 2, 2, 2, 2,\n",
            "        2, 2, 2, 2, 2, 2, 2, 2, 2, 2, 2, 2, 2, 2, 2, 2, 2, 2, 2, 2, 2, 2, 2, 2,\n",
            "        2, 2, 2, 2, 2, 2, 2, 2, 2, 2, 2, 2, 2, 2, 2, 2, 2, 2, 2, 2, 2, 2, 2, 2,\n",
            "        2, 2, 2, 2, 2, 2, 2, 2, 2, 2, 2, 2, 2, 2, 2, 4, 4, 4, 2, 3, 3, 3, 3, 3,\n",
            "        3, 3, 3, 3])\n",
            "378\n",
            "tensor([50, 72,  7, 69, 72, 68, 15, 72, 68, 10,  4, 68, 21, 17, 36, 12, 68, 23,\n",
            "        56, 72, 68, 21, 63, 56, 15, 72, 68, 15, 72, 52, 50,  5, 21, 15, 21, 68,\n",
            "        21, 68, 56, 52, 31, 72,  7, 63, 50, 21, 12, 68, 15, 72, 68,  2, 12, 50,\n",
            "        23, 56, 50, 21, 69, 52, 50, 21, 68, 69, 52, 21, 12, 68, 12, 50, 66, 49,\n",
            "        68, 21,  7, 69, 72, 63, 72, 15, 72,  7, 69, 12, 68,  8, 12, 50,  7, 68,\n",
            "        21, 54, 72, 52, 31, 50, 21, 12, 68, 66])\n",
            "tensor([2, 2, 2, 2, 2, 2, 2, 2, 2, 2, 2, 2, 2, 2, 2, 2, 2, 2, 2, 2, 2, 2, 2, 2,\n",
            "        2, 2, 2, 2, 2, 2, 2, 2, 2, 2, 2, 2, 2, 2, 2, 2, 2, 2, 2, 2, 2, 2, 2, 2,\n",
            "        2, 2, 2, 2, 2, 2, 2, 2, 2, 2, 2, 2, 2, 2, 2, 2, 2, 2, 2, 2, 2, 2, 2, 2,\n",
            "        2, 2, 2, 2, 2, 2, 2, 2, 2, 2, 2, 2, 2, 2, 4, 4, 4, 2, 3, 3, 3, 3, 3, 3,\n",
            "        3, 3, 3, 3])\n",
            "379\n",
            "tensor([72,  7, 69, 72, 68, 15, 72, 68, 10,  4, 68, 21, 17, 36, 12, 68, 23, 56,\n",
            "        72, 68, 21, 63, 56, 15, 72, 68, 15, 72, 52, 50,  5, 21, 15, 21, 68, 21,\n",
            "        68, 56, 52, 31, 72,  7, 63, 50, 21, 12, 68, 15, 72, 68,  2, 12, 50, 23,\n",
            "        56, 50, 21, 69, 52, 50, 21, 68, 69, 52, 21, 12, 68, 12, 50, 66, 49, 68,\n",
            "        21,  7, 69, 72, 63, 72, 15, 72,  7, 69, 12, 68,  8, 12, 50,  7, 68, 21,\n",
            "        54, 72, 52, 31, 50, 21, 12, 68, 66, 72])\n",
            "tensor([2, 2, 2, 2, 2, 2, 2, 2, 2, 2, 2, 2, 2, 2, 2, 2, 2, 2, 2, 2, 2, 2, 2, 2,\n",
            "        2, 2, 2, 2, 2, 2, 2, 2, 2, 2, 2, 2, 2, 2, 2, 2, 2, 2, 2, 2, 2, 2, 2, 2,\n",
            "        2, 2, 2, 2, 2, 2, 2, 2, 2, 2, 2, 2, 2, 2, 2, 2, 2, 2, 2, 2, 2, 2, 2, 2,\n",
            "        2, 2, 2, 2, 2, 2, 2, 2, 2, 2, 2, 2, 2, 4, 4, 4, 2, 3, 3, 3, 3, 3, 3, 3,\n",
            "        3, 3, 3, 3])\n",
            "380\n",
            "tensor([ 7, 69, 72, 68, 15, 72, 68, 10,  4, 68, 21, 17, 36, 12, 68, 23, 56, 72,\n",
            "        68, 21, 63, 56, 15, 72, 68, 15, 72, 52, 50,  5, 21, 15, 21, 68, 21, 68,\n",
            "        56, 52, 31, 72,  7, 63, 50, 21, 12, 68, 15, 72, 68,  2, 12, 50, 23, 56,\n",
            "        50, 21, 69, 52, 50, 21, 68, 69, 52, 21, 12, 68, 12, 50, 66, 49, 68, 21,\n",
            "         7, 69, 72, 63, 72, 15, 72,  7, 69, 12, 68,  8, 12, 50,  7, 68, 21, 54,\n",
            "        72, 52, 31, 50, 21, 12, 68, 66, 72, 15])\n",
            "tensor([2, 2, 2, 2, 2, 2, 2, 2, 2, 2, 2, 2, 2, 2, 2, 2, 2, 2, 2, 2, 2, 2, 2, 2,\n",
            "        2, 2, 2, 2, 2, 2, 2, 2, 2, 2, 2, 2, 2, 2, 2, 2, 2, 2, 2, 2, 2, 2, 2, 2,\n",
            "        2, 2, 2, 2, 2, 2, 2, 2, 2, 2, 2, 2, 2, 2, 2, 2, 2, 2, 2, 2, 2, 2, 2, 2,\n",
            "        2, 2, 2, 2, 2, 2, 2, 2, 2, 2, 2, 2, 4, 4, 4, 2, 3, 3, 3, 3, 3, 3, 3, 3,\n",
            "        3, 3, 3, 3])\n",
            "381\n",
            "tensor([69, 72, 68, 15, 72, 68, 10,  4, 68, 21, 17, 36, 12, 68, 23, 56, 72, 68,\n",
            "        21, 63, 56, 15, 72, 68, 15, 72, 52, 50,  5, 21, 15, 21, 68, 21, 68, 56,\n",
            "        52, 31, 72,  7, 63, 50, 21, 12, 68, 15, 72, 68,  2, 12, 50, 23, 56, 50,\n",
            "        21, 69, 52, 50, 21, 68, 69, 52, 21, 12, 68, 12, 50, 66, 49, 68, 21,  7,\n",
            "        69, 72, 63, 72, 15, 72,  7, 69, 12, 68,  8, 12, 50,  7, 68, 21, 54, 72,\n",
            "        52, 31, 50, 21, 12, 68, 66, 72, 15, 50])\n",
            "tensor([2, 2, 2, 2, 2, 2, 2, 2, 2, 2, 2, 2, 2, 2, 2, 2, 2, 2, 2, 2, 2, 2, 2, 2,\n",
            "        2, 2, 2, 2, 2, 2, 2, 2, 2, 2, 2, 2, 2, 2, 2, 2, 2, 2, 2, 2, 2, 2, 2, 2,\n",
            "        2, 2, 2, 2, 2, 2, 2, 2, 2, 2, 2, 2, 2, 2, 2, 2, 2, 2, 2, 2, 2, 2, 2, 2,\n",
            "        2, 2, 2, 2, 2, 2, 2, 2, 2, 2, 2, 4, 4, 4, 2, 3, 3, 3, 3, 3, 3, 3, 3, 3,\n",
            "        3, 3, 3, 3])\n",
            "382\n",
            "tensor([72, 68, 15, 72, 68, 10,  4, 68, 21, 17, 36, 12, 68, 23, 56, 72, 68, 21,\n",
            "        63, 56, 15, 72, 68, 15, 72, 52, 50,  5, 21, 15, 21, 68, 21, 68, 56, 52,\n",
            "        31, 72,  7, 63, 50, 21, 12, 68, 15, 72, 68,  2, 12, 50, 23, 56, 50, 21,\n",
            "        69, 52, 50, 21, 68, 69, 52, 21, 12, 68, 12, 50, 66, 49, 68, 21,  7, 69,\n",
            "        72, 63, 72, 15, 72,  7, 69, 12, 68,  8, 12, 50,  7, 68, 21, 54, 72, 52,\n",
            "        31, 50, 21, 12, 68, 66, 72, 15, 50, 21])\n",
            "tensor([2, 2, 2, 2, 2, 2, 2, 2, 2, 2, 2, 2, 2, 2, 2, 2, 2, 2, 2, 2, 2, 2, 2, 2,\n",
            "        2, 2, 2, 2, 2, 2, 2, 2, 2, 2, 2, 2, 2, 2, 2, 2, 2, 2, 2, 2, 2, 2, 2, 2,\n",
            "        2, 2, 2, 2, 2, 2, 2, 2, 2, 2, 2, 2, 2, 2, 2, 2, 2, 2, 2, 2, 2, 2, 2, 2,\n",
            "        2, 2, 2, 2, 2, 2, 2, 2, 2, 2, 4, 4, 4, 2, 3, 3, 3, 3, 3, 3, 3, 3, 3, 3,\n",
            "        3, 3, 3, 3])\n",
            "383\n",
            "tensor([68, 15, 72, 68, 10,  4, 68, 21, 17, 36, 12, 68, 23, 56, 72, 68, 21, 63,\n",
            "        56, 15, 72, 68, 15, 72, 52, 50,  5, 21, 15, 21, 68, 21, 68, 56, 52, 31,\n",
            "        72,  7, 63, 50, 21, 12, 68, 15, 72, 68,  2, 12, 50, 23, 56, 50, 21, 69,\n",
            "        52, 50, 21, 68, 69, 52, 21, 12, 68, 12, 50, 66, 49, 68, 21,  7, 69, 72,\n",
            "        63, 72, 15, 72,  7, 69, 12, 68,  8, 12, 50,  7, 68, 21, 54, 72, 52, 31,\n",
            "        50, 21, 12, 68, 66, 72, 15, 50, 21, 66])\n",
            "tensor([2, 2, 2, 2, 2, 2, 2, 2, 2, 2, 2, 2, 2, 2, 2, 2, 2, 2, 2, 2, 2, 2, 2, 2,\n",
            "        2, 2, 2, 2, 2, 2, 2, 2, 2, 2, 2, 2, 2, 2, 2, 2, 2, 2, 2, 2, 2, 2, 2, 2,\n",
            "        2, 2, 2, 2, 2, 2, 2, 2, 2, 2, 2, 2, 2, 2, 2, 2, 2, 2, 2, 2, 2, 2, 2, 2,\n",
            "        2, 2, 2, 2, 2, 2, 2, 2, 2, 4, 4, 4, 2, 3, 3, 3, 3, 3, 3, 3, 3, 3, 3, 3,\n",
            "        3, 3, 3, 3])\n",
            "384\n",
            "tensor([15, 72, 68, 10,  4, 68, 21, 17, 36, 12, 68, 23, 56, 72, 68, 21, 63, 56,\n",
            "        15, 72, 68, 15, 72, 52, 50,  5, 21, 15, 21, 68, 21, 68, 56, 52, 31, 72,\n",
            "         7, 63, 50, 21, 12, 68, 15, 72, 68,  2, 12, 50, 23, 56, 50, 21, 69, 52,\n",
            "        50, 21, 68, 69, 52, 21, 12, 68, 12, 50, 66, 49, 68, 21,  7, 69, 72, 63,\n",
            "        72, 15, 72,  7, 69, 12, 68,  8, 12, 50,  7, 68, 21, 54, 72, 52, 31, 50,\n",
            "        21, 12, 68, 66, 72, 15, 50, 21, 66, 72])\n",
            "tensor([2, 2, 2, 2, 2, 2, 2, 2, 2, 2, 2, 2, 2, 2, 2, 2, 2, 2, 2, 2, 2, 2, 2, 2,\n",
            "        2, 2, 2, 2, 2, 2, 2, 2, 2, 2, 2, 2, 2, 2, 2, 2, 2, 2, 2, 2, 2, 2, 2, 2,\n",
            "        2, 2, 2, 2, 2, 2, 2, 2, 2, 2, 2, 2, 2, 2, 2, 2, 2, 2, 2, 2, 2, 2, 2, 2,\n",
            "        2, 2, 2, 2, 2, 2, 2, 2, 4, 4, 4, 2, 3, 3, 3, 3, 3, 3, 3, 3, 3, 3, 3, 3,\n",
            "        3, 3, 3, 3])\n",
            "385\n",
            "tensor([72, 68, 10,  4, 68, 21, 17, 36, 12, 68, 23, 56, 72, 68, 21, 63, 56, 15,\n",
            "        72, 68, 15, 72, 52, 50,  5, 21, 15, 21, 68, 21, 68, 56, 52, 31, 72,  7,\n",
            "        63, 50, 21, 12, 68, 15, 72, 68,  2, 12, 50, 23, 56, 50, 21, 69, 52, 50,\n",
            "        21, 68, 69, 52, 21, 12, 68, 12, 50, 66, 49, 68, 21,  7, 69, 72, 63, 72,\n",
            "        15, 72,  7, 69, 12, 68,  8, 12, 50,  7, 68, 21, 54, 72, 52, 31, 50, 21,\n",
            "        12, 68, 66, 72, 15, 50, 21, 66, 72,  7])\n",
            "tensor([2, 2, 2, 2, 2, 2, 2, 2, 2, 2, 2, 2, 2, 2, 2, 2, 2, 2, 2, 2, 2, 2, 2, 2,\n",
            "        2, 2, 2, 2, 2, 2, 2, 2, 2, 2, 2, 2, 2, 2, 2, 2, 2, 2, 2, 2, 2, 2, 2, 2,\n",
            "        2, 2, 2, 2, 2, 2, 2, 2, 2, 2, 2, 2, 2, 2, 2, 2, 2, 2, 2, 2, 2, 2, 2, 2,\n",
            "        2, 2, 2, 2, 2, 2, 2, 4, 4, 4, 2, 3, 3, 3, 3, 3, 3, 3, 3, 3, 3, 3, 3, 3,\n",
            "        3, 3, 3, 3])\n"
          ]
        }
      ],
      "source": [
        "cnt = 0\n",
        "cnt2 = 0\n",
        "for i, (txt, tag) in enumerate(dataset):\n",
        "    cnt += 1\n",
        "    if(len(txt) < dataset.sequence_lenght):\n",
        "        print(i)\n",
        "        print(len(txt))\n",
        "        #print(txt)\n",
        "        #print(tag)\n",
        "        break\n",
        "    if(len(np.unique(tag))>1):\n",
        "        print(i)\n",
        "        print(txt)\n",
        "        print(tag)\n",
        "        cnt2 += 1\n",
        "    if(cnt2 > 20):\n",
        "        break"
      ]
    },
    {
      "cell_type": "code",
      "execution_count": 17,
      "metadata": {
        "colab": {
          "base_uri": "https://localhost:8080/"
        },
        "id": "R1vn14wRX_XE",
        "outputId": "3c1c384c-415f-426d-8f3c-86d6149e5a9e"
      },
      "outputs": [
        {
          "data": {
            "text/plain": [
              "1611331"
            ]
          },
          "execution_count": 17,
          "metadata": {},
          "output_type": "execute_result"
        }
      ],
      "source": [
        "len(dataset)"
      ]
    },
    {
      "cell_type": "code",
      "execution_count": 18,
      "metadata": {
        "colab": {
          "base_uri": "https://localhost:8080/"
        },
        "id": "novhhY1yX_XE",
        "outputId": "ff46d114-b098-41d1-c4f3-6f87da576c83"
      },
      "outputs": [
        {
          "data": {
            "text/plain": [
              "386"
            ]
          },
          "execution_count": 18,
          "metadata": {},
          "output_type": "execute_result"
        }
      ],
      "source": [
        "cnt"
      ]
    },
    {
      "cell_type": "code",
      "execution_count": 19,
      "metadata": {
        "id": "yA9ZVdnbX_XE"
      },
      "outputs": [],
      "source": [
        "batch_size = 1000\n",
        "train_loader_inaugural = DataLoader(dataset, shuffle=True, batch_size=batch_size, drop_last=True)"
      ]
    },
    {
      "cell_type": "code",
      "execution_count": 20,
      "metadata": {
        "id": "yKkiY6rlX_XE"
      },
      "outputs": [],
      "source": [
        "import torch.nn as nn\n",
        "import torch.optim as optim"
      ]
    },
    {
      "cell_type": "code",
      "execution_count": 21,
      "metadata": {
        "colab": {
          "base_uri": "https://localhost:8080/"
        },
        "id": "7uhpuTdJX_XE",
        "outputId": "294e6016-4bc3-4488-da90-752506da5c5a"
      },
      "outputs": [
        {
          "name": "stdout",
          "output_type": "stream",
          "text": [
            "Using device: cuda\n"
          ]
        }
      ],
      "source": [
        "#If this cell fails you need to change the runtime of your colab notebook to GPU\n",
        "# Go to Runtime -> Change Runtime Type and select GPU\n",
        "assert torch.cuda.is_available() or  torch.has_mps, \"GPU is not enabled\"\n",
        "\n",
        "#  use gpu if available\n",
        "device = torch.device(\"cuda\" if torch.cuda.is_available() else \"mps\")\n",
        "print(\"Using device:\", device)"
      ]
    },
    {
      "cell_type": "code",
      "execution_count": 22,
      "metadata": {
        "id": "S9Pqte8HX_XE"
      },
      "outputs": [],
      "source": [
        "class Model_LSTM(nn.Module):\n",
        "    def __init__(self, input_dim, embedding_dim, hidden_dim, output_dim, n_layers, drop_prob=0.):\n",
        "        super(Model_LSTM, self).__init__()\n",
        "        self.hidden_dim = hidden_dim\n",
        "        self.n_layers = n_layers\n",
        "        \n",
        "        # YOUR CODE HERE\n",
        "        self.embedding = nn.Embedding(num_embeddings=input_dim,embedding_dim=embedding_dim) #input -> BATCH, SEQ_LENGHT (one-hot can reduce one dimension)  or -> BATCH, SEQ_LENGHT, INPUT DIM\n",
        "        self.lstm = nn.LSTM(input_size=embedding_dim, hidden_size=hidden_dim, num_layers=n_layers, dropout=drop_prob, batch_first=True,bidirectional=True) #input -> BATCH, SEQ_LENGHT, EMBEDDING_DIM\n",
        "        self.fc = nn.Linear(hidden_dim*2,output_dim) # input -> BATCH, HIDDEN_DIM\n",
        "        #out -> BATCH, OUTPUT_DIM (if one hot can reduce one dimension and we are only comparing integers, why can't we do BATCH, 1\n",
        "         \n",
        "        \n",
        "    def forward(self, x, h ,c):\n",
        "        #ic(x.shape)\n",
        "        emb = self.embedding(x)\n",
        "        #ic(emb.shape)\n",
        "        out, (h,c) = self.lstm(emb, (h,c))\n",
        "        #ic(out.shape)\n",
        "        out = self.fc(out)\n",
        "        #ic(out.shape)\n",
        "        return out, h ,c\n",
        "    \n",
        "    def init_hidden(self, batch_size):\n",
        "        \" Initialize the hidden state of the RNN to zeros\"\n",
        "        h = nn.Parameter(torch.zeros(self.n_layers*2, batch_size, self.hidden_dim))\n",
        "        c = nn.Parameter(torch.zeros(self.n_layers*2, batch_size, self.hidden_dim))\n",
        "        return h, c"
      ]
    },
    {
      "cell_type": "code",
      "execution_count": 23,
      "metadata": {
        "colab": {
          "base_uri": "https://localhost:8080/"
        },
        "id": "auK6R9quX_XE",
        "outputId": "d4b4b279-8595-4fa0-dd01-36199bc63f01"
      },
      "outputs": [
        {
          "name": "stderr",
          "output_type": "stream",
          "text": [
            "/usr/local/lib/python3.10/dist-packages/torch/nn/modules/rnn.py:71: UserWarning: dropout option adds dropout after all but last recurrent layer, so non-zero dropout expects num_layers greater than 1, but got dropout=0.2 and num_layers=1\n",
            "  warnings.warn(\"dropout option adds dropout after all but last \"\n"
          ]
        },
        {
          "name": "stdout",
          "output_type": "stream",
          "text": [
            "Model_LSTM(\n",
            "  (embedding): Embedding(75, 50)\n",
            "  (lstm): LSTM(50, 200, batch_first=True, dropout=0.2, bidirectional=True)\n",
            "  (fc): Linear(in_features=400, out_features=5, bias=True)\n",
            ")\n"
          ]
        }
      ],
      "source": [
        "input_dim = len(dataset.vocab)\n",
        "embedding_dim = 50\n",
        "hidden_dim = 200\n",
        "output_dim = len(dataset.uniq_tags)\n",
        "n_layers = 1\n",
        "drop_prob = 0.2\n",
        "\n",
        "model = Model_LSTM(input_dim, embedding_dim, hidden_dim, output_dim, n_layers, drop_prob).to(device)\n",
        "\n",
        "print(model)"
      ]
    },
    {
      "cell_type": "code",
      "execution_count": 24,
      "metadata": {
        "id": "dsfOf3WpX_XF"
      },
      "outputs": [],
      "source": [
        "def train_lstm(dataloader, model, batch_size, sequence_length, num_epochs):\n",
        "    model.train()\n",
        "\n",
        "    criterion =  nn.CrossEntropyLoss()\n",
        "    optimizer = optim.Adam(model.parameters(), lr=0.001)\n",
        "\n",
        "    losses = []\n",
        "    for epoch in range(num_epochs):\n",
        "        torch.save(model.state_dict(), \"/content/drive/MyDrive/LSTM_character_tagger.pth\")\n",
        "        for batch, (x, y) in enumerate(dataloader):\n",
        "            h, c = model.init_hidden(batch_size) # Start with a new state in each batch            \n",
        "            h = h.to(device)\n",
        "            c = c.to(device)\n",
        "            x = x.to(device)\n",
        "            y = y.to(device)\n",
        "            optimizer.zero_grad()\n",
        "            \n",
        "            y_pred, h,c= model(x, h, c)\n",
        "            #ic(y.shape)\n",
        "            #ic(y_pred.shape)\n",
        "            loss = criterion(y_pred.transpose(1, 2), y)  #cross entropy loss needs (N,C,seq_lenght)\n",
        "\n",
        "            loss.backward()\n",
        "            optimizer.step()\n",
        "\n",
        "            if batch%30 == 0:\n",
        "                print({ 'epoch': epoch, 'batch': batch, 'loss': loss.item() })\n",
        "                losses.append(loss.item())\n",
        "  \n",
        "    return losses"
      ]
    },
    {
      "cell_type": "code",
      "execution_count": 42,
      "metadata": {
        "id": "yot9eR2gX_XF"
      },
      "outputs": [],
      "source": [
        "num_epochs = 5\n",
        "train = False\n",
        "if train:\n",
        "  losses = train_lstm(train_loader_inaugural, model, batch_size, sequence_length, num_epochs)\n",
        "  torch.save(model.state_dict(), \"/content/drive/MyDrive/LSTM_character_tagger.pth\")\n",
        "else:\n",
        "  model.load_state_dict(torch.load(\"/content/drive/MyDrive/LSTM_character_tagger.pth\"))"
      ]
    },
    {
      "cell_type": "code",
      "execution_count": 26,
      "metadata": {
        "colab": {
          "base_uri": "https://localhost:8080/",
          "height": 452
        },
        "id": "pXlmFF2CX_XF",
        "outputId": "5a5f12ec-9f97-4946-8715-4289aa1e656c"
      },
      "outputs": [
        {
          "data": {
            "image/png": "[encoded data removed]",
            "text/plain": [
              "<Figure size 640x480 with 1 Axes>"
            ]
          },
          "metadata": {},
          "output_type": "display_data"
        }
      ],
      "source": [
        "# Visualize the loss evolution during training\n",
        "plt.plot(losses)\n",
        "plt.title('model loss')\n",
        "plt.show()"
      ]
    },
    {
      "cell_type": "code",
      "execution_count": 27,
      "metadata": {
        "colab": {
          "base_uri": "https://localhost:8080/"
        },
        "id": "Zq7pbPTDX_XF",
        "outputId": "9556b30e-0336-4cf1-845e-fe06e0a62d9c"
      },
      "outputs": [
        {
          "name": "stdout",
          "output_type": "stream",
          "text": [
            "\u001b[31msome red text\n"
          ]
        }
      ],
      "source": [
        "from colorama import Fore, Back, Style\n",
        " \n",
        "print(Fore.RED + 'some red text')"
      ]
    },
    {
      "cell_type": "code",
      "execution_count": 36,
      "metadata": {
        "id": "5FkwFoRtHsyg"
      },
      "outputs": [],
      "source": [
        "colors = [Fore.BLUE,Fore.GREEN,Fore.WHITE,Fore.CYAN,Fore.RED]\n",
        "reference_tag_txt = [colors[i]+dataset.uniq_tags[i] for i in range(len(dataset.uniq_tags))]\n",
        "reference_tag_txt = \" \".join(reference_tag_txt)"
      ]
    },
    {
      "cell_type": "code",
      "execution_count": 45,
      "metadata": {
        "colab": {
          "base_uri": "https://localhost:8080/"
        },
        "id": "iGJxzFcmX_XF",
        "outputId": "d44f6201-68c6-490c-ec1d-d625063249df"
      },
      "outputs": [
        {
          "name": "stdout",
          "output_type": "stream",
          "text": [
            "\u001b[34mUSCO \u001b[32mUNC \u001b[37mNONE \u001b[36mNSCO \u001b[31mNEG\n",
            "\u001b[37ma\u001b[37mq\u001b[37mu\u001b[37me\u001b[37ms\u001b[37mt\u001b[37ma\u001b[37m \u001b[37ms\u001b[37me\u001b[37mt\u001b[37mm\u001b[37ma\u001b[37mn\u001b[37ma\u001b[37m \u001b[31mn\u001b[31mo\u001b[31m \u001b[36mp\u001b[36mr\u001b[36me\u001b[36ms\u001b[36me\u001b[36mn\u001b[36mt\u001b[36ma\u001b[36mv\u001b[36ma\u001b[36m \u001b[36mc\u001b[36ma\u001b[36mp\u001b[36m \u001b[37ms\u001b[37mi\u001b[37mn\u001b[37mt\u001b[37mo\u001b[37mm\u001b[36ma\u001b[36m \u001b[37md\u001b[37me\u001b[37m \u001b[37mf\u001b[37me\u001b[37mb\u001b[37mr\u001b[37mi\u001b[36ml\u001b[37m.\n"
          ]
        }
      ],
      "source": [
        "test_text = \"aquesta setmana no presentava cap sintoma de febril.\"\n",
        "txt_tensor = torch.tensor([dataset.vocab.index(ch) for ch in test_text]).to(device)\n",
        "h, c = model.init_hidden(batch_size=1)\n",
        "#unbatch so delete batch dimension\n",
        "h = h.squeeze(1).to(device)\n",
        "c = c.squeeze(1).to(device)\n",
        "\n",
        "out, h, c = model.forward(txt_tensor,h,c)\n",
        "out = out.cpu()\n",
        "print(reference_tag_txt)\n",
        "txt = \"\"\n",
        "for i,pred in enumerate(out):\n",
        "    tag_idx = np.where(pred==pred.max())[0][0]\n",
        "    txt += colors[tag_idx] + test_text[i]\n",
        "\n",
        "print(txt)"
      ]
    },
    {
      "cell_type": "code",
      "execution_count": 38,
      "metadata": {
        "colab": {
          "base_uri": "https://localhost:8080/"
        },
        "id": "kuCmcRYLAtAL",
        "outputId": "08ee0705-b35c-4b15-a251-8d4cbda88100"
      },
      "outputs": [
        {
          "name": "stdout",
          "output_type": "stream",
          "text": [
            "\u001b[34mUSCO \u001b[32mUNC \u001b[37mNONE \u001b[36mNSCO \u001b[31mNEG\n",
            "\u001b[37me\u001b[37ml\u001b[37m \u001b[37mp\u001b[37ma\u001b[37mc\u001b[37mi\u001b[37me\u001b[37mn\u001b[37mt\u001b[37me\u001b[37m \u001b[37mp\u001b[37mr\u001b[37me\u001b[37ms\u001b[37me\u001b[37mn\u001b[37mt\u001b[37ma\u001b[37m \u001b[37ml\u001b[37me\u001b[37mu\u001b[37mc\u001b[37mo\u001b[37mp\u001b[37ml\u001b[37ma\u001b[37ms\u001b[37mi\u001b[37ma\u001b[37m \u001b[37ms\u001b[37me\u001b[37mv\u001b[37me\u001b[37mr\u001b[37ma\u001b[37m \u001b[37me\u001b[37mn\u001b[37m \u001b[37me\u001b[37ml\u001b[37m \u001b[37md\u001b[37mo\u001b[37mr\u001b[37ms\u001b[37mo\u001b[37m \u001b[37md\u001b[37me\u001b[37m \u001b[37ml\u001b[37ma\u001b[37m \u001b[37ml\u001b[37me\u001b[37mn\u001b[37mg\u001b[37mu\u001b[37ma\u001b[37m.\n"
          ]
        }
      ],
      "source": [
        "test_text = \"el paciente presenta leucoplasia severa en el dorso de la lengua.\"\n",
        "txt_tensor = torch.tensor([dataset.vocab.index(ch) for ch in test_text]).to(device)\n",
        "h, c = model.init_hidden(batch_size=1)\n",
        "#unbatch so delete batch dimension\n",
        "h = h.squeeze(1).to(device)\n",
        "c = c.squeeze(1).to(device)\n",
        "\n",
        "out, h, c = model.forward(txt_tensor,h,c)\n",
        "out = out.cpu()\n",
        "\n",
        "txt = \"\"\n",
        "print(reference_tag_txt)\n",
        "for i,pred in enumerate(out):\n",
        "    tag_idx = np.where(pred==pred.max())[0][0]\n",
        "    txt += colors[tag_idx] + test_text[i]\n",
        "\n",
        "print(txt)"
      ]
    },
    {
      "cell_type": "code",
      "execution_count": 39,
      "metadata": {
        "colab": {
          "base_uri": "https://localhost:8080/"
        },
        "id": "CdzASZAfAwKZ",
        "outputId": "d7dc4a88-f1d0-4eaa-8baa-e12619a939c3"
      },
      "outputs": [
        {
          "name": "stdout",
          "output_type": "stream",
          "text": [
            "\u001b[34mUSCO \u001b[32mUNC \u001b[37mNONE \u001b[36mNSCO \u001b[31mNEG\n",
            "\u001b[37me\u001b[37ml\u001b[37m \u001b[37mp\u001b[37ma\u001b[37mc\u001b[37mi\u001b[37me\u001b[37mn\u001b[37mt\u001b[37me\u001b[37m \u001b[31mn\u001b[31mo\u001b[31m \u001b[36mp\u001b[36mr\u001b[36me\u001b[36ms\u001b[37me\u001b[36mn\u001b[36mt\u001b[36ma\u001b[36m \u001b[37ml\u001b[37me\u001b[37mu\u001b[36mc\u001b[37mo\u001b[36mp\u001b[36ml\u001b[37ma\u001b[36ms\u001b[37mi\u001b[37ma\u001b[36m \u001b[37ms\u001b[37me\u001b[37mv\u001b[37me\u001b[37mr\u001b[37ma\u001b[37m \u001b[37me\u001b[37mn\u001b[37m \u001b[36me\u001b[36ml\u001b[36m \u001b[36md\u001b[36mo\u001b[36mr\u001b[36ms\u001b[36mo\u001b[36m \u001b[36md\u001b[36me\u001b[36m \u001b[36ml\u001b[36ma\u001b[36m \u001b[36ml\u001b[36me\u001b[36mn\u001b[36mg\u001b[36mu\u001b[36ma\u001b[37m.\n"
          ]
        }
      ],
      "source": [
        "test_text = \"el paciente no presenta leucoplasia severa en el dorso de la lengua.\"\n",
        "txt_tensor = torch.tensor([dataset.vocab.index(ch) for ch in test_text]).to(device)\n",
        "h, c = model.init_hidden(batch_size=1)\n",
        "#unbatch so delete batch dimension\n",
        "h = h.squeeze(1).to(device)\n",
        "c = c.squeeze(1).to(device)\n",
        "\n",
        "out, h, c = model.forward(txt_tensor,h,c)\n",
        "out = out.cpu()\n",
        "\n",
        "txt = \"\"\n",
        "print(reference_tag_txt)\n",
        "for i,pred in enumerate(out):\n",
        "    tag_idx = np.where(pred==pred.max())[0][0]\n",
        "    txt += colors[tag_idx] + test_text[i]\n",
        "\n",
        "print(txt)"
      ]
    },
    {
      "cell_type": "code",
      "execution_count": 40,
      "metadata": {
        "colab": {
          "base_uri": "https://localhost:8080/"
        },
        "id": "IuOFlf2OBLat",
        "outputId": "2b5ce899-1534-4d5e-da76-8dfea82692f6"
      },
      "outputs": [
        {
          "name": "stdout",
          "output_type": "stream",
          "text": [
            "\u001b[34mUSCO \u001b[32mUNC \u001b[37mNONE \u001b[36mNSCO \u001b[31mNEG\n",
            "\u001b[37me\u001b[37ml\u001b[37m \u001b[37mp\u001b[37ma\u001b[37mc\u001b[37mi\u001b[37me\u001b[37mn\u001b[37mt\u001b[37m \u001b[37mp\u001b[37mr\u001b[37me\u001b[37ms\u001b[37me\u001b[37mn\u001b[37mt\u001b[37ma\u001b[37m \u001b[37ml\u001b[37me\u001b[37mu\u001b[37mc\u001b[37mo\u001b[37mp\u001b[37ml\u001b[37ma\u001b[37ms\u001b[37mi\u001b[37ma\u001b[37m \u001b[37ms\u001b[37me\u001b[37mv\u001b[37me\u001b[37mr\u001b[37ma\u001b[37m \u001b[37ma\u001b[37ml\u001b[37m \u001b[37md\u001b[37mo\u001b[37mr\u001b[37ms\u001b[37ma\u001b[37ml\u001b[37m \u001b[37md\u001b[37me\u001b[37m \u001b[37ml\u001b[37ma\u001b[37m \u001b[37ml\u001b[37ml\u001b[37me\u001b[37mn\u001b[37mg\u001b[37mu\u001b[37ma\u001b[37m.\n"
          ]
        }
      ],
      "source": [
        "test_text = \"el pacient presenta leucoplasia severa al dorsal de la llengua.\"\n",
        "txt_tensor = torch.tensor([dataset.vocab.index(ch) for ch in test_text]).to(device)\n",
        "h, c = model.init_hidden(batch_size=1)\n",
        "#unbatch so delete batch dimension\n",
        "h = h.squeeze(1).to(device)\n",
        "c = c.squeeze(1).to(device)\n",
        "\n",
        "out, h, c = model.forward(txt_tensor,h,c)\n",
        "out = out.cpu()\n",
        "\n",
        "txt = \"\"\n",
        "print(reference_tag_txt)\n",
        "for i,pred in enumerate(out):\n",
        "    tag_idx = np.where(pred==pred.max())[0][0]\n",
        "    txt += colors[tag_idx] + test_text[i]\n",
        "\n",
        "print(txt)"
      ]
    },
    {
      "cell_type": "code",
      "execution_count": 41,
      "metadata": {
        "colab": {
          "base_uri": "https://localhost:8080/"
        },
        "id": "2UzvkYkwBSXr",
        "outputId": "270b92e9-ef1f-4090-ee00-b35175e9a837"
      },
      "outputs": [
        {
          "name": "stdout",
          "output_type": "stream",
          "text": [
            "\u001b[34mUSCO \u001b[32mUNC \u001b[37mNONE \u001b[36mNSCO \u001b[31mNEG\n",
            "\u001b[37me\u001b[37ml\u001b[37m \u001b[37mp\u001b[37ma\u001b[37mc\u001b[37mi\u001b[37me\u001b[37mn\u001b[37mt\u001b[37m \u001b[31mn\u001b[31mo\u001b[31m \u001b[36mp\u001b[37mr\u001b[36me\u001b[36ms\u001b[37me\u001b[36mn\u001b[36mt\u001b[36ma\u001b[36m \u001b[37ml\u001b[37me\u001b[36mu\u001b[36mc\u001b[36mo\u001b[36mp\u001b[36ml\u001b[36ma\u001b[37ms\u001b[37mi\u001b[36ma\u001b[36m \u001b[37ms\u001b[37me\u001b[37mv\u001b[37me\u001b[37mr\u001b[37ma\u001b[37m \u001b[37ma\u001b[36ml\u001b[37m \u001b[37md\u001b[37mo\u001b[37mr\u001b[37ms\u001b[37ma\u001b[37ml\u001b[37m \u001b[37md\u001b[37me\u001b[37m \u001b[37ml\u001b[37ma\u001b[37m \u001b[37ml\u001b[37ml\u001b[37me\u001b[37mn\u001b[37mg\u001b[37mu\u001b[37ma\u001b[37m.\n"
          ]
        }
      ],
      "source": [
        "test_text = \"el pacient no presenta leucoplasia severa al dorsal de la llengua.\"\n",
        "txt_tensor = torch.tensor([dataset.vocab.index(ch) for ch in test_text]).to(device)\n",
        "h, c = model.init_hidden(batch_size=1)\n",
        "#unbatch so delete batch dimension\n",
        "h = h.squeeze(1).to(device)\n",
        "c = c.squeeze(1).to(device)\n",
        "\n",
        "out, h, c = model.forward(txt_tensor,h,c)\n",
        "out = out.cpu()\n",
        "\n",
        "txt = \"\"\n",
        "print(reference_tag_txt)\n",
        "\n",
        "for i,pred in enumerate(out):\n",
        "    tag_idx = np.where(pred==pred.max())[0][0]\n",
        "    txt += colors[tag_idx] + test_text[i]\n",
        "\n",
        "print(txt)"
      ]
    }
  ],
  "metadata": {
    "accelerator": "GPU",
    "colab": {
      "gpuType": "T4",
      "provenance": []
    },
    "gpuClass": "standard",
    "kernelspec": {
      "display_name": "Python 3.10.9 ('ML')",
      "language": "python",
      "name": "python3"
    },
    "language_info": {
      "codemirror_mode": {
        "name": "ipython",
        "version": 3
      },
      "file_extension": ".py",
      "mimetype": "text/x-python",
      "name": "python",
      "nbconvert_exporter": "python",
      "pygments_lexer": "ipython3",
      "version": "3.10.9"
    },
    "vscode": {
      "interpreter": {
        "hash": "da600ade1a771c82ddf6d22a5a41f856afbf3528a3611e1c80e3ac6da17c9450"
      }
    }
  },
  "nbformat": 4,
  "nbformat_minor": 0
}
