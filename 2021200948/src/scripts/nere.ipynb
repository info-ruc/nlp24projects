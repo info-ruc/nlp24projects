{
  "cells": [
    {
      "cell_type": "code",
      "execution_count": 90,
      "metadata": {
        "colab": {
          "base_uri": "https://localhost:8080/"
        },
        "id": "uTgl4r1A02ZD",
        "outputId": "e3bfcaf9-a159-4173-a5bd-2157f36698cd"
      },
      "outputs": [
        {
          "name": "stdout",
          "output_type": "stream",
          "text": [
            "Looking in indexes: https://pypi.org/simple, https://us-python.pkg.dev/colab-wheels/public/simple/\n",
            "Requirement already satisfied: spacy in /usr/local/lib/python3.10/dist-packages (3.5.2)\n",
            "Requirement already satisfied: spacy-legacy<3.1.0,>=3.0.11 in /usr/local/lib/python3.10/dist-packages (from spacy) (3.0.12)\n",
            "Requirement already satisfied: spacy-loggers<2.0.0,>=1.0.0 in /usr/local/lib/python3.10/dist-packages (from spacy) (1.0.4)\n",
            "Requirement already satisfied: murmurhash<1.1.0,>=0.28.0 in /usr/local/lib/python3.10/dist-packages (from spacy) (1.0.9)\n",
            "Requirement already satisfied: cymem<2.1.0,>=2.0.2 in /usr/local/lib/python3.10/dist-packages (from spacy) (2.0.7)\n",
            "Requirement already satisfied: preshed<3.1.0,>=3.0.2 in /usr/local/lib/python3.10/dist-packages (from spacy) (3.0.8)\n",
            "Requirement already satisfied: thinc<8.2.0,>=8.1.8 in /usr/local/lib/python3.10/dist-packages (from spacy) (8.1.9)\n",
            "Requirement already satisfied: wasabi<1.2.0,>=0.9.1 in /usr/local/lib/python3.10/dist-packages (from spacy) (1.1.1)\n",
            "Requirement already satisfied: srsly<3.0.0,>=2.4.3 in /usr/local/lib/python3.10/dist-packages (from spacy) (2.4.6)\n",
            "Requirement already satisfied: catalogue<2.1.0,>=2.0.6 in /usr/local/lib/python3.10/dist-packages (from spacy) (2.0.8)\n",
            "Requirement already satisfied: typer<0.8.0,>=0.3.0 in /usr/local/lib/python3.10/dist-packages (from spacy) (0.7.0)\n",
            "Requirement already satisfied: pathy>=0.10.0 in /usr/local/lib/python3.10/dist-packages (from spacy) (0.10.1)\n",
            "Requirement already satisfied: smart-open<7.0.0,>=5.2.1 in /usr/local/lib/python3.10/dist-packages (from spacy) (6.3.0)\n",
            "Requirement already satisfied: tqdm<5.0.0,>=4.38.0 in /usr/local/lib/python3.10/dist-packages (from spacy) (4.65.0)\n",
            "Requirement already satisfied: numpy>=1.15.0 in /usr/local/lib/python3.10/dist-packages (from spacy) (1.22.4)\n",
            "Requirement already satisfied: requests<3.0.0,>=2.13.0 in /usr/local/lib/python3.10/dist-packages (from spacy) (2.27.1)\n",
            "Requirement already satisfied: pydantic!=1.8,!=1.8.1,<1.11.0,>=1.7.4 in /usr/local/lib/python3.10/dist-packages (from spacy) (1.10.7)\n",
            "Requirement already satisfied: jinja2 in /usr/local/lib/python3.10/dist-packages (from spacy) (3.1.2)\n",
            "Requirement already satisfied: setuptools in /usr/local/lib/python3.10/dist-packages (from spacy) (67.7.2)\n",
            "Requirement already satisfied: packaging>=20.0 in /usr/local/lib/python3.10/dist-packages (from spacy) (23.1)\n",
            "Requirement already satisfied: langcodes<4.0.0,>=3.2.0 in /usr/local/lib/python3.10/dist-packages (from spacy) (3.3.0)\n",
            "Requirement already satisfied: typing-extensions>=4.2.0 in /usr/local/lib/python3.10/dist-packages (from pydantic!=1.8,!=1.8.1,<1.11.0,>=1.7.4->spacy) (4.5.0)\n",
            "Requirement already satisfied: urllib3<1.27,>=1.21.1 in /usr/local/lib/python3.10/dist-packages (from requests<3.0.0,>=2.13.0->spacy) (1.26.15)\n",
            "Requirement already satisfied: certifi>=2017.4.17 in /usr/local/lib/python3.10/dist-packages (from requests<3.0.0,>=2.13.0->spacy) (2022.12.7)\n",
            "Requirement already satisfied: charset-normalizer~=2.0.0 in /usr/local/lib/python3.10/dist-packages (from requests<3.0.0,>=2.13.0->spacy) (2.0.12)\n",
            "Requirement already satisfied: idna<4,>=2.5 in /usr/local/lib/python3.10/dist-packages (from requests<3.0.0,>=2.13.0->spacy) (3.4)\n",
            "Requirement already satisfied: blis<0.8.0,>=0.7.8 in /usr/local/lib/python3.10/dist-packages (from thinc<8.2.0,>=8.1.8->spacy) (0.7.9)\n",
            "Requirement already satisfied: confection<1.0.0,>=0.0.1 in /usr/local/lib/python3.10/dist-packages (from thinc<8.2.0,>=8.1.8->spacy) (0.0.4)\n",
            "Requirement already satisfied: click<9.0.0,>=7.1.1 in /usr/local/lib/python3.10/dist-packages (from typer<0.8.0,>=0.3.0->spacy) (8.1.3)\n",
            "Requirement already satisfied: MarkupSafe>=2.0 in /usr/local/lib/python3.10/dist-packages (from jinja2->spacy) (2.1.2)\n",
            "Looking in indexes: https://pypi.org/simple, https://us-python.pkg.dev/colab-wheels/public/simple/\n",
            "Requirement already satisfied: negspacy in /usr/local/lib/python3.10/dist-packages (1.0.3)\n",
            "Requirement already satisfied: spacy<4.0.0,>=3.0.1 in /usr/local/lib/python3.10/dist-packages (from negspacy) (3.5.2)\n",
            "Requirement already satisfied: spacy-legacy<3.1.0,>=3.0.11 in /usr/local/lib/python3.10/dist-packages (from spacy<4.0.0,>=3.0.1->negspacy) (3.0.12)\n",
            "Requirement already satisfied: spacy-loggers<2.0.0,>=1.0.0 in /usr/local/lib/python3.10/dist-packages (from spacy<4.0.0,>=3.0.1->negspacy) (1.0.4)\n",
            "Requirement already satisfied: murmurhash<1.1.0,>=0.28.0 in /usr/local/lib/python3.10/dist-packages (from spacy<4.0.0,>=3.0.1->negspacy) (1.0.9)\n",
            "Requirement already satisfied: cymem<2.1.0,>=2.0.2 in /usr/local/lib/python3.10/dist-packages (from spacy<4.0.0,>=3.0.1->negspacy) (2.0.7)\n",
            "Requirement already satisfied: preshed<3.1.0,>=3.0.2 in /usr/local/lib/python3.10/dist-packages (from spacy<4.0.0,>=3.0.1->negspacy) (3.0.8)\n",
            "Requirement already satisfied: thinc<8.2.0,>=8.1.8 in /usr/local/lib/python3.10/dist-packages (from spacy<4.0.0,>=3.0.1->negspacy) (8.1.9)\n",
            "Requirement already satisfied: wasabi<1.2.0,>=0.9.1 in /usr/local/lib/python3.10/dist-packages (from spacy<4.0.0,>=3.0.1->negspacy) (1.1.1)\n",
            "Requirement already satisfied: srsly<3.0.0,>=2.4.3 in /usr/local/lib/python3.10/dist-packages (from spacy<4.0.0,>=3.0.1->negspacy) (2.4.6)\n",
            "Requirement already satisfied: catalogue<2.1.0,>=2.0.6 in /usr/local/lib/python3.10/dist-packages (from spacy<4.0.0,>=3.0.1->negspacy) (2.0.8)\n",
            "Requirement already satisfied: typer<0.8.0,>=0.3.0 in /usr/local/lib/python3.10/dist-packages (from spacy<4.0.0,>=3.0.1->negspacy) (0.7.0)\n",
            "Requirement already satisfied: pathy>=0.10.0 in /usr/local/lib/python3.10/dist-packages (from spacy<4.0.0,>=3.0.1->negspacy) (0.10.1)\n",
            "Requirement already satisfied: smart-open<7.0.0,>=5.2.1 in /usr/local/lib/python3.10/dist-packages (from spacy<4.0.0,>=3.0.1->negspacy) (6.3.0)\n",
            "Requirement already satisfied: tqdm<5.0.0,>=4.38.0 in /usr/local/lib/python3.10/dist-packages (from spacy<4.0.0,>=3.0.1->negspacy) (4.65.0)\n",
            "Requirement already satisfied: numpy>=1.15.0 in /usr/local/lib/python3.10/dist-packages (from spacy<4.0.0,>=3.0.1->negspacy) (1.22.4)\n",
            "Requirement already satisfied: requests<3.0.0,>=2.13.0 in /usr/local/lib/python3.10/dist-packages (from spacy<4.0.0,>=3.0.1->negspacy) (2.27.1)\n",
            "Requirement already satisfied: pydantic!=1.8,!=1.8.1,<1.11.0,>=1.7.4 in /usr/local/lib/python3.10/dist-packages (from spacy<4.0.0,>=3.0.1->negspacy) (1.10.7)\n",
            "Requirement already satisfied: jinja2 in /usr/local/lib/python3.10/dist-packages (from spacy<4.0.0,>=3.0.1->negspacy) (3.1.2)\n",
            "Requirement already satisfied: setuptools in /usr/local/lib/python3.10/dist-packages (from spacy<4.0.0,>=3.0.1->negspacy) (67.7.2)\n",
            "Requirement already satisfied: packaging>=20.0 in /usr/local/lib/python3.10/dist-packages (from spacy<4.0.0,>=3.0.1->negspacy) (23.1)\n",
            "Requirement already satisfied: langcodes<4.0.0,>=3.2.0 in /usr/local/lib/python3.10/dist-packages (from spacy<4.0.0,>=3.0.1->negspacy) (3.3.0)\n",
            "Requirement already satisfied: typing-extensions>=4.2.0 in /usr/local/lib/python3.10/dist-packages (from pydantic!=1.8,!=1.8.1,<1.11.0,>=1.7.4->spacy<4.0.0,>=3.0.1->negspacy) (4.5.0)\n",
            "Requirement already satisfied: urllib3<1.27,>=1.21.1 in /usr/local/lib/python3.10/dist-packages (from requests<3.0.0,>=2.13.0->spacy<4.0.0,>=3.0.1->negspacy) (1.26.15)\n",
            "Requirement already satisfied: certifi>=2017.4.17 in /usr/local/lib/python3.10/dist-packages (from requests<3.0.0,>=2.13.0->spacy<4.0.0,>=3.0.1->negspacy) (2022.12.7)\n",
            "Requirement already satisfied: charset-normalizer~=2.0.0 in /usr/local/lib/python3.10/dist-packages (from requests<3.0.0,>=2.13.0->spacy<4.0.0,>=3.0.1->negspacy) (2.0.12)\n",
            "Requirement already satisfied: idna<4,>=2.5 in /usr/local/lib/python3.10/dist-packages (from requests<3.0.0,>=2.13.0->spacy<4.0.0,>=3.0.1->negspacy) (3.4)\n",
            "Requirement already satisfied: blis<0.8.0,>=0.7.8 in /usr/local/lib/python3.10/dist-packages (from thinc<8.2.0,>=8.1.8->spacy<4.0.0,>=3.0.1->negspacy) (0.7.9)\n",
            "Requirement already satisfied: confection<1.0.0,>=0.0.1 in /usr/local/lib/python3.10/dist-packages (from thinc<8.2.0,>=8.1.8->spacy<4.0.0,>=3.0.1->negspacy) (0.0.4)\n",
            "Requirement already satisfied: click<9.0.0,>=7.1.1 in /usr/local/lib/python3.10/dist-packages (from typer<0.8.0,>=0.3.0->spacy<4.0.0,>=3.0.1->negspacy) (8.1.3)\n",
            "Requirement already satisfied: MarkupSafe>=2.0 in /usr/local/lib/python3.10/dist-packages (from jinja2->spacy<4.0.0,>=3.0.1->negspacy) (2.1.2)\n",
            "Looking in indexes: https://pypi.org/simple, https://us-python.pkg.dev/colab-wheels/public/simple/\n",
            "Requirement already satisfied: spacy_stanza in /usr/local/lib/python3.10/dist-packages (1.0.3)\n",
            "Requirement already satisfied: spacy<4.0.0,>=3.0.0 in /usr/local/lib/python3.10/dist-packages (from spacy_stanza) (3.5.2)\n",
            "Requirement already satisfied: stanza<1.6.0,>=1.2.0 in /usr/local/lib/python3.10/dist-packages (from spacy_stanza) (1.5.0)\n",
            "Requirement already satisfied: spacy-legacy<3.1.0,>=3.0.11 in /usr/local/lib/python3.10/dist-packages (from spacy<4.0.0,>=3.0.0->spacy_stanza) (3.0.12)\n",
            "Requirement already satisfied: spacy-loggers<2.0.0,>=1.0.0 in /usr/local/lib/python3.10/dist-packages (from spacy<4.0.0,>=3.0.0->spacy_stanza) (1.0.4)\n",
            "Requirement already satisfied: murmurhash<1.1.0,>=0.28.0 in /usr/local/lib/python3.10/dist-packages (from spacy<4.0.0,>=3.0.0->spacy_stanza) (1.0.9)\n",
            "Requirement already satisfied: cymem<2.1.0,>=2.0.2 in /usr/local/lib/python3.10/dist-packages (from spacy<4.0.0,>=3.0.0->spacy_stanza) (2.0.7)\n",
            "Requirement already satisfied: preshed<3.1.0,>=3.0.2 in /usr/local/lib/python3.10/dist-packages (from spacy<4.0.0,>=3.0.0->spacy_stanza) (3.0.8)\n",
            "Requirement already satisfied: thinc<8.2.0,>=8.1.8 in /usr/local/lib/python3.10/dist-packages (from spacy<4.0.0,>=3.0.0->spacy_stanza) (8.1.9)\n",
            "Requirement already satisfied: wasabi<1.2.0,>=0.9.1 in /usr/local/lib/python3.10/dist-packages (from spacy<4.0.0,>=3.0.0->spacy_stanza) (1.1.1)\n",
            "Requirement already satisfied: srsly<3.0.0,>=2.4.3 in /usr/local/lib/python3.10/dist-packages (from spacy<4.0.0,>=3.0.0->spacy_stanza) (2.4.6)\n",
            "Requirement already satisfied: catalogue<2.1.0,>=2.0.6 in /usr/local/lib/python3.10/dist-packages (from spacy<4.0.0,>=3.0.0->spacy_stanza) (2.0.8)\n",
            "Requirement already satisfied: typer<0.8.0,>=0.3.0 in /usr/local/lib/python3.10/dist-packages (from spacy<4.0.0,>=3.0.0->spacy_stanza) (0.7.0)\n",
            "Requirement already satisfied: pathy>=0.10.0 in /usr/local/lib/python3.10/dist-packages (from spacy<4.0.0,>=3.0.0->spacy_stanza) (0.10.1)\n",
            "Requirement already satisfied: smart-open<7.0.0,>=5.2.1 in /usr/local/lib/python3.10/dist-packages (from spacy<4.0.0,>=3.0.0->spacy_stanza) (6.3.0)\n",
            "Requirement already satisfied: tqdm<5.0.0,>=4.38.0 in /usr/local/lib/python3.10/dist-packages (from spacy<4.0.0,>=3.0.0->spacy_stanza) (4.65.0)\n",
            "Requirement already satisfied: numpy>=1.15.0 in /usr/local/lib/python3.10/dist-packages (from spacy<4.0.0,>=3.0.0->spacy_stanza) (1.22.4)\n",
            "Requirement already satisfied: requests<3.0.0,>=2.13.0 in /usr/local/lib/python3.10/dist-packages (from spacy<4.0.0,>=3.0.0->spacy_stanza) (2.27.1)\n",
            "Requirement already satisfied: pydantic!=1.8,!=1.8.1,<1.11.0,>=1.7.4 in /usr/local/lib/python3.10/dist-packages (from spacy<4.0.0,>=3.0.0->spacy_stanza) (1.10.7)\n",
            "Requirement already satisfied: jinja2 in /usr/local/lib/python3.10/dist-packages (from spacy<4.0.0,>=3.0.0->spacy_stanza) (3.1.2)\n",
            "Requirement already satisfied: setuptools in /usr/local/lib/python3.10/dist-packages (from spacy<4.0.0,>=3.0.0->spacy_stanza) (67.7.2)\n",
            "Requirement already satisfied: packaging>=20.0 in /usr/local/lib/python3.10/dist-packages (from spacy<4.0.0,>=3.0.0->spacy_stanza) (23.1)\n",
            "Requirement already satisfied: langcodes<4.0.0,>=3.2.0 in /usr/local/lib/python3.10/dist-packages (from spacy<4.0.0,>=3.0.0->spacy_stanza) (3.3.0)\n",
            "Requirement already satisfied: emoji in /usr/local/lib/python3.10/dist-packages (from stanza<1.6.0,>=1.2.0->spacy_stanza) (2.2.0)\n",
            "Requirement already satisfied: protobuf in /usr/local/lib/python3.10/dist-packages (from stanza<1.6.0,>=1.2.0->spacy_stanza) (3.20.3)\n",
            "Requirement already satisfied: six in /usr/local/lib/python3.10/dist-packages (from stanza<1.6.0,>=1.2.0->spacy_stanza) (1.16.0)\n",
            "Requirement already satisfied: torch>=1.3.0 in /usr/local/lib/python3.10/dist-packages (from stanza<1.6.0,>=1.2.0->spacy_stanza) (2.0.0+cu118)\n",
            "Requirement already satisfied: typing-extensions>=4.2.0 in /usr/local/lib/python3.10/dist-packages (from pydantic!=1.8,!=1.8.1,<1.11.0,>=1.7.4->spacy<4.0.0,>=3.0.0->spacy_stanza) (4.5.0)\n",
            "Requirement already satisfied: urllib3<1.27,>=1.21.1 in /usr/local/lib/python3.10/dist-packages (from requests<3.0.0,>=2.13.0->spacy<4.0.0,>=3.0.0->spacy_stanza) (1.26.15)\n",
            "Requirement already satisfied: certifi>=2017.4.17 in /usr/local/lib/python3.10/dist-packages (from requests<3.0.0,>=2.13.0->spacy<4.0.0,>=3.0.0->spacy_stanza) (2022.12.7)\n",
            "Requirement already satisfied: charset-normalizer~=2.0.0 in /usr/local/lib/python3.10/dist-packages (from requests<3.0.0,>=2.13.0->spacy<4.0.0,>=3.0.0->spacy_stanza) (2.0.12)\n",
            "Requirement already satisfied: idna<4,>=2.5 in /usr/local/lib/python3.10/dist-packages (from requests<3.0.0,>=2.13.0->spacy<4.0.0,>=3.0.0->spacy_stanza) (3.4)\n",
            "Requirement already satisfied: blis<0.8.0,>=0.7.8 in /usr/local/lib/python3.10/dist-packages (from thinc<8.2.0,>=8.1.8->spacy<4.0.0,>=3.0.0->spacy_stanza) (0.7.9)\n",
            "Requirement already satisfied: confection<1.0.0,>=0.0.1 in /usr/local/lib/python3.10/dist-packages (from thinc<8.2.0,>=8.1.8->spacy<4.0.0,>=3.0.0->spacy_stanza) (0.0.4)\n",
            "Requirement already satisfied: filelock in /usr/local/lib/python3.10/dist-packages (from torch>=1.3.0->stanza<1.6.0,>=1.2.0->spacy_stanza) (3.12.0)\n",
            "Requirement already satisfied: sympy in /usr/local/lib/python3.10/dist-packages (from torch>=1.3.0->stanza<1.6.0,>=1.2.0->spacy_stanza) (1.11.1)\n",
            "Requirement already satisfied: networkx in /usr/local/lib/python3.10/dist-packages (from torch>=1.3.0->stanza<1.6.0,>=1.2.0->spacy_stanza) (3.1)\n",
            "Requirement already satisfied: triton==2.0.0 in /usr/local/lib/python3.10/dist-packages (from torch>=1.3.0->stanza<1.6.0,>=1.2.0->spacy_stanza) (2.0.0)\n",
            "Requirement already satisfied: cmake in /usr/local/lib/python3.10/dist-packages (from triton==2.0.0->torch>=1.3.0->stanza<1.6.0,>=1.2.0->spacy_stanza) (3.25.2)\n",
            "Requirement already satisfied: lit in /usr/local/lib/python3.10/dist-packages (from triton==2.0.0->torch>=1.3.0->stanza<1.6.0,>=1.2.0->spacy_stanza) (16.0.3)\n",
            "Requirement already satisfied: click<9.0.0,>=7.1.1 in /usr/local/lib/python3.10/dist-packages (from typer<0.8.0,>=0.3.0->spacy<4.0.0,>=3.0.0->spacy_stanza) (8.1.3)\n",
            "Requirement already satisfied: MarkupSafe>=2.0 in /usr/local/lib/python3.10/dist-packages (from jinja2->spacy<4.0.0,>=3.0.0->spacy_stanza) (2.1.2)\n",
            "Requirement already satisfied: mpmath>=0.19 in /usr/local/lib/python3.10/dist-packages (from sympy->torch>=1.3.0->stanza<1.6.0,>=1.2.0->spacy_stanza) (1.3.0)\n"
          ]
        }
      ],
      "source": [
        "import sys\n",
        "!{sys.executable} -m pip install spacy\n",
        "!{sys.executable} -m pip install negspacy\n",
        "!{sys.executable} -m pip install spacy_stanza "
      ]
    },
    {
      "cell_type": "code",
      "execution_count": 91,
      "metadata": {
        "id": "IDF7vGSy05xu"
      },
      "outputs": [],
      "source": [
        "import spacy\n",
        "import stanza\n",
        "import spacy_stanza"
      ]
    },
    {
      "cell_type": "code",
      "execution_count": 92,
      "metadata": {
        "colab": {
          "base_uri": "https://localhost:8080/",
          "height": 479,
          "referenced_widgets": [
            "ae684f54a34a49a48a36383495c2112d",
            "abd621dfae88413689356556f0701e06",
            "dfc428aa1fb54888969fde515ac3b6f1",
            "05a568d8bab84531b2d9fe181ab3e999",
            "572f77a5bb2545b99316c3b60d1b7e0f",
            "2bf5253e80fa4e4796d13264014379be",
            "7b804db13fb04e43afdc16d2178d27e1",
            "2c720c1af773446ea5d1144ecdb445f2",
            "d2f011615d4f469c8afd67f335ff0214",
            "1f9553effcd84303bfbf28a9c7df8c24",
            "48ad450740cc40b5a6b1d8dbd9ce2643"
          ]
        },
        "id": "Svl001aM09KQ",
        "outputId": "f97b01b3-594d-4ef6-8875-f0544210b08b"
      },
      "outputs": [
        {
          "name": "stderr",
          "output_type": "stream",
          "text": [
            "INFO:stanza:Checking for updates to resources.json in case models have been updated.  Note: this behavior can be turned off with download_method=None or download_method=DownloadMethod.REUSE_RESOURCES\n"
          ]
        },
        {
          "data": {
            "application/vnd.jupyter.widget-view+json": {
              "model_id": "ae684f54a34a49a48a36383495c2112d",
              "version_major": 2,
              "version_minor": 0
            },
            "text/plain": [
              "Downloading https://raw.githubusercontent.com/stanfordnlp/stanza-resources/main/resources_1.5.0.json:   0%|   …"
            ]
          },
          "metadata": {},
          "output_type": "display_data"
        },
        {
          "name": "stderr",
          "output_type": "stream",
          "text": [
            "INFO:stanza:Loading these models for language: es (Spanish):\n",
            "=======================\n",
            "| Processor | Package |\n",
            "-----------------------\n",
            "| tokenize  | ancora  |\n",
            "| mwt       | ancora  |\n",
            "| pos       | ancora  |\n",
            "| lemma     | ancora  |\n",
            "| depparse  | ancora  |\n",
            "| ner       | ancora  |\n",
            "=======================\n",
            "\n",
            "WARNING:stanza:GPU requested, but is not available!\n",
            "INFO:stanza:Using device: cpu\n",
            "INFO:stanza:Loading: tokenize\n",
            "INFO:stanza:Loading: mwt\n",
            "INFO:stanza:Loading: pos\n",
            "INFO:stanza:Loading: lemma\n",
            "INFO:stanza:Loading: depparse\n",
            "INFO:stanza:Loading: ner\n",
            "INFO:stanza:Done loading processors!\n"
          ]
        }
      ],
      "source": [
        "nlp = spacy_stanza.load_pipeline('es', package='ancora') #spanish"
      ]
    },
    {
      "cell_type": "code",
      "execution_count": 93,
      "metadata": {
        "colab": {
          "base_uri": "https://localhost:8080/"
        },
        "id": "_XtRHYwPUeo-",
        "outputId": "e5fa648a-e8d2-47c6-ca4e-bb90ac10884a"
      },
      "outputs": [
        {
          "name": "stderr",
          "output_type": "stream",
          "text": [
            "[nltk_data] Downloading package punkt to /root/nltk_data...\n",
            "[nltk_data]   Package punkt is already up-to-date!\n",
            "[nltk_data] Downloading package averaged_perceptron_tagger to\n",
            "[nltk_data]     /root/nltk_data...\n",
            "[nltk_data]   Package averaged_perceptron_tagger is already up-to-\n",
            "[nltk_data]       date!\n"
          ]
        }
      ],
      "source": [
        "import json\n",
        "import nltk\n",
        "nltk.download('punkt')\n",
        "nltk.download('averaged_perceptron_tagger')\n",
        "import re"
      ]
    },
    {
      "cell_type": "code",
      "execution_count": 94,
      "metadata": {
        "id": "hDH-3NyZQNTP"
      },
      "outputs": [],
      "source": [
        "with open(\"negacio_uab_revised_version.json\",\"r\") as f:\n",
        "    data = json.load(f)"
      ]
    },
    {
      "cell_type": "code",
      "execution_count": 95,
      "metadata": {
        "id": "LqFgjiEwRn6_"
      },
      "outputs": [],
      "source": [
        "texts = []\n",
        "start = []\n",
        "end = []\n",
        "labels = []\n",
        "\n",
        "for i in range(len(data)):\n",
        "    if i != 183:\n",
        "        texts.append(data[i]['data']['text'])\n",
        "        start.append(data[i]['predictions'][0]['result'][0]['value']['start'])\n",
        "        end.append(data[i]['predictions'][0]['result'][0]['value']['end'])\n",
        "        labels.append(data[i]['predictions'][0]['result'][0]['value']['labels'][0])"
      ]
    },
    {
      "cell_type": "code",
      "execution_count": 96,
      "metadata": {
        "id": "y4cc76WnXluD"
      },
      "outputs": [],
      "source": [
        "# Define the rules\n",
        "rules = []\n",
        "negation_words = []\n",
        "uncertainty_words = []\n",
        "\n",
        "for text, start_ind, end_ind, label in zip(texts, start, end, labels):\n",
        "  if label == 'NEG':\n",
        "    if text[start_ind:end_ind-1] not in negation_words:\n",
        "      negation_words.append(text[start_ind:end_ind-1])\n",
        "  elif label == 'UNC':\n",
        "    if text[start_ind:end_ind-1] not in uncertainty_words:\n",
        "      uncertainty_words.append(text[start_ind:end_ind-1])\n"
      ]
    },
    {
      "cell_type": "code",
      "execution_count": 97,
      "metadata": {
        "id": "6ralqdC6eEPk"
      },
      "outputs": [],
      "source": [
        "for neg_word in negation_words:\n",
        "  rules.append({'keyword': neg_word, 'category': 'NEG'})\n",
        "\n",
        "for unc_word in uncertainty_words:\n",
        "  rules.append({'keyword': unc_word, 'category': 'UNC'})"
      ]
    },
    {
      "cell_type": "code",
      "execution_count": 98,
      "metadata": {
        "colab": {
          "base_uri": "https://localhost:8080/"
        },
        "id": "xIbfAY-We291",
        "outputId": "72fbdc29-8f96-4ad6-ab63-29b32201d719"
      },
      "outputs": [
        {
          "data": {
            "text/plain": [
              "[{'keyword': 'sin', 'category': 'NEG'},\n",
              " {'keyword': 'no', 'category': 'NEG'},\n",
              " {'keyword': 'ex-fumador', 'category': 'NEG'},\n",
              " {'keyword': 'negativo', 'category': 'NEG'},\n",
              " {'keyword': 'niega', 'category': 'NEG'},\n",
              " {'keyword': 'neg', 'category': 'NEG'},\n",
              " {'keyword': 'nega', 'category': 'NEG'},\n",
              " {'keyword': 'negativa', 'category': 'NEG'},\n",
              " {'keyword': 'inestabilidad', 'category': 'NEG'},\n",
              " {'keyword': 'niegan', 'category': 'NEG'},\n",
              " {'keyword': 'desorientacion', 'category': 'NEG'},\n",
              " {'keyword': 'sense', 'category': 'NEG'},\n",
              " {'keyword': 'ex fumador', 'category': 'NEG'},\n",
              " {'keyword': 'probable', 'category': 'UNC'},\n",
              " {'keyword': 'sugestivo de', 'category': 'UNC'},\n",
              " {'keyword': 'sospecha de', 'category': 'UNC'},\n",
              " {'keyword': 'dudoso', 'category': 'UNC'},\n",
              " {'keyword': 'sospecha', 'category': 'UNC'},\n",
              " {'keyword': 'compatible con', 'category': 'UNC'},\n",
              " {'keyword': 'posible', 'category': 'UNC'},\n",
              " {'keyword': 'probablemente', 'category': 'UNC'},\n",
              " {'keyword': 'sospechosa de', 'category': 'UNC'}]"
            ]
          },
          "execution_count": 98,
          "metadata": {},
          "output_type": "execute_result"
        }
      ],
      "source": [
        "rules"
      ]
    },
    {
      "cell_type": "code",
      "execution_count": 174,
      "metadata": {
        "id": "GX1GK983JdMt"
      },
      "outputs": [],
      "source": [
        "def clean(tokens):\n",
        "  # Start text at word 'informe'\n",
        "  try:\n",
        "    start_index = tokens.index('informe')\n",
        "    tokens = tokens[start_index:]\n",
        "  except ValueError:\n",
        "    print('Word \"informe\" not found')\n",
        "\n",
        "  # Remove punctuations and give PoS tags\n",
        "  tokens = [token.lower() for token in tokens if token not in [',', '.', '(', ')', '-', '*', ':', '%', '/']]\n",
        "\n",
        "  return tokens"
      ]
    },
    {
      "cell_type": "code",
      "execution_count": 100,
      "metadata": {
        "id": "uYzTPv6rXiR_"
      },
      "outputs": [],
      "source": [
        "# Looks for negation and uncertainty words, if not, categorize as unknown word\n",
        "def categorize(text):\n",
        "    for rule in rules:\n",
        "        if text.lower() == rule['keyword']:\n",
        "            return rule['category']\n",
        "    return 'unknown'"
      ]
    },
    {
      "cell_type": "code",
      "execution_count": 169,
      "metadata": {
        "id": "RJiHTZ6-KbCB"
      },
      "outputs": [],
      "source": [
        "# Stores in a list a negation or uncertainty word, and its scope (formed of the following two words)\n",
        "def obtain_scopes(tokens, lis):\n",
        "  scopes = {}\n",
        "\n",
        "  for i in range(len(tokens)):\n",
        "    if categorize(tokens[i]) != 'unknown':\n",
        "      scope = []\n",
        "      scope.append(tokens[i+1])\n",
        "      for j in range(i+2, i+5):\n",
        "        if tokens[j] in lis:\n",
        "          scope.append(tokens[j])\n",
        "        else:\n",
        "          break\n",
        "      print(f\"{tokens[i]}: {' '.join(scope)}\")\n",
        "      scope = ' '.join(scope)\n",
        "      scopes[tokens[i]] = scope\n",
        "\n",
        "      return scopes"
      ]
    },
    {
      "cell_type": "code",
      "execution_count": 183,
      "metadata": {
        "id": "hoGdsNPNAxfF"
      },
      "outputs": [],
      "source": [
        "# Obtain a negation or uncertainty word with its scope, by looking for a pattern of NOUN + ADJ,\n",
        "# and returns a dictionary with the whole sentence from the word until the pattern.\n",
        "\n",
        "def obtain_scopes2(pos_tags, rules):\n",
        "  dict_scopes = {}\n",
        "  bol = False\n",
        "\n",
        "  for ind, (word, tag) in enumerate(pos_tags.items()):\n",
        "    scope = []\n",
        "    word = word.lower()\n",
        "    if word in rules:\n",
        "      for i in range(ind, len(pos_tags.keys())):\n",
        "        for j in range(ind+1, len(pos_tags.keys())):\n",
        "          if (list(pos_tags.values())[j] == 'NOUN') and (list(pos_tags.values())[j+1] == 'ADJ'):\n",
        "            scope.append(' '.join(list(pos_tags.keys())[i+1:j+2]))\n",
        "            dict_scopes[word] = scope\n",
        "            bol = True\n",
        "            break\n",
        "        if bol == True:\n",
        "          break\n",
        "\n",
        "  return dict_scopes"
      ]
    },
    {
      "cell_type": "code",
      "execution_count": 103,
      "metadata": {
        "id": "h4TlPpr_CAjA"
      },
      "outputs": [],
      "source": [
        "def obtain_tags(text):\n",
        "  tags = {}\n",
        "\n",
        "  doc = nlp(text)\n",
        "  for token in doc:\n",
        "    word, pos_tag = token.text, token.pos_\n",
        "    tags[word] = pos_tag\n",
        "  \n",
        "  return tags"
      ]
    },
    {
      "cell_type": "code",
      "execution_count": 104,
      "metadata": {
        "id": "nP6yY8wAWxWy"
      },
      "outputs": [],
      "source": [
        "train_example = \"\"\"El paciente tiene dolencias pero no hay presencia de alergias medicamentosas en él.\n",
        "Sin incidencias postquirúrgicas que hayan dañado el tejido cerebral. No muestra síntomas de cardiopatía congénita.\n",
        "Tenemos sospecha de una enfermedad patológica con posible afectación en la válvula tricúspide. \n",
        "El paciente está sin previos registros médicos.\"\"\""
      ]
    },
    {
      "cell_type": "code",
      "execution_count": 113,
      "metadata": {
        "id": "id9Rk0b3hRRW"
      },
      "outputs": [],
      "source": [
        "test_example = ['no hay presencia de alergias medicamentosas', 'Sin incidencias postquirúrgicas', 'No muestra síntomas de cardiopatía congénita', 'sospecha de una enfermedad patológica', 'posible afectación en la válvula tricuspide', 'sin previos registros médicos']"
      ]
    },
    {
      "cell_type": "code",
      "execution_count": 160,
      "metadata": {
        "colab": {
          "base_uri": "https://localhost:8080/"
        },
        "id": "UUw3m3hwEjHO",
        "outputId": "eee3c7b7-9ba2-45b4-bf46-5d83fb20c644"
      },
      "outputs": [
        {
          "name": "stdout",
          "output_type": "stream",
          "text": [
            "no: hay presencia de alergias\n"
          ]
        }
      ],
      "source": [
        "# With nltk and train set\n",
        "scopes_nltk = []\n",
        "possible_words = []\n",
        "\n",
        "# Tokenize and give PoS tags\n",
        "tokenized_words = nltk.word_tokenize(train_example)\n",
        "tags = nltk.pos_tag(tokenized_words)\n",
        "\n",
        "# Make a list of possible nouns (words that are labeled as nouns or foreign words discarding\n",
        "# possible conjunctions or prepositions)\n",
        "for word, pos_tag in tags:\n",
        "  if ((pos_tag == 'NN') or (pos_tag == 'NNS') or (pos_tag == 'FW') or (pos_tag == 'VB') or (pos_tag == 'JJ')) and (re.match(r'\\b\\w+\\b', word)):\n",
        "    if word not in possible_words:\n",
        "      possible_words.append(word)\n",
        "\n",
        "# Localize the negation and uncertainty words and print their scopes (the following two words)\n",
        "scopes_nltk = obtain_scopes(clean(tokenized_words), possible_words)"
      ]
    },
    {
      "cell_type": "code",
      "execution_count": 156,
      "metadata": {
        "colab": {
          "base_uri": "https://localhost:8080/"
        },
        "id": "OAiFyHUMTh-B",
        "outputId": "48fe72d8-32e6-4146-e951-bca214e8239c"
      },
      "outputs": [
        {
          "data": {
            "text/plain": [
              "{'no': 'hay presencia de alergias'}"
            ]
          },
          "execution_count": 156,
          "metadata": {},
          "output_type": "execute_result"
        }
      ],
      "source": [
        "scopes_nltk"
      ]
    },
    {
      "cell_type": "code",
      "execution_count": 116,
      "metadata": {
        "colab": {
          "base_uri": "https://localhost:8080/"
        },
        "id": "B--63As0C68u",
        "outputId": "afc0b7f2-6468-4275-a848-b7803e928c4d"
      },
      "outputs": [
        {
          "data": {
            "text/plain": [
              "{'no': ['muestra síntomas cardiopatía congénita'],\n",
              " 'sin': ['previos registros médicos'],\n",
              " 'sospecha': ['una enfermedad patológica'],\n",
              " 'posible': ['afectación la válvula tricúspide']}"
            ]
          },
          "execution_count": 116,
          "metadata": {},
          "output_type": "execute_result"
        }
      ],
      "source": [
        "# With spacy and train set\n",
        "neg_unc_words = [rule['keyword'] for rule in rules]\n",
        "pos_tags = obtain_tags(train_example)\n",
        "scopes_spacy = obtain_scopes2(pos_tags, neg_unc_words)\n",
        "scopes_spacy"
      ]
    },
    {
      "cell_type": "code",
      "execution_count": 139,
      "metadata": {
        "colab": {
          "base_uri": "https://localhost:8080/"
        },
        "id": "gT-egeU2ReMN",
        "outputId": "fea2246a-24b5-48d4-fa7b-11664afdef15"
      },
      "outputs": [
        {
          "name": "stdout",
          "output_type": "stream",
          "text": [
            "Accuracy with nltk library: 0.0%\n",
            "Accuracy with spacy library: 50.0%\n"
          ]
        }
      ],
      "source": [
        "# Display the accuracy\n",
        "correct = 0\n",
        "accuracy = 0\n",
        "\n",
        "for key, value in scopes_nltk.items():\n",
        "  for sentence in test_example:\n",
        "    tokens_test = nltk.word_tokenize(sentence)\n",
        "    tokens_train = nltk.word_tokenize(value[0])\n",
        "    if tokens_test[-1] == tokens_train[-1]:\n",
        "      correct += 1\n",
        "\n",
        "accuracy = (correct / len(test_example))*100\n",
        "print(f'Accuracy with nltk library: {accuracy}%')\n",
        "\n",
        "\n",
        "accuracy = 0\n",
        "correct = 0\n",
        "for key, value in scopes_spacy.items():\n",
        "  for sentence in test_example:\n",
        "    tokens_test = nltk.word_tokenize(sentence)\n",
        "    tokens_train = nltk.word_tokenize(value[0])\n",
        "    if tokens_test[-1] == tokens_train[-1]:\n",
        "      correct += 1\n",
        "\n",
        "accuracy = (correct / len(test_example)) * 100\n",
        "print(f'Accuracy with spacy library: {accuracy}%')"
      ]
    },
    {
      "cell_type": "code",
      "execution_count": 175,
      "metadata": {
        "colab": {
          "base_uri": "https://localhost:8080/"
        },
        "id": "d1Uh3CE8Vm5E",
        "outputId": "53a115c5-ad9a-46ec-f1ca-b9fa03c0789b"
      },
      "outputs": [
        {
          "name": "stdout",
          "output_type": "stream",
          "text": [
            "sin: hijos tiene\n",
            "no: amc\n",
            "no: preciso intervencion quirurgica\n",
            "no: alergias medicamentosas conocidas\n",
            "sin: habitos toxicos\n",
            "no: alergias medicamentosas conocidas antecedentes\n",
            "no: amc\n",
            "probable: etiologia inmune\n",
            "sense: al·lergies\n",
            "no: alergias medicamentosas conocidas\n",
            "no: alergias medicamentosas conocidas\n",
            "no: habitos toxicos antecedentes\n",
            "ex-fumador: de\n",
            "no: alergias medicamentosas conocidas intervenciones\n",
            "negativo: descartada\n",
            "no: tolero dosis\n",
            "no: alergias medicamentosas conocidas\n",
            "niega: alergias medicamentosas conocidas\n",
            "no: habitos toxicos\n",
            "no: alergias medicamentosas conocidas\n",
            "no: alergias medicamentosas conocidas\n",
            "sin: alergias medicamentosas conocidas calendario\n",
            "no: se\n",
            "neg: aro\n",
            "no: alergias medicamentosas conocidas fumador\n",
            "no: confirmada\n",
            "sense: complicacions altres tipus d'hiperlipidemia\n",
            "no: medicacion habitual proces\n",
            "no: alergias medicamentosas conocidas claudicacion\n",
            "no: amc neutropenia\n",
            "sin: alergias medicamentosas conocidas\n",
            "sin: alergias medicamentosas conocidas\n",
            "sin: alergias medicamentosas conocidas\n",
            "sin: alergias medicamentosas conocidas\n",
            "no: deterioro cognitivo proces\n",
            "sin: alergias medicamentosas\n",
            "sin: alergias medicamentosas conocidas habitos\n",
            "no: amc antecedentes patologicos transaminases\n",
            "no: alergias medicamentosas conocidas\n",
            "no: alergias medicamentosas conocidas\n",
            "no: alergias medicamentosas conocidas intervenciones\n",
            "sin: alergias medicamentosas conocidas\n",
            "no: am\n",
            "probable: componente\n",
            "no: ha presentado clinica neurologica\n",
            "no: alergias medicamentosas conocidas\n",
            "no: alergias medicamentosas conocidas\n",
            "no: antecedentes\n",
            "dudoso: antecedents\n",
            "niega: alergias\n",
            "no: alergias medicamentosas conocidas intervenciones\n",
            "no: filiada\n",
            "no: alergias medicamentosas conocidas\n",
            "no: iq\n",
            "niega: alergias conocidas\n",
            "no: barrera idiomatica\n",
            "no: alergias medicamentosas conocidas\n",
            "sense: al·lergies conegudes evolucio clinica\n",
            "no: refiere alergias\n",
            "no: alergias medicamentosas fumadora habitual\n",
            "no: alergias medicamentosas conocidas antecedentes\n",
            "no: alergias medicamentosas conocidas\n",
            "no: alergias medicamentosas conocidas\n",
            "no: aportan informes alergia\n",
            "sospecha: de bacteriemia\n",
            "no: alergias medicamentosas conocidas\n",
            "no: alergias medicamentosas conocidas\n",
            "no: alergias medicamentosas\n",
            "no: alergias emdicamentosas conocidas intervenciones\n",
            "no: alergias medicamentosas\n",
            "no: amq\n",
            "sin: tratamiento farmacologico situacion\n",
            "sense: complicacions hipertensio primaria\n",
            "no: presenta complicaciones\n",
            "sin: amc antecedentes patologicos depresion\n",
            "nega: amc\n",
            "sin: incidencias perioperatorias dres\n",
            "no: amc exfumador hace unos\n",
            "no: alergias medicamentosas conocidas\n",
            "no: alergias medicamentosas conocidas\n",
            "sense: al·lergies conegudes proces\n",
            "niega: habitos toxicos\n",
            "no: alergias medicamentosas conocidas\n",
            "no: alergias medicamentosas conocidas calendario\n",
            "no: antecedentes\n",
            "no: refiere\n",
            "no: medicacion cronica\n",
            "no: alergias medicamentosas conocidas antecedentes\n",
            "no: alergias medicamentosas conocidas\n",
            "no: alergias medicamentosas fumadora\n",
            "no: negtiviza proteinuria\n",
            "no: contraindican\n",
            "sospecha: de infeccion\n",
            "no: alergias medicamentosas conocidas intervenciones\n",
            "no: alergias medicamentosas conocidas\n",
            "sin: incidencias\n",
            "no: se administra\n",
            "no: alergias medicamentosas conocidas\n",
            "no: alergias medicamentosas conocidas calendario\n",
            "no: antecedentes\n",
            "sense: al·lergies conegudes\n",
            "no: alergias medicamentosas conocidas antecedentes\n",
            "no: alergias medicamentosas conocidas antecedente\n",
            "sin: alergias medicamentosas conocidas fumador\n",
            "no: al·lergies\n",
            "sin: alergias medicamentosas conocidas fumador\n",
            "sin: alergias medicamentosas conocidas\n",
            "no: alergias medicamentosas conocidas calendario\n",
            "no: contraindican\n",
            "sin: alergias medicamentosas conocidas antecedentes\n",
            "no: h. toxicos niega antecedentes\n",
            "no: amc\n",
            "niega: alergias niega habitos toxicos\n",
            "no: sensacion hidrorrea\n",
            "dudoso: tromboembolismo pulmonar segun cuenta\n",
            "no: alergias medicamentosas conocidas\n",
            "sense: al·lergies conegudes antecedents\n",
            "no: alergias medicamentosas conocidas\n",
            "no: contraindican\n",
            "no: alergias medicamentosas conocidas antecedentes\n",
            "no: amc niega antecedentes\n",
            "no: alergias conocidas calendario\n",
            "niega: alergias medicamentosas conocidas fumador\n",
            "no: amc proces\n",
            "sospecha: sd schinzel-giedion ecocardio ecotf\n",
            "no: tratamiento habitual proces\n",
            "sin: alergias medicamentosas conocidas\n",
            "sense: al·lergies conegudes antecedents\n",
            "negativo: 2014\n",
            "no: especificada sense\n",
            "sin: ale rgias medicamentosas conocidas\n",
            "sin: alergias medicamentosas conocidas fumadora\n",
            "niega: alergias\n",
            "sin: alergias medicamentosas conocidas\n",
            "no: es encesario ningun procedimiento\n",
            "sin: alergias medicamentosas conocidas calendario\n",
            "no: grupo\n",
            "no: alergias medicamentosas conocidas intervenciones\n",
            "sin: alergias conocidas calendario\n",
            "no: amc\n",
            "no: alergias medicamentosas conocidas diabetes\n",
            "no: alergias medicamentosas\n",
            "niega: perdida\n",
            "no: refiere alergias\n",
            "no: ap\n",
            "niega: alergias medicamentosas ex-fumador desde\n",
            "no: se dispone\n",
            "sense: antecedents medics d'interes control\n",
            "no: amc\n",
            "sin: amc\n",
            "sin: alergias medicamentosas conocidas niega\n",
            "sin: alergias medicamentosas conocidas calendario\n",
            "no: alergias medicamentosas conocidas\n",
            "no: habitos toxicos antecedentes patologicos\n",
            "no: alergias medicamentosas conocidas intervenciones\n",
            "no: alergias medicamentosas conocidas\n",
            "sin: alergias medicamentosas conocidas\n",
            "sin: embargo\n",
            "no: alergias medicamentosas conocidas dislipemia\n",
            "sin: alergias medicamentosas conocidas\n",
            "sin: amc\n",
            "no: alergias medicamentosas conocidas\n",
            "sin: alergias medicamentosas conocidas fumadora\n",
            "no: refiere alergias medicamentosas conocidas\n",
            "sospecha: de enfermedad\n",
            "no: habitos toxicos medicacion habitual\n",
            "no: alergias medicamentosas conocidas asmatica\n",
            "sin: cambios\n",
            "no: alergias medicamentosas conocidas habitos\n",
            "no: amc hipertension arterial desde\n",
            "no: alergias medicamentosas\n",
            "negativo: a s.agalactiae ecografia\n",
            "sin: amc\n",
            "sin: sintomatologia desde entonces\n",
            "no: sabe catalan castellano ingles\n",
            "sin: contraindicaciones analitica\n",
            "sospecha: de hidrocefalia cronica\n",
            "no: antecedentes personales\n",
            "sin: alergias medicamentosas conocidas\n",
            "no: refiere alergias\n",
            "no: amc exfumadora desde hace\n",
            "sin: incidencias intraoperatorias\n",
            "sense: al·lergies conegudes antecedents\n",
            "no: alergias conocidas sindrome depresivo\n",
            "sin: amc antecedents\n",
            "nega: amc\n",
            "no: deposiciones\n",
            "sense: al·lergies conegudes antecedents\n",
            "no: amc\n",
            "no: cementada izquierda mediante protesis\n",
            "sin: amc\n",
            "no: alergias medicamentosas conocidas\n",
            "negativa: posteriormente\n",
            "sin: amc\n",
            "sin: amc\n",
            "negativo: hemograma\n",
            "no: habitos toxicos\n",
            "ex-fumador: de\n",
            "sin: habitos toxicos\n",
            "niega: alergias medicamentosas exfumador desde\n",
            "niega: consumo enolico antecedentes patologicos\n",
            "no: amc\n",
            "no: alergias medicamentosas conocidas antecedentes\n",
            "sin: alergias medicamentosas conocidas\n",
            "no: se producen incidencias durante\n",
            "negativo: iq\n",
            "no: hematoma\n",
            "no: alergias medicamentosas\n",
            "no: alergias medicamentosas conocidas\n",
            "sin: alergias medicamentosas conocidas\n",
            "no: amc\n",
            "sin: alergias medicamentosas conocidas\n",
            "sin: ayuda idependiente abvd exploracio\n",
            "no: amc\n",
            "no: amc\n",
            "no: amc\n",
            "no: amc\n",
            "no: amc\n",
            "no: amc\n",
            "no: amc\n",
            "no: amc\n",
            "no: amc\n",
            "sin: incidencias rcfi fractura avulsion\n",
            "no: ramc antecedentes patologicos absceso\n",
            "no: alergias medicamentosas conocidas\n",
            "sin: incidencias\n",
            "sin: ser alergica\n",
            "no: alergias medicamentosas conocidas fumador\n",
            "no: hemaotma\n",
            "no: medicacion habitual proces\n",
            "sense: perdua\n",
            "sin: nuevos\n",
            "no: dispongo\n",
            "no: habitos toxicos antecedentes personales\n",
            "niega: alergias medicamentosas conocidas antecedentes\n",
            "no: alergias\n",
            "no: lo requiere\n",
            "inestabilidad: y alteracion\n",
            "no: pueden descartar\n",
            "sospecha: de ictus antecedents\n",
            "ex-fumador: antecedentes patologicos hipertension arterial\n",
            "no: alergias medicamentosas conocidas\n",
            "no: estudiado\n",
            "no: consanguineos\n",
            "sin: alergias medicamentosas conocidas niega\n",
            "sospecha: de poliradiculopatia antecedents antecedentes\n",
            "no: disponemos\n",
            "sin: alergias medicamentosas conocidas fumadora\n",
            "no: alergias medicamentosas conocidas\n",
            "sin: alergias conocidas calendario\n",
            "niegan: familiares antecedentes patologicos hipertension\n",
            "no: amc\n",
            "nega: amc\n",
            "sin: alergias medicamentosas conocidas exfumadora\n",
            "probable: masa\n",
            "no: amc medicacio habitual sedotime\n",
            "sin: antecedentes\n",
            "sin: problemas\n",
            "no: amc\n",
            "sense: al·lergies conegudes antecedents\n",
            "sin: alergias medicamentosas conocidas habitos\n",
            "sin: amc exfumador\n",
            "niega: alergia\n",
            "niega: alergia\n",
            "sin: incidencias perioperatorias\n",
            "no: pruebas cutaneas exfumador desde\n",
            "sin: habitos toxicos\n",
            "niega: complicaciones\n",
            "no: tabaco\n",
            "no: demostrada\n",
            "no: alergias medicamentosas conocidas\n",
            "desorientacion: antecedents\n",
            "no: tm intervenida quirurgicamente\n",
            "no: porta\n",
            "sense: alergias\n",
            "no: tabaquismo antecedentes medicos hipertension\n",
            "sin: alergias medicamentosas conocidas\n",
            "sospecha: de artritis septica\n",
            "sospecha: de ictus antecedents\n",
            "no: exposicion\n",
            "posible: alergia\n",
            "niega: alergias niega habitos toxicos\n",
            "niega: alergias niega habitos toxicos\n",
            "sin: alergias medicamentosas conocidas fumador\n",
            "sin: lesiones focales porta permeable\n",
            "sin: alergias medicamentosas conocidas diagnosticado\n",
            "sospecha: de corioamnionitis materna\n",
            "no: alergias\n",
            "no: alergias medicamentosas historia oncologica\n",
            "niega: otros toxicos\n",
            "no: orina espontanea\n",
            "probablemente: secundario\n",
            "no: clasificable tipo ipaf inmunosupresion\n",
            "sin: cetosis consulta reciente\n",
            "sin: alergias conocidas niega habitos\n",
            "no: alergias medicamentosas conocidas\n",
            "no: refiere alergias medicamentosas conocidas\n",
            "ex-fumador: de\n",
            "sin: alergias medicamentosas calendario\n",
            "sin: alergias medicamentosas conocidas\n",
            "no: alergias medicamentosas conocidas habitos\n",
            "no: alergias medicamentosas conocidas\n",
            "niega: otras alergias\n",
            "nega: habitos toxicos\n",
            "no: alergias medicamentosas historia oncologica\n",
            "sin: alergias\n",
            "no: refiere habitos toxicos antecedentes\n",
            "sin: incidencias evolucio clinica paciente\n",
            "sin: alergias medicamentosas conocidas fumador\n",
            "sin: alergias medicamentosas conocidas exfumador\n",
            "no: amc fumador\n",
            "sin: tratamiento prueba\n",
            "no: alergias\n",
            "sin: alergias medicamentosas conocidas diabetes\n",
            "no: amc ex-fumador desde ultimo\n",
            "no: alergia medicamentosa conocidas\n",
            "sin: incidencias intraoperatorias postoperatorio inmediato\n",
            "sin: incidencias postquirurgicas buena evolucion\n"
          ]
        }
      ],
      "source": [
        "# With nltk and medical diagnosis\n",
        "scopes_nltk = []\n",
        "possible_words = []\n",
        "\n",
        "# for i, text in enumerate(texts):\n",
        "#   if i > 5:\n",
        "#     break\n",
        "#   else:\n",
        "for text in texts:\n",
        "    # Tokenize and give PoS tags\n",
        "    tokenized_words = nltk.word_tokenize(text)\n",
        "    tags = nltk.pos_tag(clean(tokenized_words))\n",
        "\n",
        "    # Make a list of possible nouns (words that are labeled as nouns or foreign words discarding\n",
        "    # possible conjunctions or prepositions)\n",
        "    for word, pos_tag in tags:\n",
        "      if ((pos_tag == 'NN') or (pos_tag == 'NNS') or (pos_tag == 'FW') or (pos_tag == 'VB')) and (len(word) > 3) and (re.match(r'\\b\\w+\\b', word)):\n",
        "        if word not in possible_words:\n",
        "          possible_words.append(word)\n",
        "\n",
        "  \n",
        "    # Localize the negation and uncertainty words and print their scopes (the following two words)\n",
        "    dict_scopes_nltk = obtain_scopes(clean(tokenized_words), possible_words)"
      ]
    },
    {
      "cell_type": "code",
      "execution_count": 176,
      "metadata": {
        "colab": {
          "base_uri": "https://localhost:8080/"
        },
        "id": "-e19G5JzU0wM",
        "outputId": "6f3c09a8-efa1-4728-ff31-680b74473a80"
      },
      "outputs": [
        {
          "data": {
            "text/plain": [
              "{'sin': 'incidencias postquirurgicas buena evolucion'}"
            ]
          },
          "execution_count": 176,
          "metadata": {},
          "output_type": "execute_result"
        }
      ],
      "source": [
        "dict_scopes_nltk"
      ]
    },
    {
      "cell_type": "code",
      "execution_count": 184,
      "metadata": {
        "colab": {
          "base_uri": "https://localhost:8080/"
        },
        "id": "Z3q-Q6TCESOI",
        "outputId": "132d28ec-76a4-46d4-cd6a-20342dc52094"
      },
      "outputs": [
        {
          "name": "stderr",
          "output_type": "stream",
          "text": [
            "/usr/local/lib/python3.10/dist-packages/spacy/language.py:999: UserWarning: Due to multiword token expansion or an alignment issue, the original text has been replaced by space-separated expanded tokens.\n",
            "  doc = self._ensure_doc(text)\n",
            "/usr/local/lib/python3.10/dist-packages/spacy/language.py:999: UserWarning: Can't set named entities because of multi-word token expansion or because the character offsets don't map to valid tokens produced by the Stanza tokenizer:\n",
            "Words: ['nº', 'historia', 'clinica', ':', '**', '***', '***', 'nºepisodi', ':', '********', 'sexe', ':', 'dona', 'data', 'de', 'naixement', ':', '06.06.1938', 'edat', ':', '79', 'anys', 'procedencia', 'domicil/res', '.soc', 'servei', 'psiquiatria', 'data', \"d'ingres\", '10.05.2018', 'data', \"d'alta\", '10.05.2018', '16:46:41', 'ates', 'per', '****************', ',', '************', ';', '*************', ',', 'assumpta', 'informe', \"d'alta\", \"d'hospitalitzacio\", 'motiu', \"d'ingres\", 'paciente', 'de', '79', 'años', 'que', 'acude', 'derivada', 'a', 'urgencias', 'de', 'psiquiatria', 'tras', 'sim', '.', 'antecedents', '-', 'sin', 'alergias', 'mediamentosas', 'conocidas', '-', 'hipertension', 'arterial', 'en', 'tratamiento', 'farmaoclogico', 'con', 'tres', 'farmacos', '.', '-', 'dislipemia', 'en', 'tratamiento', 'farmacologico', '.', '-', 'sindrome', 'ansioso', 'depresivo', 'de', 'larga', 'evolucion', 'actualmente', 'en', 'tratamiento', 'con', 'venlafaxina', 'y', 'sertralina', '.', 'refiere', 'primera', 'vinculacion', 'con', 'red', 'de', 'salud', 'mental', 'en', 'el', '2013', 'a', 'raiz', 'de', 'la', 'muerte', 'desu', 'marido', ',', 'con', 'sentimientos', 'de', 'tristeza', ',', 'soledad', ',', 'rumiaciones', 'respecto', 'a', 'su', 'marido', 'y', 'su', 'muerte', 'e', 'importanteclinica', 'ansiosa', '.', 'se', 'vincula', 'a', 'csma', 'sant', 'andreu', 'donde', 'inician', 'tratamiento', 'farmacologico', 'con', 'paroxetina', 'sinseguimiento', 'posterior', '.', 'consta', 'informe', 'de', 'el', 'alta', 'de', 'csma', 'de', 'zona', 'de', 'febrero', '2016', 'dando', 'se', 'de', 'alta', 'debido', 'a', 'mejoria', 'completa', 'de', 'el', 't.', 'depresivo', 'mayor', 'con', 'tratamiento', 'a', 'el', 'alta', 'de', 'sertralina', '100', 'mg', '1-0-0', ',', 'y', 'se', 'deriva', 'a', 'seguimiento', 'por', 'mcap', '.', '-acudio', 'en', 'abril', 'de', '2018', 'por', 'sobreingesta', 'medicamentosa', 'on', 'venlafaxina', ',', 'lorazepam', ',', 'valsrtan/hidroclorotiazida', 'respondiendo', 'a', 'flumazenilo', '.', 'ssf', ':', 'viuda', ',', 'sin', 'hijos', '.', 'tiene', 'un', 'hermano', 'con', 'el', 'que', 'tiene', 'contacto', 'en', 'barcelona', '.', 'vive', 'en', 'apartamentos', 'tutelados', 'mutuam', 'collserola', '.', 'deterioro', 'cognitivo', 'leve-moderado', '.', 'medicacio', 'habitual', 'venlafaxina', '75', 'mg', 'cada', '24', 'horas', ',', 'amlodipino', '5', 'mg', 'cada', '24', 'horas', ',', 'atorvastatina', '40', 'mg', 'cada', '24', 'horas', ',', 'deprax', '100', 'mg', 'cada', '24', 'horas', ',', 'omeprazol', '20', 'mg', 'cada', '24', 'horas', ',', 'orfidal', '1', 'mg', 'cada', '24', 'horas', ',', 'sertralina', '100', 'mg', 'cada', '24', 'horas', ',', 'valsartan/hidroclorotiazida160/25', 'mg', 'cada', '24', 'horas', '.', 'proces', 'actual', 'paciente', 'que', 'acude', 'a', 'urgencias', 'de', 'psiquiatria', 'tars', 'haber', 'sido', 'estabilizada', 'en', 'urgencias', 'generales', ',', 'tras', 'sim', 'con', 'paracetamol', 'y', 'orfidal', '.', 'la', 'paciente', 'refiere', 'dicha', 'sim', 'en', 'contexto', 'de', 'algias', ',', 'no', 'refiriendo', 'una', 'ideacion', 'suicida', 'clara', '.', 'tras', 'ser', 'descubierta', 'en', 'centro', 'residencial', 'solicitan', 'derivacion', 'a', 'huvh', 'para', 'valoracion', '.', 'exploracio', 'fisica', 'epp', 'a', 'su', 'llegada', 'a', 'urgencias', 'de', 'psiquiatria', ':', 'consciente', 'y', 'vigil', '.', 'orientada', 'en', 'tres', 'esferas', '.', 'constacto', 'sintonico', '.', 'aspecto', 'conservado', '.', 'fallos', 'mnesicos', 'aunque', 'globalmente', 'orientada', 'en', 'tres', 'esferas', '.', 'discurso', 'epsontaneo', 'y', 'fluido', ',', 'normoprosodico', ',', 'sin', 'alteraciones', 'en', 'el', 'contenido', 'de', 'el', 'pensamiento', '.', 'humor', 'resonante', 'y', 'reactivo', '.', 'ligera', 'hipotimia', 'referida', ',', 'no', 'evidenciando', 'alteraciones', 'endogenomorfas', 'en', 'el', 'esatdo', 'de', 'animo', '.', 'no', 'ideacion', 'suicida', 'estructurada', 'en', 'el', 'momento', 'actual', '.', 'correcta', 'proyeccion', 'vital', '.', 'critica', 'adecuada', '.', 'no', 'alteraciones', 'en', 'la', 'sensopercepcion', 'ni', 'otras', 'alteraciones', 'dentro', 'de', 'la', 'esfera', 'psicotica', '.', 'no', 'auto', 'ni', 'heteroagresiva', '.', 'normosomnia', '.', 'normorexia', '.', 'juicio', 'de', 'la', 'realidad', 'preservado', '.', 'correcto', 'insight', '.', 'nhc', '**', '***', '***', '(', '********', ')', 'age-v-psq', '1/2', 'lopd', 'evolucio', 'clinica', 'la', 'paciente', 'se', 'muestra', 'correcta', 'y', 'normativa', 'en', 'todo', 'momento', ',', 'mostrando', 'un', 'humor', 'resonante', 'y', 'reactivo', 'a', 'su', 'situacion', 'actual', '.', 'impresiona', 'deterioro', 'cognitivo', 'progresivo', ',', 'mas', 'que', 'afectacion', 'en', 'el', 'humor', '.', 'contacto', 'con', 'centro', 'residencial', 'explicando', 'idoneidad', 'de', 'permanecer', 'en', 'centro', 'residencial', 'en', 'lugar', 'de', 'los', 'apartamentos', 'donde', 'residia', 'hasta', 'el', 'momento', ',', 'dado', 'que', 'la', 'paciente', 'necesita', 'mayor', 'supervision', '.', 'asi', 'mismo', 'vigilar', 'el', 'acceso', 'a', 'la', 'medicacion', 'que', 'tenga', 'la', 'paciente', ',', 'siendo', 'administrada', 'unicamente', 'por', 'el', 'personal', 'de', 'la', 'residencia', '.', 'contacto', 'con', 'familiares', 'que', 'se', 'muestran', 'de', 'acuerdo', 'con', 'el', 'plan', 'establecido', '.', 'control', 'derivacion', 'a', 'centro', 'residencial', 'mutuam', 'corserolla', '.', 'destinacio', 'a', \"l'alta\", ':', 'a', 'domicili', 'nhc', '**', '***', '***', '(', '********', ')', 'age-v-psq', '2/2', 'lopd']\n",
            "Entities: [(\"******** sexe: dona data de naixement: 06.06.1938 edat: 79 anys procedencia domicil/res.soc servei psiquiatria data d'ingres 10.05.2018 data d'alta 10.05.2018\", 'MISC', 44, 202), (\"assumpta informe d'alta d'hospitalitzacio motiu d'ingres\", 'MISC', 268, 324)]\n",
            "  doc = self._ensure_doc(text)\n",
            "/usr/local/lib/python3.10/dist-packages/spacy/language.py:999: UserWarning: Can't set named entities because of multi-word token expansion or because the character offsets don't map to valid tokens produced by the Stanza tokenizer:\n",
            "Words: ['nº', 'historia', 'clinica', ':', '**', '***', '***', 'nºepisodi', ':', '********', 'sexe', ':', 'dona', 'data', 'de', 'naixement', ':', '15.07.1981', 'edat', ':', '36', 'anys', 'procedencia', 'domicil/res', '.soc', 'servei', 'otorrinolaringologia', 'data', \"d'ingres\", '16.05.2018', 'data', \"d'alta\", '18.05.2018', '10:23:26', 'ates', 'per', '*************', ',', '*****', 'informe', \"d'alta\", \"d'hospitalitzacio\", 'motiu', \"d'ingres\", 'sangrado', 'faringe', 'post', 'amigdalectomia', '.', 'antecedents', 'no', 'amc', 'ap', ':', 'saos', 'iq', ':', 'amigdalectomia', '30', 'abril', '.', 'reintervencion', 'dia', '9-5-18', 'por', 'sangrado', 'amigdalar', '.', 'proces', 'actual', 'paciente', 'derivada', 'de', 'hospital', 'mutua', 'de', 'terrasa', 'por', 'cuadro', 'clinico', 'de', 'horas', 'de', 'evolucion', 'de', 'sangrado', 'postamigdalectomia', 'de', 'el', '30', 'de', 'abril', ',', 'que', 'ha', 'requerido', 'reintervencion', 'por', 'esta', 'misma', 'causa', ',', 'segun', 'cuenta', 'la', 'paciente', 'le', 'han', 'dejado', 'una', 'amina', 'de', 'surgicel', 'en', 'lecho', 'amigdalar', 'izquierdo', '.', 'trae', 'analitica', '13.05', 'hb', '13.9', 'hto', ':', '43', 'coagulacion', 'normal', 'exploracio', 'fisica', 'beg', 'c', 'y', 'o', 'orofaringe', ':', 'se', 'observa', 'sangrado', 'activo', 'gran', 'coagulo', 'adherido', 'en', 'lecho', 'amigdalar', 'izuiqerdo', ',', 'se', 'limpia', ',', 'con', 'mejoria', 'de', 'el', 'sangrado', '.', 'li', ':', 'epiglotis', 'centrada', ',', 'aritenoides', 'sin', 'edemas', ',', 'cuerdas', 'vocales', 'moviles', 'buen', 'paso', 'aereo', 'no', 'abombamientos', 'a', 'el', 'ingreso', ':', 'observacion', 'dieta', 'absoluta', ',', 'analitica', 'exploracio', 'complementaria', '17-5-18', ':', 'hematies', '4.27', 'hemoglobina', '11.7', 'g/dl', 'hematocrit', '36.9', 'evolucio', 'clinica', 'tras', 'buen', 'curso', 'clinico', ',', 'afebril', ',', 'tolerando', 'dieta', 'oral', 'y', 'sin', 'signos', 'de', 'sangrado', 'se', 'procede', 'a', 'el', 'alta', 'hospitalaria', '.', 'orientacio', 'diagnostica', 'r04.1', 'hemorragia', 'de', 'faringe', 'procediments', 'tratamiento', 'endovenoso', '.', 'nhc', '**', '***', '***', '(', '********', ')', 'age-v-orl', '1/2', 'lopd', 'tractament', 'i', 'recomanacions', 'a', \"l'alta\", '1-', 'dieta', 'blanda', 'y', 'templada', '.', '2-', 'amoxicilina', '500', 'mg', '1/8', 'horas', 'durante', '3', 'dias', '.', '3-', 'paracetamol', '1', 'gr', '1/8', 'horas', 'si', 'dolor', '.', '4-', 'fero-gradumet', '1/24', 'horas', '.', 'control', 'control', 'ambulatorio', '.', 'control', 'orl', 'habitual', '.', 'signos', 'y', 'sintomas', 'de', 'reconsulta', '.', 'destinacio', 'a', \"l'alta\", ':', 'a', 'domicili', 'nhc', '**', '***', '***', '(', '********', ')', 'age-v-orl', '2/2', 'lopd']\n",
            "Entities: [(\"******** sexe: dona data de naixement: 15.07.1981 edat: 36 anys procedencia domicil/res.soc servei otorrinolaringologia data d'ingres 16.05.2018 data d'alta 18.05.2018\", 'MISC', 44, 211), (\"***** informe d'alta d'hospitalitzacio motiu d'ingres sangrado faringe post amigdalectomia\", 'MISC', 245, 335)]\n",
            "  doc = self._ensure_doc(text)\n",
            "/usr/local/lib/python3.10/dist-packages/spacy/language.py:999: UserWarning: Can't set named entities because of multi-word token expansion or because the character offsets don't map to valid tokens produced by the Stanza tokenizer:\n",
            "Words: ['nº', 'historia', 'clinica', ':', '**', '***', '***', 'nºepisodi', ':', '********', 'sexe', ':', 'home', 'data', 'de', 'naixement', ':', '19.06.2013', 'edat', ':', '4', 'anys', 'procedencia', 'cex', 'mateix', 'hosp', 'servei', 'pneumologia', 'ped', 'data', \"d'ingres\", '29.05.2018', 'data', \"d'alta\", '04.06.2018', '13:21:36', 'ates', 'per', '************', ',', '******', ';', '************', ',', '******', ';', '***********', ',', '********', ';', '************', ',', '*******', 'informe', \"d'alta\", \"d'hospitalitzacio\", 'motiu', \"d'ingres\", 'paciente', 'de', '4', 'años', 'y', '11', 'meses', 'que', 'ingresa', 'el', 'dia', '29/5/2018', 'en', 'la', 'planta', 'de', 'hospitalizacion', 'de', 'neumologia', 'pediatrica', 'por', 'exacerbacion', 'respiratoria', '.', 'presenta', 'fiebre', 'de', 'maximo', '38.3ºc', 'las', '48', 'horas', 'previas', 'a', 'el', 'ingreso', 'acompañada', 'de', 'tos', 'productiva', 'y', 'mucosidad', '.', 'antecedents', 'alergias', ':', 'asparaginasa', 'e.', 'coli', ',', 'asparaginasa', 'erwinia', '.', 'antecedentes', 'patologicos', ':', '-', 'fibrosis', 'quistica', '(', 'f508del/712-1g&gt', ';t', ')', 'diagnosticada', 'en', 'periodo', 'neonatal', '.', 'pdp', 'positivo', '.', 'debut', 'con', 'ileo', 'meconial', ',', 'resuelto', 'con', 'enemas', 'y', 'transito', 'esofago-gastro-duodenal', 'con', 'gastrografin', ';', 'no', 'preciso', 'intervencion', 'quirurgica', '(', 'h.', 'de', 'sant', 'pau', ')', '.', 'ingreso', 'en', 'nuestro', 'hospital', 'a', 'las', '3', 'semanas', 'por', 'suboclusion', ',', 'preciso', 'nuevamente', 'gastrografin', 'y', 'seinicio', 'tratamiento', 'con', 'movicol', 'y', 'acetilcisteina', '(', 'oral', 'y', 'en', 'enema', ')', '.', '-', 'cuatro', 'episodios', 'de', 'p.aeruginosa', 'cultivo', '(', '30/11/15', ')', ':', '4ª', 'vez', 'p.', 'aeruginosa', ',', 'antibiograma', ':', 'cipro-tobra-coli', 'sensible', '(', 'ultima', 'ps', '16.12.14', ')', '.', 'ultimo', 'cultivo', 'orofaringeo', '09/10/17', 'negativo', '(', 'plan', ':', 'continuar', 'con', 'tratamiento', 'con', 'colimicina', 'nebulizada', ')', '.', '-', 'leucemia', 'linfoblastica', 'aguda', 'b', 'comun', 'de', 'riesgo', 'intermedio', 'diagnosticado', 'en', 'marzo', 'de', 'el', '2016', 'estando', 'asintomatico', ',', 'en', 'una', 'analitica', 'de', 'control', 'realizada', 'en', 'consultas', 'externas', 'de', 'fibrosis', 'quistica', '.', 'realizo', 'induccion', 'ia', 'segun', 'protocolo', 'sehop-pethema', '2013', ',', 'sin', 'complicaciones', 'significativas', 'de', 'el', 'tratamiento', '.', 'buena', 'respuesta', 'el', 'dia', '+8', '(', '&lt;1000blastos', 'en', 'sangre', 'periferica', ')', ',', 'el', 'dia', '+14', '(', 'enfermedad', 'medular', 'residual', ':', 'se', 'detectan', 'un', '1.7%', 'de', 'celulas', 'blasticas', ')', 'y', 'el', 'dia', '+33', '(', 'enfermedad', 'medular', 'residual', 'indetectable', ')', '.', 'realizo', 'induccion', 'ib', 'segun', 'protocolo', 'msehop-pethema', '2013', 'de', 'forma', 'ambulatoria', '.', 'enfermedad', 'medular', 'residual', 'preconsolidacion', ':', 'indetectable', '.', 'como', 'complicaciones', 'presento', 'un', 'ingreso', 'en', 'abril', 'de', 'el', '2016', 'por', 'neutropenia', 'febril', ',', 'con', 'cultivos', 'negativos', '.', 'realizo', 'consolidacion', 'hasta', 'el', '2.08.16', '.', 'aislamiento', 'de', 'campylobacter', 'en', 'coprocultivo', 'y', 'hemocultivo', ',', 'por', 'lo', 'que', 'recibio', 'tratamiento', 'antibiotico', 'con', 'amoxicilina-clavulanico', 'durante', '10', 'dias', ',', 'comprobando', 'se', 'hemocultivo', 'negativo', 'y', 'correcta', 'evolucion', 'clinica', 'posterior', '.', 'durante', 'la', 'reinduccion', ':', 'asparaginasa', 'administrada', 'el', '30.08.16', '.', 'presento', 'anafilaxia', ':', 'reaccion', 'anafilactica', 'de', 'causa', 'no', 'filiada', 'por', 'la', 'que', 'requirio', 'ingreso', 'de', 'el', '01.09.2016', 'a', 'el', '02.09.2016', '.', 'se', 'adminisitro', 'adrenalina', 'im', ',', 'dexametasona', ',', 'difenhidramina', ',', 'ranitidina', '.', 'inicia', 'fase', 'de', 'mantenimiento', 'en', 'octubre', 'de', '2016', '.', 'actualmente', 'pendiente', 'de', 'amo', 'preretirada', 'de', 'el', 'tratamiento', '.', 'exploraciones', 'complementarias', ':', '-tc', 'torax', '(', '12.06.2017', ')', ':', 'estudio', 'artefactado', 'por', 'movimiento', '.', 'el', 'parenquima', 'pulmonar', 'presenta', 'un', 'aspecto', 'normal', '.', 'no', 'identifico', 'alteraciones', 'de', 'ventilacion', '.la', 'traquea', 'y', 'el', 'arbol', 'bronquial', 'son', 'normales', '.', 'las', 'estructuras', 'mediastinicas', 'no', 'aparecen', 'engrosadas', '.', 'id', ':', 'exploracion', 'normal', '-', 'analitica', 'julio', '2017', ':', 'normal', '.', 'vit', 'e', '15', ',', 'vta', '1,6', '.', 'vit', 'd', '61,3', '-', 'fenir', 'agosto', '2017', ':', '6%', ',', 'aigua', '67%', '-', 'ecografia', 'abdomen', '(', '03.10.2017', ')', ':', 'higado', 'de', 'tamaño', 'conservado', ',', 'discretamente', 'heterogeneo', ',', 'sin', 'lesiones', 'focales', 'ocupantes', 'de', 'espacio', 'evidentes', '.', 'colelitiasis', 'puntiformes', ',', 'la', 'mayor', 'de', '3', 'mm', '.', 'vesicula', 'biliar', 'de', 'paredes', 'finas', '.', 'via', 'biliar', 'no', 'dilatada', '.', 'bazo', 'homogeneo', 'de', 'tamaño', 'normal', '.', 'riñones', 'de', 'tamaño', ',', 'morfologia', 'y', 'ecoestructura', 'dentro', 'de', 'la', 'normalidad', 'sin', 'dilatacion', 'las', 'vias', 'excretoras', '.', 'area', 'pancreatica', 'y', 'discretamente', 'ecogenica', 'y', 'disminuida', 'de', 'tamaño', '.', 'ganglios', 'linfaticos', 'milimetricos', 'inespecificos', 'en', 'hilio', 'hepatico', 'y', 'mesenterico', '.', 'no', 'liquido', 'libre', 'en', 'pelvis', 'menor', '.', 'nhc', '**', '***', '***', '(', '********', ')', 'ami-v-pnp', '1/5', 'lopd', 'cultivos', ':', '-mayo', '2014', ':', '1', 'º', 'vez', 'pseudomona', 'aeruginosa', ',', 'sensible', 'a', 'todo', '.', 'tratamiento', 'bramitob', 'nebulizado', 'previa', 'administracion', 'de', 'salbutamol', '(', 'bien', 'tolerado', ')', '.', 'se', 'inicia', 'ciprofloxacino', '.', '-21', 'julio', '2014', ':', '2', 'º', 'vez', 'pseudomona', 'aeruginosa', ',', 'sensible', 'a', 'todo', '.', 'no', 'se', 'trata', 'con', 'atb', 'oral', '(', 'pq', 'no', 'se', 'entendio', 'que', 'llamaran', ')', '-4/11/14', ':', '3º', 'psa', 'sensible', ',', 'enterobacter', 'cloacae', '.', 'hongos', ':', 'rhodotorula', 'sp', '-30/11/15', ':', '4ª', 'vez', 'p.', 'aeruginosa', ',', 'antibiograma', ':', 'cipro-tobra-coli', 'sensible', '(', 'ultima', 'ps', '16.12.14', ')', '-20.1.2016', ',', '20/06/16', ',', '13/07/16', ',', '29/07/16', ',', '17.08.17', ',', '18.10.17', ':', 'flora', 'orofaringea', '-30.11.17', ':', 'p.', 'aeruginosa', '-posteriormente', '5', 'cultivo', 'negativos', '.', 'ultimo', 'cultivo', ':', '14/5/18', ':', 'flora', 'orofaringea', 'espirometrias', ':', '*efr', '16.01.2017', ':', 'fvc', '1.04', '(', '67%', ',', 'fev1', '1.04', '(', '76%', ')', ',', 're', 'el', '95.6%', 'mmef', '1.8', '(', '153%', ')', '*efr', '96.02.2018', ':', 'fvc', '1.03', '(', '66%', ',', 'fev1', '0.95', '(', '69%', ')', ',', 're', 'el', '98%', 'mmef', '1.47', '(', '119%', ')', 'medicacio', 'habitual', '-salbutamol', '2', 'inh', 'cada', '12', 'horas', '-flumil', '3', 'ml', 'c/8h', '-dekas', '1', 'ml', '/24h', '-ursochol', '6', 'ml', '/12h', '-auxina', 'e', '400', '1', 'a', 'el', 'dia', '-nexium', '10', 'mgr', 'a', 'el', 'dia', '-kreon', '5000', '(', '5-9-5-9', ')', '.', '-aciclovir', '2.5', 'ml', 'cada', '8', 'horas', '-septrin', '3.5', 'ml', 'cada', '12', 'horas', '(', 'lunes-miercoles-viernes', ')', ',', '-', 'mercaptopurina', 'solucion', 'oral', '(', '20', 'mg/1', 'ml', ')', ':', '1.8', 'ml/24', 'horas', '(', '36', 'mg', ')', '.', '-', 'metotrexate', 'cp', '2.5', 'mg', ':', '6', 'cp/semanal', '(', '15mg', ',', 'los', 'lunes', ')', '.', 'exploracio', 'fisica', 'peso', ':', '19', 'kg', '.', 'talla', ':', '109', 'cm', '.', 'sc', ':', '0.75', 'm2', '.', 'tª', '36.5ºc', 'buen', 'estado', 'general', '.', 'activo', 'y', 'reactivo', '.', 'normocoloreado', 'y', 'normohidratado', '.', 'no', 'lesiones', 'cutaneas', '.', 'aparato', 'respiratorio', ':', 'buena', 'entrada', 'de', 'aire', 'bilateral', ',', 'sin', 'signos', 'de', 'distres', 'ni', 'ruidos', 'sobreañadidos', '.', 'aparato', 'cardiocirculatorio', ':', 'tonos', 'ritmico', ',', 'sin', 'soplos', ',', 'pulsos', 'presentes', 'y', 'simetricos', '.', 'perfusion', 'distal', 'conservada', '.', 'abdomen', 'blando', 'y', 'depresible', ',', 'no', 'masas', 'ni', 'megalias', ',', 'no', 'doloroso', 'a', 'la', 'palpacion', '.', 'peristaltismo', 'conservado', '.', 'exploracio', 'complementaria', 'laboratorio', ':', '*analitica', 'general', '(', '29/05/18', ')', ':', 'hematies', '3.32', 'x10e12/l', ',', 'hemoglobina', '11.1', 'g/dl', ',', 'hematocrit', '31.0', '%', ',', 'volum', 'corpuscular', 'mig', '(', 'vcm', ')', '93.4', 'fl', ',', 'hemoglobina', 'corpuscular', 'mitja', '(', 'hcm', ')', '33.4', 'pg', ',', 'concentracio', 'hgb', 'corpuscular', 'mitja', '35.80', 'g/dl', ',', 'ample', 'distribucio', 'eritrocits', '(', 'ade', ')', '16.4', '%', ',', 'leucocits', '1.54', 'x10e9/l', ',', 'neutrofils', '33.7', '%', ',', 'limfocits', '57.6', '%', ',', 'monocits', '7.6', '%', ',', 'eosinofils', '0.0', '%', ',', 'basofils', '1.1', '%', ',', 'neutrofils', '0.5', 'x10e9/l', ',', 'limfocits', '0.9', 'x10e9/l', ',', 'monocits', 'nhc', '**', '***', '***', '(', '********', ')', 'ami-v-pnp', '2/5', 'lopd', '0.1', 'x10e9/l', ',', 'eosinofils', '0.0', 'x10e9/l', ',', 'basofils', '0.0', 'x10e9/l', ',', 'plaquetes', '331', 'x10e9/l', ',', 'volum', 'plaquetari', 'mig', '9.6', 'fl', ',', 'urea', '14', 'mg/dl', ',', 'creatinini', '0.25', 'mg/dl', ',', 'sodi', '138.1', 'mmol/l', ',', 'potassi', '4.05', 'mmol/l', ',', 'clorur', '103', 'mmol/l', ',', 'aspartat-aminotransferasa', '134', 'ui/l', ',', 'alanina-aminotransferasa', '273', 'ui/l', ',', 'proteïna', 'c', 'reactiva', '0.09', 'mg/dl', '.', '*analitica', 'general', '(', '31/05/18', ')', ':', 'hematies', '3.63', 'x10e12/l', ',', 'hemoglobina', '12.1', 'g/dl', ',', 'hematocrit', '33.7', '%', ',', 'volum', 'corpuscular', 'mig', '(', 'vcm', ')', '92.8', 'fl', ',', 'hemoglobina', 'corpuscular', 'mitja', '(', 'hcm', ')', '33.3', 'pg', ',', 'concentracio', 'hgb', 'corpuscular', 'mitja', '35.90', 'g/dl', ',', 'ample', 'distribucio', 'eritrocits', '(', 'ade', ')', '16.6', '%', ',', 'leucocits', '1.57', 'x10e9/l', ',', 'neutrofils', '%', '15.4', '%', ',', 'limfocits', '%', '66.2', '%', ',', 'monocits', '%', '14.6', '%', ',', 'eosinofils', '%', '2.5', '%', ',', 'basofils', '%', '1.3', '%', ',', 'neutrofils', '0.2', 'x10e9/l', ',', 'limfocits', '1.0', 'x10e9/l', ',', 'monocits', '0.2', 'x10e9/l', ',', 'eosinofils', '0.0', 'x10e9/l', ',', 'basofils', '0.0', 'x10e9/l', ',', 'plaquetes', '353', 'x10e9/l', ',', 'volum', 'plaquetari', 'mig', '9.7', 'fl', ',', 'bilirubina', '0.37', 'mg/dl', ',', 'bilirubina', 'esterificada', '0.19', 'mg/dl', ',', 'aspartat-aminotransferasa', '77', 'ui/l', ',', 'alanina-aminotransferasa', '173', 'ui/l', ',', 'fosfatasa', 'alcalina', '203', 'ui/l', ',', 'gamma-glutamiltransferasa', '17', 'ui/l', '.', '*analitica', 'general', '(', '04/06/18', ')', ':', 'hematies', '3.79', 'x10e12/l', ',', 'hemoglobina', '12.3', 'g/dl', ',', 'hematocrit', '35.7', '%', ',', 'volum', 'corpuscular', 'mig', '(', 'vcm', ')', '94.2', 'fl', ',', 'hemoglobina', 'corpuscular', 'mitja', '(', 'hcm', ')', '32.5', 'pg', ',', 'concentracio', 'hgb', 'corpuscular', 'mitja', '34.50', 'g/dl', ',', 'ample', 'distribucio', 'eritrocits', '(', 'ade', ')', '15.9', '%', ',', 'leucocits', '3.69', 'x10e9/l', ',', 'neutrofils', '%', '23.4', '%', ',', 'limfocits', '%', '53.3', '%', ',', 'limfoc.nucl', '.(', 'centr/prolimf', ')', '12.1', '%', ',', 'monocits', '%', '9.3', '%', ',', 'eosinofils', '%', '0.9', '%', ',', 'basofils', '%', '0.9', '%', ',', 'neutrofils', '0.9', 'x10e9/l', ',', 'limfocits', '2.0', 'x10e9/l', ',', 'monocits', '0.3', 'x10e9/l', ',', 'eosinofils', '0.0', 'x10e9/l', ',', 'basofils', '0.0', 'x10e9/l', ',', 'plaquetes', '528', 'x10e9/l', ',', 'glucosa', '73', 'mg/dl', ',', 'urea', '23', 'mg/dl', ',', 'creatinini', '0.24', 'mg/dl', ',', 'bilirubina', '0.31', 'mg/dl', ',', 'bilirubina', 'esterificada', '0.15', 'mg/dl', ',', 'sodi', '139.4', 'mmol/l', ',', 'potassi', '4.61', 'mmol/l', ',', 'clorur', '105', 'mmol/l', ',', 'fosfat', '5.1', 'mg/dl', ',', 'calci', '9.5', 'mg/dl', ',', 'aspartat-aminotransferasa', '43', 'ui/l', ',', 'alanina-aminotransferasa', '76', 'ui/l', ',', 'fosfatasa', 'alcalina', '207', 'ui/l', ',', 'gamma-glutamiltransferasa', '16', 'ui/l', ',', 'proteïna', '5.9', 'g/dl', ',', 'albumina', '4.0', 'g/dl', ',', 'proteïna', 'c', 'reactiva', '0.04', 'mg/dl', '.', 'microbiologia', ':', '*cultivo', 'de', 'exsudado', 'faringo/amigdalar', '(', '29/05/18', ')', ':', 'flora', 'orofaringea', '*deteccion', 'de', 'virus', 'respiratorios', 'por', 'pcr', 'a', 'tiempo', 'real', 'en', 'aspirado', 'nasofaringeo', '(', '29/05/18', ')', ':', 'positivo', 'a', 'virus', 'parainfluenza', '3', '.', '*sedimento', 'de', 'orina', 'y', 'urocultivo', '(', '29/05/18', ')', ':', 'negativo', '.', '*cultivo', 'de', 'exsudado', 'faringo/amigdalar', '(', '04/06/18', ')', ':', 'pendiente', 'imagen', ':', '*', 'radiografia', 'de', 'torax', '(', '29/05/18', ')', ':', 'punto', 'acceso', 'venoso', 'correcto', ',', 'con', 'cateteres', 'retrocediendo', 'por', 'la', 'yugular', 'derecha', ',', 'y', 'extremo', 'distal', 'en', 'posicion', 'alta', 'en', 'la', 'cava', 'superior', '.', 'discreta', 'cardiomegalia', '.', 'campos', 'pulmonares', 'sin', 'hallazgos', 'significativos', '.', 'discreta', 'curva', 'escoliotica', 'dorsal', '.', 'otras', 'exploraciones', ':', '*', 'aspirado', 'de', 'medula', 'osea', '(', '01/06/18', ')', ':', 'en', 'curso', '.', 'nhc', '**', '***', '***', '(', '********', ')', 'ami-v-pnp', '3/5', 'lopd', 'evolucio', 'clinica', 'ingresa', 'en', 'la', 'unidad', 'de', 'hospitalizacion', 'de', 'neumologia', 'pediatrica', 'bajo', 'control', 'clinico', 'y', 'de', 'constantes', 'habituales', '.', 'se', 'inicia', 'tratamiento', 'antibiotico', 'empirico', 'con', 'ceftazidima', 'y', 'amikacina', 'endovenosas', 'y', 'colistina', 'nebulizada', '.', 'se', 'mantiene', 'su', 'tratamiento', 'de', 'base', 'habitual', 'a', 'excepcion', 'de', 'el', 'metotrexate', 'y', 'la', 'mercaptopurina', ',', 'que', 'se', 'suspenden', 'dado', 'el', 'episodio', 'febril', 'actual', 'y', 'que', 'el', 'paciente', 'ya', 'estaba', 'pendiente', 'de', 'finalizacion', 'de', 'el', 'tratamiento', 'quimioterapico', '.', 'a', 'las', '24', 'horas', 'de', 'ingreso', 'se', 'obtiene', 'resultado', 'positivo', 'a', 'parainfluenza', '3', 'en', 'el', 'aspirado', 'nasofaringeo', '.', 'el', 'resto', 'de', 'estuidos', 'microbiologicos', 'son', 'negativos', '.', 'a', 'nivel', 'analitico', 'destaca', 'neutropenia', '(', 'de', 'hasta', '0.2', 'neutrofilosx10e9/l', ')', 'y', 'discreta', 'hipertransaminasemia', 'que', 'se', 'orientan', 'como', 'probablemente', 'secundarios', 'a', 'viriasis', 'actual', '.', 'no', 'presenta', 'elevacion', 'de', 'reactantes', 'de', 'fase', 'aguda', '.', 'se', 'valora', 'conjuntamente', 'con', 'el', 'equipo', 'de', 'hematologia', 'pediatrica', 'y', 'se', 'decide', 'realizar', 'aspirado', 'de', 'medula', 'osea', '(', 'pendiente', 'para', 'valoracion', 'de', 'la', 'finalizacion', 'de', 'el', 'tratamiento', 'quimioterapico', ')', '.', 'el', 'dia', '01/06/18', 'se', 'realiza', 'el', 'procedimiento', 'bajo', 'sedacion', 'sin', 'incidencias', ',', 'resultado', 'pendiente', '.', 'en', 'control', 'analitico', 'posteriores', 'presenta', 'aumento', 'de', 'la', 'cifra', 'de', 'neutrofilos', '(', '0.9', 'neutrofilosx10e9/l', ')', 'y', 'normalizacion', 'de', 'las', 'transaminasas', '.', 'durante', 'el', 'ingreso', 'se', 'mantiene', 'estable', ',', 'con', 'buen', 'estado', 'general', 'y', 'correcta', 'tolerancia', 'oral', '.', 'presenta', 'fiebre', 'durante', 'las', 'primeras', '24', 'horas', ',', 'manteniendo', 'se', 'afebril', 'posteriormente', '.', 'se', 'decide', 'alta', 'a', 'domicilio', 'el', 'dia', '04/06/018', ',', 'habiendo', 'completado', '6', 'dias', 'de', 'tratamiento', 'endovenoso', '.', 'exploracion', 'fisica', 'a', 'el', 'alta', 'con', 'buena', 'entrada', 'de', 'aire', 'bilateral', ',', 'sin', 'ruidos', 'sobreañadidos', 'ni', 'signos', 'de', 'dificultad', 'respiratoria', ',', 'persistiendo', 'leve', 'tos', 'y', 'mucosidad', 'blanquecina', '.', 'orientacio', 'diagnostica', 'e84.9', 'fibrosi', 'quistica', 'no', 'especificada', 'r50.9', 'febre', 'no', 'especificada', 'd70.9', 'neutropenia', 'no', 'especificada', 'b34.9', 'infeccio', 'virica', 'no', 'especificada', 'c91.01', 'leucemia', 'limfoblastica', 'aguda', ',', 'en', 'remissio', 'procediments', 'antibioterapia', 'endovenosa', 'antibioterapia', 'nebulitzada', 'analitica', 'sanguinia', '.', 'aspirat', 'nasofaringi', '.', 'cultiu', \"d'exudat\", 'faringo-amigdalar', '.', 'sediment', \"d'orina\", 'urocultiu', '.', 'radiografia', 'de', 'torax', '.', 'aspirat', 'de', 'moll', \"d'os\", '.', 'tractament', 'i', 'recomanacions', 'a', \"l'alta\", '-salbutamol', '2', 'inh', 'cada', '12', 'horas', '.', '-', 'flumil', '3', 'ml', 'c/8h', '.', '-dekas', '1', 'ml', '/24h', '.', '-ursochol', '6', 'ml', '/12h', '.', '-auxina', 'e', '400', '1', 'a', 'el', 'dia', '.', 'nhc', '**', '***', '***', '(', '********', ')', 'ami-v-pnp', '4/5', 'lopd', '-nexium', '10', 'mgr', 'a', 'el', 'dia', '.', '-kreon', '5000', '(', '5-9-5-9', ')', '.', '-', 'aciclovir', '2.5', 'ml', 'cada', '8', 'horas', '.', '-', 'septrin', '3.5', 'ml', 'cada', '12', 'horas', '(', 'lunes-miercoles-viernes', ')', ',', '-amoxicilina/clavulanico', '(', 'suspension', '100+12.5mg/ml', ')', ':', '5ml', 'cada', '8', 'horas', 'hasta', 'el', 'dia', 'de', 'la', 'consulta', '.', '-', 'colistina', '(', '1', 'mui', ')', ':', '1', 'vial', 'nebulizado', 'cada', '12', 'horas', '.', 'control', 'control', 'en', 'consultas', 'externas', 'el', '11/06/18', 'segun', 'citacion', '.', 'destinacio', 'a', \"l'alta\", ':', 'a', 'domicili', 'nhc', '**', '***', '***', '(', '********', ')', 'ami-v-pnp', '5/5', 'lopd']\n",
            "Entities: [(\"******** sexe: home data de naixement: 19.06.2013 edat: 4 anys procedencia cex mateix hosp servei pneumologia ped data d'ingres 29.05.2018 data d'alta 04.06.2018\", 'MISC', 44, 205)]\n",
            "  doc = self._ensure_doc(text)\n",
            "/usr/local/lib/python3.10/dist-packages/spacy/language.py:999: UserWarning: Can't set named entities because of multi-word token expansion or because the character offsets don't map to valid tokens produced by the Stanza tokenizer:\n",
            "Words: ['nº', 'historia', 'clinica', ':', '**', '***', '***', 'nºepisodi', ':', '********', 'sexe', ':', 'dona', 'data', 'de', 'naixement', ':', '18.02.1991', 'edat', ':', '27', 'anys', 'procedencia', 'domicil/res', '.soc', 'servei', 'obstetricia', 'data', \"d'ingres\", '25.05.2018', 'data', \"d'alta\", '27.05.2018', '10:03:59', 'ates', 'per', '**************', ',', '**************', ';', '******************', ',', '*****', ';', '******', ';', '******************', ',', '*****', 'informe', \"d'alta\", \"d'hospitalitzacio\", 'motiu', \"d'ingres\", 'trabajo', 'de', 'parto', 'antecedents', 'no', 'alergias', 'medicamentosas', 'conocidas', '.', 'iq', ':', 'dedo', 'mano', '.', 'no', 'antecedentes', 'patologicos', '.', 'fumadora', 'de', '8-9', 'cig/dia', '.', 'medicacio', 'habitual', 'en', 'tto', 'con', 'hbpm', 'proces', 'actual', 'edad', ':', '27', 'tpal', ':', '0210', '(', '1', '.', 'mola', 'hidatidica', ';', '2.', 'rpm', 'en', '7º-', '8º', 'mes', 'con', 'feto', 'vio', '.', 'no', 'sabe', 'precisar', 'semanas', ',', 'quiza', '30', '.', 'obito', 'fetal', 'intrautero', 'posterior', '.', 'no', 'sabe', 'peso', ';', '3.', 'rciu', 'severo', 'precoz', 'en', 'semana', '22.', 'ile.', ')', 'fur', ':', '08.09.17', 'gsrh', ':', 'a', 'e', 'sa', ':', '36+6', 'aro', 'por', 'mao', '+', 'araus', 't2', '+', 'europe', 'rama', 'no', 'ciego', 'acude', 'por', 'sensacion', 'de', 'dinamica', 'uterina', '.', 'mfa+', 'resumen', 'gestacional', 'analiticas', ':', '-', '1', 'º', 't', ':', 'hb', ':', '11.9', ';', 'ht', ':', '36.9', '.', '-', '2', 'º', 't', ':', 'hb', ':', '10.9', ';', 'ht', ':', '33.5', '.', '-', '3', 'º', 't', ':', 'hb', ':', '11.6', ';', 'ht', ':', '36.4', ';', 'plaquetas', ':', '122000', ';', 'coagulacion', ':', 'tp', '120%', ';', 'ttpa', '24.4.', 'serologias', ':', 'rubeola', 'inmune', ',', 'toxoplasma', 'no', 'immune', ',', 'lues', 'vih', ',', 'vhb', 'y', 'vhc', 'negativos', '.', '-', \"o'sullivan\", ':', '124', '-', 'urocultivo', '1t', ':', 'e.coli', ';', '3t', ':', 'no', 'consta', '-', 'cultivos', 'r', '/', 'v', ':', 'pendiente', '-', 'triple', 'screening', ':', 'bajo', 'riesgo', '.', 'ecografias', ':', '-', '1º', 't', ':', 'tn', ':', '1.10', '.', 'congruente', '.', 'nhc', '**', '***', '***', '(', '********', ')', 'ami-v-obs', '1/3', 'lopd', '-', '2º', 't', ':', 'morfologia', 'normal', '.', 'placenta', 'lateral', 'izquierda', '.', 'sexo', 'femenino', '.', '-', '3º', 't', ':', '31.5', 'sg', '.', 'cefalica', ',', 'pfe', ':', '1964(', 'p.88', ')', ',', 'placenta', 'fundica', ',', 'lan', ',', 'cordon', 'de', '3', 'vasos', ',', 'doppler', 'normal', '.', 'exploracio', 'fisica', 'beg', ',', 'c', 'y', 'o', ',', 'nc', 'y', 'nh', 'tv', ':', 'borrado', 'en', 'dialtacion', 'completa', 'od', ':', 'trabajo', 'de', 'parto', 'plan', ':', 'pasa', 'a', 'sala', 'de', 'partos', 'venoclisis', 'monitorizacion', 'evolucio', 'clinica', 'parto', 'eutocico', 'el', 'dia', '24.05.2018', 'a', 'las', '23.34h', '.', 'obtencion', 'de', 'rn', 'sexo', 'mujer', 'de', '2490g', 'de', 'peso', ',', 'apgar', '9/10', 'rubeola', ':', 'inmune', 'gs', 'madre', ':', 'a', 'positivo', 'lactancia', 'materna', '.', 'se', 'realiza', 'educacion', 'sanitaria', 'para', 'la', 'lactancia', '.', 'el', 'puerperio', 'transcurre', 'dentro', 'de', 'la', 'normalidad', ',', 'permaneciendo', 'apiretica', ',', 'normotensa', ',', 'no', 'taquicardica', 'y', 'con', 'buen', 'estado', 'general', '.', 'utero', 'bien', 'contraido', ',', 'con', 'perdidas', 'vaginales', 'escasas', '.', 'mamas', ':', 'calostro', 'bilateral', '.', 'diagnosticos', 'expulsivo', '36.6sg', '.', 'desgarro', 'de', 'ii', 'grado', 'en', 'horquilla-pared', 'posterior', 'izquierda', 'vaginal', 'puerperio', 'procedimientos', 'venoclisis', 'monitorizacion', 'atencion', 'de', 'el', 'parto', 'revision', 'de', 'el', 'canal', 'blando', 'de', 'el', 'parto', 'anestesia', 'local', 'sutura', 'de', 'desgarro', 'analgesicos', 'ferroterapia', 'sueroterapia', 'analiticas', 'nhc', '**', '***', '***', '(', '********', ')', 'ami-v-obs', '2/3', 'lopd', 'recomendaciones', 'control', 'por', 'su', 'comadrona', 'de', 'zona', 'en', '7', 'dias', '.', 'volver', 'a', 'urgencias', 'ante', 'cualquier', 'sintoma', 'de', 'alarma', '.', 'hierro', '1', 'comprimido', 'a', 'el', 'dia', 'en', 'ayunas', 'durante', '2', 'meses', '(', 'con', 'zumo', 'de', 'naranja', 'o', 'fruta', 'con', 'vitamina', 'c', 'para', 'mejorar', 'la', 'absorcion', ')', '.', 'acido', 'folico', '1', 'a', 'el', 'dia', 'durante', 'la', 'lactancia', '.', 'paracetamol', '1gr', 'cada', '8', 'horas', 'si', 'precisa', 'para', 'el', 'dolor', '.', 'abundante', 'ingesta', 'de', 'liquidos', 'y', 'comida', 'variada', 'y', 'equilibrada', '.', 'lavado', 'diario', 'de', 'el', 'perine', 'con', 'agua', 'y', 'jabon', 'neutro', '.', 'mantener', 'lo', 'bien', 'seco', 'con', 'ayuda', 'de', 'una', 'compresa', 'o', 'toalla', '.', 'no', 'realizar', 'inmersion', 'en', 'bañera', ',', 'piscina', 'o', 'mar', 'hasta', 'finalizado', 'el', 'puerperio', '.', 'vida', 'normal', 'con', 'actividad', 'fisica', 'leve/moderada', '.', 'evitar', 'coger', 'peso', 'y', 'ejercicios', 'de', 'alto', 'impacto', '.', 'si', 'presenta', 'congestion', 'de', 'las', 'mamas', ',', 'aplicar', 'calor', 'humedo', 'y', 'dar', 'un', 'masaje', 'antes', 'de', 'las', 'tomas', '.', 'amamantar', 'frecuentemente', 'a', 'el', 'bebe', '.', 'si', 'persiste', 'dolor', 'despues', 'de', 'la', 'toma', ',', 'aplicar', 'frio', 'local', '.', 'orientacio', 'diagnostica', 'z33.3', 'estat', 'de', 'gestacio', ',', 'portadora', 'gestacional', 'o80', 'assistencia', 'per', 'a', 'part', 'a', 'ter', 'me', 'no', 'complicat', 'tractament', 'i', 'recomanacions', 'a', \"l'alta\", 'recomendaciones', 'control', 'por', 'su', 'comadrona', 'de', 'zona', 'en', '7', 'dias', '.', 'se', 'explican', 'signos', 'y', 'sintomas', 'de', 'alarma', 'para', 'acudir', 'a', 'urgencias', 'y', 'lo', 'entiende', '.', 'control', 'el', 'puerperio', 'transcurre', 'dentro', 'de', 'la', 'normalidad', ',', 'permaneciendo', 'apiretica', ',', 'normotensa', ',', 'no', 'taquicardica', 'y', 'con', 'buen', 'estado', 'general', '.', 'utero', 'bien', 'contraido', ',', 'con', 'perdidas', 'vaginales', 'escasas', '.', 'mamas', ':', 'calostro', 'bilateral', '.', 'grietas', 'bilaterales', '.', 'destinacio', 'a', \"l'alta\", ':', 'a', 'domicili', 'nhc', '**', '***', '***', '(', '********', ')', 'ami-v-obs', '3/3', 'lopd']\n",
            "Entities: [(\"******** sexe: dona data de naixement: 18.02.1991 edat: 27 anys procedencia domicil/res.soc servei obstetricia data d'ingres 25.05.2018 data d'alta 27.05.2018\", 'MISC', 44, 202), (\"***** informe d'alta d'hospitalitzacio motiu d'ingres\", 'MISC', 308, 361), ('estat de gestacio', 'MISC', 3317, 3334)]\n",
            "  doc = self._ensure_doc(text)\n",
            "/usr/local/lib/python3.10/dist-packages/spacy/language.py:999: UserWarning: Can't set named entities because of multi-word token expansion or because the character offsets don't map to valid tokens produced by the Stanza tokenizer:\n",
            "Words: ['nº', 'historia', 'clinica', ':', '**', '***', '***', 'nºepisodi', ':', '********', 'sexe', ':', 'home', 'data', 'de', 'naixement', ':', '02.09.1937', 'edat', ':', '80', 'anys', 'procedencia', 'aguts', 'servei', 'medicina', 'interna', '1', 'data', \"d'ingres\", '31.05.2018', 'data', \"d'alta\", '28.06.2018', '11:44:20', 'ates', 'per', '**************', ',', '******', ';', '*************', ',', '********', ';', '**************', ',', '*****', 'informe', 'de', 'trasllat', 'a', 'sociosanitari', 'motiu', \"d'ingres\", 'varon', 'de', '80', 'años', 'sin', 'habitos', 'toxicos', 'ni', 'alergias', 'medicamentosas', 'conocidas', 'que', 'es', 'derivado', 'de', 'h.', 'san', 'rafael', 'por', 'disnea', 'antecedents', '-', 'hipertension', 'arterial', 'en', 'tratamiento', 'con', 'iecas', 'y', 'ara2', '.', '-', 'fibrilacion', 'auricular', 'en', 'tratamiento', 'con', 'sintrom', 'y', 'digoxina', '.', '-', 'hiperuricemia', 'en', 'tratamiento', 'hipouricemiante', '.', '-', 'tumor', 'vesical', 'intervenido', 'en', 'marzo', '2016', 'en', 'hospital', 'san', 'rafael', '(', 'pta', 'bg', ')', '.', 'recidiva', 'un', 'año', 'mas', 'tarde', 'por', 'lo', 'que', 'se', 'realiza', 'una', 'rtu', 'en', 'julio', '2017', 'de', 'tumor', 'vesical', 'y', 'uretra', 'prostatica', '.', 'ultima', 'rtu', 'el', '06.02.2018', 'en', 'hsr', '.', 'ssf', ':', 'vive', 'con', 'su', 'mujer', '.', 'independiente', 'para', 'las', 'abvd', '.', 'sin', 'deterioro', 'cognitivo', '.', 'medicacio', 'habitual', 'alopurinol', '100mg/24h', ',', 'amlodipino', '10mg/24h', ',', 'diazepan', '2,5mg/12h', ',', 'digoxina', '0,25mg/24h', ',', 'doxazosina', '8mg/24h', ',', 'pantoprazol', '20mg/24h', ',', 'paracetamol', '1g/8h', 'sp', ',', 'ramipril', '10mg/24h', ',', 'sintrom', 'segons', 'pauta', ',', 'torasemida', '5mg/24h', '.', 'proces', 'actual', 'consulto', 'el', '28/05', 'por', 'malestar', 'general', ',', 'astenia', 'y', 'anorexia', ',', 'objetivando', 'se', 'en', 'la', 'ef', 'palidez', ',', 'soplo', 'sistolico', ',', 'edema', 'en', 'eeii', 'e', 'iy', ';', 'analiticamente', 'anemia', 'no', 'conocida', ',', 'y', 'en', 'la', 'radiografia', 'signos', 'de', 'redistribucion', 'vascular', ';', 'se', 'oriento', 'como', 'insuficiencia', 'cardiaca', 'en', 'contexto', 'de', 'anemia', 'de', 'nuevo', 'diagnostico', '(', 'hb', 'de', '8.4', ';', 'previa', 'de', '16', 'g/dl', ')', ';', 'se', 'transfundieron', '2', 'cchh', ',', 'se', 'inicio', 'tratamiento', 'deplectivo', ',', 'e', 'ingreso', 'en', 'hsr', 'para', 'tratamiento', 'y', 'estudio', '.', 'el', '30/05', 'por', 'la', 'mañana', 'presenta', 'un', 'claro', 'empeoramiento', 'a', 'nivel', 'respiratorio', 'con', 'taquipnea', 'y', 'desaturacion', ',', 'con', 'escasa', 'respuesta', 'a', 'fio2', '1', '.', 'se', 'realiza', 'radiografia', 'de', 'torax', 'con', 'aparicion', 'de', 'una', 'condensacion', 'basal', 'derecha', 'e', 'infiltrados', 'parenquimatosos', 'bibasales', '.', 'se', 'inicia', 'antibioticoterapia', 'empirica', 'con', 'cefotaxima', 'y', 'azitromicina', ',', 'se', 'intensifica', 'tratamiento', 'deplectivo', 'y', 'se', 'inician', 'nitratos', 'en', 'perfusion', ',', 'corticoides', 'y', 'broncodilatadores', '.', 'la', 'gasometria', 'muestra', 'hipercapnia', 'e', 'hipoxemia', 'y', 'clinicamente', 'presenta', 'claudicacion', 'a', 'nivel', 'respiratorio', ',', 'por', 'lo', 'que', 'se', 'inicia', 'vmni', 'aguda', 'con', 'respuesta', 'parcial', ',', 'manteniendo', 'spo2', '92-93%', 'con', 'fio2', '1', ',', 'y', 'es', 'derivado', 'para', 'valoracion', '.', 'exploracio', 'fisica', 'exploracion', 'fisica', 'en', 'urgencias', 'ta', '143/62', 'mmhg', ',', 'fc', '58', 'lpm', ',', 'fr', '24', 'rpm', ',', 'tª', '35.6ºc', ',', 'spo2', '93%', '(', 'fio2', '1', ')', '.', 'normohidratado', ',', 'palidez', 'mucocutanea', ',', 'bien', 'perfundido', '.', 'ec', ':', 'tonos', 'cardiacos', 'arritmicos', ',', 'soplo', 'sistolico', 'aortico', ',', 'sin', 'edemas', 'en', 'eeii', ',', 'sin', 'iy/rhy', ',', 'pulsos', 'perifericos', 'debiles', 'pero', 'simetricos', '.', 'ep', ':', 'taquipnieco', 'en', 'reposo', '.', 'hipofonesis', 'basal', 'derecha', '.', 'abdomen', ':', 'peristaltismo', 'presente', ',', 'depresible', ',', 'no', 'impresiona', 'de', 'dolor', 'a', 'la', 'palpacion', ',', 'sin', 'signos', 'de', 'peritonismo', '.', 'nrl', ':', 'consciente', ',', 'orientado', ',', 'sin', 'asterixis', '.', 'nhc', '**', '***', '***', '(', '********', ')', 'age-v-mir', '1/4', 'lopd', 'exploracion', 'fisica', 'en', 'planta', 'de', 'medicina', 'interna', 'hemodinamicamente', 'estable', ',', 'regular', 'estado', 'general', ',', 'palidez', 'y', 'sudoracion', '.', 'aparato', 'cardiovascular', ':', 'tonos', 'cardiacos', 'ritmicos', 'con', 'soplo', 'sistolico', 'panfocal', 'predominio', 'foco', 'aortico', '.', 'sin', 'edema', 'en', 'eeii', ',', 'sin', 'ingurgitacion', 'yugular', 'ni', 'reflujo', 'hepatoyugular', '.', 'sin', 'signos', 'de', 'tvp.', 'pulsos', 'perifericos', 'presentes', 'y', 'simetricos', '.', 'aparato', 'respiratorio', ':', 'taquipnea', 'leve', 'con', 'cnaf', '.', 'murmullo', 'vesicular', 'conservado', 'con', 'crepitantes', 'y', 'roncus', 'bilaterales', '.', 'tos', 'con', 'movilizacion', 'de', 'secreciones', '.', 'abdomen', ':', 'neurologico', ':', 'vigil', 'y', 'alerta', ',', 'orientado', 'en', 'tiempo', ',', 'espacio', 'y', 'persona', ',', 'colaborador', '.', 'sin', 'focalidad', 'neurologica', 'aguda', 'aparente', '.', 'exploracio', 'complementaria', 'exploraciones', 'complementarias', 'urgencias', '-analitica', 'general', '28/05', ':', 'hb', '8.4', ',', 'vcm', '95', ',', 'leucocitos', '2550', ',', 'plaquetas', '195000', ',', 'inr', '5.7', ',', 'glucosa', '130', ',', 'urea', '44', ',', 'c', 'reatinina', '0.82', ',', 'bilirrubina', '0.65', ',', 'na+', '138', ',', 'k+', '3.6', ',', 'ast', '28', ',', 'albumina', '3', '.', '-gsa', '(', 'i/e', '18/8', ',', 'fr', '18', ',', 'tinsp', '1.0', ',', 'fio2', '1', ')', ':', 'ph', '7.37', ',', 'pco2', '68', ',', 'po2', '67', ',', 'lactato', '1.0', ',', 'eb', '1..0', ',', 'ag', '4', ',', 'hco3-', '39.3', '(', 'pafi', '67', ')', '.', '-', 'gsa', 'control', '(', 'i/e', '18/8', ',', 'fr', '18', ',', 'tinsp', '1.0', ',', 'fio2', '0.5', ')', ':', 'ph', '7.39', ',', 'pco2', '68', ',', 'po2', '86', ',', 'lactato', '0.8', ',', 'eb', '16.2', ',', 'af', '0', ',', 'hco3-', '41', '(', 'pafi', '136', ')', '.', '-ecg', ':', 'ritmo', 'sinusal', 'a', '55', 'lpm', ',', 'eje', '0º', ',', 'pr', '200msec', ',', 'bloqueo', 'de', 'rama', 'derecha', 'con', 'qrs', 'de', '140msec', ',', 'sin', 'alteraciones', 'agudas', 'de', 'la', 'repolarizacion', '.', '-analitica', 'general', ':', 'hb', '9.4', 'g/dl', ',', 'vcm', '94.6', 'fl', ',', 'hcm', '29.8', 'pg', ',', 'leucocitos', '5.53', ',', 'plaquetas', '191.000', ';', 'inr', '1.85', ';', 'glucosa', '209', 'mg/dl', ',', 'urea', '68', 'mg/dl', ',', 'cr', '1.19', 'mg/dl', ';', 'na+', '139.6', 'mmol/l', ',', 'k+', '3.74', 'mmol/l', ';', 'ast/alt', '20/20', 'ui/l', '.', '-antigenurias', ':', 'negativas', 'para', 'legionella', 'y', 'neumococo', '.', '-', 'hemocultivos', '(', '28/05', ')', ':', 'negativos', 'provisionales', '.', '-radiografia', 'de', 'torax', '(', 'hsr', ')', ':', 'condensacion', 'basal', 'derecha', 'con', 'infiltrado', 'izquierdo', 'y', 'signos', 'de', 'distirbucion', 'vascular', '.', '-', 'radiografia', 'de', 'torax', ':', 'condensacion', 'basal', 'derecha', 'con', 'atelectasia', 'de', 'lid', '.', 'exploraciones', 'complementarias', 'planta', 'de', 'medicina', 'interna', '-analitica', 'ingreso', '5/06/18', ':', 'hematies', '3.81x10e9/l', ';', 'hb', '11.4', 'g/dl', ',', 'hto', '36.3%', ';', 'vcm', '95fl', ';', 'ade', '14.9%', ';', 'reticlocitos', '100.6x10e9/l', ';', 'leucocitos', '4.00', 'x10e9/l', '(', 'n', '3200', ',', 'l', '700', ')', ';', 'plaquetas', '175x10e9/l', ',', 'tq', '88%', ',', 'tp', 'ratio', '1.07', ';', 'creatinina', '0.76', 'mg/dl', ',', 'urea', '82', ';', 'fg', '86', 'ml/min/1,73', 'm2', ',', 'urato', '7.5', 'mg/dl', ',', 'na', '145.7', 'mmol/l', ',', 'k', '3.10', 'mmol/l', ',', 'calcio', '8.9', ';', 'bil', 'total', '1.06', ',', 'directa', '0.37', ';', 'ast', '25', ',', 'alt', '24', ';', 'fa', '99', ',', 'ggt', '44', ',', 'ldh', '462', ';', 'colesterol', '152', ',', 'trigliceridos', '110', ';', 'proteina', '7.2', ';', 'albumina', '2.7', 'g/dl', ',', 'pcr', '4.06', 'mg/dl', '.', '**estudio', 'de', 'anemias', ':', 'ferritina', '649', 'ng/ml', ',', 'trasnferrina', '158', 'mg/dl', ',', 'ferro', '52', 'µg/dl', ',', 'ist', '33', '%', ',', 'vit', 'b12', '430', 'pg/ml', ',', 'a', 'ec', 'fol', '4.6', 'ng/ml', '.', '**estudio', 'tiroides', ':', 'tsh', '1.66mu/l', ',', 't4', '1.35ng/ml', '.', '**proteinograma', ':', 'hipergammaglobulinemia', 'policlonal', '-ag', 'control', '11/06/18', ':', 'hb', '7', ',', 'leuc', '7.660', '(', 'n', '6800', ',', 'l', '500', ')', ',', 'plaq', '192.000', ',', 'tq', '94%', ',', 'tp', 'ratio', '1.04', ',', 'gluc', '178', ',', 'urea', '121', ',', 'cr', '0.93', ',', 'urato', '10.2', ',', 'na', '147', ',', 'k', '2.66', ',', 'alb', '2.8', 'hemograma', '(', '24/06', ')', ':', 'hb', '10.7g/dl', ';', 'hto', '32.4%', ';', 'vcm', '95fl', ';', 'leucocitos', '2.42x10e9', 'ett', '(', '14/06/18', ')', 'ventriculo', 'izquierdo', 'no', 'dilatado', ',', 'moderadamente', 'hipertrofico', ',', 'con', 'disfuncion', 'sistolica', 'a', 'el', 'menos', 'ligera', '(', 'fe', '50%', ')', ',', 'insuficiencia', 'mitral', 'ligera', ',', 'doble', 'lesion', 'aortica', ':', 'estenosis', 'e', 'insuficiencia', 'ligera', 'de', 'tipo', 'degenerativo', ',', 'auricula', 'izquierda', 'moderadamente', 'dilatada', ',', 'aorta', 'ascendente', 'ligeramente', 'dilatada', ',', 'cavidades', 'nhc', '**', '***', '***', '(', '********', ')', 'age-v-mir', '2/4', 'lopd', 'derechas', 'dilatadas', '(', 'ad', '25cm2', 'y', 'vd', '47mm', ')', 'y', 'tapse', '10mm', ',', 'insuficiencia', 'tricuspide', 'moderada', 'que', 'permite', 'estimar', 'paps', 'de', '47', 'mmhg', ',', 'hipertension', 'pulmonar', 'moderada', 'evolucio', 'clinica', 'a', 'su', 'llegada', 'a', 'urgencias', 'hipertenso', 'y', 'afebril', '.', 'spo2', '94-95%', 'con', 'vmni', 'aguda', 'con', 'fio2', 'de', '1.', 'a', 'la', 'exploracion', 'fisica', 'hipofonesis', 'basal', 'derecha', '.', 'ecg', 'en', 'ritmo', 'sinusal', 'y', 'gasometria', 'arterial', 'con', 'insuficiencia', 'respiratoria', 'hipercapnica', '(', 'pafi', '67', 'mmhg', ')', '.', 'la', 'radiografia', 'de', 'torax', 'evidencia', 'una', 'condensacion', 'basal', 'derecha', 'con', 'atelectasia', 'de', 'el', 'lid', '.', 'se', 'orienta', 'como', 'insuficiencia', 'respiratoria', 'aguda', 'en', 'contexto', 'de', 'neumonia', 'basal', 'derecha', ',', 'con', 'probable', 'componente', 'de', 'insuficiencia', 'cardiaca', 'asociado', '.', 'se', 'mantiene', 'soporte', 'ventilatorio', ',', 'antibioticoterapia', 'empirica', ',', 'tratamiento', 'diuretico', ',', 'corticoideo', 'y', 'broncodilatador', '.', 'durante', 'su', 'estancia', 'en', 'urgencias', 'el', 'paciente', 'presenta', 'lenta', 'evolucion', 'clinica', ',', 'con', 'mejoria', 'de', 'la', 'hipercapnia', 'y', 'de', 'el', 'trabajo', 'respiratorio', ',', 'pudiendo', 'disminuir', 'fio2', 'hasta', 'retirada', 'de', 'vmni', ',', 'pero', 'con', 'necesidad', 'posterior', 'de', 'cnaf', '.', 'el', 'control', 'radiologico', 'no', 'muestra', 'mejoria', 'de', 'la', 'condensacion', 'pulmonar', ',', 'observando', 'se', 'infiltrados', 'bilaterales', '.', 'se', 'mantiene', 'tratamiento', 'instaurado', 'e', 'ingresa', 'en', 'planta', 'de', 'hospitalizacion', '.', 'a', 'su', 'llegada', 'a', 'planta', 'de', 'm.', 'interna', 'el', 'paciente', 'refiere', 'discreta', 'mejoria', 'clinica', ',', 'si', 'bien', 'su', 'evolucion', 'inciial', 'fue', 'torpida', '.', 'durante', 'su', 'estancia', 'en', 'planta', 'el', 'paciente', 'ha', 'permanecido', 'hemodinñamicamente', 'estable', ',', 'aunque', 'con', 'lenta', 'recuperacion', 'd', 'elas', 'saturaciones', '.', 'el', 'paciente', 'completo', 'tratameinto', 'antibiotico', 'con', 'meropenem', ',', 'pudiendo', 'finalmente', 'iniciar', 'tratameinto', 'con', 'rehabilitacion', '.', 'desde', 'el', 'punto', 'de', 'vista', 'respiratorio', ',', 'el', 'paciente', 'ha', 'sgeuido', 'una', 'lenta', ',', 'pero', 'buena', 'recuperacion', '.', 'dada', 'la', 'fragilidad', 'de', 'el', 'paciente', ',', 'y', 'dada', 'la', 'estabilizacion', 'de', 'el', 'hemograma', ',', 'por', 'el', 'momento', 'no', 'se', 'hamn', 'realizado', 'nuevos', 'estudios', '.', 'a', 'el', 'alta', 'es', 'citado', 'a', 'ccee', 'de', 'medicina', 'intrena', 'para', 'control', 'evolutivo', '.', 'dada', 'lo', 'prolongado', 'de', 'el', 'ingreso', 'y', 'encamaminto', ',', 'se', 'decide', 'traslado', 'a', 'el', 'hospital', 'pere', 'virgili', 'para', 'recuperacion', '.', 'orientacio', 'diagnostica', '1', '.', 'neumonia', 'adquirida', 'en', 'la', 'comunidad', 'fine', 'iv', 'e', 'insuficiencia', 'respiratoria', 'aguda', '.', '.', 'insuficiencia', 'cardiaca', 'de', 'inicio', 'reciente', 'de', 'etiologia', 'multifactorial', '(', 'valvular', ',', 'hipertensiva', ',', 'anemia', ')', '+', 'edema', 'agudo', 'de', 'pulmon', '.', '3.', 'bicitopenia', '(', 'anemia', 'normocitica', 'normocromica', '+leucopenia', ')', '.', '4', '.', 'fibrilacion', 'auricular', 'lenta', 'a', '70', 'ppm.', 'en', 'tratamiento', 'antocoagulante', 'con', 'enoxaparina', '40mg/12horas', '.', 's', 'procediments', '89.52', 'electrocardiograma', '.', 'ecg', 'nos', ',', 'ecg', '(', 'amb', '12', 'o', 'mes', 'derivacions', ')', 'ventilacion', 'con', 'optiblow', 'rehabilitacion', 'respiratoira', 'rehabilitacion', 'motora', '.', 'tractament', 'i', 'recomanacions', 'a', \"l'alta\", 'omeprazol', '20mg', '1comprimido', 'cada', '24', 'horas', 'antes', 'de', 'el', 'desayuno', ';', 'polietilenglicol', '+', 'sales', 'minerales', '13.8g', 'sobre', ',', 'si', 'precisa', ';', 'insul', 'aspart', 'novorapid', 'flexpen', '100ui/ml', '3ml', 'segun', 'glicemia', ';', 'enoxaparina', '40mg/', '0.4', 'jeringuilla', 'subcutanea', 'cada', '12horas', ';', 'doxazosina', '4mg', '2comprimidos', 'cada', '24', 'horas', '(', 'cena', ')', ';', 'amlodipina', '10mg', ',', '1', 'comprimido', 'cada', '24', 'horas', ';', 'enalapril', '5mg', '2', 'comprimidos', 'cada', '24', 'horas', ';', 'prednisina', '10mg', '1', 'comprimido', 'cada', '24', 'horas', ';', 'nhc', '**', '***', '***', '(', '********', ')', 'age-v-mir', '3/4', 'lopd', 'metamizol', '575', 'mg', ',', '2', 'comprimidos', 'cada', '8', 'horas', 'si', 'precisa', ';', 'paracetamol', '1g', 'cada', '8', 'horas', 'si', 'precisa', ';', 'risperidona', '1mg', 'por', 'la', 'noche', ';', 'bromuro', 'de', 'ipatropio', '500mcg/2ml', 'sol', 'nebu', 'cada', '6', 'horas', '+', 'fisiologico', '10', 'ml', 'ampolla', 'de', 'plastico', ';', 'dieta', 'complemetaria', 'normocalorica', 'hipermetabolica', 'con', 'fibra', 'diabetico', '220', 'ml', 'frasco', 'cada', '8', 'horas', '.', 'control', 'acudira', 'a', 'ccee', 'de', 'meidcina', 'interna', '(', 'dr', '**************', ')', 'el', 'dia', '17/08/18', '.', 'traer', 'una', 'analitica', 'general', 'realizada', 'los', 'dias', 'previos', 'a', 'la', 'cita', '.', 'destinacio', 'a', \"l'alta\", ':', 'soci', 'sanitari', 'nhc', '**', '***', '***', '(', '********', ')', 'age-v-mir', '4/4', 'lopd']\n",
            "Entities: [(\"******** sexe: home data de naixement: 02.09.1937 edat: 80 anys procedencia aguts servei medicina interna 1 data d'ingres 31.05.2018 data d'alta 28.06.2018\", 'MISC', 44, 199), ('hb 8.4', 'MISC', 3563, 3569)]\n",
            "  doc = self._ensure_doc(text)\n",
            "/usr/local/lib/python3.10/dist-packages/spacy/language.py:999: UserWarning: Can't set named entities because of multi-word token expansion or because the character offsets don't map to valid tokens produced by the Stanza tokenizer:\n",
            "Words: ['nº', 'historia', 'clinica', ':', '**', '***', '***', 'nºepisodi', ':', '********', 'sexe', ':', 'dona', 'data', 'de', 'naixement', ':', '26.09.1987', 'edat', ':', '30', 'anys', 'procedencia', 'domicil/res', '.soc', 'servei', 'obstetricia', 'data', \"d'ingres\", '31.05.2018', 'data', \"d'alta\", '03.06.2018', '11:30:47', 'ates', 'per', '******************', ',', '*****', ';', '**************', ',', '************', 'informe', \"d'alta\", \"d'hospitalitzacio\", 'motiu', \"d'ingres\", 'trabajo', 'de', 'parto', '+', 'rotura', 'espontanea', 'de', 'membranas', '.', 'antecedents', 'no', 'alergias', 'medicamentosas', 'conocidas', '.', 'antecedentes', 'patologicos', ':', 'asma', 'en', 'tto', 'con', 'ventolin', 'si', 'precisa', '.', 'rinoconjuntivitis', '.', 'esteatosis', 'hepatica', '.', 'intervenciones', 'quirurgicas', ':', 'apendicectomia', '.', 'no', 'habitos', 'toxicos', '.', 'proces', 'actual', 'edad', '30', 'años', 'tpal', '0000', 'fur', '19/08/2017', 'sa', ':', '40+', '5w', 'gsrh', ':', 'o', 'positivo', '(', 'coombs', 'indirecto', 'negativo', ')', '.', 'gestacion', 'controlada', 'en', 'aro', 'por', 'asma', '+', 'esteatosis', 'hepatica', '.', 'acude', 'por', 'sensacion', 'de', 'dinamica', 'uterina', 'cada', '5', 'minutos', 'de', '6', 'horas', 'de', 'evolucion', '.', 'no', 'metrorragia', 'ni', 'hidrorrea', '.', 'movimientos', 'fetales', 'activos', '.', 'no', 'otra', 'sintomatologia', 'de', 'interes', '.', 'durante', 'su', 'estancia', 'en', 'urgencias', 'la', 'paciente', 'inicia', 'sensacion', 'de', 'hidrorrea', 'de', 'aguas', 'claras', '(', '23.30h', ')', '.', 'resumen', 'gestacional', 'analiticas', ':', '1t', ':', 'hb', '13.6', ',', 'hcto', '40.9', ',', 'tir', 'n', ',', 'urocultivo', 'neg', 'rub', '(', 'inm', ')', 'toxo', '(', '-', ')', 'lues', '(', '-', ')', 'vhc', '(', '-', ')', 'vhb', '(', '-', ')', 'vih', '(', '-', ')', '.', 'chagas', '(', '-', ')', 'ts', '1t', ':', 'bajo', 'riesgo', '2t', ':', 'hb', '12.5', ',', 'osullivan', '111', ',', 'toxo', '(', '-', ')', '3r', 't', ':hb11.8', ',', 'htc', '35.7%', ',', 'pqtaqs', '256', ',', 'coag', 'n', ',', 'coomb', 'sneg', ',', 'uro', 'neg', ',', 'hiv', 'neg', ',', 'toxo', 'neg', 'cultivo', 'vaginal/rectal', ':', 'neg', 'ecografias', ':', '1r', 'tm', '12+3w', 'congruente', '.', 'crl', '62.5mm', '.', 'tn', '1.4mm', '.', '2o', 'tm', '11.1.18', ',', '20+5', ':', 'congruente', ',', 'morfologia', 'normal', ',', 'lc', '45mm', ',', 'ut', 'n.', '3r', 'tm', ':', '12.4.18', ',', '33+5w', ':', 'cef/dizq', ',', 'plac', 'ant', ',', 'lan', ',', 'pfe', '2278', 'p69', 'exploracio', 'fisica', 'nhc', '**', '***', '***', '(', '********', ')', 'ami-v-obs', '1/3', 'lopd', 'expl', '.', 'abdominal', ':', 'abdomen', 'gravido', 'de', 'acuerdo', 'con', 'las', 'semanas', 'de', 'gestacion', '.', 'no', 'hipertonia', 'ni', 'hipersensibilidad', '.', 'genitales', 'externos', ':', 'sin', 'lesiones', '.', 'especulo', ':', 'cervix', 'y', 'vagina', 'normales', '.', 'no', 'metrorragia', '.', 'hidrorrea', 'de', 'aguas', 'claras', '.', 'pruebas', 'de', 'amniorrexis', ':', 'ph', 'vira', '.', 'tacto', 'vaginal', ':', 'cervix', 'posterior', ',', '2cm', 'de', 'canal', ',', '2cm', 'de', 'dilatacion', '.', 'cefalica', 'libre', '.', 'eco', 'abd', ':', 'feto', 'unico', 'en', 'cefalica', ',', 'lcf', '+', ',', 'placenta', 'normoinserta', 'anterior', ',', 'lan', '(', '2.5cm', ')', '.', 'nst', ':', 'variable', 'y', 'reactivo', 'a', '150lpm', ',', '1', 'contraccion', 'cada', '5-6', 'minutos', '.', 'evolucio', 'clinica', 'ingresa', 'gestante', 'controlada', 'en', 'aro', 'por', 'asma', 'y', 'esteatosis', 'hepatica', 'de', '40+5', 'sg', 'en', 'trabajo', 'de', 'parto', '.', 'se', 'instaura', 'anestesia', 'peridural', '.', 'evoluciona', 'favorablemente', 'hasta', 'dilatacion', 'completa', '.', 'el', 'dia', '1.06.2018', 'a', 'las', '8.02h', 'se', 'asiste', 'a', 'parto', 'eutocico', ',', 'se', 'obtiene', 'recien', 'nacido', 'vivo', 'sexo', 'femenino', ',', 'apgar', '9/10', ',', 'ph', '7.08/7.30', ',', 'peso', '3250', 'g.', 'alumbramiento', 'dirigido', ':', 'placenta', 'integra', '.', 'utero', 'tonico', '.', 'se', 'revisa', 'canal', 'blando', 'de', 'el', 'parto', ':', 'integro', 'excepto', 'episitoomia', 'mediolateral', 'derecha', 'que', 'se', 'sutura', 'segun', 'tecnica', 'habitual', 'sin', 'incidencias', '.', 'en', 'el', 'postparto', 'inmediato', 'se', 'objetiva', 'hemorragia', 'postparto', 'que', 'cede', 'tras', 'administracion', 'methergin', 'intramuscular', '+', '4', 'cytotec', 'via', 'rectal', '.', 'el', 'puerperio', 'clinico', 'transcurre', 'con', 'normalidad', '.', 'la', 'paciente', 'permanece', 'con', 'buen', 'estado', 'general', ',', 'buen', 'control', 'de', 'el', 'dolor', ',', 'normotensa', 'y', 'apiretica', '.', 'utero', 'tonico', 'bien', 'contraido', 'con', 'perdidas', 'vaginales', 'escasas', '.', 'herida', 'quirurgica', 'con', 'cicatrizacion', 'correcta', '.', 'esta', 'realizando', 'lactancia', 'materna', '.', 'debido', 'a', 'la', 'buena', 'evolucion', 'clinica', ',', 'se', 'decide', 'alta', 'hospitalaria', '.', 'orientacio', 'diagnostica', 'asma', 'trabajo', 'de', 'parto', 'parto', 'eutocico', 'hemorragia', 'postparto', 'lactancia', 'materna', 'puerperio', 'clinico', 'normal', 'procediments', 'venoclisis', 'y', 'sueroterapia', 'monitorizacion', 'fetal', 'anestesia', 'raquidea', 'asistencia', 'a', 'parto', 'eutocico', 'sutura', 'emld', 'nhc', '**', '***', '***', '(', '********', ')', 'ami-v-obs', '2/3', 'lopd', 'administracion', 'de', 'cytotec', 'y', 'methergin', 'analgesicos', 'ferroterapia', 'curas', 'de', 'enfermeria', 'tractament', 'i', 'recomanacions', 'a', \"l'alta\", 'hierro', '1', 'comprimido', 'a', 'el', 'dia', 'en', 'ayunas', 'durante', '2', 'meses', '(', 'con', 'zumo', 'de', 'naranja', 'se', 'absorbe', 'mejor', ')', '.', 'acido', 'folico', '1', 'a', 'el', 'dia', 'durante', 'la', 'lactancia', '.', 'paracetamol', '1gr', 'cada', '8', 'horas', 'si', 'precisa', 'para', 'el', 'dolor', '.', 'control', 'control', 'en', 'ginecologo', 'de', 'zona', 'en', '7-10', 'dias', '.', 'se', 'informa', 'de', 'signos', '/', 'sintomas', 'de', 'alarma', '.', 'volver', 'a', 'urgencias', 'si', 'precisa', '.', 'destinacio', 'a', \"l'alta\", ':', 'a', 'domicili', 'nhc', '**', '***', '***', '(', '********', ')', 'ami-v-obs', '3/3', 'lopd']\n",
            "Entities: [(\"******** sexe: dona data de naixement: 26.09.1987 edat: 30 anys procedencia domicil/res.soc servei obstetricia data d'ingres 31.05.2018 data d'alta 03.06.2018\", 'MISC', 44, 202), (\"************ informe d'alta d'hospitalitzacio motiu d'ingres\", 'MISC', 264, 324)]\n",
            "  doc = self._ensure_doc(text)\n",
            "/usr/local/lib/python3.10/dist-packages/spacy/language.py:999: UserWarning: Can't set named entities because of multi-word token expansion or because the character offsets don't map to valid tokens produced by the Stanza tokenizer:\n",
            "Words: ['nº', 'historia', 'clinica', ':', '**', '***', '***', 'nºepisodi', ':', '********', 'sexe', ':', 'home', 'data', 'de', 'naixement', ':', '05.11.1943', 'edat', ':', '74', 'anys', 'procedencia', 'cex', 'mateix', 'hosp', 'servei', 'raquis', 'data', \"d'ingres\", '26.06.2018', 'data', \"d'alta\", '09.07.2018', '14:05:20', 'ates', 'per', '****************', ',', '******', ';', '**********', ',', '*************', ';', '*********', ',', '*****', 'informe', 'de', 'trasllat', 'a', 'sociosanitari', 'motiu', \"d'ingres\", 'ingres', 'iq', 'antecedents', 'antecedentes', 'personales', '-', 'no', 'amc', '-', 'ex', 'fumador', '(', '1.5', '#', '2', 'pq/dia', ')', '-', 'dm', 'tipo', '2', '-', 'dlp', '-', 'obesidad', '-', 'glaucoma', '-', 'a', 'ec', 'x', 'fa', '-', 'cardiopatia', 'isquemica', 'silent', 'amb', 'infart', 'apical', ',', 'feve', '50%', 'per', 'rm', 'cardiaca', \"l'any\", '2014', ',', 'actualment', '40%', '.', 'fa', 'de', 'debut', '(', \"d'inici\", 'incert', ')', '.', 'medicacion', 'habitual', ':', 'atorvastatina', ',', 'emconcor', '10', 'mg', ',', 'enalapril', '5', 'mg', '(', '2/24', 'hrs', ')', ',', 'furosomida', '40', 'mg', '(', '2/24', 'hrs', ')', ',', 'lixiana', '(', 'edoxaban', '60', 'mg', ')', ',', 'metformina', ',', 'xalatan', ',', 'zaldiar', '.', 'ea', ':', 'rn', 'm.-', 'anterolistesi', 'degenerativa', 'grau', '1', 'de', 'l4', 'que', 'provoca', 'una', 'estenosi', 'greu', 'de', 'el', 'canal', 'raquidi', 'l4-l5', ',', 'i', 'dels', 'forats', 'de', 'conjuncio', 'de', 'forma', 'bilateral', '.', 'estenosi', 'lumbar', 'degenerativa', 'multisegmentaria', 'moderada', 'l1-l2', 'i', 'greu', 'l2-l3-l4', '.', 'clinicam', 'igual', 'con', 'dolor', 'y', 'claudicacion', 'cada', 'vez', 'mas', 'severa', '.', 'proces', 'actual', 'paciente', 'que', 'ingresa', 'de', 'forma', 'programada', 'para', 'intervenir', 'se', 'de', 'laminectomia', 'descompresiva', 'por', 'parte', 'de', 'la', 'unidad', 'de', 'raquis', 'de', 'nuestro', 'centro', '.', 'exploracio', 'complementaria', 'pruebas', 'complementarias', 'que', 'no', 'contraindican', 'la', 'cirugia', '.', 'evolucio', 'clinica', 'el', 'dia', '26.6.2018', 'es', 'intervenido', 'de', 'laminectomia', 'descompresiva', 'l2-3', ',', 'l3-4', ',', 'l4-5', '+', 'tlif', 'l4-l5', '(', 'caja', 'titan', '9', ')', '+', 'plif', 'l4-l5', '(', 'fire', 'bird', ')', 'sin', 'incidencias', 'intraoperatorias', 'durante', 'la', 'estancia', 'postoperatoria', 'el', 'paciente', 'se', 'mantiene', 'hemodinamicamente', 'estable', 'y', 'afebril', '.', 'presenta', 'herida', 'quirurgica', 'con', 'buena', 'evolucion', '.', 'presenta', 'controles', 'aradiologicos', 'y', 'analiticos', 'correctos', '.', 'no', 'presenta', 'complicacion', 'neurologica', 'a', 'nivel', 'distal', '.', 'realiza', 'rehabilitacion', 'segun', 'protocolo', 'con', 'buena', 'tolerancia', '.', 'diuresis', 'y', 'deposciciones', 'conservadas', ',', 'dieta', 'bien', 'tolerada', '.', 'debido', 'a', 'buena', 'evolucion', 'se', 'decide', 'alta', 'con', 'las', 'siguientes', 'indicaciones', 'nhc', '**', '***', '***', '(', '********', ')', 'atr-v-raq', '1/2', 'lopd', 'orientacio', 'diagnostica', '724.02', 'estenosi', 'raquidia', 'lumbar', ',', 'sense', 'claudicacio', 'neurogenica', 'm48.06', 'estenosi', 'vertebral', ',', 'regio', 'lumbar', 'procediments', '81.08', 'fusio', 'espinal', 'lumbar', 'i', 'lumbosacra', 'de', 'la', 'columna', 'anterior', 'per', 'tecnica', 'posterior', 'tractament', 'i', 'recomanacions', 'a', \"l'alta\", 'reposo', 'relativo', 'segun', 'tolerancia', 'a', 'el', 'dolor', '.', 'curas', 'con', 'betadine', 'retirar', 'grapas', 'en', 'cap', 'en', '15-20', 'dias', 'postoperatorios', 'manttener', 'pauta', 'de', 'medicacion', 'habitual', '.', 'sumar', 'la', 'sieguiente', ':', 'paracetamol', '1gr', '1', 'c/8h', '+', 'nolotil', '575mg', '1', 'c/8h', '(', 'alterno', 'c/4h', ')', 'omeprazol', '20mg', '1', 'c/24h', 'control', 'control', 'cexraq', 'ramirez', 'segun', 'hoja', 'adjunta', 'acudir', 'a', 'urgencias', 'si', 'existe', 'complicacion', 'destinacio', 'a', \"l'alta\", ':', 'soci', 'sanitari', 'nhc', '**', '***', '***', '(', '********', ')', 'atr-v-raq', '2/2', 'lopd']\n",
            "Entities: [(\"sexe: home data de naixement: 05.11.1943 edat: 74 anys procedencia cex mateix hosp servei raquis data d'ingres 26.06.2018 data d'alta 09.07.2018\", 'MISC', 53, 197), (\"***** informe de trasllat a sociosanitari motiu d'ingres\", 'MISC', 280, 336), ('i lumbosacra de la columna anterior per tecnica posterior tractament i recomanacions', 'MISC', 2140, 2224)]\n",
            "  doc = self._ensure_doc(text)\n",
            "/usr/local/lib/python3.10/dist-packages/spacy/language.py:999: UserWarning: Can't set named entities because of multi-word token expansion or because the character offsets don't map to valid tokens produced by the Stanza tokenizer:\n",
            "Words: ['nº', 'historia', 'clinica', ':', '**', '***', '***', 'nºepisodi', ':', '********', 'sexe', ':', 'home', 'data', 'de', 'naixement', ':', '26.09.2002', 'edat', ':', '15', 'anys', 'procedencia', 'domicil/res', '.soc', 'servei', 'oncohematologia', 'ped', '.', 'data', \"d'ingres\", '24.06.2018', 'data', \"d'alta\", '01.07.2018', '16:00:00', 'ates', 'per', '***********', ',', '*********', ';', '*************', ',', '******', 'informe', \"d'alta\", \"d'hospitalitzacio\", 'motiu', \"d'ingres\", 'paciente', 'que', 'ingresa', 'para', 'evaluacion', 'y', 'tratamiento', 'de', 'sindrome', 'febril', ',', 'en', 'paciente', 'con', 'trombocitopenia', 'de', 'probable', 'etiologia', 'inmune', ',', 'asociada', 'a', 'neutropenia', 'en', 'el', 'ultimo', 'hemograma', '.', 'antecedents', 'sin', 'alergias', 'conocidas', '.', 'calendario', 'vacunal', 'a', 'el', 'dia', '.', 'antecedentes', ':', 'seguimiento', 'en', 'hsjd', 'por', 'purpura', 'trombocitopenica', 'idiopatica', 'diagnosticada', 'en', 'marzo', 'de', 'el', '2018', 'a', 'raiz', 'de', 'petequias', '.', 'ha', 'requerido', 'administracion', 'de', 'gammaglobulinas', 'en', 'dos', 'ocasiones', ',', 'no', 'tratado', 'con', 'corticoterapia', '.', 'aspirado', 'de', 'medula', 'osea', 'sin', 'alteraciones', '(', 'megacariocitos', 'aumentados', 'en', 'numero', ')', '.', 'proces', 'actual', 'paciente', 'deriva', 'a', 'nuestras', 'urgencias', 'por', 'pediatra', 'de', 'cap', 'ante', 'cuadro', 'de', 'odinofagia', 'y', 'febricula', 'con', 'picos', 'de', 'fiebre', 'iniciado', 'hace', '4', 'dias', '.', 'hace', '4', 'dias', 'presentaba', 'ademas', 'petequias', 'sin', 'otros', 'signos', 'de', 'hemorragia', ',', 'ante', 'las', 'que', 'se', 'curso', 'analitica', 'en', 'hsjd', 'observando', 'se', '3000', 'plaquetas/mm3', 'y', 'pcr', '20,7', 'con', 'pct', 'negativa', '.', 'se', 'administro', 'dosis', 'de', 'gammaglobulinas', ',', 'presentando', 'pico', 'de', '39,3ºc', 'durante', 'la', 'administracion', 'y', 'mala', 'tolerancia', 'clinica', '.', 'no', 'se', 'ha', 'realizado', 'analitica', 'sanguinea', 'de', 'control', '.', 'consutan', 'por', 'persistencia', 'de', 'febricula', '(', '&lt;38ºc', ')', 'y', 'odinofagia', '.', 'no', 'refieren', 'sangrado', 'a', 'ningun', 'nivel', '.', 'ademas', 'refieren', 'inflamacion', 'periungeal', 'en', 'primer', 'dedo', 'de', 'el', 'pie', 'izquierdo', 'que', 'ha', 'empeorado', 'pese', 'a', 'pomada', 'antibiotica', '.', 'exploracio', 'fisica', 'fc', 'bpm', 'tªaxi', '38.3', 'ºc', 'fr', 'rpm', 'tªrec', 'ºc', 'ta', 's', 'mmhg', 'sat', 'o2', '%', 'ta', 'd', 'mmhg', 'pes', '64.000', 'kg', 'triangulo', 'de', 'evaluacion', 'pediatrica', 'estable', '.', 'buen', 'estado', 'general', ',', 'normocoloreado', 'y', 'normohidratado', '.', 'sin', 'lesiones', 'cutaneas', 'agudas', '.', 'neurologico', ':', 'activo', 'y', 'reactivo', '.', 'buen', 'tono', 'muscular', '.', 'sin', 'meningismo', '.', 'otorrinolaringologico', ':', 'orofaringe', 'normal', ',', 'sin', 'exudados', '.', 'sin', 'adenopatias', '.', 'otoscopia', 'bilateral', 'normal', 'aparato', 'respiratorio', ':', 'eupneico', '.', 'sin', 'tiraje', '.', 'buena', 'entrada', 'de', 'aire', 'bilateral', 'sin', 'ruidos', 'sobreañadidos', '.', 'aparato', 'cardiovascular', ':', 'tonos', 'cardiacos', 'ritmicos', ',', 'sin', 'soplos', '.', 'relleno', 'capilar', 'cutaneo', 'menor', 'de', '2', 'segundos', '.', 'abdomen', ':', 'blando', 'y', 'depresible', ',', 'no', 'se', 'palpan', 'masas', 'ni', 'megalias', ',', 'no', 'doloroso', 'a', 'la', 'palpacion', ',', 'peristaltismo', 'conservado', '.', 'uña', 'encarnada', '1º', 'dedo', 'pie', 'izq', 'con', 'leve', 'eritmea', ',', 'no', 'aumento', 'de', 'temperatura', ',', 'inflamascion', 'ni', 'secrecion', '.', 'exploracio', 'complementaria', 'sangre', '-analitica', 'general', 'a', 'el', 'ingreso', '24.06.18', ':', 'hematies', '-', '5.41', 'x10e12/l', 'hemoglobina', '.', '14.8', 'g/dl', 'hematocrit', '.', '43.5', '%', 'volum', 'corpuscular', 'mig', '(', 'vcm', ')', '.', '80.4', 'fl', 'hemoglobina', 'corpuscular', 'mitja', '(', 'hcm', ')', '.', '27.4', 'pg', 'concentracio', 'hgb', 'corpuscular', 'mitja', '.', '34.00', 'g/dl', 'ample', 'distribucio', 'eritrocits', '(', 'ade', ')', '.', '11.8', '%', 'leucocits', '8.03', 'x10e9/l', 'limfocits', 'nhc', '**', '***', '***', '(', '********', ')', 'ami-v-onh', '1/3', 'lopd', 'reactius', '.', '44.3', '%', 'plasmatiques', '.', '0.9', '%', 'neutrofils', '0.5', 'x10e9/l', 'limfocits', '.', '3.3', 'x10e9/l', 'monocits', '.', '0.5', 'x10e9/l', 'eosinofils', '.', '0.2', 'x10e9/l', 'basofils', '.', '0.1', 'x10e9/l', 'plaquetes', '56', 'x10e9/l', 'volum', 'plaquetari', 'mig', '.', '12.0', 'fl', '.', 'glucosa', '87', 'mg/dl', 'urea', '.', '30', 'mg/dl', 'creatinini', '.', '0.97', 'mg/dl', 'bilirubina', '.', '0.50', 'mg/dl', 'io', 'sodi', '135.4', 'mmol/l', 'io', 'potassi', '.', '3.80', 'mmol/l', 'clorur', '100', 'mmol/l', 'calci', '.', '9.1', 'mg/dl', 'aspartat-aminotransferasa', '156', 'ui/l', 'alanina-aminotransferasa', '116', 'ui/l', 'proteïna', '8.0', 'g/dl', 'albumina', '.', '3.6', 'g/dl', 'proteïna', 'c', 'reactiva', '3.58', 'mg/dl', '.', '-analitica', 'general', 'a', 'el', 'alta', ':', 'hb', '15.0', 'gr/dl', '.', 'leucocitos', '19.17x10e9/l', '.', 'can', '1.4x10e9/l', '.', 'plaquetas', '127x10e9/l', '.', 'creatinina', '0.9', 'mg/dl', '.', 'urea', '18', 'mg/dl', '.', 'ast/alt', '297/463', 'ui/l', '.', 'ldh', '966ui/l', '.', 'pcr', '0.62', 'mg/dl', '.', 'resto', 'de', 'bioquimica', 'conservada', '.', 'estudio', 'neutropenia', 'autoinmune', '26.06.18', ':', 'pendiente', '.', '-estudio', 'alps', '27.06.18', ':', 'cd3+', 'dn', 'tcr', 'alfa/beta', '1.8', '%', '.', 'il-10', '37.31', 'pg/ml', '.', 'fas', 'lligand', 'soluble', 'circulant', 'pendiente', '.', '29/06/18', ':', 'b12', '914', 'pg/ml', '.', '-inmunoglobulinas', ':', 'immunoglobulina', 'a', '387', 'mg/dl', 'immunoglobulina', 'g', '1967', 'mg/dl', 'immunoglobulina', 'm', '121', 'mg/dl', 'ige', '600.00', 'ku/l', '.', '-', 'estudio', 'autoinmunidad', '29.06.18', ':', 'pendiente', '.', 'microbiologia', '-', 'hemocultivo', '25.06.18', ':', 'negativo', '.', '-', 'serologia', '26.06.18', ':', 'epstein-barr', 'virus', '.', 'a', 'ec', 'vca', 'igg', '(', 'clia', ')', 'positiu', 'epstein-barr', 'virus', '.', 'a', 'ec', 'vca', 'igm', '(', 'clia', ')', 'negatiu', 'citomegalovirus', '.', 'a', 'ec', 'igg', '(', 'clia', ')', 'positiu', 'citomegalovirus', '.', 'a', 'ec', 'igm', '(', 'clia', ')', 'negatiu', 'rubeola', 'virus', '.', 'a', 'ec', 'igg', '(', 'clia', ')', 'positiu', 'rubeola', 'virus', '.', 'a', 'ec', 'igm', '(', 'clia', ')', 'negatiu', 'hiv-1/-2', '.', 'ac.', 'totals', 'i', 'ag', 'p24', '(', 'clia', ')', 'negatiu', 'toxoplasma', 'gondii', '.', 'a', 'ec', 'igg', '(', 'clia', ')', 'dubtos', '(', 'repetido', 'el', '28.06.18', ':', 'dubtos', ')', 'toxoplasma', 'gondii', '.', 'a', 'ec', 'igm', '(', 'clia', ')', 'negatiu', '.', '-', 'serologia', '27.06.18', ':', 'ac.', 'igg', 'anti-vha', 'quantitatiu', '&gt;100.00', 'ui/l', 'ac.', 'igm', 'anti-vha', 'negatiu', 'antigen', 'superficie', 'vhb', 'negatiu', 'ac.', 'anti-antigen', 'superficie', 'vhb', '322.73', 'ui/l', 'ac.', 'anti-vhc', 'negatiu', '.', '-', 'serologia', '29.06.18', ':', 'bartonella', ',', 'vhs', ',', 'mycoplasma', ',', 'leishmania', 'pendientes', '.', '-', 'pcr', 'plasma', '29.06.18', ':', 'vh6', ',', 'parvovirus', 'b19', 'y', 'toxoplasma', 'pendientes', '.', '-', 'exudado', 'faringeo', '29.06.18', ':', 'pendiente', '.', 'imagen', '-', 'ekg', '25.06.18', ':', 'compatible', 'con', 'marcapasos', 'migratorio', '.', '-', 'ecografia', 'cervical', '28.06.18', ':', 'multiples', 'adenopaties', 'bilaterals', ',', 'de', 'patro', 'inespecific', ',', 'reactiu', '.', '-', 'ecografia', 'abdominal', '28.06.18', ':', 'estudi', 'dins', 'els', 'limits', 'de', 'la', 'normalitat', '.', 'evolucio', 'clinica', 'ingresa', 'en', 'planta', 'de', 'pediatria', 'bajo', 'control', 'clinico', 'y', 'de', 'constantes', '.', 'ante', 'cuadro', 'de', 'fiebre', ',', 'neutropenia', 'e', 'hipertransaminasemia', 'se', 'amplia', 'estudio', 'de', 'autoinmunidad', 'y', 'sindrome', 'mononucleosido', 'en', 'paciente', 'con', 'trombocitopenia', 'inmune', ',', 'con', 'las', 'exploraciones', 'citadas', '.', 'se', 'inicia', 'antibioterpia', 'empirica', 'con', 'piperacilina-tazobactam', 'y', 'vancomicina', ',', 'retirando', 'se', 'esta', 'tras', 'cultivos', 'negativos', '.', 'ante', 'desaparicion', 'de', 'la', 'fiebre', 'desde', 'el', '25/06', 'y', 'buena', 'evolucion', 'de', 'el', 'cuadro', ',', 'se', 'decide', 'alta', 'para', 'continuar', 'estudio', 'de', 'forma', 'ambulatoria', '.', 'orientacio', 'diagnostica', 'd69.1', 'defectes', 'qualitatius', 'de', 'plaquetes', 'd70.9', 'neutropenia', 'no', 'especificada', 'procediments', 'psa', '.', 'antibioticotearapia', 'sistemica', 'nhc', '**', '***', '***', '(', '********', ')', 'ami-v-onh', '2/3', 'lopd', 'psa', '.', 'ecografia', 'cervical', 'psa', '.', 'ecografia', 'abdominal', '.', 'psa', '.', 'estudio', 'de', 'autoinmunidad', '.', 'psa', '.', 'estudio', 'de', 'alps', '.', 'psa', '.', 'fortis', 'faringoamigdalar', '.', 'tractament', 'i', 'recomanacions', 'a', \"l'alta\", 'sin', 'tratamiento', ',', 'con', 'reposo', 'relativo', 'hasta', 'la', 'visita', 'en', 'la', 'ccee', '.', 'control', 'acudira', 'a', 'consulta', 'externa', 'de', 'hematologia', 'pediatrica', 'el', 'dia', '3.07.2018', '.', 'si', 'fiebre', ',', 'malestar', 'general', 'o', 'manifestaciones', 'de', 'sangrado', 'cutaneo/mucoso', ',', 'acudir', 'a', 'ucias.*', 'destinacio', 'a', \"l'alta\", ':', 'a', 'domicili', 'nhc', '**', '***', '***', '(', '********', ')', 'ami-v-onh', '3/3', 'lopd']\n",
            "Entities: [('******** sexe: home data de naixement: 26.09.2002 edat: 15 anys procedencia domicil/res.soc servei oncohematologia', 'MISC', 44, 158), (\"****** informe d'alta d'hospitalitzacio motiu d'ingres paciente\", 'MISC', 269, 332), ('i ag p24', 'MISC', 4229, 4237), ('estudi dins els limits de la normalitat', 'MISC', 4926, 4965)]\n",
            "  doc = self._ensure_doc(text)\n",
            "/usr/local/lib/python3.10/dist-packages/spacy/language.py:999: UserWarning: Can't set named entities because of multi-word token expansion or because the character offsets don't map to valid tokens produced by the Stanza tokenizer:\n",
            "Words: ['nº', 'historia', 'clinica', ':', '**', '***', '***', 'nºepisodi', ':', '********', 'sexe', ':', 'dona', 'data', 'de', 'naixement', ':', '07.09.2006', 'edat', ':', '11', 'anys', 'procedencia', 'cex', 'mateix', 'hosp', 'servei', 'cirurgia', 'digestiva', 'ped', 'data', \"d'ingres\", '05.07.2018', 'data', \"d'alta\", '06.07.2018', '17:14:08', 'ates', 'per', '***************', ',', '*********', ';', '*****************', ',', '******', 'informe', \"d'alta\", \"d'hospitalitzacio\", 'motiu', \"d'ingres\", 'vomitos', 'y', 'dolor', 'abdominal', 'despues', 'de', 'realizar', 'figrogastroscopia', 'y', 'colonoscopia', '.', 'antecedents', 'al.lergies', 'sense', 'al·lergies', 'conegudes', 'antecedents', 'fisiologics', 'hernia', 'hiato', 'meningitis', 'proces', 'actual', 'niña', 'de', '11', 'años', ',', 'con', 'cuadro', 'de', 'dolor', 'abodmonal', 'de', '3', 'semanas', 'de', 'evolucion', '.', 'se', 'le', 'realiza', 'de', 'manera', 'programada', '(', 'pos', 's', 'cirugia', 'peidatrica', ')', 'fibrogastroscopia', 'y', 'colonoscopia', 'el', 'dia', '5', 'de', 'julio', '.', 'posteriormente', 'presenta', 'vomitos', '(', 'como', 'viene', 'realziando', 'desde', 'hace', '3', 'semanas', ')', 'y', 'dolor', 'abodminal', '(', 'igual', 'a', 'el', 'que', 'tiene', 'hace', '3', 'semanas', ')', '.', 'se', 'ingresa', 'en', 'sala', 'de', 'observacion', 'de', 'urgencias', 'de', 'pediatria', '.', 'ingresada', 'de', 'el', '16', 'a', 'el', '20', 'junio', 'en', 's', 'de', 'cirugia', 'pediatrica', ',', 'por', 'cuadro', 'de', 'vomitos', 'y', 'doloor', 'abodminal', 'en', 'fosa', 'iliaca', 'derecha', 'realizando', 'se', '2', 'eografias', 'y', 'un', 'tac', 'abdominal', 'sin', 'presentar', 'signos', 'de', 'proceso', 'pendicular', '.', 'desde', 'el', 'alta', 'ha', 'continuado', 'con', 'dolor', 'abodminal', '(', 'sobretodo', 'mesogastrico', 'y', 'algo', 'epigastrico', ')', 'y', 'vomitos', 'de', 'manera', 'ocasional', 'por', 'lo', 'que', 's', 'de', 'cirugia', 'ped', 'y', 'previa', 'valoracion', 'pro', 's', 'gastroenterologia', 'ped', ',', 'se', 'programa', 'fgc', 'y', 'colonoscopia', 'para', 'el', 'dia', '5', '.', 'h', 'perdido', '2', 'kg', 'd', 'epeso', 'en', 'este', 'tiempo', 'porque', 'como', 'poco', 'porque', 'reifere', 'que', 'el', 'dolor', 'aumenta', 'con', 'la', 'ingesta', '.', 'presenta', 'h´bito', 'deposicioensal', 'estreñido', ',', 'aunquu', 'ha', 'realizado', 'deposiciones', 'diarreicas', 'en', '2', 'ocasiones', '(', 'no', 'productos', 'patologicos', ')', '.', 'refiere', 'tambien', 'cefalea', 'ocasional', 'desde', 'hace', '3', 'semanas', '.', 'y', 'refiere', 'sensacion', 'de', 'adormecimiento', 'de', 'los', 'dedos', '3', 'y', '4', 'de', 'las', 'manos', 'de', 'manera', 'ocasional', '.', 'tambien', 'sensaion', 'de', 'falta', 'de', 'aire', 'en', 'muchos', 'momentos', ',', 'y', 'dolores', 'osteomusculares', 'en', 'extremidades', 'y', 'tronco', '.', 'exploracio', 'fisica', 'buen', 'estado', 'general', '.', 'consciente', 'y', 'orientada', '.', 'normocoloreada', 'y', 'normohidratada', '.', 'no', 'lesiones', 'cutaneas', '.', 'orl', ':', 'orofaringe', 'no', 'hiperemica', 'sin', 'hipertrofia', 'amigdalar', 'ni', 'exudados', '.', 'otoscopia', 'normal', '.', 'aparato', 'respiratorio', ':', 'buena', 'entrada', 'de', 'aire', 'bilateral', ',', 'sin', 'signos', 'de', 'distres', 'ni', 'ruidos', 'sobreañadidos', '.', 'espiracion', 'bueno', '.', 'aparato', 'cardiocirculatorio', ':', 'tonos', 'ritmico', ',', 'sin', 'soplos', ',', 'pulsos', 'presentes', 'y', 'simetricos', '.', 'perfusion', 'distal', 'conservada', '.', 'abdomen', 'blando', 'y', 'depresible', ',', 'no', 'masas', 'ni', 'megalias', ',', 'doloroso', 'a', 'la', 'palpacion', 'en', 'mesogastrio', 'y', 'en', 'epigastrio', '.', 'nhc', '**', '***', '***', '(', '********', ')', 'ami-v-cdp', '1/3', 'lopd', 'peristaltismo', 'conservado', '.', 'nrl', ':', 'colaboradora', ',', 'refiere', 'cefalea', '5/10', ',', 'pares', 'carenales', 'n', ',', 'fuerza', 'impresiona', 'falta', 'de', 'fuerza', 'en', 'manos', 'en', 'algunos', 'momentos', '(', 'en', 'otros', 'la', 'fuerza', 'es', 'normal', ')', ',', 'tambien', 'en', 'hombros', '(', 'en', 'biceps', 'es', 'normal', ')', '.', 'marcha', 'inestable', 'sin', 'seguir', 'ningun', 'patron', 'alterna', 'con', 'momentos', 'en', 'que', 'se', 'mueve', 'con', 'agilidad', '.', 'no', 'meningismo', 'ni', 'focalidad', 'neurologica', '.', 'maniobra', 'dedo', 'nariz', '(', 'falla', 'con', 'mano', 'derecha', 'de', 'manera', 'llamativa', '.', 'sensibilidad', 'falla', 'la', 'mitad', 'de', 'las', 'veces', 'dermografismo', '.', 'funciones', 'superiores', 'conservadas', '.', 'resto', 'de', 'la', 'exploracion', 'normal', '.', 'exploracio', 'complementaria', 'no', 'se', 'realizan', 'evolucio', 'clinica', 'ingresa', 'en', 'sala', 'de', 'observacion', 'de', 'urgencias', 'de', 'pediatria', 'bajo', 'mcontrol', 'clinico', 'y', 'de', 'constantes', 'vitales', '.', 'se', 'administra', 'tratamiento', 'antiemetico', 'con', 'odnasetron', 'y', 'gastroprotector', 'con', 'omeprazol', '.', 'es', 'valorado', 'por', 's', 'de', 'cirrugia', 'pediatrica', ',', 'refiriendo', 'que', 'la', 'exploracion', 'realizada', 'fgc', 'y', 'colonoscopia', 'rean', 'normales', '(', 'pedientes', 'los', 'esetudios', 'de', 'laboratorio', ')', '.', 'se', 'realiza', 'fondo', 'de', 'ojo', 'por', 'oftalmolog', 'que', 'es', 'normal', '.', 'continua', 'refiriendom', 'doloor', 'abdominal', ',', 'pero', 'tolera', 'una', 'ingesta', 'oral', 'adecuada', '.', 'la', 'exploracion', 'neurologica', 'es', 'muy', 'llamativa', ',', 'incongruente', 'en', 'muchos', 'puntos', ',', 'y', 'refiere', 'dolor', 'a', 'la', 'palpacion', 'de', 'practicamente', 'cualquier', 'pubnto', 'de', 'el', 'cuerpo', '.', 'el', 'estado', 'general', 'es', 'excelente', '.', 'impresiona', 'de', 'cuadro', 'de', 'causa', 'no-organica', '(', 'naturaleza', 'psicogena', ')', '.', 'refieren', 'que', 'es', 'una', 'niña', 'que', 'desde', 'siempre', 'ha', 'tenido', 'cierta', 'facilidad', 'para', 'el', 'vomto', '(', 'habitualemnte', ',', 'de', 'manera', 'ocaisonal', 'en', 'situacioens', 'de', 'estres', 'vomita', 'saliva', ')', '.', 'tambien', 'refieren', 'que', 'viene', 'refiriendo', 'dolor', 'abdominal', 'esporaidcamente', 'ahce', 'ya', 'años', '.', 'la', 'madre', 'reifiere', 'que', 'la', 'niña', 'paso', 'un', 'periodo', 'de', 'tristeza', 'por', 'enfermedad', 'de', 'la', 'madre', 'y', 'recibio', 'apoyo', 'psicologicom', 'por', 'parte', 'de', 'pediatra', 'de', 'cabecera', '.', 'refieren', 'un', 'epsidio', 'de', 'problemas', 'en', 'la', 'escuela', 'con', 'compañeros', 'a', 'inicios', 'de', 'este', 'currso', '.', ',', 'con', 'lo', 'que', 'no', 'vuelve', 'contenta', 'de', 'la', 'escuela', '.', 'se', 'solicita', 'valoracion', 'por', 'psiquiatria', 'de', 'guardia', '.', 'solicitan', 'evalucion', 'de', 'niña', 'de', '11', 'años', ',', 'ingresada', 'para', 'estudio', 'de', 'dolor', 'abdominal', '.', 'se', 'han', 'descartado', 'cuadros', 'organicos', 'de', 'forma', 'urgente', ',', 'siendo', 'las', 'pruebas', 'complementarias', 'realizadas', 'normales', '(', 'fgs', ',', 'tac', ')', '.', 'vive', 'con', 'los', 'padres', '.', 'menor', 'de', '3', 'hermanos', '.', 'padres', 'regentaban', 'un', 'bar', ',', 'actualmente', 'lo', 'han', 'cerrado', ',', 'padre', 'en', 'paro', '.', 'madre', 'fue', 'diagnosticada', 'hace', 'dos', 'años', 'de', 'neoplasia', 'de', 'mama', ',', 'actualmente', 'estable', '.', 'buena', 'estudiante', '.', 'antecedentes', 'familiares', 'psiquiatricos', '.', 'familiar', 'de', 'primer', 'grado', 'consumo', 'perjuicial', 'de', 'alcohol', '.', 'antecedentes', 'personales', 'psiquiatricos', '.', 'no', 'refieren', '.', 'paciente', 'con', 'rasgos', 'de', 'elevado', 'perfeccionismo', ',', 'elevada', 'sensibilidad', 'interpersonal', 'y', 'alta', 'dependencia', 'de', 'la', 'recompensa', '.', 'refiere', 'tendencia', 'a', 'somatizaciones', 'digestivas', 'de', 'siempre', ',', 'relaciona', 'dolor', 'abdominal', 'con', 'momentos', 'de', 'preocupaciones/estres', '.', 'proceso', 'actual', '.', 'explica', 'situacion', 'de', 'bullying', 'escolar', 'a', 'el', 'menos', 'durante', 'dos', 'trimestre', '(', 'en', 'el', 'ultimo', 'año', ')', ',', 'padres', 'refieren', 'que', 'reconducido', 'actualmente', 'por', 'el', 'colegio', '.', 'ademas', 'explica', 'elevado', 'impacto', 'emocional', 'tras', 'diganostico', 'de', 'cancer', 'de', 'la', 'madre', 'hace', 'dos', 'años', ',', 'fallecimiento', 'de', 'un', 'tio', 'hace', 'un', 'año', 'y', 'otro', 'tio', 'afectado', 'por', 'infarto', 'miocardio', '.', 'toda', 'esta', 'situacion', 'ambiental', 'le', 'ha', 'generado', 'mucho', 'preocupacion', ',', 'con', 'tendencia', 'a', 'la', 'tristeza', ',', 'elevada', 'ansiedad', ',', 'sueño', 'fragil', 'con', 'dias', 'de', 'insomnio', ',', 'y', 'tendencia', 'a', 'dolor', 'abdominal', '.', 'a', 'la', 'exploracion', 'c', 'y', 'o.', 'fascies', 'hipoexpresiva', '.', 'palidez', 'cutanea', '.', 'labil', '.', 'hipotimica', '.', 'ansiedad', 'interna', ',', 'no', 'objetivada', '.', 'rigidez', 'gestual', 'y', 'de', 'el', 'discurso', ',', 'algo', 'parco', '.', 'no', 'hay', 'ideas', 'suicidas', 'ni', 'de', 'muerte', '.', 'no', 'hay', 'clinica', 'psicotica', '.', 'nhc', '**', '***', '***', '(', '********', ')', 'ami-v-cdp', '2/3', 'lopd', 'impresion', 'diagnostica', ':', 'clinica', 'ansioso-depresiva', '.', 'distocia', 'familiar', '.', 'plan', ':', 'considero', 'necesaria', 'derivacion', 'a', 'salud', 'mental', 'infanto-juvenil', 'de', 'zona', 'de', 'forma', 'prioritaria', '.', 'hablo', 'con', 'pediatras', ',', 'por', 'el', 'momento', 'se', 'decide', 'no', 'inicio', 'de', 'farmacos', '.', 'orientacio', 'diagnostica', 'r10.9', 'dolor', 'abdominal', 'no', 'especificat', 'f45.0', 'trastorn', 'de', 'somatitzacio', 'procediments', '45.13', 'altres', 'endoscopies', \"d'intesti\", 'prim.', 'esofagogastroduodenoscopia', '[egd]', '45.23', 'colonoscopia', '.', 'colonoscopia', 'de', 'fibra', 'optica', 'flexible', '89.09', 'consulta', ',', 'no', 'especificada', 'de', 'cap', 'altra', 'manera', 'tractament', 'i', 'recomanacions', 'a', \"l'alta\", 'omeprazol', '20', 'mg', ':', '1', 'cp', '/', '24', 'h', '(', '3', 'semanas', ')', 'omegafort', ':', '1', 'caps', 'a', 'el', 'dia', '.', '15', 'dias', 'control', 'se', 'remite', 'a', 'csmij', 'de', 'zona', '.', 'en', 'ccee', 'de', 'gastroenterologia', 'epdiatrica', 'en', 'segunda', 'quincena', 'agosto', '2018', 'destinacio', 'a', \"l'alta\", ':', 'a', 'domicili', 'nhc', '**', '***', '***', '(', '********', ')', 'ami-v-cdp', '3/3', 'lopd']\n",
            "Entities: [(\"******** sexe: dona data de naixement: 07.09.2006 edat: 11 anys procedencia cex mateix hosp servei cirurgia digestiva ped data d'ingres 05.07.2018 data d'alta 06.07.2018\", 'MISC', 44, 213), (\"****** informe d'alta d'hospitalitzacio motiu d'ingres vomitos\", 'MISC', 279, 341), (\"especificat f45.0 trastorn de somatitzacio procediments 45.13 altres endoscopies d'intesti prim.\", 'MISC', 6226, 6322), (\"l'alta: a domicili nhc ** *** ***\", 'MISC', 6699, 6732)]\n",
            "  doc = self._ensure_doc(text)\n",
            "/usr/local/lib/python3.10/dist-packages/spacy/language.py:999: UserWarning: Can't set named entities because of multi-word token expansion or because the character offsets don't map to valid tokens produced by the Stanza tokenizer:\n",
            "Words: ['nº', 'historia', 'clinica', ':', '**', '***', '***', 'nºepisodi', ':', '********', 'sexe', ':', 'dona', 'data', 'de', 'naixement', ':', '16.02.1983', 'edat', ':', '35', 'anys', 'procedencia', 'domicil/res', '.soc', 'servei', 'obstetricia', 'data', \"d'ingres\", '06.07.2018', 'data', \"d'alta\", '08.07.2018', '12:37:28', 'ates', 'per', '**************', ',', '**************', ';', '******************', ',', '*****', 'informe', \"d'alta\", \"d'hospitalitzacio\", 'motiu', \"d'ingres\", 'trabajo', 'de', 'parto', 'exploracio', 'complementaria', 'sintomas', 'de', 'inicio', 'de', 'trabajo', 'de', 'parto', 'antecedentes', 'no', 'alergias', 'medicamentosas', 'conocidas', 'a', 'em', ':', 'sd', 'raynaud', 'y', 'tbc', 'a', 'los', '9', 'años', 'intervenciones', 'quirurgicas', ':', 'apendicectomia', 'niega', 'habitos', 'toxicos', 'no', 'medicacion', 'habitual', '-nacionalidad', ':', 'spain', 'barrera', 'idiomatica', ':', 'no', '-peso', 'inicial', ':', '47.7', 'peso', 'final', ':', '60.5', 'talla', ':', '162', '-edad:35', '-tpal', ':', '1001', '-', 'fur:08/10/17', '-sg', ':', '38', '.5', '-', 'grupo', 'sanguineo', ':', 'o', 'negativo', 'coombs', 'indirecto', ':', 'negatiivo', 'anti', 'd', 'fecha', ':08/05/18', 'resumen', 'gestacional', 'control', 'en', 'cap', 'sin', 'incidencias', '.', '-analiticas', ':', '3er', 'trimestre', ':', 'hemoglobina', '10.7', ',', 'hematocrito', '33.2', ',', 'plaquetas', '209', ',', 'coagulacion', ':', 't', 'quik0.93', ',', 'ttpa22.2', '-triple', 'screening', ':', 'bajo', 'riesgo', '.', '-serologias', ':', 'negativas', 'para', 'vih', ',', 'vhb', ',', 'vhc', ',', 'lues', ',', 'chagas', 'y', '.', 'rubeola', 'inmune', '.', '-o´sullivan', ':', '113', '-urocultivo', ':', 'negativo', '-cultivo', 'vaginal/rectal', ':', 'negativo', 'fecha', 'de', 'realizacion', ':', '05/06/18', '-ecografia', '3er', 'trimestre', ':', 'presentacion', ':', 'cefalica', ',', 'peso', 'fetal', 'estimado', ':', '2500', ',', 'percentil:83', ',', 'liquido', 'amniotico', 'normal', ',', 'doppler', 'normal', ',', 'insercion', 'placentaria', ':', 'posterior', ',', 'cordon', 'tres', 'vasos', '.', 'exploracion', 'fisica', '-buen', 'estado', 'general', ',', 'consciente', 'y', 'orientada', ',', 'normohidratada', 'y', 'normocoloreada', '.', '-', 'constantes', 'a', 'el', 'ingreso', ':', 'tension', 'arterial', ':', ',', 'frecuencia', 'cardiaca', ':', ',', 'temperatura', ':', '-abdomen', ':', 'gravido', ',', 'acorde', 'con', 'semanas', 'de', 'gestacion', ',', 'no', 'hipertono', ',', 'no', 'hipersensibilidad', '.', '-', 'nst', ':', 'variable', 'y', 'rectivo', ',', 'lb', '140x', \"'\", ',', 'du', 'regular', '-latido', 'fetal', 'con', 'sonicaid', ':', 'positivo', '-', 'no', 'metrorragia', ',', 'no', 'hidrorrea', '.', 'rpm', '(', 'dia', 'y', 'hora', ')', '-tv', ':', 'cx', 'centrado', ',', 'borrado', '6cm', 'dilatacion', ',', 'cef', 'ins', ',', 'bai', 'nhc', '**', '***', '***', '(', '********', ')', 'ami-v-obs', '1/3', 'lopd', 'orientacion', 'diagnostica', ':', '-trabajo', 'de', 'parto', 'plan', ':', '-ingreso', 'en', 'partos', 'por', 'trabajo', 'de', 'parto', ':', 'aporta', 'plan', 'de', 'parto', 'desea', 'analgesia', 'peridural', 'desea', 'lactancia', 'materna', 'evolucio', 'clinica', 'dia', 'de', 'el', 'parto', 'parto', 'eutocico', 'el', 'dia', '06/07/2018', 'a', 'las', '05:47h', '.', 'obtencion', 'de', 'rn', 'sexo', 'mujer', ',', 'peso', '3.760gr', 'y', 'apgar', '9/10', '.', 'rubeola', ':', 'inmune', 'gs', 'madre', ':', 'o', 'rh', ':', 'negativo', 'rh', 'rn', ':', 'positivo', 'pendiente', 'administrar', 'gammaglobulina', 'anti', 'd', '.', 'lactancia', 'materna', '.', 'se', 'realiza', 'educacion', 'sanitaria', 'para', 'la', 'lactancia', '.', 'perdidas', 'vaginales', 'normales', 'y', 'adecuada', 'involucion', 'uterina', '.', 'constantes', 'dentro', 'de', 'la', 'normalidad', '.', 'tolera', 'ingesta', 'oral', '.', 'pendiente', 'de', 'deambulacion', 'y', 'miccion', '.', 'mamas', ':', 'calostro', 'bilateral', '.', 'abd', ':', 'no', 'doloroso', ',', 'utero', 'tonico', ',', 'au', ':', '1/0', '.', 'perine', ':', 'desgarro', 'de', 'i', 'grado', 'en', 'horquilla', 'vaginal', '.', 'suturas', 'sin', 'signos', 'de', 'infeccion', ',', 'proceso', 'de', 'cicatrizacion', 'correcto', '.', 'tv', ':', 'libre', 'de', 'taponamiento', ',', 'loquios', 'no', 'malolientes', '.', 'no', 'signos', 'de', 'tvp', ',', 'no', 'edemas', 'maleolares', '.', 'plan', ':', 'alta', '08/07/2018', '.', 'el', 'puerperio', 'transcurre', 'dentro', 'de', 'la', 'normalidad', ',', 'permaneciendo', 'apiretica', ',', 'normotensa', ',', 'no', 'taquicardica', 'y', 'con', 'buen', 'estado', 'general', '.', 'utero', 'bien', 'contraido', ',', 'con', 'perdidas', 'vaginales', 'escasas', '.', 'mamas', ':', 'calostro', 'bilateral', '.', 'diagnosticos', 'madre', 'rh', 'negativo', 'trabajo', 'de', 'parto', 'desgarro', 'de', 'i', 'grado', 'en', 'horquilla', 'vaginal', 'puerperio', 'procedimientos', 'venoclisis', 'monitorizacion', 'estimulacion', 'con', 'oxitocina', 'anestesia', 'peridural', 'atencion', 'de', 'el', 'parto', 'nhc', '**', '***', '***', '(', '********', ')', 'ami-v-obs', '2/3', 'lopd', 'revision', 'de', 'el', 'canal', 'blando', 'de', 'el', 'parto', 'sutura', 'de', 'desgarro', 'uterotonicos', 'analgesicos', 'ferroterapia', 'sueroterapia', 'analiticas', 'gammaglobulina', 'anti', 'd', '?', '?', '?', '?', '?', '?', '?', 'recomendaciones', 'control', 'por', 'su', 'comadrona', 'de', 'zona', 'en', '7', 'dias', '.', 'volver', 'a', 'urgencias', 'ante', 'cualquier', 'sintoma', 'de', 'alarma', '.', 'valorar', 'prolapso', 'uterino', 'a', 'el', 'finalizar', 'el', 'puerperio', '.', 'hierro', '1', 'comprimido', 'a', 'el', 'dia', 'en', 'ayunas', 'durante', '2', 'meses', '(', 'con', 'zumo', 'de', 'naranja', 'o', 'fruta', 'con', 'vitamina', 'c', 'para', 'mejorar', 'la', 'absorcion', ')', '.', 'acido', 'folico', '1', 'a', 'el', 'dia', 'durante', 'la', 'lactancia', '.', 'paracetamol', '1gr', 'cada', '8', 'horas', 'si', 'precisa', 'para', 'el', 'dolor', '.', 'abundante', 'ingesta', 'de', 'liquidos', 'y', 'comida', 'variada', 'y', 'equilibrada', '.', 'lavado', 'diario', 'de', 'el', 'perine', 'con', 'agua', 'y', 'jabon', 'neutro', '.', 'mantener', 'lo', 'bien', 'seco', 'con', 'ayuda', 'de', 'una', 'compresa', 'o', 'toalla', '.', 'no', 'realizar', 'inmersion', 'en', 'bañera', ',', 'piscina', 'o', 'mar', 'hasta', 'finalizado', 'el', 'puerperio', '.', 'vida', 'normal', 'con', 'actividad', 'fisica', 'leve/moderada', '.', 'evitar', 'coger', 'peso', 'y', 'ejercicios', 'de', 'alto', 'impacto', '.', 'si', 'presenta', 'congestion', 'de', 'las', 'mamas', 'dar', 'un', 'masaje', 'antes', 'de', 'las', 'tomas', '.', 'amamantar', 'frecuentemente', 'a', 'el', 'bebe', '.', 'si', 'persiste', 'dolor', 'despues', 'de', 'la', 'toma', ',', 'aplicar', 'frio', 'local', '.', 'orientacio', 'diagnostica', 'z3a.38', '38', 'setmanes', 'de', 'gestacio', 'o80', 'assistencia', 'per', 'a', 'part', 'a', 'ter', 'me', 'no', 'complicat', 'control', 'recomendaciones', 'control', 'por', 'su', 'comadrona', 'de', 'zona', 'en', '7', 'dias', '.', 'se', 'explican', 'signos', 'y', 'sintomas', 'de', 'alarma', 'para', 'acudir', 'a', 'urgencias', 'y', 'lo', 'entiende', '.', 'destinacio', 'a', \"l'alta\", ':', 'a', 'domicili', 'nhc', '**', '***', '***', '(', '********', ')', 'ami-v-obs', '3/3', 'lopd']\n",
            "Entities: [(\"******** sexe: dona data de naixement: 16.02.1983 edat: 35 anys procedencia domicil/res.soc servei obstetricia data d'ingres 06.07.2018 data d'alta 08.07.2018\", 'MISC', 44, 202), ('sd raynaud', 'MISC', 463, 473)]\n",
            "  doc = self._ensure_doc(text)\n",
            "/usr/local/lib/python3.10/dist-packages/spacy/language.py:999: UserWarning: Can't set named entities because of multi-word token expansion or because the character offsets don't map to valid tokens produced by the Stanza tokenizer:\n",
            "Words: ['nº', 'historia', 'clinica', ':', '**', '***', '***', 'nºepisodi', ':', '********', 'sexe', ':', 'dona', 'data', 'de', 'naixement', ':', '10.10.1937', 'edat', ':', '80', 'anys', 'procedencia', 'cex', 'mateix', 'hosp', 'servei', 'cirurgia', 'plastica', 'i', 'data', \"d'ingres\", '19.07.2018', 'data', \"d'alta\", '27.07.2018', '08:59:10', 'ates', 'per', '**************', ',', '***', ';', '*************', ',', '**************', ';', '***********', ',', '******', 'informe', \"d'alta\", \"d'hospitalitzacio\", 'motiu', \"d'ingres\", 'paciente', 'ingresa', 'para', 'cirugia', 'programada', '.', 'antecedents', 'no', 'alergias', 'medicamentosas', 'conocidas', '.', 'hta', '.', 'dislipemia', '.', 'insomnio', 'colecistectomia', 'herniorrafia', 'inguinal', 'derecha', 'proces', 'actual', 'paciente', 'de', '80', 'años', 'que', 'ingresa', 'para', 'intervencion', 'programda', ':', 'melanoma', 'cutaneo', '+', 'biopsia', 'ganglio', 'centinela', 'exploracio', 'complementaria', 'preoperatorio', 'correcto', 'valorado', 'por', 'anestesiologia', '.', 'evolucio', 'clinica', 'el', 'dia', '20/7/2018', 'se', 'realiza', 'intervencion', 'quirurgica', 'bajo', 'anesteisa', 'regional', 'se', 'realiza', 'exeresis', 'de', 'melanoma', 'en', 'la', 'pierna', 'izquierda', 'con', 'margenes', 'y', 'cobertura', 'con', 'autoinjerto', 'cutaneo', 'de', 'espesor', 'parcial', 'obtenido', 'de', 'el', 'muslo', 'izquierdo', 'y', 'biopsia', 'selectiva', 'de', 'el', 'ganglio', 'centinela', '.', 'sin', 'incidencias', 'intraoperatorias', '.', 'postoperatorio', 'correcto', '.', 'durante', 'su', 'estancia', 'hospitalaria', 'sin', 'incidencias', '.', 'en', 'estos', 'momentos', 'se', 'encuentra', 'con', 'buen', 'estado', 'general', ',', 'estable', 'a', 'nivel', 'hemodinamico', 'y', 'respiratorio', ',', 'afebril', ',', 'buen', 'control', 'de', 'el', 'dolor', 'y', 'tolerando', 'correctamente', 'via', 'oral', '.', 'localmente', ',', 'los', 'injertos', 'presentan', 'buen', 'aspecto', ',', 'prendidos', 'y', 'estables', 'en', 'su', 'mayor', 'parte', ',', 'sin', 'signos', 'de', 'complicacion', 'local', '(', 'no', 'signos', 'de', 'infeccion', 'ni', 'presencia', 'de', 'colecciones', 'hematicas', 'ni', 'purulentas', ')', '.', 'la', 'zona', 'donante', 'ha', 'curado', 'de', 'manera', 'espontanea', 'en', 'su', 'mayor', 'parte', ',', 'siendo', 'previsible', 'que', 'en', 'los', 'proximos', 'dias', 'epitelize', 'por', 'completo', 'por', 'todo', 'ello', 'y', 'dada', 'su', 'buena', 'evolucion', ',', 'se', 'decide', 'alta', 'hospitalaria', 'y', 'control', 'de', 'forma', 'ambulatoria', 'con', 'los', 'cuidados', 'y', 'curas', 'indicados', '.', 'tractament', 'i', 'recomanacions', 'a', \"l'alta\", 'paracetamol', '1gr', 'c/', '8horas', 'si', 'dolor', '.', 'metamizol', '575', 'mg', 'c/8horas', 'si', 'dolor', 'incontrolado', 'con', 'el', 'paracetamol', ',', 'intercalado', 'con', 'el', 'anterior', '.', 'nhc', '**', '***', '***', '(', '********', ')', 'atr-v-cpl', '1/2', 'lopd', 'mantener', 'los', 'vendajes', 'limpios', 'y', 'secos', '.', 'no', 'tocar', 'curas', 'hasta', 'nueva', 'orden', 'medica', '.', 'reposo', 'relativo', 'con', 'extremidad', 'afecta', 'elevada', '.', 'acudir', 'a', 'urgencias', 'si', 'complicaciones', '(', 'fiebre', 'termometrada', '&gt;38ºc', ',', 'mal', 'estado', 'general', '...', ')', 'control', 'acudir', 'a', 'los', 'controles', 'segun', 'las', 'citas', 'adjuntas', '.', 'destinacio', 'a', \"l'alta\", ':', 'a', 'domicili', 'nhc', '**', '***', '***', '(', '********', ')', 'atr-v-cpl', '2/2', 'lopd']\n",
            "Entities: [(\"******** sexe: dona data de naixement: 10.10.1937 edat: 80 anys procedencia cex mateix hosp servei cirurgia plastica i data d'ingres 19.07.2018 data d'alta 27.07.2018\", 'MISC', 44, 210), (\"****** informe d'alta d'hospitalitzacio motiu d'ingres paciente ingresa para cirugia programada\", 'MISC', 294, 389)]\n",
            "  doc = self._ensure_doc(text)\n"
          ]
        }
      ],
      "source": [
        "# With spacy and medical diagnosis\n",
        "dict_scopes_spacy = {}\n",
        "for i, text in enumerate(texts):\n",
        "  if i > 10:\n",
        "    break\n",
        "  else:\n",
        "    pos_tags = obtain_tags(text)\n",
        "    scopes_spacy = obtain_scopes2(pos_tags, neg_unc_words)\n",
        "    dict_scopes_spacy.update(scopes_spacy)"
      ]
    },
    {
      "cell_type": "code",
      "execution_count": 185,
      "metadata": {
        "colab": {
          "base_uri": "https://localhost:8080/"
        },
        "id": "qQOZXTclIGpe",
        "outputId": "9159bdff-6c23-4f6b-93ce-17896169d299"
      },
      "outputs": [
        {
          "data": {
            "text/plain": [
              "{'sin': ['incidencias intraoperatorias'],\n",
              " 'no': ['alergias medicamentosas'],\n",
              " 'negativo': ['coombs indirecto'],\n",
              " 'probablemente': ['secundarios viriasis elevacion reactantes valora conjuntamente equipo hematologia decide realizar para valoracion realiza procedimiento sedacion incidencias posteriores'],\n",
              " 'probable': ['etiologia inmune'],\n",
              " 'neg': ['rub inm toxo - lues vhc vhb vih chagas ts bajo riesgo 2t 12.5 osullivan 111 3r t :hb11.8 htc 35.7% pqtaqs 256 coag coomb sneg uro hiv cultivo vaginal/rectal ecografias 1r tm 12+3w congruente crl 62.5mm tn 1.4mm 2o 11.1.18 20+5 morfologia normal'],\n",
              " 'sense': ['al·lergies conegudes fisiologics hernia hiato meningitis proces actual niña años con cuadro abodmonal'],\n",
              " 'negativa': ['administro dosis presentando pico 39,3ºc durante la mala tolerancia realizado sanguinea control consutan persistencia &lt;38ºc refieren sangrado ningun nivel inflamacion periungeal'],\n",
              " 'niega': ['habitos toxicos']}"
            ]
          },
          "execution_count": 185,
          "metadata": {},
          "output_type": "execute_result"
        }
      ],
      "source": [
        "dict_scopes_spacy"
      ]
    }
  ],
  "metadata": {
    "colab": {
      "provenance": []
    },
    "kernelspec": {
      "display_name": "Python 3",
      "name": "python3"
    },
    "language_info": {
      "name": "python",
      "version": "3.10.10"
    },
    "widgets": {
      "application/vnd.jupyter.widget-state+json": {
        "05a568d8bab84531b2d9fe181ab3e999": {
          "model_module": "@jupyter-widgets/controls",
          "model_module_version": "1.5.0",
          "model_name": "HTMLModel",
          "state": {
            "_dom_classes": [],
            "_model_module": "@jupyter-widgets/controls",
            "_model_module_version": "1.5.0",
            "_model_name": "HTMLModel",
            "_view_count": null,
            "_view_module": "@jupyter-widgets/controls",
            "_view_module_version": "1.5.0",
            "_view_name": "HTMLView",
            "description": "",
            "description_tooltip": null,
            "layout": "IPY_MODEL_1f9553effcd84303bfbf28a9c7df8c24",
            "placeholder": "​",
            "style": "IPY_MODEL_48ad450740cc40b5a6b1d8dbd9ce2643",
            "value": " 216k/? [00:00&lt;00:00, 4.91MB/s]"
          }
        },
        "1f9553effcd84303bfbf28a9c7df8c24": {
          "model_module": "@jupyter-widgets/base",
          "model_module_version": "1.2.0",
          "model_name": "LayoutModel",
          "state": {
            "_model_module": "@jupyter-widgets/base",
            "_model_module_version": "1.2.0",
            "_model_name": "LayoutModel",
            "_view_count": null,
            "_view_module": "@jupyter-widgets/base",
            "_view_module_version": "1.2.0",
            "_view_name": "LayoutView",
            "align_content": null,
            "align_items": null,
            "align_self": null,
            "border": null,
            "bottom": null,
            "display": null,
            "flex": null,
            "flex_flow": null,
            "grid_area": null,
            "grid_auto_columns": null,
            "grid_auto_flow": null,
            "grid_auto_rows": null,
            "grid_column": null,
            "grid_gap": null,
            "grid_row": null,
            "grid_template_areas": null,
            "grid_template_columns": null,
            "grid_template_rows": null,
            "height": null,
            "justify_content": null,
            "justify_items": null,
            "left": null,
            "margin": null,
            "max_height": null,
            "max_width": null,
            "min_height": null,
            "min_width": null,
            "object_fit": null,
            "object_position": null,
            "order": null,
            "overflow": null,
            "overflow_x": null,
            "overflow_y": null,
            "padding": null,
            "right": null,
            "top": null,
            "visibility": null,
            "width": null
          }
        },
        "2bf5253e80fa4e4796d13264014379be": {
          "model_module": "@jupyter-widgets/base",
          "model_module_version": "1.2.0",
          "model_name": "LayoutModel",
          "state": {
            "_model_module": "@jupyter-widgets/base",
            "_model_module_version": "1.2.0",
            "_model_name": "LayoutModel",
            "_view_count": null,
            "_view_module": "@jupyter-widgets/base",
            "_view_module_version": "1.2.0",
            "_view_name": "LayoutView",
            "align_content": null,
            "align_items": null,
            "align_self": null,
            "border": null,
            "bottom": null,
            "display": null,
            "flex": null,
            "flex_flow": null,
            "grid_area": null,
            "grid_auto_columns": null,
            "grid_auto_flow": null,
            "grid_auto_rows": null,
            "grid_column": null,
            "grid_gap": null,
            "grid_row": null,
            "grid_template_areas": null,
            "grid_template_columns": null,
            "grid_template_rows": null,
            "height": null,
            "justify_content": null,
            "justify_items": null,
            "left": null,
            "margin": null,
            "max_height": null,
            "max_width": null,
            "min_height": null,
            "min_width": null,
            "object_fit": null,
            "object_position": null,
            "order": null,
            "overflow": null,
            "overflow_x": null,
            "overflow_y": null,
            "padding": null,
            "right": null,
            "top": null,
            "visibility": null,
            "width": null
          }
        },
        "2c720c1af773446ea5d1144ecdb445f2": {
          "model_module": "@jupyter-widgets/base",
          "model_module_version": "1.2.0",
          "model_name": "LayoutModel",
          "state": {
            "_model_module": "@jupyter-widgets/base",
            "_model_module_version": "1.2.0",
            "_model_name": "LayoutModel",
            "_view_count": null,
            "_view_module": "@jupyter-widgets/base",
            "_view_module_version": "1.2.0",
            "_view_name": "LayoutView",
            "align_content": null,
            "align_items": null,
            "align_self": null,
            "border": null,
            "bottom": null,
            "display": null,
            "flex": null,
            "flex_flow": null,
            "grid_area": null,
            "grid_auto_columns": null,
            "grid_auto_flow": null,
            "grid_auto_rows": null,
            "grid_column": null,
            "grid_gap": null,
            "grid_row": null,
            "grid_template_areas": null,
            "grid_template_columns": null,
            "grid_template_rows": null,
            "height": null,
            "justify_content": null,
            "justify_items": null,
            "left": null,
            "margin": null,
            "max_height": null,
            "max_width": null,
            "min_height": null,
            "min_width": null,
            "object_fit": null,
            "object_position": null,
            "order": null,
            "overflow": null,
            "overflow_x": null,
            "overflow_y": null,
            "padding": null,
            "right": null,
            "top": null,
            "visibility": null,
            "width": null
          }
        },
        "48ad450740cc40b5a6b1d8dbd9ce2643": {
          "model_module": "@jupyter-widgets/controls",
          "model_module_version": "1.5.0",
          "model_name": "DescriptionStyleModel",
          "state": {
            "_model_module": "@jupyter-widgets/controls",
            "_model_module_version": "1.5.0",
            "_model_name": "DescriptionStyleModel",
            "_view_count": null,
            "_view_module": "@jupyter-widgets/base",
            "_view_module_version": "1.2.0",
            "_view_name": "StyleView",
            "description_width": ""
          }
        },
        "572f77a5bb2545b99316c3b60d1b7e0f": {
          "model_module": "@jupyter-widgets/base",
          "model_module_version": "1.2.0",
          "model_name": "LayoutModel",
          "state": {
            "_model_module": "@jupyter-widgets/base",
            "_model_module_version": "1.2.0",
            "_model_name": "LayoutModel",
            "_view_count": null,
            "_view_module": "@jupyter-widgets/base",
            "_view_module_version": "1.2.0",
            "_view_name": "LayoutView",
            "align_content": null,
            "align_items": null,
            "align_self": null,
            "border": null,
            "bottom": null,
            "display": null,
            "flex": null,
            "flex_flow": null,
            "grid_area": null,
            "grid_auto_columns": null,
            "grid_auto_flow": null,
            "grid_auto_rows": null,
            "grid_column": null,
            "grid_gap": null,
            "grid_row": null,
            "grid_template_areas": null,
            "grid_template_columns": null,
            "grid_template_rows": null,
            "height": null,
            "justify_content": null,
            "justify_items": null,
            "left": null,
            "margin": null,
            "max_height": null,
            "max_width": null,
            "min_height": null,
            "min_width": null,
            "object_fit": null,
            "object_position": null,
            "order": null,
            "overflow": null,
            "overflow_x": null,
            "overflow_y": null,
            "padding": null,
            "right": null,
            "top": null,
            "visibility": null,
            "width": null
          }
        },
        "7b804db13fb04e43afdc16d2178d27e1": {
          "model_module": "@jupyter-widgets/controls",
          "model_module_version": "1.5.0",
          "model_name": "DescriptionStyleModel",
          "state": {
            "_model_module": "@jupyter-widgets/controls",
            "_model_module_version": "1.5.0",
            "_model_name": "DescriptionStyleModel",
            "_view_count": null,
            "_view_module": "@jupyter-widgets/base",
            "_view_module_version": "1.2.0",
            "_view_name": "StyleView",
            "description_width": ""
          }
        },
        "abd621dfae88413689356556f0701e06": {
          "model_module": "@jupyter-widgets/controls",
          "model_module_version": "1.5.0",
          "model_name": "HTMLModel",
          "state": {
            "_dom_classes": [],
            "_model_module": "@jupyter-widgets/controls",
            "_model_module_version": "1.5.0",
            "_model_name": "HTMLModel",
            "_view_count": null,
            "_view_module": "@jupyter-widgets/controls",
            "_view_module_version": "1.5.0",
            "_view_name": "HTMLView",
            "description": "",
            "description_tooltip": null,
            "layout": "IPY_MODEL_2bf5253e80fa4e4796d13264014379be",
            "placeholder": "​",
            "style": "IPY_MODEL_7b804db13fb04e43afdc16d2178d27e1",
            "value": "Downloading https://raw.githubusercontent.com/stanfordnlp/stanza-resources/main/resources_1.5.0.json: "
          }
        },
        "ae684f54a34a49a48a36383495c2112d": {
          "model_module": "@jupyter-widgets/controls",
          "model_module_version": "1.5.0",
          "model_name": "HBoxModel",
          "state": {
            "_dom_classes": [],
            "_model_module": "@jupyter-widgets/controls",
            "_model_module_version": "1.5.0",
            "_model_name": "HBoxModel",
            "_view_count": null,
            "_view_module": "@jupyter-widgets/controls",
            "_view_module_version": "1.5.0",
            "_view_name": "HBoxView",
            "box_style": "",
            "children": [
              "IPY_MODEL_abd621dfae88413689356556f0701e06",
              "IPY_MODEL_dfc428aa1fb54888969fde515ac3b6f1",
              "IPY_MODEL_05a568d8bab84531b2d9fe181ab3e999"
            ],
            "layout": "IPY_MODEL_572f77a5bb2545b99316c3b60d1b7e0f"
          }
        },
        "d2f011615d4f469c8afd67f335ff0214": {
          "model_module": "@jupyter-widgets/controls",
          "model_module_version": "1.5.0",
          "model_name": "ProgressStyleModel",
          "state": {
            "_model_module": "@jupyter-widgets/controls",
            "_model_module_version": "1.5.0",
            "_model_name": "ProgressStyleModel",
            "_view_count": null,
            "_view_module": "@jupyter-widgets/base",
            "_view_module_version": "1.2.0",
            "_view_name": "StyleView",
            "bar_color": null,
            "description_width": ""
          }
        },
        "dfc428aa1fb54888969fde515ac3b6f1": {
          "model_module": "@jupyter-widgets/controls",
          "model_module_version": "1.5.0",
          "model_name": "FloatProgressModel",
          "state": {
            "_dom_classes": [],
            "_model_module": "@jupyter-widgets/controls",
            "_model_module_version": "1.5.0",
            "_model_name": "FloatProgressModel",
            "_view_count": null,
            "_view_module": "@jupyter-widgets/controls",
            "_view_module_version": "1.5.0",
            "_view_name": "ProgressView",
            "bar_style": "success",
            "description": "",
            "description_tooltip": null,
            "layout": "IPY_MODEL_2c720c1af773446ea5d1144ecdb445f2",
            "max": 30022,
            "min": 0,
            "orientation": "horizontal",
            "style": "IPY_MODEL_d2f011615d4f469c8afd67f335ff0214",
            "value": 30022
          }
        }
      }
    }
  },
  "nbformat": 4,
  "nbformat_minor": 0
}
