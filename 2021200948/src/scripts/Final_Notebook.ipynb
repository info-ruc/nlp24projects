{
  "cells": [
    {
      "cell_type": "markdown",
      "metadata": {
        "id": "ek3uqc2NPAq6"
      },
      "source": [
        "# $\\color{palevioletred}{\\text{Negation and Uncertainty Detection: Rule-Based and Deep Learning Approaches}}$\n",
        "\n",
        "---\n",
        "\n",
        "## Project Description\n",
        "\n",
        "---\n",
        "\n",
        "The project focuses on developing effective methods for detecting negation and uncertainty cues in natural language text. It employs both rule-based and deep learning approaches to tackle this task.\n",
        "\n",
        "In the rule-based approach, a set of predefined linguistic rules and patterns are designed to identify and extract negation and uncertainty cues.\n",
        "\n",
        "In contrast, the deep learning approach utilizes neural network models. This models are trained using labeled data, where input text samples are associated with annotations indicating the presence of negation and uncertainty cues, as well as their scopes. \n",
        "\n",
        "The project's ultimate goal is to develop a robust and accurate system for negation and uncertainty detection in natural language.\n",
        "\n",
        "---\n",
        "\n",
        "## Initialization\n",
        "\n",
        "---\n",
        "\n",
        "\n",
        "### $\\color{palevioletred}{\\text{(1) Loading Modules and Dependencies}}$"
      ]
    },
    {
      "cell_type": "code",
      "execution_count": null,
      "metadata": {
        "id": "rGnM-XgbShPl"
      },
      "outputs": [],
      "source": [
        "import sys\n",
        "!{sys.executable} -m pip install spacy\n",
        "!{sys.executable} -m pip install negspacy\n",
        "!{sys.executable} -m pip install spacy_stanza "
      ]
    },
    {
      "cell_type": "code",
      "execution_count": null,
      "metadata": {
        "id": "sRu94NZ0vDSO"
      },
      "outputs": [],
      "source": [
        "!pip install wandb"
      ]
    },
    {
      "cell_type": "code",
      "execution_count": 2,
      "metadata": {
        "colab": {
          "base_uri": "https://localhost:8080/"
        },
        "id": "eVjBxD_npoSr",
        "outputId": "deb3d9d2-32fb-4964-dc96-d93547eae888"
      },
      "outputs": [
        {
          "name": "stdout",
          "output_type": "stream",
          "text": [
            "Looking in indexes: https://pypi.org/simple, https://us-python.pkg.dev/colab-wheels/public/simple/\n",
            "Collecting colorama\n",
            "  Downloading colorama-0.4.6-py2.py3-none-any.whl (25 kB)\n",
            "Installing collected packages: colorama\n",
            "Successfully installed colorama-0.4.6\n"
          ]
        }
      ],
      "source": [
        "!pip install colorama"
      ]
    },
    {
      "cell_type": "code",
      "execution_count": 3,
      "metadata": {
        "colab": {
          "base_uri": "https://localhost:8080/"
        },
        "id": "XwcnRC_hZvHs",
        "outputId": "3a657d77-8aea-4521-d032-926735ab6676"
      },
      "outputs": [
        {
          "name": "stdout",
          "output_type": "stream",
          "text": [
            "Looking in indexes: https://pypi.org/simple, https://us-python.pkg.dev/colab-wheels/public/simple/\n",
            "Requirement already satisfied: prettytable in /usr/local/lib/python3.10/dist-packages (0.7.2)\n"
          ]
        }
      ],
      "source": [
        "!pip install prettytable"
      ]
    },
    {
      "cell_type": "code",
      "execution_count": 6,
      "metadata": {
        "colab": {
          "base_uri": "https://localhost:8080/"
        },
        "id": "GuQ-_-apNwUa",
        "outputId": "cd12b15c-c09a-43e0-f04c-efca69c523df"
      },
      "outputs": [
        {
          "name": "stderr",
          "output_type": "stream",
          "text": [
            "[nltk_data] Downloading package punkt to /root/nltk_data...\n",
            "[nltk_data]   Unzipping tokenizers/punkt.zip.\n",
            "[nltk_data] Downloading package averaged_perceptron_tagger to\n",
            "[nltk_data]     /root/nltk_data...\n",
            "[nltk_data]   Unzipping taggers/averaged_perceptron_tagger.zip.\n"
          ]
        },
        {
          "data": {
            "text/plain": [
              "True"
            ]
          },
          "execution_count": 6,
          "metadata": {},
          "output_type": "execute_result"
        }
      ],
      "source": [
        "# Needed libraries\n",
        "import json\n",
        "import os\n",
        "import pickle\n",
        "\n",
        "import numpy as np\n",
        "\n",
        "import torch\n",
        "import torch.nn as nn\n",
        "import torch.optim as optim\n",
        "from torch.utils.data import DataLoader\n",
        "import torchtext\n",
        "\n",
        "import matplotlib.pyplot as plt\n",
        "\n",
        "from sklearn.model_selection import train_test_split\n",
        "from sklearn.metrics import confusion_matrix, classification_report, ConfusionMatrixDisplay\n",
        "\n",
        "from collections import Counter\n",
        "\n",
        "from prettytable import PrettyTable\n",
        "\n",
        "#import wandb\n",
        "\n",
        "import spacy\n",
        "import stanza\n",
        "import spacy_stanza\n",
        "\n",
        "from torchtext.vocab import Vocab\n",
        "from torch.utils.data import Dataset\n",
        "\n",
        "from colorama import Fore, Style\n",
        "import textwrap\n",
        "\n",
        "import random\n",
        "import math\n",
        "\n",
        "import re\n",
        "\n",
        "import nltk\n",
        "nltk.download('punkt')\n",
        "nltk.download('averaged_perceptron_tagger')"
      ]
    },
    {
      "cell_type": "markdown",
      "metadata": {
        "id": "z8JD1Te_ktHn"
      },
      "source": [
        "- Loading data"
      ]
    },
    {
      "cell_type": "code",
      "execution_count": 7,
      "metadata": {
        "id": "C3L7ZFLrksby"
      },
      "outputs": [],
      "source": [
        "with open(\"negacio_uab_revised_version.json\", \"r\", encoding=\"utf-8\") as f:\n",
        "    data = json.load(f)"
      ]
    },
    {
      "cell_type": "markdown",
      "metadata": {
        "id": "pvxkBtHPRBe6"
      },
      "source": [
        "---\n",
        "\n",
        "## Rule-Based Approach\n",
        "\n",
        "---\n"
      ]
    },
    {
      "cell_type": "markdown",
      "metadata": {
        "id": "k_r24imVjfOb"
      },
      "source": [
        "\n",
        "### $\\color{palevioletred}{\\text{(1) First attempt}}$"
      ]
    },
    {
      "cell_type": "markdown",
      "metadata": {
        "id": "K7AXNNYVCZBj"
      },
      "source": [
        "To start with, we thought on the most basic approach for the rule-based method, which consisted in the use of a fixed-size window. After that, we thought on another way to approach this: by looking at the part of speech tags of each word, and adding all the words after a cue, and stops when finds a given pattern."
      ]
    },
    {
      "cell_type": "code",
      "execution_count": null,
      "metadata": {
        "id": "I3jMw8YMRTPm"
      },
      "outputs": [],
      "source": [
        "# Store in lists data that could be useful later on\n",
        "texts = []\n",
        "start = []\n",
        "end = []\n",
        "labels = []\n",
        "\n",
        "for i in range(len(data)):\n",
        "    if i != 183:\n",
        "        texts.append(data[i]['data']['text'])\n",
        "        start.append(data[i]['predictions'][0]['result'][0]['value']['start'])\n",
        "        end.append(data[i]['predictions'][0]['result'][0]['value']['end'])\n",
        "        labels.append(data[i]['predictions'][0]['result'][0]['value']['labels'][0])"
      ]
    },
    {
      "cell_type": "markdown",
      "metadata": {
        "id": "6Ag3gWJBE1Av"
      },
      "source": [
        "Define some rules, extracting the words whose labels are 'NEG' or 'UNC', so that we can have an idea of cues that usually appear in real diagnoses."
      ]
    },
    {
      "cell_type": "code",
      "execution_count": null,
      "metadata": {
        "id": "NzQv7Pv8aXvW"
      },
      "outputs": [],
      "source": [
        "# Define the rules\n",
        "rules = []\n",
        "negation_words = []\n",
        "uncertainty_words = []\n",
        "\n",
        "for text, start_ind, end_ind, label in zip(texts, start, end, labels):\n",
        "  if label == 'NEG':\n",
        "    if text[start_ind:end_ind-1] not in negation_words:\n",
        "      negation_words.append(text[start_ind:end_ind-1])\n",
        "  elif label == 'UNC':\n",
        "    if text[start_ind:end_ind-1] not in uncertainty_words:\n",
        "      uncertainty_words.append(text[start_ind:end_ind-1])"
      ]
    },
    {
      "cell_type": "code",
      "execution_count": null,
      "metadata": {
        "colab": {
          "base_uri": "https://localhost:8080/"
        },
        "id": "Q1jEuCIyaYfa",
        "outputId": "db5a39e5-f97b-47f3-95f9-8704467e4a8b"
      },
      "outputs": [
        {
          "data": {
            "text/plain": [
              "[{'keyword': 'sin', 'category': 'NEG'},\n",
              " {'keyword': 'no', 'category': 'NEG'},\n",
              " {'keyword': 'ex-fumador', 'category': 'NEG'},\n",
              " {'keyword': 'negativo', 'category': 'NEG'},\n",
              " {'keyword': 'niega', 'category': 'NEG'},\n",
              " {'keyword': 'neg', 'category': 'NEG'},\n",
              " {'keyword': 'nega', 'category': 'NEG'},\n",
              " {'keyword': 'negativa', 'category': 'NEG'},\n",
              " {'keyword': 'inestabilidad', 'category': 'NEG'},\n",
              " {'keyword': 'niegan', 'category': 'NEG'},\n",
              " {'keyword': 'desorientacion', 'category': 'NEG'},\n",
              " {'keyword': 'sense', 'category': 'NEG'},\n",
              " {'keyword': 'ex fumador', 'category': 'NEG'},\n",
              " {'keyword': 'probable', 'category': 'UNC'},\n",
              " {'keyword': 'sugestivo de', 'category': 'UNC'},\n",
              " {'keyword': 'sospecha de', 'category': 'UNC'},\n",
              " {'keyword': 'dudoso', 'category': 'UNC'},\n",
              " {'keyword': 'sospecha', 'category': 'UNC'},\n",
              " {'keyword': 'compatible con', 'category': 'UNC'},\n",
              " {'keyword': 'posible', 'category': 'UNC'},\n",
              " {'keyword': 'probablemente', 'category': 'UNC'},\n",
              " {'keyword': 'sospechosa de', 'category': 'UNC'}]"
            ]
          },
          "execution_count": 6,
          "metadata": {},
          "output_type": "execute_result"
        }
      ],
      "source": [
        "# Create a list of dictionaries\n",
        "for neg_word in negation_words:\n",
        "  rules.append({'keyword': neg_word, 'category': 'NEG'})\n",
        "\n",
        "for unc_word in uncertainty_words:\n",
        "  rules.append({'keyword': unc_word, 'category': 'UNC'})\n",
        "\n",
        "rules"
      ]
    },
    {
      "cell_type": "markdown",
      "metadata": {
        "id": "4pCZitEMafyR"
      },
      "source": [
        "- Loading spacy_stanza pipeline."
      ]
    },
    {
      "cell_type": "code",
      "execution_count": null,
      "metadata": {
        "id": "I8Il_tcLacqj"
      },
      "outputs": [],
      "source": [
        "nlp = spacy_stanza.load_pipeline('es', package='ancora') #spanish"
      ]
    },
    {
      "cell_type": "markdown",
      "metadata": {
        "id": "CYDyZo2gamZy"
      },
      "source": [
        "- Function definitions"
      ]
    },
    {
      "cell_type": "markdown",
      "metadata": {
        "id": "13zqVFQbaoLB"
      },
      "source": [
        "Function to clean tokens: it keeps the text from the word \"informe\" to the end, since before that word is irrelevant information about the patient, and also removes punctuations."
      ]
    },
    {
      "cell_type": "code",
      "execution_count": null,
      "metadata": {
        "id": "sblFuH_baqnc"
      },
      "outputs": [],
      "source": [
        "def clean(tokens):\n",
        "  # Start text at word 'informe'\n",
        "  try:\n",
        "    start_index = tokens.index('informe')\n",
        "    tokens = tokens[start_index:]\n",
        "  except ValueError:\n",
        "    pass\n",
        "\n",
        "  # Remove punctuations\n",
        "  tokens = [token.lower() for token in tokens if token not in [',', '.', '(', ')', '-', '*', ':', '%', '/']]\n",
        "\n",
        "  return tokens"
      ]
    },
    {
      "cell_type": "markdown",
      "metadata": {
        "id": "2YwfWmMHaty3"
      },
      "source": [
        "Function to look for negation and uncertainty words. If they are neither of them, categorize them as unkown."
      ]
    },
    {
      "cell_type": "code",
      "execution_count": null,
      "metadata": {
        "id": "8AncSTPNawN-"
      },
      "outputs": [],
      "source": [
        "def categorize(text):\n",
        "    for rule in rules:\n",
        "        if text.lower() == rule['keyword']:\n",
        "            return rule['category']\n",
        "    return 'unknown'"
      ]
    },
    {
      "cell_type": "markdown",
      "metadata": {
        "id": "BpxuwvaXa8qH"
      },
      "source": [
        "Function to obtain part of speech tags in a dictionary, with spacy library."
      ]
    },
    {
      "cell_type": "code",
      "execution_count": null,
      "metadata": {
        "id": "U_JINlUha_ed"
      },
      "outputs": [],
      "source": [
        "def obtain_tags(text):\n",
        "  tags = []\n",
        "\n",
        "  doc = nlp(text)\n",
        "  for token in doc:\n",
        "    word, pos_tag = token.text, token.pos_\n",
        "    tags.append((token.text, token.pos_))\n",
        "  \n",
        "  return tags"
      ]
    },
    {
      "cell_type": "markdown",
      "metadata": {
        "id": "JQa6OU4Kayp3"
      },
      "source": [
        "Function to obtain scopes. It receives a list of tokens and creates a window of default size of four after a cue that will make up the scope."
      ]
    },
    {
      "cell_type": "code",
      "execution_count": null,
      "metadata": {
        "id": "CgfrjwwCa1CK"
      },
      "outputs": [],
      "source": [
        "def obtain_scopes(tokens, window_size=4):\n",
        "  scopes = []\n",
        "\n",
        "  for i in range(len(tokens)):\n",
        "    if categorize(tokens[i]) != 'unknown':\n",
        "      scope = []\n",
        "      try:\n",
        "        for j in range(i+1, i+window_size+1):\n",
        "          scope.append(tokens[j])\n",
        "      except IndexError:\n",
        "        pass\n",
        "      scope = ' '.join(scope)\n",
        "      scopes.append((categorize(tokens[i]), tokens[i], scope))\n",
        "\n",
        "  return scopes"
      ]
    },
    {
      "cell_type": "markdown",
      "metadata": {
        "id": "tnBR5_JOa3qk"
      },
      "source": [
        "Another way we to obtain a scope with a window, similar to the example before: look for a pattern of NOUN + ADJ. After a cue, it creates a window that will be from the cue, until this pattern."
      ]
    },
    {
      "cell_type": "code",
      "execution_count": null,
      "metadata": {
        "id": "ipYgaAENa6JU"
      },
      "outputs": [],
      "source": [
        "def obtain_scopes2(pos_tags, rules):\n",
        "  dict_scopes = []\n",
        "  bol = False\n",
        "\n",
        "  for ind, (word, tag) in enumerate(pos_tags):\n",
        "    scope = []\n",
        "    word = word.lower()\n",
        "    if word in rules:\n",
        "      for i in range(ind, len(pos_tags)):\n",
        "        for j in range(ind+1, len(pos_tags)):\n",
        "          if (pos_tags[j][1] == 'NOUN') and (pos_tags[j+1][1] == 'ADJ'):\n",
        "            start = i+1\n",
        "            end = j+2\n",
        "            while start != end:\n",
        "              scope.append(pos_tags[start][0])\n",
        "              start += 1\n",
        "            scope = ' '.join(scope)\n",
        "            dict_scopes.append((categorize(word), word, scope))\n",
        "            bol = True\n",
        "            break\n",
        "        if bol == True:\n",
        "          break\n",
        "\n",
        "  return dict_scopes"
      ]
    },
    {
      "cell_type": "markdown",
      "metadata": {
        "id": "DZpZCRv3bDGP"
      },
      "source": [
        "Before applying this functions to the real text, let's see if they work, with a smaller example."
      ]
    },
    {
      "cell_type": "code",
      "execution_count": null,
      "metadata": {
        "id": "3NaRyWfhbD2a"
      },
      "outputs": [],
      "source": [
        "train_example = \"\"\"El paciente tiene dolencias pero no hay presencia de alergias medicamentosas en él.\n",
        "Sin incidencias postquirúrgicas que hayan dañado el tejido cerebral. No muestra síntomas de cardiopatía congénita.\n",
        "Tenemos sospecha de una enfermedad patológica con posible afectación en la válvula tricúspide. \n",
        "El paciente está sin previos registros médicos.\"\"\"\n",
        "\n",
        "test_example = ['no hay presencia de alergias medicamentosas', 'Sin incidencias postquirúrgicas', \n",
        "                'No muestra síntomas de cardiopatía congénita', 'sospecha de una enfermedad patológica', \n",
        "                'posible afectación en la válvula tricúspide', 'sin previos registros médicos']\n",
        "\n",
        "cue_example = [('NEG', 'no'), ('NEG', 'Sin'), ('NEG', 'No'), ('UNC', 'sospecha'), ('UNC', 'posible'), ('NEG', 'sin')]"
      ]
    },
    {
      "cell_type": "markdown",
      "metadata": {
        "id": "aXIT10hubKbN"
      },
      "source": [
        "**Testing fixed-size window approach on the train example.** Tokenize words, clean them, and obtain the scopes."
      ]
    },
    {
      "cell_type": "code",
      "execution_count": null,
      "metadata": {
        "colab": {
          "base_uri": "https://localhost:8080/"
        },
        "id": "Yt_uwax9bHIm",
        "outputId": "f404d82f-0ba5-4e60-9f3c-5b239085a42a"
      },
      "outputs": [
        {
          "data": {
            "text/plain": [
              "[('NEG', 'no', 'hay presencia de alergias'),\n",
              " ('NEG', 'sin', 'incidencias postquirúrgicas que hayan'),\n",
              " ('NEG', 'no', 'muestra síntomas de cardiopatía'),\n",
              " ('UNC', 'sospecha', 'de una enfermedad patológica'),\n",
              " ('UNC', 'posible', 'afectación en la válvula'),\n",
              " ('NEG', 'sin', 'previos registros médicos')]"
            ]
          },
          "execution_count": 51,
          "metadata": {},
          "output_type": "execute_result"
        }
      ],
      "source": [
        "pos_tags = obtain_tags(train_example)\n",
        "tokenized_words = [text for text, tag in pos_tags]\n",
        "\n",
        "scopes_window_example = obtain_scopes(clean(tokenized_words))\n",
        "scopes_window_example"
      ]
    },
    {
      "cell_type": "markdown",
      "metadata": {
        "id": "jYTCBbrtbU3q"
      },
      "source": [
        "**Testing PoS tagging approach on train example.** Obtain the cues from the rules, obtain the PoS tags, and pass them to the function to obtain scopes."
      ]
    },
    {
      "cell_type": "code",
      "execution_count": null,
      "metadata": {
        "colab": {
          "base_uri": "https://localhost:8080/"
        },
        "id": "0A2z-HdMbVoN",
        "outputId": "2dbdc45a-3503-4b83-c4eb-42ab1515b5db"
      },
      "outputs": [
        {
          "data": {
            "text/plain": [
              "[('NEG', 'no', 'hay presencia de alergias medicamentosas'),\n",
              " ('NEG', 'sin', 'incidencias postquirúrgicas'),\n",
              " ('NEG', 'no', 'muestra síntomas de cardiopatía congénita'),\n",
              " ('UNC', 'sospecha', 'de una enfermedad patológica'),\n",
              " ('UNC', 'posible', 'afectación en la válvula tricúspide'),\n",
              " ('NEG', 'sin', 'previos registros médicos')]"
            ]
          },
          "execution_count": 52,
          "metadata": {},
          "output_type": "execute_result"
        }
      ],
      "source": [
        "neg_unc_words = [rule['keyword'] for rule in rules]\n",
        "pos_tags = obtain_tags(train_example)\n",
        "scopes_tags_example = obtain_scopes2(pos_tags, neg_unc_words)\n",
        "scopes_tags_example"
      ]
    },
    {
      "cell_type": "markdown",
      "metadata": {
        "id": "ymx8yYmmXSEB"
      },
      "source": [
        "Now that we have seen that the functions do work, we can apply them on the real diagnoses. The tests and evaluations will be done on the first diagnosis."
      ]
    },
    {
      "cell_type": "markdown",
      "metadata": {
        "id": "3E-gMSpQXm-C"
      },
      "source": [
        "**Testing fixed-size window on real diagnoses.**"
      ]
    },
    {
      "cell_type": "code",
      "execution_count": null,
      "metadata": {
        "colab": {
          "base_uri": "https://localhost:8080/"
        },
        "id": "K0FxQJCzXp6m",
        "outputId": "918fe9a1-03a5-46d3-a2d4-9f1779774dae"
      },
      "outputs": [
        {
          "name": "stderr",
          "output_type": "stream",
          "text": [
            "/usr/local/lib/python3.10/dist-packages/spacy/language.py:999: UserWarning: Due to multiword token expansion or an alignment issue, the original text has been replaced by space-separated expanded tokens.\n",
            "  doc = self._ensure_doc(text)\n",
            "/usr/local/lib/python3.10/dist-packages/spacy/language.py:999: UserWarning: Can't set named entities because of multi-word token expansion or because the character offsets don't map to valid tokens produced by the Stanza tokenizer:\n",
            "Words: ['nº', 'historia', 'clinica', ':', '**', '***', '***', 'nºepisodi', ':', '********', 'sexe', ':', 'dona', 'data', 'de', 'naixement', ':', '06.06.1938', 'edat', ':', '79', 'anys', 'procedencia', 'domicil/res', '.soc', 'servei', 'psiquiatria', 'data', \"d'ingres\", '10.05.2018', 'data', \"d'alta\", '10.05.2018', '16:46:41', 'ates', 'per', '****************', ',', '************', ';', '*************', ',', 'assumpta', 'informe', \"d'alta\", \"d'hospitalitzacio\", 'motiu', \"d'ingres\", 'paciente', 'de', '79', 'años', 'que', 'acude', 'derivada', 'a', 'urgencias', 'de', 'psiquiatria', 'tras', 'sim', '.', 'antecedents', '-', 'sin', 'alergias', 'mediamentosas', 'conocidas', '-', 'hipertension', 'arterial', 'en', 'tratamiento', 'farmaoclogico', 'con', 'tres', 'farmacos', '.', '-', 'dislipemia', 'en', 'tratamiento', 'farmacologico', '.', '-', 'sindrome', 'ansioso', 'depresivo', 'de', 'larga', 'evolucion', 'actualmente', 'en', 'tratamiento', 'con', 'venlafaxina', 'y', 'sertralina', '.', 'refiere', 'primera', 'vinculacion', 'con', 'red', 'de', 'salud', 'mental', 'en', 'el', '2013', 'a', 'raiz', 'de', 'la', 'muerte', 'desu', 'marido', ',', 'con', 'sentimientos', 'de', 'tristeza', ',', 'soledad', ',', 'rumiaciones', 'respecto', 'a', 'su', 'marido', 'y', 'su', 'muerte', 'e', 'importanteclinica', 'ansiosa', '.', 'se', 'vincula', 'a', 'csma', 'sant', 'andreu', 'donde', 'inician', 'tratamiento', 'farmacologico', 'con', 'paroxetina', 'sinseguimiento', 'posterior', '.', 'consta', 'informe', 'de', 'el', 'alta', 'de', 'csma', 'de', 'zona', 'de', 'febrero', '2016', 'dando', 'se', 'de', 'alta', 'debido', 'a', 'mejoria', 'completa', 'de', 'el', 't.', 'depresivo', 'mayor', 'con', 'tratamiento', 'a', 'el', 'alta', 'de', 'sertralina', '100', 'mg', '1-0-0', ',', 'y', 'se', 'deriva', 'a', 'seguimiento', 'por', 'mcap', '.', '-acudio', 'en', 'abril', 'de', '2018', 'por', 'sobreingesta', 'medicamentosa', 'on', 'venlafaxina', ',', 'lorazepam', ',', 'valsrtan/hidroclorotiazida', 'respondiendo', 'a', 'flumazenilo', '.', 'ssf', ':', 'viuda', ',', 'sin', 'hijos', '.', 'tiene', 'un', 'hermano', 'con', 'el', 'que', 'tiene', 'contacto', 'en', 'barcelona', '.', 'vive', 'en', 'apartamentos', 'tutelados', 'mutuam', 'collserola', '.', 'deterioro', 'cognitivo', 'leve-moderado', '.', 'medicacio', 'habitual', 'venlafaxina', '75', 'mg', 'cada', '24', 'horas', ',', 'amlodipino', '5', 'mg', 'cada', '24', 'horas', ',', 'atorvastatina', '40', 'mg', 'cada', '24', 'horas', ',', 'deprax', '100', 'mg', 'cada', '24', 'horas', ',', 'omeprazol', '20', 'mg', 'cada', '24', 'horas', ',', 'orfidal', '1', 'mg', 'cada', '24', 'horas', ',', 'sertralina', '100', 'mg', 'cada', '24', 'horas', ',', 'valsartan/hidroclorotiazida160/25', 'mg', 'cada', '24', 'horas', '.', 'proces', 'actual', 'paciente', 'que', 'acude', 'a', 'urgencias', 'de', 'psiquiatria', 'tars', 'haber', 'sido', 'estabilizada', 'en', 'urgencias', 'generales', ',', 'tras', 'sim', 'con', 'paracetamol', 'y', 'orfidal', '.', 'la', 'paciente', 'refiere', 'dicha', 'sim', 'en', 'contexto', 'de', 'algias', ',', 'no', 'refiriendo', 'una', 'ideacion', 'suicida', 'clara', '.', 'tras', 'ser', 'descubierta', 'en', 'centro', 'residencial', 'solicitan', 'derivacion', 'a', 'huvh', 'para', 'valoracion', '.', 'exploracio', 'fisica', 'epp', 'a', 'su', 'llegada', 'a', 'urgencias', 'de', 'psiquiatria', ':', 'consciente', 'y', 'vigil', '.', 'orientada', 'en', 'tres', 'esferas', '.', 'constacto', 'sintonico', '.', 'aspecto', 'conservado', '.', 'fallos', 'mnesicos', 'aunque', 'globalmente', 'orientada', 'en', 'tres', 'esferas', '.', 'discurso', 'epsontaneo', 'y', 'fluido', ',', 'normoprosodico', ',', 'sin', 'alteraciones', 'en', 'el', 'contenido', 'de', 'el', 'pensamiento', '.', 'humor', 'resonante', 'y', 'reactivo', '.', 'ligera', 'hipotimia', 'referida', ',', 'no', 'evidenciando', 'alteraciones', 'endogenomorfas', 'en', 'el', 'esatdo', 'de', 'animo', '.', 'no', 'ideacion', 'suicida', 'estructurada', 'en', 'el', 'momento', 'actual', '.', 'correcta', 'proyeccion', 'vital', '.', 'critica', 'adecuada', '.', 'no', 'alteraciones', 'en', 'la', 'sensopercepcion', 'ni', 'otras', 'alteraciones', 'dentro', 'de', 'la', 'esfera', 'psicotica', '.', 'no', 'auto', 'ni', 'heteroagresiva', '.', 'normosomnia', '.', 'normorexia', '.', 'juicio', 'de', 'la', 'realidad', 'preservado', '.', 'correcto', 'insight', '.', 'nhc', '**', '***', '***', '(', '********', ')', 'age-v-psq', '1/2', 'lopd', 'evolucio', 'clinica', 'la', 'paciente', 'se', 'muestra', 'correcta', 'y', 'normativa', 'en', 'todo', 'momento', ',', 'mostrando', 'un', 'humor', 'resonante', 'y', 'reactivo', 'a', 'su', 'situacion', 'actual', '.', 'impresiona', 'deterioro', 'cognitivo', 'progresivo', ',', 'mas', 'que', 'afectacion', 'en', 'el', 'humor', '.', 'contacto', 'con', 'centro', 'residencial', 'explicando', 'idoneidad', 'de', 'permanecer', 'en', 'centro', 'residencial', 'en', 'lugar', 'de', 'los', 'apartamentos', 'donde', 'residia', 'hasta', 'el', 'momento', ',', 'dado', 'que', 'la', 'paciente', 'necesita', 'mayor', 'supervision', '.', 'asi', 'mismo', 'vigilar', 'el', 'acceso', 'a', 'la', 'medicacion', 'que', 'tenga', 'la', 'paciente', ',', 'siendo', 'administrada', 'unicamente', 'por', 'el', 'personal', 'de', 'la', 'residencia', '.', 'contacto', 'con', 'familiares', 'que', 'se', 'muestran', 'de', 'acuerdo', 'con', 'el', 'plan', 'establecido', '.', 'control', 'derivacion', 'a', 'centro', 'residencial', 'mutuam', 'corserolla', '.', 'destinacio', 'a', \"l'alta\", ':', 'a', 'domicili', 'nhc', '**', '***', '***', '(', '********', ')', 'age-v-psq', '2/2', 'lopd']\n",
            "Entities: [(\"******** sexe: dona data de naixement: 06.06.1938 edat: 79 anys procedencia domicil/res.soc servei psiquiatria data d'ingres 10.05.2018 data d'alta 10.05.2018\", 'MISC', 44, 202), (\"assumpta informe d'alta d'hospitalitzacio motiu d'ingres\", 'MISC', 268, 324)]\n",
            "  doc = self._ensure_doc(text)\n"
          ]
        },
        {
          "data": {
            "text/plain": [
              "[('NEG', 'sin', 'alergias mediamentosas conocidas hipertension'),\n",
              " ('NEG', 'sin', 'hijos tiene un hermano'),\n",
              " ('NEG', 'no', 'refiriendo una ideacion suicida'),\n",
              " ('NEG', 'sin', 'alteraciones en el contenido'),\n",
              " ('NEG', 'no', 'evidenciando alteraciones endogenomorfas en'),\n",
              " ('NEG', 'no', 'ideacion suicida estructurada en'),\n",
              " ('NEG', 'no', 'alteraciones en la sensopercepcion'),\n",
              " ('NEG', 'no', 'auto ni heteroagresiva normosomnia')]"
            ]
          },
          "execution_count": 54,
          "metadata": {},
          "output_type": "execute_result"
        }
      ],
      "source": [
        "pos_tags = obtain_tags(texts[0])\n",
        "tokenized_words = [text for text, tag in pos_tags]\n",
        "\n",
        "predicted_scopes_window = obtain_scopes(clean(tokenized_words))\n",
        "predicted_scopes_window"
      ]
    },
    {
      "cell_type": "markdown",
      "metadata": {
        "id": "WatKkE3tX6SP"
      },
      "source": [
        "**Testing PoS tagging on medical diagnoses.**"
      ]
    },
    {
      "cell_type": "code",
      "execution_count": null,
      "metadata": {
        "colab": {
          "base_uri": "https://localhost:8080/"
        },
        "id": "HnK-G4xQX9Vg",
        "outputId": "5c65ffe4-55a5-41b1-db2d-e3ae47c5e405"
      },
      "outputs": [
        {
          "name": "stderr",
          "output_type": "stream",
          "text": [
            "/usr/local/lib/python3.10/dist-packages/spacy/language.py:999: UserWarning: Due to multiword token expansion or an alignment issue, the original text has been replaced by space-separated expanded tokens.\n",
            "  doc = self._ensure_doc(text)\n",
            "/usr/local/lib/python3.10/dist-packages/spacy/language.py:999: UserWarning: Can't set named entities because of multi-word token expansion or because the character offsets don't map to valid tokens produced by the Stanza tokenizer:\n",
            "Words: ['nº', 'historia', 'clinica', ':', '**', '***', '***', 'nºepisodi', ':', '********', 'sexe', ':', 'dona', 'data', 'de', 'naixement', ':', '06.06.1938', 'edat', ':', '79', 'anys', 'procedencia', 'domicil/res', '.soc', 'servei', 'psiquiatria', 'data', \"d'ingres\", '10.05.2018', 'data', \"d'alta\", '10.05.2018', '16:46:41', 'ates', 'per', '****************', ',', '************', ';', '*************', ',', 'assumpta', 'informe', \"d'alta\", \"d'hospitalitzacio\", 'motiu', \"d'ingres\", 'paciente', 'de', '79', 'años', 'que', 'acude', 'derivada', 'a', 'urgencias', 'de', 'psiquiatria', 'tras', 'sim', '.', 'antecedents', '-', 'sin', 'alergias', 'mediamentosas', 'conocidas', '-', 'hipertension', 'arterial', 'en', 'tratamiento', 'farmaoclogico', 'con', 'tres', 'farmacos', '.', '-', 'dislipemia', 'en', 'tratamiento', 'farmacologico', '.', '-', 'sindrome', 'ansioso', 'depresivo', 'de', 'larga', 'evolucion', 'actualmente', 'en', 'tratamiento', 'con', 'venlafaxina', 'y', 'sertralina', '.', 'refiere', 'primera', 'vinculacion', 'con', 'red', 'de', 'salud', 'mental', 'en', 'el', '2013', 'a', 'raiz', 'de', 'la', 'muerte', 'desu', 'marido', ',', 'con', 'sentimientos', 'de', 'tristeza', ',', 'soledad', ',', 'rumiaciones', 'respecto', 'a', 'su', 'marido', 'y', 'su', 'muerte', 'e', 'importanteclinica', 'ansiosa', '.', 'se', 'vincula', 'a', 'csma', 'sant', 'andreu', 'donde', 'inician', 'tratamiento', 'farmacologico', 'con', 'paroxetina', 'sinseguimiento', 'posterior', '.', 'consta', 'informe', 'de', 'el', 'alta', 'de', 'csma', 'de', 'zona', 'de', 'febrero', '2016', 'dando', 'se', 'de', 'alta', 'debido', 'a', 'mejoria', 'completa', 'de', 'el', 't.', 'depresivo', 'mayor', 'con', 'tratamiento', 'a', 'el', 'alta', 'de', 'sertralina', '100', 'mg', '1-0-0', ',', 'y', 'se', 'deriva', 'a', 'seguimiento', 'por', 'mcap', '.', '-acudio', 'en', 'abril', 'de', '2018', 'por', 'sobreingesta', 'medicamentosa', 'on', 'venlafaxina', ',', 'lorazepam', ',', 'valsrtan/hidroclorotiazida', 'respondiendo', 'a', 'flumazenilo', '.', 'ssf', ':', 'viuda', ',', 'sin', 'hijos', '.', 'tiene', 'un', 'hermano', 'con', 'el', 'que', 'tiene', 'contacto', 'en', 'barcelona', '.', 'vive', 'en', 'apartamentos', 'tutelados', 'mutuam', 'collserola', '.', 'deterioro', 'cognitivo', 'leve-moderado', '.', 'medicacio', 'habitual', 'venlafaxina', '75', 'mg', 'cada', '24', 'horas', ',', 'amlodipino', '5', 'mg', 'cada', '24', 'horas', ',', 'atorvastatina', '40', 'mg', 'cada', '24', 'horas', ',', 'deprax', '100', 'mg', 'cada', '24', 'horas', ',', 'omeprazol', '20', 'mg', 'cada', '24', 'horas', ',', 'orfidal', '1', 'mg', 'cada', '24', 'horas', ',', 'sertralina', '100', 'mg', 'cada', '24', 'horas', ',', 'valsartan/hidroclorotiazida160/25', 'mg', 'cada', '24', 'horas', '.', 'proces', 'actual', 'paciente', 'que', 'acude', 'a', 'urgencias', 'de', 'psiquiatria', 'tars', 'haber', 'sido', 'estabilizada', 'en', 'urgencias', 'generales', ',', 'tras', 'sim', 'con', 'paracetamol', 'y', 'orfidal', '.', 'la', 'paciente', 'refiere', 'dicha', 'sim', 'en', 'contexto', 'de', 'algias', ',', 'no', 'refiriendo', 'una', 'ideacion', 'suicida', 'clara', '.', 'tras', 'ser', 'descubierta', 'en', 'centro', 'residencial', 'solicitan', 'derivacion', 'a', 'huvh', 'para', 'valoracion', '.', 'exploracio', 'fisica', 'epp', 'a', 'su', 'llegada', 'a', 'urgencias', 'de', 'psiquiatria', ':', 'consciente', 'y', 'vigil', '.', 'orientada', 'en', 'tres', 'esferas', '.', 'constacto', 'sintonico', '.', 'aspecto', 'conservado', '.', 'fallos', 'mnesicos', 'aunque', 'globalmente', 'orientada', 'en', 'tres', 'esferas', '.', 'discurso', 'epsontaneo', 'y', 'fluido', ',', 'normoprosodico', ',', 'sin', 'alteraciones', 'en', 'el', 'contenido', 'de', 'el', 'pensamiento', '.', 'humor', 'resonante', 'y', 'reactivo', '.', 'ligera', 'hipotimia', 'referida', ',', 'no', 'evidenciando', 'alteraciones', 'endogenomorfas', 'en', 'el', 'esatdo', 'de', 'animo', '.', 'no', 'ideacion', 'suicida', 'estructurada', 'en', 'el', 'momento', 'actual', '.', 'correcta', 'proyeccion', 'vital', '.', 'critica', 'adecuada', '.', 'no', 'alteraciones', 'en', 'la', 'sensopercepcion', 'ni', 'otras', 'alteraciones', 'dentro', 'de', 'la', 'esfera', 'psicotica', '.', 'no', 'auto', 'ni', 'heteroagresiva', '.', 'normosomnia', '.', 'normorexia', '.', 'juicio', 'de', 'la', 'realidad', 'preservado', '.', 'correcto', 'insight', '.', 'nhc', '**', '***', '***', '(', '********', ')', 'age-v-psq', '1/2', 'lopd', 'evolucio', 'clinica', 'la', 'paciente', 'se', 'muestra', 'correcta', 'y', 'normativa', 'en', 'todo', 'momento', ',', 'mostrando', 'un', 'humor', 'resonante', 'y', 'reactivo', 'a', 'su', 'situacion', 'actual', '.', 'impresiona', 'deterioro', 'cognitivo', 'progresivo', ',', 'mas', 'que', 'afectacion', 'en', 'el', 'humor', '.', 'contacto', 'con', 'centro', 'residencial', 'explicando', 'idoneidad', 'de', 'permanecer', 'en', 'centro', 'residencial', 'en', 'lugar', 'de', 'los', 'apartamentos', 'donde', 'residia', 'hasta', 'el', 'momento', ',', 'dado', 'que', 'la', 'paciente', 'necesita', 'mayor', 'supervision', '.', 'asi', 'mismo', 'vigilar', 'el', 'acceso', 'a', 'la', 'medicacion', 'que', 'tenga', 'la', 'paciente', ',', 'siendo', 'administrada', 'unicamente', 'por', 'el', 'personal', 'de', 'la', 'residencia', '.', 'contacto', 'con', 'familiares', 'que', 'se', 'muestran', 'de', 'acuerdo', 'con', 'el', 'plan', 'establecido', '.', 'control', 'derivacion', 'a', 'centro', 'residencial', 'mutuam', 'corserolla', '.', 'destinacio', 'a', \"l'alta\", ':', 'a', 'domicili', 'nhc', '**', '***', '***', '(', '********', ')', 'age-v-psq', '2/2', 'lopd']\n",
            "Entities: [(\"******** sexe: dona data de naixement: 06.06.1938 edat: 79 anys procedencia domicil/res.soc servei psiquiatria data d'ingres 10.05.2018 data d'alta 10.05.2018\", 'MISC', 44, 202), (\"assumpta informe d'alta d'hospitalitzacio motiu d'ingres\", 'MISC', 268, 324)]\n",
            "  doc = self._ensure_doc(text)\n"
          ]
        },
        {
          "data": {
            "text/plain": [
              "[('NEG', 'sin', 'alergias mediamentosas'),\n",
              " ('NEG',\n",
              "  'sin',\n",
              "  'hijos . tiene un hermano con el que tiene contacto en barcelona . vive en apartamentos tutelados'),\n",
              " ('NEG', 'no', 'refiriendo una ideacion suicida'),\n",
              " ('NEG',\n",
              "  'sin',\n",
              "  'alteraciones en el contenido de el pensamiento . humor resonante'),\n",
              " ('NEG', 'no', 'evidenciando alteraciones endogenomorfas'),\n",
              " ('NEG', 'no', 'ideacion suicida'),\n",
              " ('NEG',\n",
              "  'no',\n",
              "  'alteraciones en la sensopercepcion ni otras alteraciones dentro de la esfera psicotica'),\n",
              " ('NEG',\n",
              "  'no',\n",
              "  'auto ni heteroagresiva . normosomnia . normorexia . juicio de la realidad preservado')]"
            ]
          },
          "execution_count": 55,
          "metadata": {},
          "output_type": "execute_result"
        }
      ],
      "source": [
        "pos_tags = obtain_tags(texts[0])\n",
        "predicted_scopes_tags = obtain_scopes2(pos_tags, neg_unc_words)\n",
        "predicted_scopes_tags"
      ]
    },
    {
      "cell_type": "markdown",
      "metadata": {
        "id": "gPnPXK1LYZRZ"
      },
      "source": [
        "- **Evaluation**"
      ]
    },
    {
      "cell_type": "markdown",
      "metadata": {
        "id": "X1n22zL0YbO-"
      },
      "source": [
        "To evaluate the performance, we create:\n",
        "- accuracy_cues: testing the detection of cues\n",
        "- accuracy_scopes: testing the detection of cues and their scopes\n",
        "- accuracy_scopes2: testing the detection of cues and their scopes in a slightly different way (because the format of the example's prediction and diagnosis' prediction are not the same)"
      ]
    },
    {
      "cell_type": "code",
      "execution_count": null,
      "metadata": {
        "id": "RrapAudkYawd"
      },
      "outputs": [],
      "source": [
        "def accuracy_cues(scopes, cue_test, labels = ['NEG', 'UNC']):\n",
        "  true_positives = 0\n",
        "  true_negatives = 0\n",
        "  false_positives = 0\n",
        "  false_negatives = 0\n",
        "\n",
        "  if len(scopes) > len(cue_test):\n",
        "    while len(scopes) > len(cue_test):\n",
        "      cue_test.append(('o', 'o'))\n",
        "  elif len(cue_test) > len(scopes):\n",
        "    while len(cue_test) > len(scopes):\n",
        "      scopes.append(('o', 'o', 'o'))\n",
        "      \n",
        "\n",
        "  for (predicted_label, predicted_word, scope), (real_label, real_word) in zip(scopes, cue_test):\n",
        "    predicted_word = predicted_word.lower()\n",
        "    real_word = real_word.lower()\n",
        "\n",
        "    if (predicted_label == real_label) and (predicted_label in labels):\n",
        "      true_positives += 1\n",
        "\n",
        "    elif  (predicted_label not in labels) and (predicted_label == real_label):\n",
        "      true_negatives += 1\n",
        "\n",
        "    elif (predicted_label != real_label) and (predicted_label in labels):\n",
        "      false_positives += 1\n",
        "    \n",
        "    elif (predicted_label == 'o') and (real_label in labels):\n",
        "      false_negatives += 1\n",
        "\n",
        "  \n",
        "  print(\"True Positives:\", true_positives)\n",
        "  print(\"True Negatives:\",true_negatives)\n",
        "  print(\"False Positives:\", false_positives)\n",
        "  print(\"False Negatives:\",false_negatives)\n",
        "\n",
        "  # Measures\n",
        "\n",
        "  denominator = true_positives + false_positives\n",
        "\n",
        "  if denominator == 0:\n",
        "      precision = 0\n",
        "  else:\n",
        "      precision = true_positives / denominator\n",
        "\n",
        "  denominator = true_positives + false_negatives\n",
        "\n",
        "  if denominator == 0:\n",
        "      recall = 0\n",
        "  else:\n",
        "      recall = true_positives / denominator\n",
        "\n",
        "  denominator = true_positives + true_negatives + false_positives + false_negatives\n",
        "\n",
        "  if denominator == 0:\n",
        "      f1_score = 0\n",
        "      accuracy = 0\n",
        "  else:\n",
        "      f1_score = 2 * (precision * recall) / (precision + recall)\n",
        "      accuracy = (true_positives + true_negatives) / denominator\n",
        "\n",
        "  x = PrettyTable()\n",
        "  x.field_names = [\"Measure\", \"Score\"]\n",
        "  x.add_row([\"Precision\", f\"{precision:.2f}\"])\n",
        "  x.add_row([\"Recall\", f\"{recall:.2f}\"])\n",
        "  x.add_row([\"F1-score\", f\"{f1_score:.2f}\"])\n",
        "  x.add_row([\"Accuracy\", f\"{accuracy:.2f}\"])\n",
        "\n",
        "  print(x)"
      ]
    },
    {
      "cell_type": "code",
      "execution_count": null,
      "metadata": {
        "id": "yhEF1IHMZLvs"
      },
      "outputs": [],
      "source": [
        "def accuracy_scopes(scope, test):\n",
        "  correct = 0\n",
        "  accuracy = 0\n",
        "\n",
        "  true_negatives = 0\n",
        "  true_positives= 0\n",
        "  false_positives = 0\n",
        "  false_negatives = 0\n",
        "\n",
        "  for (label, key, value), sentence in zip(scope, test):\n",
        "    prediction = key + ' ' + value\n",
        "    real = nltk.word_tokenize(sentence)\n",
        "    real = [x.lower() for x in real]\n",
        "    predicted = nltk.word_tokenize(prediction)\n",
        "    predicted = [x.lower() for x in predicted]\n",
        "    if len(real) > len(predicted):\n",
        "      predicted += 'o' * (len(real) - len(predicted))\n",
        "    else:\n",
        "      real += 'o' * (len(predicted) - len(real))\n",
        "\n",
        "    print('Predicted scope:', predicted)\n",
        "    print('Real scope', real)\n",
        "\n",
        "    for real_token, predicted_token in zip(real, predicted):\n",
        "        if real_token == predicted_token and real_token != 'o':\n",
        "          true_positives += 1\n",
        "\n",
        "        elif real_token == predicted_token:\n",
        "          true_negatives += 1\n",
        "        \n",
        "        elif predicted_token != 'o' and real_token == 'o':\n",
        "          false_positives += 1\n",
        "        \n",
        "        else:\n",
        "          false_negatives += 1\n",
        "\n",
        "  print(\"True Positives:\", true_positives)\n",
        "  print(\"True Negatives:\",true_negatives)\n",
        "  print(\"False Positives:\", false_positives)\n",
        "  print(\"False Negatives:\",false_negatives)\n",
        "\n",
        "  # Measures\n",
        "\n",
        "  denominator = true_positives + false_positives\n",
        "\n",
        "  if denominator == 0:\n",
        "      precision = 0\n",
        "  else:\n",
        "      precision = true_positives / denominator\n",
        "\n",
        "  denominator = true_positives + false_negatives\n",
        "\n",
        "  if denominator == 0:\n",
        "      recall = 0\n",
        "  else:\n",
        "      recall = true_positives / denominator\n",
        "\n",
        "  denominator = true_positives + true_negatives + false_positives + false_negatives\n",
        "\n",
        "  if denominator == 0:\n",
        "      f1_score = 0\n",
        "      accuracy = 0\n",
        "  else:\n",
        "      f1_score = 2 * (precision * recall) / (precision + recall)\n",
        "      accuracy = (true_positives + true_negatives) / denominator\n",
        "\n",
        "  x = PrettyTable()\n",
        "  x.field_names = [\"Measure\", \"Score\"]\n",
        "  x.add_row([\"Precision\", f\"{precision:.2f}\"])\n",
        "  x.add_row([\"Recall\", f\"{recall:.2f}\"])\n",
        "  x.add_row([\"F1-score\", f\"{f1_score:.2f}\"])\n",
        "  x.add_row([\"Accuracy\", f\"{accuracy:.2f}\"])\n",
        "\n",
        "  print(x)"
      ]
    },
    {
      "cell_type": "code",
      "execution_count": null,
      "metadata": {
        "id": "8lvywe53Z48j"
      },
      "outputs": [],
      "source": [
        "# Checks if two lists are similar depending on a threshold\n",
        "def check_similar_lists(list1, list2, threshold):\n",
        "  point = 0\n",
        "\n",
        "  for x in list1:\n",
        "    for y in list2:\n",
        "      if x == y:\n",
        "        point += 1\n",
        "  \n",
        "  if point > threshold:\n",
        "    return True\n",
        "  \n",
        "  return False"
      ]
    },
    {
      "cell_type": "code",
      "execution_count": null,
      "metadata": {
        "id": "zM-3IkwDZNtK"
      },
      "outputs": [],
      "source": [
        "def accuracy_scopes2(scope, test, similarity):\n",
        "  correct = 0\n",
        "  accuracy = 0\n",
        "\n",
        "  true_negatives = 0\n",
        "  true_positives= 0\n",
        "  false_positives = 0\n",
        "  false_negatives = 0\n",
        "\n",
        "  bol = False\n",
        "\n",
        "  for true_label, true_scope in test:\n",
        "    for label, key, predicted_scope in scope:\n",
        "      \n",
        "      real = nltk.word_tokenize(true_scope)\n",
        "      real = [x.lower() for x in real]\n",
        "      predicted = nltk.word_tokenize(predicted_scope)\n",
        "      predicted = [x.lower() for x in predicted]\n",
        "\n",
        "      if predicted[0] == real[0]:\n",
        "        if predicted[0] == 'alteraciones' and check_similar_lists(predicted, real, similarity) == False:\n",
        "          continue\n",
        "\n",
        "        bol = True\n",
        "        if len(real) > len(predicted):\n",
        "          predicted += 'o' * (len(real) - len(predicted))\n",
        "        else:\n",
        "          real += 'o' * (len(predicted) - len(real))\n",
        "        \n",
        "\n",
        "        print('Predicted scope:', predicted)\n",
        "        print('Real scope:', real, '\\n')\n",
        "\n",
        "        for real_token, predicted_token in zip(real, predicted):\n",
        "          if real_token == predicted_token and real_token != 'o':\n",
        "            true_positives += 1\n",
        "\n",
        "          elif real_token == predicted_token:\n",
        "            true_negatives += 1\n",
        "            \n",
        "          elif predicted_token != 'o' and real_token == 'o':\n",
        "            false_positives += 1\n",
        "            \n",
        "          else:\n",
        "            false_negatives += 1\n",
        "\n",
        "      \n",
        "    if bol == False:\n",
        "      continue\n",
        "\n",
        "  print(\"True Positives:\", true_positives)\n",
        "  print(\"True Negatives:\",true_negatives)\n",
        "  print(\"False Positives:\", false_positives)\n",
        "  print(\"False Negatives:\",false_negatives)\n",
        "\n",
        "  # Measures\n",
        "\n",
        "  denominator = true_positives + false_positives\n",
        "\n",
        "  if denominator == 0:\n",
        "    precision = 0\n",
        "  else:\n",
        "    precision = true_positives / denominator\n",
        "\n",
        "  denominator = true_positives + false_negatives\n",
        "\n",
        "  if denominator == 0:\n",
        "    recall = 0\n",
        "  else:\n",
        "    recall = true_positives / denominator\n",
        "\n",
        "  denominator = true_positives + true_negatives + false_positives + false_negatives\n",
        "\n",
        "  if denominator == 0:\n",
        "    f1_score = 0\n",
        "    accuracy = 0\n",
        "  else:\n",
        "    f1_score = 2 * (precision * recall) / (precision + recall)\n",
        "    accuracy = (true_positives + true_negatives) / denominator\n",
        "\n",
        "  x = PrettyTable()\n",
        "  x.field_names = [\"Measure\", \"Score\"]\n",
        "  x.add_row([\"Precision\", f\"{precision:.2f}\"])\n",
        "  x.add_row([\"Recall\", f\"{recall:.2f}\"])\n",
        "  x.add_row([\"F1-score\", f\"{f1_score:.2f}\"])\n",
        "  x.add_row([\"Accuracy\", f\"{accuracy:.2f}\"])\n",
        "\n",
        "  print(x)"
      ]
    },
    {
      "cell_type": "markdown",
      "metadata": {
        "id": "Jg6l_1UdZR4Y"
      },
      "source": [
        "As well as that, we also need the true labels and the true scopes, so we will be defining:\n",
        "- get_true_cues\n",
        "- get_true_scopes"
      ]
    },
    {
      "cell_type": "code",
      "execution_count": null,
      "metadata": {
        "id": "UbzMAEfVZRkd"
      },
      "outputs": [],
      "source": [
        "def get_true_cues(data, num_text, texts):\n",
        "  cues = []\n",
        "\n",
        "  for j in range(len((data[num_text]['predictions'][0]['result']))):\n",
        "      if data[num_text]['predictions'][0]['result'][j]['value']['labels'][0] == 'NEG':\n",
        "        start = data[num_text]['predictions'][0]['result'][j]['value']['start']\n",
        "        end = data[num_text]['predictions'][0]['result'][j]['value']['end']\n",
        "        label = 'NEG'\n",
        "        cue = texts[num_text][start:end-1]\n",
        "\n",
        "      elif data[num_text]['predictions'][0]['result'][j]['value']['labels'][0] == 'UNC':\n",
        "        start = data[num_text]['predictions'][0]['result'][j]['value']['start']\n",
        "        end = data[num_text]['predictions'][0]['result'][j]['value']['end']\n",
        "        cue = texts[num_text][start:end-1]\n",
        "        label = 'UNC'\n",
        "    \n",
        "      cues.append((label, cue))\n",
        "  return cues"
      ]
    },
    {
      "cell_type": "code",
      "execution_count": null,
      "metadata": {
        "id": "sjk02J3uZkPU"
      },
      "outputs": [],
      "source": [
        "def get_true_scopes(data, num_text, texts):\n",
        "    scopes = []\n",
        "    USCO = []\n",
        "    NSCO = []\n",
        "        \n",
        "    for j in range(len(data[num_text]['predictions'][0]['result'])):\n",
        "      if data[num_text]['predictions'][0]['result'][j]['value']['labels'][0] == 'USCO':\n",
        "        start = data[num_text]['predictions'][0]['result'][j]['value']['start']\n",
        "        end = data[num_text]['predictions'][0]['result'][j]['value']['end']\n",
        "        scopes.append(('USCO', texts[num_text][start:end]))\n",
        "\n",
        "      elif data[num_text]['predictions'][0]['result'][j]['value']['labels'][0] == 'NSCO':\n",
        "        start = data[num_text]['predictions'][0]['result'][j]['value']['start']\n",
        "        end = data[num_text]['predictions'][0]['result'][j]['value']['end']\n",
        "        scopes.append(('NSCO', texts[num_text][start:end]))\n",
        "    \n",
        "    return scopes"
      ]
    },
    {
      "cell_type": "code",
      "execution_count": null,
      "metadata": {
        "colab": {
          "base_uri": "https://localhost:8080/"
        },
        "id": "qPvnJ4ZPZnJE",
        "outputId": "a41a7276-478b-49fb-a3a1-968efa47dc9d"
      },
      "outputs": [
        {
          "data": {
            "text/plain": [
              "[('NEG', 'sin'),\n",
              " ('NEG', 'no'),\n",
              " ('NEG', 'sin'),\n",
              " ('NEG', 'no'),\n",
              " ('NEG', 'no'),\n",
              " ('NEG', 'no'),\n",
              " ('NEG', 'no'),\n",
              " ('UNC', 'impresiona'),\n",
              " ('UNC', 'impresiona'),\n",
              " ('UNC', 'impresiona'),\n",
              " ('NEG', 'si'),\n",
              " ('NEG', 'si'),\n",
              " ('NEG', 'si'),\n",
              " ('NEG', 'si'),\n",
              " ('NEG', 'si'),\n",
              " ('NEG', 'si'),\n",
              " ('NEG', 'si'),\n",
              " ('NEG', 'si')]"
            ]
          },
          "execution_count": 38,
          "metadata": {},
          "output_type": "execute_result"
        }
      ],
      "source": [
        "true_cues = get_true_cues(data, 0, texts)\n",
        "true_cues"
      ]
    },
    {
      "cell_type": "code",
      "execution_count": null,
      "metadata": {
        "colab": {
          "base_uri": "https://localhost:8080/"
        },
        "id": "AQ1CLvegZlKL",
        "outputId": "95aa358d-a510-4d29-cd25-149a1ae2ffc8"
      },
      "outputs": [
        {
          "data": {
            "text/plain": [
              "[('USCO', 'deterioro cognitivo progresivo,'),\n",
              " ('NSCO', 'hijos'),\n",
              " ('NSCO', 'alergias mediamentosas conocidas'),\n",
              " ('NSCO', 'alteraciones en el contenido del pensamiento'),\n",
              " ('NSCO', 'evidenciando alteraciones endogenomorfas en el esatdo de animo'),\n",
              " ('NSCO', 'ideacion suicida estructurada en el momento actual'),\n",
              " ('NSCO',\n",
              "  'alteraciones en la sensopercepcion ni otras alteraciones dentro de la esfera psicotica'),\n",
              " ('NSCO', 'auto ni heteroagresiva'),\n",
              " ('NSCO', 'refiriendo una ideacion suicida clara')]"
            ]
          },
          "execution_count": 39,
          "metadata": {},
          "output_type": "execute_result"
        }
      ],
      "source": [
        "true_scopes = get_true_scopes(data, 0, texts)\n",
        "true_scopes"
      ]
    },
    {
      "cell_type": "markdown",
      "metadata": {
        "id": "JE3Gj-mOZqnG"
      },
      "source": [
        "Now that all is set up, we can test this first rule-based method, on both the train example, and the first real diagnosis."
      ]
    },
    {
      "cell_type": "code",
      "execution_count": null,
      "metadata": {
        "colab": {
          "base_uri": "https://localhost:8080/"
        },
        "id": "mTN74jH5aMWR",
        "outputId": "e7613946-4412-4e2e-aee3-e03c5b231946"
      },
      "outputs": [
        {
          "name": "stdout",
          "output_type": "stream",
          "text": [
            "Predicted scope: ['no', 'hay', 'presencia', 'de', 'alergias', 'o']\n",
            "Real scope ['no', 'hay', 'presencia', 'de', 'alergias', 'medicamentosas']\n",
            "Predicted scope: ['sin', 'incidencias', 'postquirúrgicas', 'que', 'hayan']\n",
            "Real scope ['sin', 'incidencias', 'postquirúrgicas', 'o', 'o']\n",
            "Predicted scope: ['no', 'muestra', 'síntomas', 'de', 'cardiopatía', 'o']\n",
            "Real scope ['no', 'muestra', 'síntomas', 'de', 'cardiopatía', 'congénita']\n",
            "Predicted scope: ['sospecha', 'de', 'una', 'enfermedad', 'patológica']\n",
            "Real scope ['sospecha', 'de', 'una', 'enfermedad', 'patológica']\n",
            "Predicted scope: ['posible', 'afectación', 'en', 'la', 'válvula', 'o']\n",
            "Real scope ['posible', 'afectación', 'en', 'la', 'válvula', 'tricúspide']\n",
            "Predicted scope: ['sin', 'previos', 'registros', 'médicos']\n",
            "Real scope ['sin', 'previos', 'registros', 'médicos']\n",
            "True Positives: 27\n",
            "True Negatives: 0\n",
            "False Positives: 2\n",
            "False Negatives: 3\n",
            "+-----------+-------+\n",
            "|  Measure  | Score |\n",
            "+-----------+-------+\n",
            "| Precision |  0.93 |\n",
            "|   Recall  |  0.90 |\n",
            "|  F1-score |  0.92 |\n",
            "|  Accuracy |  0.84 |\n",
            "+-----------+-------+\n"
          ]
        }
      ],
      "source": [
        "accuracy_scopes(scopes_window_example, test_example) # predicted scopes with nltk on train example"
      ]
    },
    {
      "cell_type": "code",
      "execution_count": null,
      "metadata": {
        "colab": {
          "base_uri": "https://localhost:8080/"
        },
        "id": "SW4QxIavaUCU",
        "outputId": "1d2babfc-eb7b-4825-a407-6d738daaf345"
      },
      "outputs": [
        {
          "name": "stdout",
          "output_type": "stream",
          "text": [
            "Predicted scope: ['no', 'hay', 'presencia', 'de', 'alergias', 'medicamentosas']\n",
            "Real scope ['no', 'hay', 'presencia', 'de', 'alergias', 'medicamentosas']\n",
            "Predicted scope: ['sin', 'incidencias', 'postquirúrgicas']\n",
            "Real scope ['sin', 'incidencias', 'postquirúrgicas']\n",
            "Predicted scope: ['no', 'muestra', 'síntomas', 'de', 'cardiopatía', 'congénita']\n",
            "Real scope ['no', 'muestra', 'síntomas', 'de', 'cardiopatía', 'congénita']\n",
            "Predicted scope: ['sospecha', 'de', 'una', 'enfermedad', 'patológica']\n",
            "Real scope ['sospecha', 'de', 'una', 'enfermedad', 'patológica']\n",
            "Predicted scope: ['posible', 'afectación', 'en', 'la', 'válvula', 'tricúspide']\n",
            "Real scope ['posible', 'afectación', 'en', 'la', 'válvula', 'tricúspide']\n",
            "Predicted scope: ['sin', 'previos', 'registros', 'médicos']\n",
            "Real scope ['sin', 'previos', 'registros', 'médicos']\n",
            "True Positives: 30\n",
            "True Negatives: 0\n",
            "False Positives: 0\n",
            "False Negatives: 0\n",
            "+-----------+-------+\n",
            "|  Measure  | Score |\n",
            "+-----------+-------+\n",
            "| Precision |  1.00 |\n",
            "|   Recall  |  1.00 |\n",
            "|  F1-score |  1.00 |\n",
            "|  Accuracy |  1.00 |\n",
            "+-----------+-------+\n"
          ]
        }
      ],
      "source": [
        "accuracy_scopes(scopes_tags_example, test_example) # predicted scopes with spacy on train example"
      ]
    },
    {
      "cell_type": "code",
      "execution_count": null,
      "metadata": {
        "colab": {
          "base_uri": "https://localhost:8080/"
        },
        "id": "4Qqeki2gaZb1",
        "outputId": "d6daf477-efe0-4165-ea12-343026d38dd4"
      },
      "outputs": [
        {
          "name": "stdout",
          "output_type": "stream",
          "text": [
            "True Positives: 7\n",
            "True Negatives: 0\n",
            "False Positives: 1\n",
            "False Negatives: 10\n",
            "+-----------+-------+\n",
            "|  Measure  | Score |\n",
            "+-----------+-------+\n",
            "| Precision |  0.88 |\n",
            "|   Recall  |  0.41 |\n",
            "|  F1-score |  0.56 |\n",
            "|  Accuracy |  0.39 |\n",
            "+-----------+-------+\n"
          ]
        }
      ],
      "source": [
        "accuracy_cues(predicted_scopes_window, true_cues) # predicted cues with nltk on real text"
      ]
    },
    {
      "cell_type": "code",
      "execution_count": null,
      "metadata": {
        "colab": {
          "base_uri": "https://localhost:8080/"
        },
        "id": "SV8XWmqsajJU",
        "outputId": "3f50570c-6513-4dbc-ad18-60ccc800dc5f"
      },
      "outputs": [
        {
          "name": "stdout",
          "output_type": "stream",
          "text": [
            "True Positives: 7\n",
            "True Negatives: 0\n",
            "False Positives: 1\n",
            "False Negatives: 10\n",
            "+-----------+-------+\n",
            "|  Measure  | Score |\n",
            "+-----------+-------+\n",
            "| Precision |  0.88 |\n",
            "|   Recall  |  0.41 |\n",
            "|  F1-score |  0.56 |\n",
            "|  Accuracy |  0.39 |\n",
            "+-----------+-------+\n"
          ]
        }
      ],
      "source": [
        "accuracy_cues(predicted_scopes_tags, true_cues) # predicted cues with spacy on real text"
      ]
    },
    {
      "cell_type": "code",
      "execution_count": null,
      "metadata": {
        "colab": {
          "base_uri": "https://localhost:8080/"
        },
        "id": "Y5cM5nsKanRM",
        "outputId": "e9e47456-a3f4-4f5e-8f0a-09916f9732a5"
      },
      "outputs": [
        {
          "name": "stdout",
          "output_type": "stream",
          "text": [
            "Predicted scope: ['hijos', 'tiene', 'un', 'hermano']\n",
            "Real scope: ['hijos', 'o', 'o', 'o'] \n",
            "\n",
            "Predicted scope: ['alergias', 'mediamentosas', 'conocidas', 'hipertension']\n",
            "Real scope: ['alergias', 'mediamentosas', 'conocidas', 'o'] \n",
            "\n",
            "Predicted scope: ['alteraciones', 'en', 'el', 'contenido', 'o', 'o']\n",
            "Real scope: ['alteraciones', 'en', 'el', 'contenido', 'del', 'pensamiento'] \n",
            "\n",
            "Predicted scope: ['evidenciando', 'alteraciones', 'endogenomorfas', 'en', 'o', 'o', 'o', 'o']\n",
            "Real scope: ['evidenciando', 'alteraciones', 'endogenomorfas', 'en', 'el', 'esatdo', 'de', 'animo'] \n",
            "\n",
            "Predicted scope: ['ideacion', 'suicida', 'estructurada', 'en', 'o', 'o', 'o']\n",
            "Real scope: ['ideacion', 'suicida', 'estructurada', 'en', 'el', 'momento', 'actual'] \n",
            "\n",
            "Predicted scope: ['alteraciones', 'en', 'la', 'sensopercepcion', 'o', 'o', 'o', 'o', 'o', 'o', 'o', 'o']\n",
            "Real scope: ['alteraciones', 'en', 'la', 'sensopercepcion', 'ni', 'otras', 'alteraciones', 'dentro', 'de', 'la', 'esfera', 'psicotica'] \n",
            "\n",
            "Predicted scope: ['auto', 'ni', 'heteroagresiva', 'normosomnia']\n",
            "Real scope: ['auto', 'ni', 'heteroagresiva', 'o'] \n",
            "\n",
            "Predicted scope: ['refiriendo', 'una', 'ideacion', 'suicida', 'o']\n",
            "Real scope: ['refiriendo', 'una', 'ideacion', 'suicida', 'clara'] \n",
            "\n",
            "True Positives: 27\n",
            "True Negatives: 0\n",
            "False Positives: 5\n",
            "False Negatives: 18\n",
            "+-----------+-------+\n",
            "|  Measure  | Score |\n",
            "+-----------+-------+\n",
            "| Precision |  0.84 |\n",
            "|   Recall  |  0.60 |\n",
            "|  F1-score |  0.70 |\n",
            "|  Accuracy |  0.54 |\n",
            "+-----------+-------+\n"
          ]
        }
      ],
      "source": [
        "accuracy_scopes2(predicted_scopes_window, true_scopes, similarity = 3) # predicted scopes with nltk on real text"
      ]
    },
    {
      "cell_type": "code",
      "execution_count": null,
      "metadata": {
        "colab": {
          "base_uri": "https://localhost:8080/"
        },
        "id": "JunXvZCrawcU",
        "outputId": "89763673-a30e-472e-8a9c-cb5563bcb95a"
      },
      "outputs": [
        {
          "name": "stdout",
          "output_type": "stream",
          "text": [
            "Predicted scope: ['hijos', '.', 'tiene', 'un', 'hermano', 'con', 'el', 'que', 'tiene', 'contacto', 'en', 'barcelona', '.', 'vive', 'en', 'apartamentos', 'tutelados']\n",
            "Real scope: ['hijos', 'o', 'o', 'o', 'o', 'o', 'o', 'o', 'o', 'o', 'o', 'o', 'o', 'o', 'o', 'o', 'o'] \n",
            "\n",
            "Predicted scope: ['alergias', 'mediamentosas', 'o']\n",
            "Real scope: ['alergias', 'mediamentosas', 'conocidas'] \n",
            "\n",
            "Predicted scope: ['alteraciones', 'en', 'el', 'contenido', 'de', 'el', 'pensamiento', '.', 'humor', 'resonante']\n",
            "Real scope: ['alteraciones', 'en', 'el', 'contenido', 'del', 'pensamiento', 'o', 'o', 'o', 'o'] \n",
            "\n",
            "Predicted scope: ['evidenciando', 'alteraciones', 'endogenomorfas', 'o', 'o', 'o', 'o', 'o']\n",
            "Real scope: ['evidenciando', 'alteraciones', 'endogenomorfas', 'en', 'el', 'esatdo', 'de', 'animo'] \n",
            "\n",
            "Predicted scope: ['ideacion', 'suicida', 'o', 'o', 'o', 'o', 'o']\n",
            "Real scope: ['ideacion', 'suicida', 'estructurada', 'en', 'el', 'momento', 'actual'] \n",
            "\n",
            "Predicted scope: ['alteraciones', 'en', 'la', 'sensopercepcion', 'ni', 'otras', 'alteraciones', 'dentro', 'de', 'la', 'esfera', 'psicotica']\n",
            "Real scope: ['alteraciones', 'en', 'la', 'sensopercepcion', 'ni', 'otras', 'alteraciones', 'dentro', 'de', 'la', 'esfera', 'psicotica'] \n",
            "\n",
            "Predicted scope: ['auto', 'ni', 'heteroagresiva', '.', 'normosomnia', '.', 'normorexia', '.', 'juicio', 'de', 'la', 'realidad', 'preservado']\n",
            "Real scope: ['auto', 'ni', 'heteroagresiva', 'o', 'o', 'o', 'o', 'o', 'o', 'o', 'o', 'o', 'o'] \n",
            "\n",
            "Predicted scope: ['refiriendo', 'una', 'ideacion', 'suicida', 'o']\n",
            "Real scope: ['refiriendo', 'una', 'ideacion', 'suicida', 'clara'] \n",
            "\n",
            "True Positives: 31\n",
            "True Negatives: 0\n",
            "False Positives: 30\n",
            "False Negatives: 14\n",
            "+-----------+-------+\n",
            "|  Measure  | Score |\n",
            "+-----------+-------+\n",
            "| Precision |  0.51 |\n",
            "|   Recall  |  0.69 |\n",
            "|  F1-score |  0.58 |\n",
            "|  Accuracy |  0.41 |\n",
            "+-----------+-------+\n"
          ]
        }
      ],
      "source": [
        "accuracy_scopes2(predicted_scopes_tags, true_scopes, similarity = 4) # predicted scopes with spacy on real text"
      ]
    },
    {
      "cell_type": "markdown",
      "metadata": {
        "id": "hgH0G6CKRYFc"
      },
      "source": [
        "### $\\color{palevioletred}{\\text{(2) Second attempt: Improving}}$\n",
        "\n",
        "In order to improve the Rule-Based system performance, we decided to change the way of recognizing the scopes. Now, the negations are equally detected but for the scope detection we take into consideration the dependency parse trees. Then, we are able to find the nearest verb or adjective affected by the negation and, as a consequence, we can more precisely identify the scope.\n",
        "\n",
        "- Loading spacy_stanza pipeline\n",
        "\n",
        "We will be using Spacy Stanza, a combination of SpaCy and Stanza libraries. This library allow us to perform a wide range of NLP tasks with ease."
      ]
    },
    {
      "cell_type": "code",
      "execution_count": 10,
      "metadata": {
        "colab": {
          "base_uri": "https://localhost:8080/",
          "height": 520,
          "referenced_widgets": [
            "0a545b0c04524147b64cec72b013f94a",
            "3e7e11e390e34c57b796c0904c96847d",
            "8e2dfff61fce4adf9e5d1d87923a66a3",
            "0722bc23b81349fc99c19a4cc76beb42",
            "72a97db60ebd4955999e4898871e40dc",
            "f1c14e10993b4a19844ef30a47e962df",
            "239a69ebdb754197aef4c5e065cc7eba",
            "11963abed3ad4bfcaff6544f8a8e962a",
            "f14365426e9a4547b6fd2718ed1d3e27",
            "f7f4e74cba5949009a418947a8a70e0f",
            "ccd5a508a0cc47889b3b02913244da71"
          ]
        },
        "id": "hAgKaQHVR-Ns",
        "outputId": "c8fdcd82-3063-4622-f1db-c591ef1de03d"
      },
      "outputs": [
        {
          "name": "stderr",
          "output_type": "stream",
          "text": [
            "INFO:stanza:Checking for updates to resources.json in case models have been updated.  Note: this behavior can be turned off with download_method=None or download_method=DownloadMethod.REUSE_RESOURCES\n"
          ]
        },
        {
          "data": {
            "application/vnd.jupyter.widget-view+json": {
              "model_id": "0a545b0c04524147b64cec72b013f94a",
              "version_major": 2,
              "version_minor": 0
            },
            "text/plain": [
              "Downloading https://raw.githubusercontent.com/stanfordnlp/stanza-resources/main/resources_1.5.0.json:   0%|   …"
            ]
          },
          "metadata": {},
          "output_type": "display_data"
        },
        {
          "name": "stderr",
          "output_type": "stream",
          "text": [
            "INFO:stanza:Loading these models for language: es (Spanish):\n",
            "===========================\n",
            "| Processor    | Package  |\n",
            "---------------------------\n",
            "| tokenize     | ancora   |\n",
            "| mwt          | ancora   |\n",
            "| pos          | ancora   |\n",
            "| lemma        | ancora   |\n",
            "| constituency | combined |\n",
            "| depparse     | ancora   |\n",
            "| sentiment    | tass2020 |\n",
            "| ner          | conll02  |\n",
            "===========================\n",
            "\n",
            "WARNING:stanza:GPU requested, but is not available!\n",
            "INFO:stanza:Using device: cpu\n",
            "INFO:stanza:Loading: tokenize\n",
            "INFO:stanza:Loading: mwt\n",
            "INFO:stanza:Loading: pos\n",
            "INFO:stanza:Loading: lemma\n",
            "INFO:stanza:Loading: constituency\n",
            "INFO:stanza:Loading: depparse\n",
            "INFO:stanza:Loading: sentiment\n",
            "INFO:stanza:Loading: ner\n",
            "INFO:stanza:Done loading processors!\n"
          ]
        }
      ],
      "source": [
        "nlp = spacy_stanza.load_pipeline('es')"
      ]
    },
    {
      "cell_type": "markdown",
      "metadata": {
        "id": "fhCcgLJuMQa2"
      },
      "source": [
        "- Function definitions\n",
        "\n",
        "Function to cut the text, useful if we do not want certian characters. Not strictly necessary."
      ]
    },
    {
      "cell_type": "code",
      "execution_count": 11,
      "metadata": {
        "id": "eOQ8aerqMPVS"
      },
      "outputs": [],
      "source": [
        "def cut_text(text):\n",
        " \n",
        "  # Find the index of the word to start the cut from\n",
        "  word_to_cut_from = \"informe\"\n",
        "  start_index = text.find(word_to_cut_from)\n",
        "\n",
        "  # Use string slicing to cut the string from the start index to the end\n",
        "  text = text[start_index:]\n",
        "\n",
        "  return text\n"
      ]
    },
    {
      "cell_type": "markdown",
      "metadata": {
        "id": "ru4X45wiMPnF"
      },
      "source": [
        "Function to detect cues of both Negation (NEG) and Uncertainty (UNC)."
      ]
    },
    {
      "cell_type": "code",
      "execution_count": 12,
      "metadata": {
        "id": "OIBQB69qMePL"
      },
      "outputs": [],
      "source": [
        "def detect_cues(text):\n",
        "\n",
        "    doc = nlp(text)\n",
        "    negation_indices = set() #Empty set, negation ind will be stored here\n",
        "    uncertainty_indices = set()\n",
        "\n",
        "    for token in doc:\n",
        "\n",
        "        if token.lemma_ in [\"no\", \"sin\", \"tampoco\", \"afebril\", \"ex\", \"negativo\", \"ausencia\", \"descarta\",\n",
        "                            \"niega\", \"inespecificos\", \"tampoco\", \"asintomatico\", \"imposibilidad\",\"atipicos\", \"sense\",\n",
        "                            \"neg\",\"ausente\",\"retira\",\"incapacidad\", \"falta\", \"insuficiencia\", \"inestabilidad\",\n",
        "                            \"negativas\",\"desaparicion\",\"desconocen\",\"rechaza\",\"negativa\"]:\n",
        "\n",
        "          negation_indices.add(token.i) \n",
        "        \n",
        "        if token.lemma_ in [\"sospecha\",\"duda\", \"probable\", \"compatible\", \"podria\", \"aparentemente\", \n",
        "                            \"sugiriendo\", \"dudosa\", \"sugestivo\"]:\n",
        "                            \n",
        "          uncertainty_indices.add(token.i) \n",
        "\n",
        "    labeled_tokens = []\n",
        "\n",
        "    for i, token in enumerate(doc):\n",
        "        if i in negation_indices:\n",
        "\n",
        "            labeled_tokens.append((token, \"NEG\"))\n",
        "\n",
        "        elif i in uncertainty_indices:\n",
        "            labeled_tokens.append((token, \"UNC\"))\n",
        "\n",
        "        else:\n",
        "            labeled_tokens.append((token, \"O\")) #Other if it is not\n",
        "\n",
        "    return labeled_tokens, negation_indices, uncertainty_indices"
      ]
    },
    {
      "cell_type": "markdown",
      "metadata": {
        "id": "o48VZPZXMhFP"
      },
      "source": [
        "Function to detect scopes."
      ]
    },
    {
      "cell_type": "code",
      "execution_count": 13,
      "metadata": {
        "id": "EhD859WQMglC"
      },
      "outputs": [],
      "source": [
        "def detect_scopes(text):\n",
        "\n",
        "    doc = nlp(text)\n",
        "    labels, negation_indices, uncertainty_indices = detect_cues(text)\n",
        "    scopes = [] #Store the cue-scope pairs\n",
        "      \n",
        "    for token in doc:\n",
        "        if token.i in negation_indices or token.i in uncertainty_indices: #Token is a cue?\n",
        "\n",
        "            # Find the nearest verb or adjective that the cue modifies, using dependency parse tree\n",
        "            target_token = token.head\n",
        "            while target_token.pos_ not in [\"VERB\", \"ADJ\"] and target_token != target_token.head:\n",
        "                target_token = target_token.head\n",
        "            \n",
        "            # Scope  -> Subtree of doc, wehere head = Target token\n",
        "            scope_start = target_token.left_edge.i\n",
        "            scope_end = target_token.right_edge.i + 1\n",
        "            scope = doc[scope_start:scope_end]\n",
        "        \n",
        "            if token.i in negation_indices:\n",
        "              for index in range(scope_start, scope_end):\n",
        "                if labels[index][1] != \"NEG\":\n",
        "                  labels[index] = (labels[index][0], \"NSCO\")\n",
        "\n",
        "            else:\n",
        "              for index in range(scope_start, scope_end):\n",
        "                if labels[index][1] != \"UNC\":\n",
        "                  labels[index] = (labels[index][0], \"USCO\")\n",
        "\n",
        "\n",
        "            scopes.append((token.lower_, scope.text))\n",
        "\n",
        "    \n",
        "    return scopes, labels"
      ]
    },
    {
      "cell_type": "markdown",
      "metadata": {
        "id": "nNAZcbyoMtfF"
      },
      "source": [
        "Function to compute the labels using annotations from json file (true_labels).\n",
        "\n",
        "PARAMETERS: \n",
        "\n",
        "1. data - > All data extracted from json file.\n",
        "2. num_text - > Number of desired text."
      ]
    },
    {
      "cell_type": "code",
      "execution_count": 14,
      "metadata": {
        "id": "yc-OddK0MuOM"
      },
      "outputs": [],
      "source": [
        "def test_data(data, num_text):\n",
        "\n",
        "  text = data[num_text][\"data\"][\"text\"]\n",
        "  labels = list(np.full(len(text), \"O\", dtype=str))\n",
        "\n",
        "  for value in data[num_text][\"predictions\"][0][\"result\"]:\n",
        "      \n",
        "      if value[\"value\"][\"labels\"][0]== \"NEG\":\n",
        "\n",
        "        start = value[\"value\"][\"start\"]\n",
        "        end = value[\"value\"][\"end\"]\n",
        "\n",
        "        #print(text[start:end])\n",
        "        labels[start:end] = [\"NEG\"] * (end - start)\n",
        "        #print(labels[start:end-1])\n",
        "      \n",
        "      elif value[\"value\"][\"labels\"][0]== \"UNC\":\n",
        "\n",
        "        start = value[\"value\"][\"start\"]\n",
        "        end = value[\"value\"][\"end\"]\n",
        "\n",
        "        #print(text[start:end])\n",
        "        labels[start:end] = [\"UNC\"] * (end - start)\n",
        "        #print(labels[start:end-1])\n",
        "\n",
        "  print(\"Completed (0)\")\n",
        "\n",
        "  doc = nlp(text)\n",
        "\n",
        "  print(\"Completed (1)\")\n",
        "  final_labels = []\n",
        "  \n",
        "  # Use a counter variable to keep track of the current position in the labels list\n",
        "  i = 0\n",
        "\n",
        "  for token in doc:\n",
        "    while text[i] == \" \": #IMPORTANT to handle spaces\n",
        "      i+=1\n",
        "\n",
        "    label = labels[i] # Get the label for the current token\n",
        "\n",
        "    #print(token, label, i)\n",
        "\n",
        "    final_labels.append((token.text, label))\n",
        "    i += len(token)\n",
        "\n",
        "  return final_labels"
      ]
    },
    {
      "cell_type": "markdown",
      "metadata": {
        "id": "W12D4g8pMwMj"
      },
      "source": [
        "Same function as before, but now taking the scopes into account."
      ]
    },
    {
      "cell_type": "code",
      "execution_count": 15,
      "metadata": {
        "id": "-IJkApXVMv4k"
      },
      "outputs": [],
      "source": [
        "def test_data_with_scopes(data, num_text):\n",
        "\n",
        "  text = data[num_text][\"data\"][\"text\"]\n",
        "  labels = list(np.full(len(text), \"O\", dtype=str))\n",
        "\n",
        "  for value in data[num_text][\"predictions\"][0][\"result\"]:\n",
        "      \n",
        "      if value[\"value\"][\"labels\"][0]== \"NEG\":\n",
        "\n",
        "        start = value[\"value\"][\"start\"]\n",
        "        end = value[\"value\"][\"end\"]\n",
        "\n",
        "        #print(text[start:end])\n",
        "        labels[start:end] = [\"NEG\"] * (end - start)\n",
        "        #print(labels[start:end-1])\n",
        "      \n",
        "      elif value[\"value\"][\"labels\"][0]== \"UNC\":\n",
        "\n",
        "        start = value[\"value\"][\"start\"]\n",
        "        end = value[\"value\"][\"end\"]\n",
        "\n",
        "        #print(text[start:end])\n",
        "        labels[start:end] = [\"UNC\"] * (end - start)\n",
        "        #print(labels[start:end-1])\n",
        "\n",
        "      elif value[\"value\"][\"labels\"][0]== \"USCO\":\n",
        "\n",
        "        start = value[\"value\"][\"start\"]\n",
        "        end = value[\"value\"][\"end\"]\n",
        "\n",
        "        #print(text[start:end])\n",
        "        labels[start:end] = [\"USCO\"] * (end - start)\n",
        "        #print(labels[start:end-1])\n",
        "      \n",
        "      elif value[\"value\"][\"labels\"][0]== \"NSCO\":\n",
        "\n",
        "        start = value[\"value\"][\"start\"]\n",
        "        end = value[\"value\"][\"end\"]\n",
        "\n",
        "        #print(text[start:end])\n",
        "        labels[start:end] = [\"NSCO\"] * (end - start)\n",
        "        #print(labels[start:end-1])\n",
        "\n",
        "  print(\"Completed (0)\")\n",
        "\n",
        "  doc = nlp(text)\n",
        "\n",
        "  print(\"Completed (1)\")\n",
        "  final_labels = []\n",
        "  \n",
        "  # Use a counter variable to keep track of the current position in the labels list\n",
        "  i = 0\n",
        "\n",
        "  for token in doc:\n",
        "    while text[i] == \" \": #IMPORTANT to handle spaces\n",
        "      i+=1\n",
        "\n",
        "    label = labels[i] # Get the label for the current token\n",
        "\n",
        "    #print(token, label, i)\n",
        "\n",
        "    final_labels.append((token.text, label))\n",
        "    i += len(token)\n",
        "\n",
        "  return final_labels"
      ]
    },
    {
      "cell_type": "markdown",
      "metadata": {
        "id": "UbtqzyraM3FM"
      },
      "source": [
        "The following function is for evaluating the model in negation and uncertainty cues detection. \n",
        "\n",
        "PARAMETERS:\n",
        "\n",
        "1. prdicted_labels - > Labels predicted after processing\n",
        "2. true_labels - > Labels extracted from annotations\n",
        "3. cuetype - > \"NEG\" or \"UNC\" "
      ]
    },
    {
      "cell_type": "code",
      "execution_count": 16,
      "metadata": {
        "id": "IFhDncm0M01u"
      },
      "outputs": [],
      "source": [
        "def evaluating_model (predicted_labels, true_labels, cuetype):\n",
        "\n",
        "    true_negatives_neg = 0\n",
        "    true_positives_neg = 0\n",
        "    false_positives_neg = 0\n",
        "    false_negatives_neg = 0\n",
        "    \n",
        "    for true_value, pred_value in zip(true_labels, predicted_labels):\n",
        "\n",
        "      #print(true_value[1], pred_value[1])\n",
        "\n",
        "      if true_value[1] == cuetype and pred_value[1] ==cuetype:\n",
        "        true_positives_neg +=1\n",
        "            \n",
        "      elif true_value[1] ==\"O\" and pred_value[1] ==\"O\":\n",
        "        true_negatives_neg +=1\n",
        "\n",
        "      elif true_value[1]==\"O\" and pred_value[1]==cuetype:\n",
        "        false_positives_neg+=1\n",
        "      \n",
        "      else:\n",
        "        false_negatives_neg+=1\n",
        "      \n",
        "    print(\"True Negatives:\",true_negatives_neg)\n",
        "    print(\"True Positives:\", true_positives_neg)\n",
        "    print(\"False Positives:\", false_positives_neg)\n",
        "    print(\"False Negatives:\",false_negatives_neg)\n",
        "\n",
        "    # Measures\n",
        "\n",
        "    denominator = true_positives_neg + false_positives_neg\n",
        "\n",
        "    if denominator == 0:\n",
        "        precision = 0\n",
        "    else:\n",
        "        precision = true_positives_neg / denominator\n",
        "\n",
        "    denominator = true_positives_neg + false_negatives_neg\n",
        "\n",
        "    if denominator == 0:\n",
        "        recall = 0\n",
        "    else:\n",
        "        recall = true_positives_neg / denominator\n",
        "\n",
        "    denominator = true_positives_neg + true_negatives_neg + false_positives_neg + false_negatives_neg\n",
        "\n",
        "    if denominator == 0:\n",
        "        f1_score = 0\n",
        "        accuracy = 0\n",
        "    else:\n",
        "        f1_score = 2 * (precision * recall) / (precision + recall)\n",
        "        accuracy = (true_positives_neg + true_negatives_neg) / denominator\n",
        "    \n",
        "    print(\"Evalutaion for\", cuetype, \":\")\n",
        "\n",
        "    x = PrettyTable()\n",
        "    x.field_names = [\"Measure\", \"Score\"]\n",
        "    x.add_row([\"Precision\", f\"{precision:.2f}\"])\n",
        "    x.add_row([\"Recall\", f\"{recall:.2f}\"])\n",
        "    x.add_row([\"F1-score\", f\"{f1_score:.2f}\"])\n",
        "    x.add_row([\"Accuracy\", f\"{accuracy:.2f}\"])\n",
        "\n",
        "    print(x)"
      ]
    },
    {
      "cell_type": "markdown",
      "metadata": {
        "id": "QrpxF5tdM-iB"
      },
      "source": [
        "Same function as before, but now taking the scopes into account."
      ]
    },
    {
      "cell_type": "code",
      "execution_count": 17,
      "metadata": {
        "id": "ZKiIVkCyM_NT"
      },
      "outputs": [],
      "source": [
        "def final_evaluation (predicted_labels, true_labels):\n",
        "\n",
        "    true_negatives = 0\n",
        "    true_positives= 0\n",
        "    false_positives = 0\n",
        "    false_negatives = 0\n",
        "    \n",
        "    for true_value, pred_value in zip(true_labels, predicted_labels):\n",
        "\n",
        "      #print(true_value[1], pred_value[1])\n",
        "\n",
        "      if true_value[1] == pred_value[1] and true_value[1]!= \"O\":\n",
        "        true_positives+=1\n",
        "            \n",
        "      elif true_value[1] == pred_value[1]:\n",
        "        true_negatives=1\n",
        "\n",
        "      elif true_value[1]==\"O\" and pred_value[1]!=\"O\":\n",
        "        false_positives+=1\n",
        "      \n",
        "      else:\n",
        "        false_negatives+=1\n",
        "      \n",
        "    print(\"True Negatives:\",true_negatives)\n",
        "    print(\"True Positives:\", true_positives)\n",
        "    print(\"False Positives:\", false_positives)\n",
        "    print(\"False Negatives:\",false_negatives)\n",
        "\n",
        "    # Measures\n",
        "\n",
        "    denominator = true_positives + false_positives\n",
        "\n",
        "    if denominator == 0:\n",
        "        precision = 0\n",
        "    else:\n",
        "        precision = true_positives / denominator\n",
        "\n",
        "    denominator = true_positives + false_negatives\n",
        "\n",
        "    if denominator == 0:\n",
        "        recall = 0\n",
        "    else:\n",
        "        recall = true_positives / denominator\n",
        "\n",
        "    denominator = true_positives + true_negatives + false_positives + false_negatives\n",
        "\n",
        "    if denominator == 0:\n",
        "        f1_score = 0\n",
        "        accuracy = 0\n",
        "    else:\n",
        "        f1_score = 2 * (precision * recall) / (precision + recall)\n",
        "        accuracy = (true_positives + true_negatives) / denominator\n",
        "\n",
        "    x = PrettyTable()\n",
        "    x.field_names = [\"Measure\", \"Score\"]\n",
        "    x.add_row([\"Precision\", f\"{precision:.2f}\"])\n",
        "    x.add_row([\"Recall\", f\"{recall:.2f}\"])\n",
        "    x.add_row([\"F1-score\", f\"{f1_score:.2f}\"])\n",
        "    x.add_row([\"Accuracy\", f\"{accuracy:.2f}\"])\n",
        "\n",
        "    print(x)"
      ]
    },
    {
      "cell_type": "markdown",
      "metadata": {
        "id": "wqxF2UARNHOZ"
      },
      "source": [
        "Function to create a report:"
      ]
    },
    {
      "cell_type": "code",
      "execution_count": 18,
      "metadata": {
        "id": "YKiixjV0ND_q"
      },
      "outputs": [],
      "source": [
        "def report(data):\n",
        "\n",
        "  i = 0\n",
        "  true_negatives = 0\n",
        "  true_positives = 0\n",
        "  false_positives = 0\n",
        "  false_negatives = 0\n",
        "\n",
        "  for d in data:\n",
        "\n",
        "    print(\"Playing with text\", i)\n",
        "\n",
        "    text = d[\"data\"][\"text\"]\n",
        "\n",
        "    scopes, scope_labels = detect_scopes(text)\n",
        "\n",
        "    real_labels = test_data_with_scopes(data, i)\n",
        "\n",
        "    print(\"Computed.\")\n",
        "    \n",
        "    for true_value, pred_value in zip(real_labels, scope_labels):\n",
        "\n",
        "      if true_value[1] == pred_value[1] and true_value[1]!= \"O\":\n",
        "        true_positives+=1\n",
        "            \n",
        "      elif true_value[1] == pred_value[1]:\n",
        "        true_negatives=1\n",
        "\n",
        "      elif true_value[1]==\"O\" and pred_value[1]!=\"O\":\n",
        "        false_positives+=1\n",
        "      \n",
        "      else:\n",
        "        false_negatives+=1\n",
        "        \n",
        "    i+=1\n",
        "\n",
        "  true_negatives /= i\n",
        "  true_positives /= i\n",
        "  false_positives /= i\n",
        "  false_negatives /= i\n",
        "\n",
        "  # Measures\n",
        "\n",
        "  denominator = true_positives + false_positives\n",
        "\n",
        "  if denominator == 0:\n",
        "    precision = 0\n",
        "  \n",
        "  else:\n",
        "    precision = true_positives / denominator\n",
        "\n",
        "  denominator = true_positives + false_negatives\n",
        "\n",
        "  if denominator == 0:\n",
        "    recall = 0\n",
        "\n",
        "  else:\n",
        "    recall = true_positives / denominator\n",
        "\n",
        "  denominator = true_positives + true_negatives + false_positives + false_negatives\n",
        "\n",
        "  if denominator == 0:\n",
        "    f1_score = 0\n",
        "    accuracy = 0\n",
        "\n",
        "  else:\n",
        "    f1_score = 2 * (precision * recall) / (precision + recall)\n",
        "    accuracy = (true_positives + true_negatives) / denominator\n",
        "\n",
        "  x = PrettyTable()\n",
        "  x.field_names = [\"Measure\", \"Score\"]\n",
        "  x.add_row([\"Precision\", f\"{precision:.2f}\"])\n",
        "  x.add_row([\"Recall\", f\"{recall:.2f}\"])\n",
        "  x.add_row([\"F1-score\", f\"{f1_score:.2f}\"])\n",
        "  x.add_row([\"Accuracy\", f\"{accuracy:.2f}\"])\n",
        "\n",
        "  print(x)"
      ]
    },
    {
      "cell_type": "markdown",
      "metadata": {
        "id": "3PzP_nptNVUb"
      },
      "source": [
        "- Evaluation"
      ]
    },
    {
      "cell_type": "code",
      "execution_count": 72,
      "metadata": {
        "id": "ehT0vhxGNbRJ"
      },
      "outputs": [],
      "source": [
        "#First, take one text from the sample \n",
        "text = data[122][\"data\"][\"text\"]"
      ]
    },
    {
      "cell_type": "code",
      "execution_count": null,
      "metadata": {
        "id": "IrBkM_QDOARl"
      },
      "outputs": [],
      "source": [
        "#Then, does the cues detection work?\n",
        "pred_labels, neg_cues, unc_cues = detect_cues(text)"
      ]
    },
    {
      "cell_type": "code",
      "execution_count": 73,
      "metadata": {
        "colab": {
          "base_uri": "https://localhost:8080/"
        },
        "id": "8zLJ72twODxM",
        "outputId": "a72bdea2-e2de-4eda-eae2-a71833a82e82"
      },
      "outputs": [
        {
          "name": "stderr",
          "output_type": "stream",
          "text": [
            "/usr/local/lib/python3.10/dist-packages/spacy/language.py:999: UserWarning: Can't set named entities because of multi-word token expansion or because the character offsets don't map to valid tokens produced by the Stanza tokenizer:\n",
            "Words: ['nº', 'historia', 'clinica', ':', '**', '***', '***', 'nºepisodi', ':', '********', 'sexe', ':', 'home', 'data', 'de', 'naixement', ':', '02.02.1951', 'edat', ':', '68', 'anys', 'procedencia', 'cex', 'mateix', 'hosp', 'servei', 'urologia', 'data', \"d'ingres\", '09.10.2019', 'data', \"d'alta\", '11.10.2019', '07:20:51', 'ates', 'per', '************', ',', '*****', ';', '*****************', ',', '******', 'informe', \"d'alta\", \"d'hospitalitzacio\", 'motiu', \"d'ingres\", 'paciente', 'que', 'ingresa', 'de', 'forma', 'programada', 'para', 'la', 'realizacion', 'de', 'reseccion', 'transuretral', 'de', 'tumor', 'vesical', '.', 'antecedents', 'niega', 'alergias', 'medicamentosas', 'conocidas', 'fumador', 'importante', '(', 'puros', ')', 'antecedentes', 'patologicos', 'enfisema', 'pulmonar', 'carcinoma', 'escamos', 'de', 'cuerda', 'vocal', 'por', 'lo', 'que', 'le', 'realizaron', 'laringuectomia', 'en', '2002', '.', 'traqueostomia', '.', 'lesion', 'en', 'lsd', 'con', 'pte', 'positivo', 'sin', 'diagnostico', 'que', 'ha', 'crecido', '.', 'se', 'niega', 'a', 'iqx', 'y', 'decide', 'hacer', 'controles', '.', 'riesgo', 'tromboembolico', ':', 'bajo', '.', 'vive', 'solo', '.', 'independient', 'para', 'las', 'actividades', 'de', 'la', 'vida', 'diaria', '.', 'proces', 'actual', 'paciente', 'de', '68', 'años', 'que', 'a', 'raiz', 'de', 'episodio', 'de', 'hematuria', 'se', 'realizo', 'ecografia', 'renovesical', 'con', 'ikagen', 'nodular', '17x20mm', 'en', 'pared', 'posterolateral', 'izquierda', ',', 'adyacente', 'a', 'el', 'meato', ',', 'compatible', 'con', 'proceso', 'neoformativo', 'vesical', '.', 'se', 'amplia', 'estudio', 'con', 'cistoscopia', 'donde', 'se', 'observa', 'lesion', 'exofitica', 'papilar', 'de', 'base', 'estrecha', 'unos', '2cm', 'yuxtameatica', 'izquierda', 'a', '2mm', 'dejando', 'lo', 'libre', ',', 'sugestiva', 'de', 'tumor', 'vesical', '.', 'se', 'decide', 'ingreso', 'de', 'forma', 'programada', 'para', 'realizacion', 'de', 'reseccion', 'transuretral', 'de', 'dicha', 'lesion', 'exploracio', 'complementaria', 'ag', '27/6/19', ':', 'hb', '12.3', ',', 'cr', '0.79', ',', 'fg', '&gt', ';', '90', 'eco', '17/7/19', ':', 'ambos', 'riñones', 'normosituados', 'de', 'morfologia', 'regular', 'y', 'tamaño', 'normal', '.', 'ecoestructura', 'cortical', 'y', 'relacion', 'cortico', 'sinusal', 'conservada', '.', 'no', 'se', 'evidencian', 'signos', 'de', 'uropatia', 'obstructiva', '.', 'vejiga', 'urinaria', 'a', 'buena', 'replecion', 'de', 'morfologia', 'regular', ',', 'en', 'pared', 'posterolateral', 'izquierda', ',', 'adyacente', 'a', 'meato', 'ureteral', 'izquierdo', 'sin', 'afectar', 'a', 'el', 'jet', 'ureteral', 'se', 'observa', 'imagen', 'nodular', 'de', 'crecimiento', 'intracavitario', 'de', '17x20mm', 'compatible', 'con', 'proceso', 'neoformativo', 'vesical', '.', 'vp', '22cc', '.', 'cistoscopia', '13/8/19', ':', 'se', 'observa', 'lesion', 'exofitica', 'papilar', 'de', 'base', 'estrecha', 'unos', '2cm', 'yuxtameatica', 'izquierda', 'a', '2mm', 'dejando', 'lo', 'libre', ',', 'sugestiva', 'de', 'tm', 'vesical', '.', 'citologia', ':', 'descamacion', 'de', 'ocasionales', 'grupos', 'celulares', 'con', 'atipia', 'sospechosas', 'de', 'carcinoma', 'urotelial', '.', 'nhc', '**', '***', '***', '&nbsp', ';', '(', '********', ')', '&nbsp', ';', 'age-v-uro', '1/2', 'lopd', 'evolucio', 'clinica', 'el', '09/10/2019', 'con', 'el', 'consentimiento', 'informado', 'de', 'el', 'paciente', 'y', 'sin', 'contraindicacion', 'preoperatoria', 'se', 'realiza', 'reseccion', 'transuretral', 'de', 'tumor', 'vesical', ',', 'bmn', 'y', 'bup', 'sin', 'incidencias', '.', 'tras', 'el', 'procedimiento', 'pasa', 'a', 'la', 'planta', 'de', 'hospitalizacion', 'siendo', 'portador', 'de', 'lavado', 'vesical', 'continuo', '.', 'posteriormente', 'se', 'mantiene', 'en', 'buen', 'estado', 'general', ',', 'afebril', ',', 'hemodinamicamente', 'estable', 'y', 'con', 'buen', 'control', 'de', 'el', 'dolor', '.', 'se', 'consigue', 'reducir', 'el', 'ritmo', 'de', 'el', 'lavado', 'vesical', 'hasta', 'retirar', 'lo', '.', 'se', 'retira', 'la', 'sonda', 'vesical', 'presentando', 'miccion', 'espontanea', '.', 'dada', 'la', 'buena', 'evolucion', 'se', 'decide', 'alta', 'domiciliaria', '.', 'orientacio', 'diagnostica', 'c67.9', 'neoplasia', 'maligna', ',', 'localitzacio', 'no', 'especificada', 'de', 'la', 'bufeta', 'urinaria', 'procediments', '-', 'profilaxis', 'antibiotica', ',', 'antitrombotica', 'y', 'antiulcerosa', '.', '-', 'reseccion', 'transuretral', 'de', 'tumor', 'vesical', '.', '-biopsias', 'vesicales', 'multiples', '-biopsia', 'de', 'uretra', 'prostatica', '-lavado', 'vesical', 'continuo', '.', 'tractament', 'i', 'recomanacions', 'a', \"l'alta\", '-abundante', 'ingesta', 'de', 'liquidos', '.', '-', 'puede', 'orinar', 'con', 'restos', 'de', 'sangre', 'durante', 'las', 'proximas', 'semanas', '.', '-', 'paracetamol', '650mg', 'cada', '8', 'horas', 'si', 'molestias', '.', '-', 'es', 'normal', 'que', 'sienta', 'escozor', 'a', 'el', 'orinar', 'y', 'que', 'tenga', 'alguna', 'fuga', 'de', 'orina', 'y', 'urgencia', 'miccional', '.', '-', 'si', 'fiebre', 'mayor', 'de', '38ºc', 'o', 'imposibilidad', 'para', 'orinar', 'acuda', 'a', 'urgencias', '.', '-control', 'consultas', 'externas', 'de', 'urologia', 'segun', 'cita', 'en', 'hoja', 'adjunta', '.', '-', 'le', 'avisaran', 'telefonicamente', 'para', 'realizacion', 'de', 'tc', 'toracoabdominal', 'de', 'estadiaje', 'destinacio', 'a', \"l'alta\", ':', 'a', 'domicili', 'nhc', '**', '***', '***', '&nbsp', ';', '(', '********', ')', '&nbsp', ';', 'age-v-uro', '2/2', 'lopd']\n",
            "Entities: []\n",
            "  doc = self._ensure_doc(text)\n"
          ]
        }
      ],
      "source": [
        "#Finally, are scopes correctly detected?\n",
        "scopes, scope_labels = detect_scopes(text)"
      ]
    },
    {
      "cell_type": "code",
      "execution_count": 74,
      "metadata": {
        "colab": {
          "base_uri": "https://localhost:8080/"
        },
        "id": "pXVqYhjfOF0J",
        "outputId": "75f5e7e3-6556-43bd-bee3-adfbae34e5ce"
      },
      "outputs": [
        {
          "data": {
            "text/plain": [
              "[('sin',\n",
              "  'traqueostomia . lesion en lsd con pte positivo sin diagnostico que ha crecido .'),\n",
              " ('compatible',\n",
              "  'que a raiz de episodio de hematuria se realizo ecografia renovesical con ikagen nodular 17x20mm en pared posterolateral izquierda , adyacente a el meato , compatible con proceso neoformativo vesical'),\n",
              " ('sugestiva', 'libre , sugestiva de tumor vesical'),\n",
              " ('no', 'no se evidencian signos de uropatia obstructiva .'),\n",
              " ('sin', 'sin afectar a el jet ureteral'),\n",
              " ('compatible',\n",
              "  'vejiga urinaria a buena replecion de morfologia regular , en pared posterolateral izquierda , adyacente a meato ureteral izquierdo sin afectar a el jet ureteral se observa imagen nodular de crecimiento intracavitario de 17x20mm compatible con proceso neoformativo vesical .'),\n",
              " ('sugestiva', 'libre , sugestiva de tm vesical'),\n",
              " ('sin',\n",
              "  'y sin contraindicacion preoperatoria se realiza reseccion transuretral de tumor vesical , bmn y bup sin incidencias'),\n",
              " ('sin',\n",
              "  'y sin contraindicacion preoperatoria se realiza reseccion transuretral de tumor vesical , bmn y bup sin incidencias'),\n",
              " ('afebril',\n",
              "  'general , afebril , hemodinamicamente estable y con buen control de el dolor'),\n",
              " ('no',\n",
              "  'no especificada de la bufeta urinaria procediments - profilaxis antibiotica , antitrombotica y antiulcerosa'),\n",
              " ('imposibilidad',\n",
              "  '- si fiebre mayor de 38ºc o imposibilidad para orinar acuda a urgencias .')]"
            ]
          },
          "execution_count": 74,
          "metadata": {},
          "output_type": "execute_result"
        }
      ],
      "source": [
        "#Just some visualization\n",
        "scopes"
      ]
    },
    {
      "cell_type": "code",
      "execution_count": 75,
      "metadata": {
        "colab": {
          "base_uri": "https://localhost:8080/"
        },
        "id": "6XWENaPLnvN2",
        "outputId": "a3d4a3fb-1c96-4903-ba92-8b19d51f8126"
      },
      "outputs": [
        {
          "name": "stdout",
          "output_type": "stream",
          "text": [
            "\u001b[39m- Negation cues are represented with \u001b[31mRED\n",
            "\u001b[39m- Negation scopes are represented with \u001b[34mBLUE\n",
            "\u001b[39m- Uncertainty cues are represented with \u001b[33mYELLOW\n",
            "\u001b[39m- Uncertainty scopes are represented with \u001b[32mGREEN\n",
            "\n",
            "\n",
            "nº historia clinica : ** *** *** nºepisodi : ******** sexe : home data de naixement : 02.02.1951 edat : 68 anys\n",
            "procedencia cex mateix hosp servei urologia data d'ingres 09.10.2019 data d'alta 11.10.2019 07:20:51 ates per\n",
            "************ , ***** ; ***************** , ****** informe d'alta d'hospitalitzacio motiu d'ingres paciente que ingresa\n",
            "de forma programada para la realizacion de reseccion transuretral de tumor vesical . antecedents niega alergias\n",
            "medicamentosas conocidas fumador importante ( puros ) antecedentes patologicos enfisema pulmonar carcinoma escamos de\n",
            "cuerda vocal por lo que le realizaron laringuectomia en 2002 . \u001b[34mtraqueostomia\u001b[0m \u001b[34m.\u001b[0m \u001b[34mlesion\u001b[0m\n",
            "\u001b[34men\u001b[0m \u001b[34mlsd\u001b[0m \u001b[34mcon\u001b[0m \u001b[34mpte\u001b[0m \u001b[34mpositivo\u001b[0m \u001b[31msin\u001b[0m \u001b[34mdiagnostico\u001b[0m \u001b[34mque\u001b[0m\n",
            "\u001b[34mha\u001b[0m \u001b[34mcrecido\u001b[0m \u001b[34m.\u001b[0m se niega a iqx y decide hacer controles . riesgo tromboembolico : bajo . vive\n",
            "solo . independient para las actividades de la vida diaria . proces actual paciente de 68 años \u001b[32mque\u001b[0m \u001b[32ma\u001b[0m\n",
            "\u001b[32mraiz\u001b[0m \u001b[32mde\u001b[0m \u001b[32mepisodio\u001b[0m \u001b[32mde\u001b[0m \u001b[32mhematuria\u001b[0m \u001b[32mse\u001b[0m \u001b[32mrealizo\u001b[0m\n",
            "\u001b[32mecografia\u001b[0m \u001b[32mrenovesical\u001b[0m \u001b[32mcon\u001b[0m \u001b[32mikagen\u001b[0m \u001b[32mnodular\u001b[0m \u001b[32m17x20mm\u001b[0m \u001b[32men\u001b[0m\n",
            "\u001b[32mpared\u001b[0m \u001b[32mposterolateral\u001b[0m \u001b[32mizquierda\u001b[0m \u001b[32m,\u001b[0m \u001b[32madyacente\u001b[0m \u001b[32ma\u001b[0m \u001b[32mel\u001b[0m\n",
            "\u001b[32mmeato\u001b[0m \u001b[32m,\u001b[0m \u001b[33mcompatible\u001b[0m \u001b[32mcon\u001b[0m \u001b[32mproceso\u001b[0m \u001b[32mneoformativo\u001b[0m \u001b[32mvesical\u001b[0m . se\n",
            "amplia estudio con cistoscopia donde se observa lesion exofitica papilar de base estrecha unos 2cm yuxtameatica\n",
            "izquierda a 2mm dejando lo \u001b[32mlibre\u001b[0m \u001b[32m,\u001b[0m \u001b[33msugestiva\u001b[0m \u001b[32mde\u001b[0m \u001b[32mtumor\u001b[0m \u001b[32mvesical\u001b[0m . se\n",
            "decide ingreso de forma programada para realizacion de reseccion transuretral de dicha lesion exploracio complementaria\n",
            "ag 27/6/19 : hb 12.3 , cr 0.79 , fg &gt ; 90 eco 17/7/19 : ambos riñones normosituados de morfologia regular y tamaño\n",
            "normal . ecoestructura cortical y relacion cortico sinusal conservada . \u001b[31mno\u001b[0m \u001b[34mse\u001b[0m \u001b[34mevidencian\u001b[0m\n",
            "\u001b[34msignos\u001b[0m \u001b[34mde\u001b[0m \u001b[34muropatia\u001b[0m \u001b[34mobstructiva\u001b[0m \u001b[34m.\u001b[0m \u001b[32mvejiga\u001b[0m \u001b[32murinaria\u001b[0m\n",
            "\u001b[32ma\u001b[0m \u001b[32mbuena\u001b[0m \u001b[32mreplecion\u001b[0m \u001b[32mde\u001b[0m \u001b[32mmorfologia\u001b[0m \u001b[32mregular\u001b[0m \u001b[32m,\u001b[0m \u001b[32men\u001b[0m\n",
            "\u001b[32mpared\u001b[0m \u001b[32mposterolateral\u001b[0m \u001b[32mizquierda\u001b[0m \u001b[32m,\u001b[0m \u001b[32madyacente\u001b[0m \u001b[32ma\u001b[0m \u001b[32mmeato\u001b[0m\n",
            "\u001b[32mureteral\u001b[0m \u001b[32mizquierdo\u001b[0m \u001b[32msin\u001b[0m \u001b[32mafectar\u001b[0m \u001b[32ma\u001b[0m \u001b[32mel\u001b[0m \u001b[32mjet\u001b[0m \u001b[32mureteral\u001b[0m\n",
            "\u001b[32mse\u001b[0m \u001b[32mobserva\u001b[0m \u001b[32mimagen\u001b[0m \u001b[32mnodular\u001b[0m \u001b[32mde\u001b[0m \u001b[32mcrecimiento\u001b[0m \u001b[32mintracavitario\u001b[0m\n",
            "\u001b[32mde\u001b[0m \u001b[32m17x20mm\u001b[0m \u001b[33mcompatible\u001b[0m \u001b[32mcon\u001b[0m \u001b[32mproceso\u001b[0m \u001b[32mneoformativo\u001b[0m \u001b[32mvesical\u001b[0m\n",
            "\u001b[32m.\u001b[0m vp 22cc . cistoscopia 13/8/19 : se observa lesion exofitica papilar de base estrecha unos 2cm yuxtameatica\n",
            "izquierda a 2mm dejando lo \u001b[32mlibre\u001b[0m \u001b[32m,\u001b[0m \u001b[33msugestiva\u001b[0m \u001b[32mde\u001b[0m \u001b[32mtm\u001b[0m \u001b[32mvesical\u001b[0m .\n",
            "citologia : descamacion de ocasionales grupos celulares con atipia sospechosas de carcinoma urotelial . nhc ** *** ***\n",
            "&nbsp ; ( ******** ) &nbsp ; age-v-uro 1/2 lopd evolucio clinica el 09/10/2019 con el consentimiento informado de el\n",
            "paciente \u001b[34my\u001b[0m \u001b[31msin\u001b[0m \u001b[34mcontraindicacion\u001b[0m \u001b[34mpreoperatoria\u001b[0m \u001b[34mse\u001b[0m \u001b[34mrealiza\u001b[0m\n",
            "\u001b[34mreseccion\u001b[0m \u001b[34mtransuretral\u001b[0m \u001b[34mde\u001b[0m \u001b[34mtumor\u001b[0m \u001b[34mvesical\u001b[0m \u001b[34m,\u001b[0m \u001b[34mbmn\u001b[0m \u001b[34my\u001b[0m\n",
            "\u001b[34mbup\u001b[0m \u001b[31msin\u001b[0m \u001b[34mincidencias\u001b[0m . tras el procedimiento pasa a la planta de hospitalizacion siendo\n",
            "portador de lavado vesical continuo . posteriormente se mantiene en buen estado \u001b[34mgeneral\u001b[0m \u001b[34m,\u001b[0m\n",
            "\u001b[31mafebril\u001b[0m \u001b[34m,\u001b[0m \u001b[34mhemodinamicamente\u001b[0m \u001b[34mestable\u001b[0m \u001b[34my\u001b[0m \u001b[34mcon\u001b[0m \u001b[34mbuen\u001b[0m\n",
            "\u001b[34mcontrol\u001b[0m \u001b[34mde\u001b[0m \u001b[34mel\u001b[0m \u001b[34mdolor\u001b[0m . se consigue reducir el ritmo de el lavado vesical hasta\n",
            "retirar lo . se retira la sonda vesical presentando miccion espontanea . dada la buena evolucion se decide alta\n",
            "domiciliaria . orientacio diagnostica c67.9 neoplasia maligna , localitzacio \u001b[31mno\u001b[0m \u001b[34mespecificada\u001b[0m\n",
            "\u001b[34mde\u001b[0m \u001b[34mla\u001b[0m \u001b[34mbufeta\u001b[0m \u001b[34murinaria\u001b[0m \u001b[34mprocediments\u001b[0m \u001b[34m-\u001b[0m \u001b[34mprofilaxis\u001b[0m\n",
            "\u001b[34mantibiotica\u001b[0m \u001b[34m,\u001b[0m \u001b[34mantitrombotica\u001b[0m \u001b[34my\u001b[0m \u001b[34mantiulcerosa\u001b[0m . - reseccion transuretral de\n",
            "tumor vesical . -biopsias vesicales multiples -biopsia de uretra prostatica -lavado vesical continuo . tractament i\n",
            "recomanacions a l'alta -abundante ingesta de liquidos . - puede orinar con restos de sangre durante las proximas semanas\n",
            ". - paracetamol 650mg cada 8 horas si molestias . - es normal que sienta escozor a el orinar y que tenga alguna fuga de\n",
            "orina y urgencia miccional . \u001b[34m-\u001b[0m \u001b[34msi\u001b[0m \u001b[34mfiebre\u001b[0m \u001b[34mmayor\u001b[0m \u001b[34mde\u001b[0m \u001b[34m38ºc\u001b[0m \u001b[34mo\u001b[0m\n",
            "\u001b[31mimposibilidad\u001b[0m \u001b[34mpara\u001b[0m \u001b[34morinar\u001b[0m \u001b[34macuda\u001b[0m \u001b[34ma\u001b[0m \u001b[34murgencias\u001b[0m \u001b[34m.\u001b[0m -control\n",
            "consultas externas de urologia segun cita en hoja adjunta . - le avisaran telefonicamente para realizacion de tc\n",
            "toracoabdominal de estadiaje destinacio a l'alta : a domicili nhc ** *** *** &nbsp ; ( ******** ) &nbsp ; age-v-uro 2/2\n",
            "lopd\n"
          ]
        }
      ],
      "source": [
        "from colorama import Fore, Style\n",
        "import textwrap\n",
        "\n",
        "def colorize_token(data):\n",
        "    colored_tokens = []\n",
        "\n",
        "    for word in data:\n",
        "        token = str(word[0])\n",
        "        label = str(word[1])\n",
        "\n",
        "        if label == \"NEG\":\n",
        "            colored_tokens.append(f\"{Fore.RED}{token}{Style.RESET_ALL}\")\n",
        "        elif label == \"NSCO\":\n",
        "            colored_tokens.append(f\"{Fore.BLUE}{token}{Style.RESET_ALL}\")\n",
        "        elif label == \"UNC\":\n",
        "            colored_tokens.append(f\"{Fore.YELLOW}{token}{Style.RESET_ALL}\")\n",
        "        elif label == \"USCO\":\n",
        "            colored_tokens.append(f\"{Fore.GREEN}{token}{Style.RESET_ALL}\")\n",
        "        else:\n",
        "            colored_tokens.append(token)\n",
        "\n",
        "    colored_string = \" \".join(colored_tokens)\n",
        "    wrapped_string = textwrap.fill(colored_string, width=120)\n",
        "\n",
        "    print(f\"{Fore.RESET}- Negation cues are represented with {Fore.RED}RED\")\n",
        "    print(f\"{Fore.RESET}- Negation scopes are represented with {Fore.BLUE}BLUE\")\n",
        "    print(f\"{Fore.RESET}- Uncertainty cues are represented with {Fore.YELLOW}YELLOW\")\n",
        "    print(f\"{Fore.RESET}- Uncertainty scopes are represented with {Fore.GREEN}GREEN\")\n",
        "    print(\"\\n\")\n",
        "\n",
        "    print(wrapped_string)\n",
        "    \n",
        "\n",
        "colorize_token(scope_labels)"
      ]
    },
    {
      "cell_type": "markdown",
      "metadata": {
        "id": "yHHL__ctOSQ-"
      },
      "source": [
        "Here, we can see that the algorithm is able to capture all the negation and uncertainty cues in text 0:"
      ]
    },
    {
      "cell_type": "code",
      "execution_count": 23,
      "metadata": {
        "colab": {
          "base_uri": "https://localhost:8080/"
        },
        "id": "KB3vPBpSOS8j",
        "outputId": "f3f40afa-f1bc-4d3d-b253-f8c658c65457"
      },
      "outputs": [
        {
          "name": "stdout",
          "output_type": "stream",
          "text": [
            "Completed (0)\n",
            "Completed (1)\n",
            "True Negatives: 599\n",
            "True Positives: 8\n",
            "False Positives: 0\n",
            "False Negatives: 1\n",
            "Evalutaion for NEG :\n",
            "+-----------+-------+\n",
            "|  Measure  | Score |\n",
            "+-----------+-------+\n",
            "| Precision |  1.00 |\n",
            "|   Recall  |  0.89 |\n",
            "|  F1-score |  0.94 |\n",
            "|  Accuracy |  1.00 |\n",
            "+-----------+-------+\n"
          ]
        }
      ],
      "source": [
        "real_labels = test_data(data, 0)\n",
        "evaluating_model(real_labels, pred_labels, \"NEG\")"
      ]
    },
    {
      "cell_type": "markdown",
      "metadata": {
        "id": "BrnEQ58ZObuZ"
      },
      "source": [
        "Here, the algorithm final performance in text 0. It will be different for all texts, due to the number of appearances of negations and uncertanty cues. At the end we can know the final measures by computing the mean for all the texts."
      ]
    },
    {
      "cell_type": "code",
      "execution_count": 24,
      "metadata": {
        "colab": {
          "base_uri": "https://localhost:8080/"
        },
        "id": "4Oqip7ZjOyVm",
        "outputId": "fc68ed0f-9caa-49af-bc52-c7e7b53da3ac"
      },
      "outputs": [
        {
          "name": "stdout",
          "output_type": "stream",
          "text": [
            "Completed (0)\n",
            "Completed (1)\n"
          ]
        }
      ],
      "source": [
        "real_labels = test_data_with_scopes(data, 0)"
      ]
    },
    {
      "cell_type": "code",
      "execution_count": 25,
      "metadata": {
        "colab": {
          "base_uri": "https://localhost:8080/"
        },
        "id": "kxJeX2vkO3IX",
        "outputId": "f1f4a504-0b6b-45c7-f588-1c9ca6ca9e08"
      },
      "outputs": [
        {
          "name": "stdout",
          "output_type": "stream",
          "text": [
            "True Negatives: 1\n",
            "True Positives: 54\n",
            "False Positives: 5\n",
            "False Negatives: 28\n",
            "+-----------+-------+\n",
            "|  Measure  | Score |\n",
            "+-----------+-------+\n",
            "| Precision |  0.92 |\n",
            "|   Recall  |  0.66 |\n",
            "|  F1-score |  0.77 |\n",
            "|  Accuracy |  0.62 |\n",
            "+-----------+-------+\n"
          ]
        }
      ],
      "source": [
        "final_evaluation(real_labels,scope_labels)"
      ]
    },
    {
      "cell_type": "markdown",
      "metadata": {
        "id": "9Y59ANpNRUaT"
      },
      "source": [
        "---\n",
        "\n",
        "## Deep Learning Approach\n",
        "\n",
        "---"
      ]
    },
    {
      "cell_type": "markdown",
      "metadata": {
        "id": "dKWwrd0VvlqL"
      },
      "source": [
        "\n",
        "### $\\color{palevioletred}{\\text{(1) First attempt: Char-Based Approach}}$"
      ]
    },
    {
      "cell_type": "code",
      "execution_count": null,
      "metadata": {
        "id": "zCDPlxh5SVEh"
      },
      "outputs": [],
      "source": [
        "# code here"
      ]
    },
    {
      "cell_type": "markdown",
      "metadata": {
        "id": "B9_ejDI6SXCp"
      },
      "source": [
        "### $\\color{palevioletred}{\\text{(2) Second attempt: Word-Based Approach}}$\n",
        "\n",
        "To try to improve the performance of the alorithm, we decided to explore a different approach. By treating words as individual entities and understanding their relationships within the context of a sentence, we anticipate improved accuracy and a richer understanding of textual content.\n",
        "\n",
        "- Dataset Class\n",
        "\n",
        "First of all, a large dataset is created using the texts and annotations from the json file. Every text is tokenized and assigned its corresponding label (NEG, UNC, NSCO, USCO or O)."
      ]
    },
    {
      "cell_type": "code",
      "execution_count": 8,
      "metadata": {
        "id": "AKGKjNb4Nxhy"
      },
      "outputs": [],
      "source": [
        "class using_words (Dataset):\n",
        "\n",
        "    def __init__(self, data, texts_to_process = 5, start = 0):\n",
        "\n",
        "        self.word_tokenized_data = []\n",
        "        self.labels = []\n",
        "        self.vocab = []\n",
        "        self.label_vocab = []\n",
        "\n",
        "        processed_texts = 0 \n",
        "\n",
        "        nlp = spacy_stanza.load_pipeline('es') #Loading a Spacy-Stanza pipeline for the Spanish language\n",
        "\n",
        "        for i in range(start, start+texts_to_process):\n",
        "\n",
        "            text = data[i][\"data\"][\"text\"] #Iterating for all texts in json file\n",
        "            label = list(np.full(len(text), \"O\", dtype=str))\n",
        "\n",
        "            #Creating labels for each char\n",
        "\n",
        "            for value in data[i][\"predictions\"][0][\"result\"]:\n",
        "\n",
        "                if value[\"value\"][\"labels\"][0]== \"NEG\":\n",
        "\n",
        "                    start = value[\"value\"][\"start\"]\n",
        "                    end = value[\"value\"][\"end\"]\n",
        "\n",
        "                    #print(text[start:end])\n",
        "                    label[start:end] = [\"NEG\"] * (end - start)\n",
        "                    #print(labels[start:end-1])\n",
        "                \n",
        "                elif value[\"value\"][\"labels\"][0]== \"UNC\":\n",
        "\n",
        "                    start = value[\"value\"][\"start\"]\n",
        "                    end = value[\"value\"][\"end\"]\n",
        "\n",
        "                    #print(text[start:end])\n",
        "                    label[start:end] = [\"UNC\"] * (end - start)\n",
        "                    #print(labels[start:end-1])\n",
        "\n",
        "                elif value[\"value\"][\"labels\"][0]== \"USCO\":\n",
        "\n",
        "                    start = value[\"value\"][\"start\"]\n",
        "                    end = value[\"value\"][\"end\"]\n",
        "\n",
        "                    #print(text[start:end])\n",
        "                    label[start:end] = [\"USCO\"] * (end - start)\n",
        "                    #print(labels[start:end-1])\n",
        "                \n",
        "                elif value[\"value\"][\"labels\"][0]== \"NSCO\":\n",
        "\n",
        "                    start = value[\"value\"][\"start\"]\n",
        "                    end = value[\"value\"][\"end\"]\n",
        "\n",
        "                    #print(text[start:end])\n",
        "                    label[start:end] = [\"NSCO\"] * (end - start)\n",
        "                    #print(labels[start:end-1])\n",
        "\n",
        "            \n",
        "            #Text tokenization\n",
        "\n",
        "            doc = nlp(text)\n",
        "\n",
        "            #Update the labels for every token\n",
        "\n",
        "            i = 0\n",
        "\n",
        "            self.word_tokenized_data.append(\"<start>\")\n",
        "            self.labels.append(\"O\")\n",
        "\n",
        "            #print(self.word_tokenized_data)\n",
        "\n",
        "            for token in doc:\n",
        "\n",
        "                while text[i] == \" \":  #IMPORTANT to handle spaces\n",
        "                    i+=1\n",
        "\n",
        "                token_label = label[i]  # Get the label for the current token\n",
        "\n",
        "                self.word_tokenized_data.append(token.text)\n",
        "                self.labels.append(token_label)\n",
        "\n",
        "                i += len(token)\n",
        "\n",
        "            self.word_tokenized_data.append(\"<end>\")\n",
        "            self.labels.append(\"O\")\n",
        "\n",
        "            processed_texts += 1  # Increment the counter\n",
        "\n",
        "            if processed_texts == texts_to_process:  # Stop processing after 5 texts\n",
        "                break\n",
        "\n",
        "    def build_vocab(self):\n",
        "        tokens = self.word_tokenized_data\n",
        "        word_counts = Counter(tokens)\n",
        "        self.vocab = list(word_counts.keys())\n",
        "        self.vocab.append(\"<unk>\")\n",
        "\n",
        "        labels = self.labels\n",
        "        label_counts = Counter(labels)\n",
        "        self.label_vocab = list(label_counts.keys())\n",
        "    \n",
        "    def word_to_index(self, word):\n",
        "       # return self.vocab.index(word) if word in self.vocab else self.vocab.index(\"<unk>\")\n",
        "        return self.vocab.index(word) if word in self.vocab else self.vocab.index(\"<unk>\")\n",
        "    \n",
        "    def index_to_word(self, index):\n",
        "        return self.vocab[index]\n",
        "\n",
        "    def label_to_index(self, label):\n",
        "        return self.label_vocab.index(label)\n",
        "\n",
        "    def index_to_label(self, index):    \n",
        "        return self.label_vocab[index]\n",
        "\n",
        "    def __len__(self):\n",
        "        return len(self.word_tokenized_data)\n",
        "\n",
        "    def __getitem__(self, index):\n",
        "        tokenized_sentence = self.word_tokenized_data[index]\n",
        "        label = self.labels[index]\n",
        "\n",
        "        return tokenized_sentence, label\n"
      ]
    },
    {
      "cell_type": "markdown",
      "metadata": {
        "id": "Zsb1bz2PUUxF"
      },
      "source": [
        "- Loading the data"
      ]
    },
    {
      "cell_type": "code",
      "execution_count": null,
      "metadata": {
        "id": "2VMoOK6AUFct"
      },
      "outputs": [],
      "source": [
        "with open(\"negacio_uab_revised_version.json\", \"r\", encoding=\"utf-8\") as f:\n",
        "    data = json.load(f)"
      ]
    },
    {
      "cell_type": "markdown",
      "metadata": {
        "id": "MLnPAV9YUULA"
      },
      "source": [
        "- Generating dataset\n",
        "\n",
        "The code below creates a dataset if it has not been created. However, if it already exists it loads it."
      ]
    },
    {
      "cell_type": "code",
      "execution_count": null,
      "metadata": {
        "id": "DBZeDU8UcCxv"
      },
      "outputs": [],
      "source": [
        "preprocessed_file = \"train_dataset.pkl\" #70% of the data\n",
        "\n",
        "if os.path.exists(preprocessed_file):\n",
        "    # Load the preprocessed dataset from the file\n",
        "    with open(preprocessed_file, \"rb\") as file:\n",
        "        dataset = pickle.load(file)\n",
        "else:\n",
        "    # Preprocess the dataset\n",
        "    dataset = using_words(data,texts_to_process = 223, start = 0)\n",
        "    dataset.build_vocab()\n",
        "\n",
        "    # Save the preprocessed dataset to a file\n",
        "    with open(preprocessed_file, \"wb\") as file:\n",
        "        pickle.dump(dataset, file)"
      ]
    },
    {
      "cell_type": "code",
      "execution_count": null,
      "metadata": {
        "id": "DSOLCv4mmOsB"
      },
      "outputs": [],
      "source": [
        "preprocessed_file = \"val_dataset.pkl\" #30% of the data\n",
        "\n",
        "if os.path.exists(preprocessed_file):\n",
        "    # Load the preprocessed dataset from the file\n",
        "    with open(preprocessed_file, \"rb\") as file:\n",
        "        dataset_val = pickle.load(file)\n",
        "else:\n",
        "    # Preprocess the dataset\n",
        "    dataset_val = using_words(data,texts_to_process = 90, start = 223)\n",
        "    dataset_val.build_vocab()\n",
        "\n",
        "    # Save the preprocessed dataset to a file\n",
        "    with open(preprocessed_file, \"wb\") as file:\n",
        "        pickle.dump(dataset, file)"
      ]
    },
    {
      "cell_type": "markdown",
      "metadata": {
        "id": "Wo6oM-6sWVqj"
      },
      "source": [
        "- Dataloader"
      ]
    },
    {
      "cell_type": "code",
      "execution_count": null,
      "metadata": {
        "id": "na_P8OhpVTcc"
      },
      "outputs": [],
      "source": [
        "# Define the batch size for training and validation\n",
        "batch_size = 64\n",
        "\n",
        "# Create the data loaders for training and validation\n",
        "train_dataloader = DataLoader(dataset, batch_size=batch_size, shuffle=False) #Shuffle false, order is important\n",
        "val_dataloader = DataLoader(dataset_val, batch_size=batch_size, shuffle=False) \n"
      ]
    },
    {
      "cell_type": "markdown",
      "metadata": {
        "id": "jpbtHr_YWrdw"
      },
      "source": [
        "Check it was correctly created:"
      ]
    },
    {
      "cell_type": "code",
      "execution_count": null,
      "metadata": {
        "id": "AKW6tq6RqlDf"
      },
      "outputs": [],
      "source": [
        "# Iterate over one batch\n",
        "for batch_inputs, batch_labels in train_dataloader:\n",
        "    # Print the batch inputs and labels\n",
        "    print(\"Batch Inputs:\")\n",
        "    print(batch_inputs)\n",
        "    print(\"Batch Labels:\")\n",
        "    print(batch_labels)\n",
        "    break # Break after printing the first batch"
      ]
    },
    {
      "cell_type": "markdown",
      "metadata": {
        "id": "bP9WkPjWW_s2"
      },
      "source": [
        "Words and labels should have the same size:"
      ]
    },
    {
      "cell_type": "code",
      "execution_count": null,
      "metadata": {
        "colab": {
          "base_uri": "https://localhost:8080/"
        },
        "id": "YcEyUWPNUJ6n",
        "outputId": "e9db32f6-c78c-496e-dd4f-49ec1df626aa"
      },
      "outputs": [
        {
          "data": {
            "text/plain": [
              "9664"
            ]
          },
          "execution_count": 11,
          "metadata": {},
          "output_type": "execute_result"
        }
      ],
      "source": [
        "len(dataset.word_tokenized_data)"
      ]
    },
    {
      "cell_type": "code",
      "execution_count": null,
      "metadata": {
        "colab": {
          "base_uri": "https://localhost:8080/"
        },
        "id": "WycpIcKQUP98",
        "outputId": "61a8cbb9-acd7-435c-be08-607385bf9ac0"
      },
      "outputs": [
        {
          "data": {
            "text/plain": [
              "9664"
            ]
          },
          "execution_count": 12,
          "metadata": {},
          "output_type": "execute_result"
        }
      ],
      "source": [
        "len(dataset.labels)"
      ]
    },
    {
      "cell_type": "markdown",
      "metadata": {
        "id": "Q8ck6hjgXCmZ"
      },
      "source": [
        "- Negation Detection Model\n",
        "\n",
        "The `NegationDetectionModel` is implemented as a subclass of the `nn.Module` class in PyTorch. The model takes as input various parameters: `vocab_size`, `embedding_dim`, `hidden_dim`, and `num_classes`.\n",
        "\n",
        "The model architecture consists of the following components:\n",
        "\n",
        "1. Embedding Layer: The model begins with an `Embedding` layer, which is responsible for converting the input tokens into dense vector representations called word embeddings. The `vocab_size` parameter determines the number of unique tokens in the vocabulary, while the `embedding_dim` specifies the dimensionality of the word embeddings.\n",
        "\n",
        "2. Recurrent Neural Network (RNN): The embedded tokens are then fed into a recurrent layer, specifically a `GRU` (Gated Recurrent Unit). The RNN captures sequential dependencies in the input by processing the tokens one by one in the order they appear. The `hidden_dim` parameter specifies the dimensionality of the hidden state of the GRU.\n",
        "\n",
        "3. Fully Connected Layer: The outputs from the RNN are passed through a linear transformation using a `Linear` layer (`fc`). This layer maps the hidden state representations to the `num_classes` parameter, which represents the number of classes or labels the model aims to predict.\n",
        "\n",
        "4. Softmax Activation: To obtain probability distributions over the classes, a `Softmax` activation function is applied to the logits (the output of the linear layer). The `softmax` operation ensures that the predicted probabilities sum up to 1 and provides a normalized representation of the model's confidence for each class."
      ]
    },
    {
      "cell_type": "code",
      "execution_count": null,
      "metadata": {
        "id": "wy44X8jwrQ6n"
      },
      "outputs": [],
      "source": [
        "class NegationDetectionModel(nn.Module):\n",
        "    def __init__(self, vocab_size, embedding_dim, hidden_dim, num_classes):\n",
        "\n",
        "        super(NegationDetectionModel, self).__init__()\n",
        "        #Change whatever you want here\n",
        "        self.embedding = nn.Embedding(vocab_size, embedding_dim)\n",
        "        self.rnn = nn.GRU(embedding_dim, hidden_dim, batch_first=True)\n",
        "        self.fc = nn.Linear(hidden_dim, num_classes)\n",
        "        self.softmax = nn.Softmax(dim=-1)\n",
        "\n",
        "    def forward(self, inputs):\n",
        "\n",
        "        embedded = self.embedding(inputs)\n",
        "        outputs, _ = self.rnn(embedded)\n",
        "        logits = self.fc(outputs)\n",
        "        probabilities = self.softmax(logits)\n",
        "        return probabilities"
      ]
    },
    {
      "cell_type": "markdown",
      "metadata": {
        "id": "HvEFTE3MW0xD"
      },
      "source": [
        "- Parameters"
      ]
    },
    {
      "cell_type": "code",
      "execution_count": null,
      "metadata": {
        "id": "cvhVKnbrtF7C"
      },
      "outputs": [],
      "source": [
        "#Change whatever you want here\n",
        "\n",
        "vocab_size = len(dataset.vocab)\n",
        "embedding_dim = 50 \n",
        "hidden_dim = 150\n",
        "num_classes = 5  # NEG, UNC, NSCO, USCO, and O.\n",
        "\n",
        "model = NegationDetectionModel(vocab_size, embedding_dim, hidden_dim, num_classes)\n",
        "\n",
        "criterion = nn.CrossEntropyLoss()\n",
        "optimizer = torch.optim.Adam(model.parameters(), lr=0.001)  # Adjust the learning rate if needed"
      ]
    },
    {
      "cell_type": "markdown",
      "metadata": {
        "id": "pFIN6WhYXdAh"
      },
      "source": [
        "- Labels and words to indices: Preparing them to be passed to the model."
      ]
    },
    {
      "cell_type": "code",
      "execution_count": null,
      "metadata": {
        "id": "U2xyvJeBvGGJ"
      },
      "outputs": [],
      "source": [
        "batch_inputs_indices = []\n",
        "batch_labels_indices =  []\n",
        "\n",
        "for batch_inputs, batch_labels in train_dataloader:\n",
        "\n",
        "  for token in batch_inputs:\n",
        "    batch_inputs_indices.append(dataset.word_to_index(token))\n",
        "\n",
        "  for label in batch_labels:\n",
        "    batch_labels_indices.append(dataset.label_to_index(label))"
      ]
    },
    {
      "cell_type": "code",
      "execution_count": null,
      "metadata": {
        "id": "c3Ll_vte5oCF"
      },
      "outputs": [],
      "source": [
        "print(batch_inputs_indices)\n",
        "print(batch_labels_indices)"
      ]
    },
    {
      "cell_type": "markdown",
      "metadata": {
        "id": "0HIyW1utXrhg"
      },
      "source": [
        "- Training loop"
      ]
    },
    {
      "cell_type": "code",
      "execution_count": null,
      "metadata": {
        "id": "deeEean2wdyY"
      },
      "outputs": [],
      "source": [
        "num_epochs = 20"
      ]
    },
    {
      "cell_type": "markdown",
      "metadata": {
        "id": "IpXXf98xwepp"
      },
      "source": [
        "We will track every run, so we can use Weights and Biases platform for generating plots and distinguish the best parameters for the model."
      ]
    },
    {
      "cell_type": "code",
      "execution_count": null,
      "metadata": {
        "colab": {
          "base_uri": "https://localhost:8080/"
        },
        "id": "OGXmgdzUv-yE",
        "outputId": "97ddaa58-b62c-456c-a38b-dd6e72707d85"
      },
      "outputs": [
        {
          "name": "stderr",
          "output_type": "stream",
          "text": [
            "\u001b[34m\u001b[1mwandb\u001b[0m: Currently logged in as: \u001b[33mjuliagartor\u001b[0m (\u001b[33menergy_project_uab\u001b[0m). Use \u001b[1m`wandb login --relogin`\u001b[0m to force relogin\n"
          ]
        },
        {
          "data": {
            "text/plain": [
              "True"
            ]
          },
          "execution_count": 13,
          "metadata": {},
          "output_type": "execute_result"
        }
      ],
      "source": [
        "wandb.login()"
      ]
    },
    {
      "cell_type": "code",
      "execution_count": null,
      "metadata": {
        "colab": {
          "base_uri": "https://localhost:8080/",
          "height": 121
        },
        "id": "CyE2uD8ju2B3",
        "outputId": "bdca09d5-f3e3-4937-9b8f-6e274ecd7cb8"
      },
      "outputs": [
        {
          "name": "stderr",
          "output_type": "stream",
          "text": [
            "\u001b[34m\u001b[1mwandb\u001b[0m: Currently logged in as: \u001b[33mjuliagartor\u001b[0m. Use \u001b[1m`wandb login --relogin`\u001b[0m to force relogin\n"
          ]
        },
        {
          "data": {
            "text/html": [
              "Tracking run with wandb version 0.15.3"
            ],
            "text/plain": [
              "<IPython.core.display.HTML object>"
            ]
          },
          "metadata": {},
          "output_type": "display_data"
        },
        {
          "data": {
            "text/html": [
              "Run data is saved locally in <code>/content/wandb/run-20230527_133612-odgp1d8o</code>"
            ],
            "text/plain": [
              "<IPython.core.display.HTML object>"
            ]
          },
          "metadata": {},
          "output_type": "display_data"
        },
        {
          "data": {
            "text/html": [
              "Syncing run <strong><a href='https://wandb.ai/juliagartor/natural_language/runs/odgp1d8o' target=\"_blank\">earthy-shape-13</a></strong> to <a href='https://wandb.ai/juliagartor/natural_language' target=\"_blank\">Weights & Biases</a> (<a href='https://wandb.me/run' target=\"_blank\">docs</a>)<br/>"
            ],
            "text/plain": [
              "<IPython.core.display.HTML object>"
            ]
          },
          "metadata": {},
          "output_type": "display_data"
        },
        {
          "data": {
            "text/html": [
              " View project at <a href='https://wandb.ai/juliagartor/natural_language' target=\"_blank\">https://wandb.ai/juliagartor/natural_language</a>"
            ],
            "text/plain": [
              "<IPython.core.display.HTML object>"
            ]
          },
          "metadata": {},
          "output_type": "display_data"
        },
        {
          "data": {
            "text/html": [
              " View run at <a href='https://wandb.ai/juliagartor/natural_language/runs/odgp1d8o' target=\"_blank\">https://wandb.ai/juliagartor/natural_language/runs/odgp1d8o</a>"
            ],
            "text/plain": [
              "<IPython.core.display.HTML object>"
            ]
          },
          "metadata": {},
          "output_type": "display_data"
        }
      ],
      "source": [
        "wandb.init(project=\"natural_language\", entity = \"juliagartor\")\n",
        "\n",
        "# Log the hyperparameters\n",
        "config = {\n",
        "    \"num_epochs\": num_epochs,\n",
        "    \"batch_size\": batch_size,\n",
        "    \"embedding_dim\": embedding_dim,\n",
        "    \"hidden_dim\": hidden_dim,\n",
        "}\n",
        "wandb.config.update(config)"
      ]
    },
    {
      "cell_type": "code",
      "execution_count": null,
      "metadata": {
        "colab": {
          "base_uri": "https://localhost:8080/"
        },
        "id": "J8o3y7xe06aa",
        "outputId": "ef449631-f1ab-43ef-f0d3-7de37863d98b"
      },
      "outputs": [
        {
          "name": "stdout",
          "output_type": "stream",
          "text": [
            "Epoch 1/20, Loss: 1.001940102443187\n",
            "Epoch 2/20, Loss: 0.9971077428722875\n",
            "Epoch 3/20, Loss: 0.9971199985924204\n",
            "Epoch 4/20, Loss: 0.9970979138371154\n",
            "Epoch 5/20, Loss: 0.9971053947049838\n",
            "Epoch 6/20, Loss: 0.9803809672814502\n",
            "Epoch 7/20, Loss: 0.9463695228849289\n",
            "Epoch 8/20, Loss: 0.9422359818581646\n",
            "Epoch 9/20, Loss: 0.9394400198475497\n",
            "Epoch 10/20, Loss: 0.9380821720118353\n",
            "Epoch 11/20, Loss: 0.9356967684256254\n",
            "Epoch 12/20, Loss: 0.9344849545927443\n",
            "Epoch 13/20, Loss: 0.9334576778202015\n",
            "Epoch 14/20, Loss: 0.9332099552514285\n",
            "Epoch 15/20, Loss: 0.9323485762586255\n",
            "Epoch 16/20, Loss: 0.932070633760218\n",
            "Epoch 17/20, Loss: 0.9315155279883266\n",
            "Epoch 18/20, Loss: 0.9309788120127994\n",
            "Epoch 19/20, Loss: 0.9304590942283001\n",
            "Epoch 20/20, Loss: 0.9300242335089213\n"
          ]
        }
      ],
      "source": [
        "for epoch in range(num_epochs):\n",
        "\n",
        "    model.train()\n",
        "\n",
        "    running_loss = 0.0\n",
        "\n",
        "    for batch_inputs, batch_labels in train_dataloader:\n",
        "\n",
        "        batch_inputs_indices.clear()\n",
        "        batch_labels_indices.clear()\n",
        "\n",
        "        for token in batch_inputs:\n",
        "          batch_inputs_indices.append(dataset.word_to_index(token))\n",
        "\n",
        "        for label in batch_labels:\n",
        "            batch_labels_indices.append(dataset.label_to_index(label))\n",
        "        \n",
        "        #print(batch_inputs_indices)\n",
        "        #print(batch_labels_indices)\n",
        "\n",
        "        # Convert batch inputs and labels to tensors\n",
        "        batch_inputs_tensor = torch.tensor(batch_inputs_indices)\n",
        "        batch_labels_tensor = torch.tensor(batch_labels_indices)\n",
        "\n",
        "        # Zero the gradients\n",
        "        optimizer.zero_grad()\n",
        "\n",
        "        # Forward pass\n",
        "        outputs = model(batch_inputs_tensor)\n",
        "\n",
        "        # Compute the loss\n",
        "        loss = criterion(outputs, batch_labels_tensor)\n",
        "\n",
        "        # Backward pass\n",
        "        loss.backward()\n",
        "\n",
        "        # Update the model parameters\n",
        "        optimizer.step()\n",
        "\n",
        "        # Accumulate the loss\n",
        "        running_loss += loss.item()\n",
        "\n",
        "    # Calculate the average loss for the epoch\n",
        "    average_loss = running_loss / len(train_dataloader)\n",
        "\n",
        "    # Log the loss for the current epoch\n",
        "    wandb.log({\"Loss\": average_loss})\n",
        "\n",
        "    # Print the average loss for the epoch\n",
        "    print(f\"Epoch {epoch+1}/{num_epochs}, Loss: {average_loss}\")\n"
      ]
    },
    {
      "cell_type": "markdown",
      "metadata": {
        "id": "m7Cu1J3Y38q9"
      },
      "source": [
        "- Evaluation"
      ]
    },
    {
      "cell_type": "code",
      "execution_count": null,
      "metadata": {
        "colab": {
          "base_uri": "https://localhost:8080/",
          "height": 727
        },
        "id": "o3GJTds7_r50",
        "outputId": "187b324a-b9c7-40f4-faa5-c78b8ce1934f"
      },
      "outputs": [
        {
          "data": {
            "image/png": "[encoded data removed]",
            "text/plain": [
              "<Figure size 640x480 with 2 Axes>"
            ]
          },
          "metadata": {},
          "output_type": "display_data"
        },
        {
          "name": "stdout",
          "output_type": "stream",
          "text": [
            "Accuracy: 96.78%\n",
            "Classification Report:\n",
            "              precision    recall  f1-score   support\n",
            "\n",
            "         NEG       0.97      0.85      0.90      3500\n",
            "        NSCO       0.82      0.87      0.84     10571\n",
            "           O       0.98      0.99      0.98    157076\n",
            "         UNC       1.00      0.00      0.01       497\n",
            "        USCO       0.00      0.00      0.00      1399\n",
            "\n",
            "    accuracy                           0.97    173043\n",
            "   macro avg       0.75      0.54      0.55    173043\n",
            "weighted avg       0.96      0.97      0.96    173043\n",
            "\n"
          ]
        }
      ],
      "source": [
        "#wandb.init(project=\"natural_language\", entity = \"juliagartor\")\n",
        "\n",
        "model.eval()  # Set the model to evaluation mode\n",
        "\n",
        "all_val_labels = []\n",
        "all_predicted_labels = []\n",
        "\n",
        "for val_inputs, val_labels in val_dataloader:\n",
        "    batch_inputs_indices.clear()\n",
        "    batch_labels_indices.clear()\n",
        "\n",
        "    for token in val_inputs:\n",
        "        batch_inputs_indices.append(dataset.word_to_index(token))\n",
        "\n",
        "    for label in val_labels:\n",
        "        batch_labels_indices.append(dataset.label_to_index(label))\n",
        "\n",
        "    # Convert batch inputs to a tensor\n",
        "    batch_inputs_tensor = torch.tensor(batch_inputs_indices)\n",
        "\n",
        "    # Forward pass\n",
        "    outputs = model(batch_inputs_tensor)\n",
        "\n",
        "    # Get the predicted labels\n",
        "    _, predicted_indices = torch.max(outputs, 1)\n",
        "\n",
        "    # Convert predicted indices to label format\n",
        "    predicted_labels = [dataset.index_to_label(index) for index in predicted_indices]\n",
        "\n",
        "    # Accumulate the labels and predictions\n",
        "    all_val_labels.extend(val_labels)\n",
        "    all_predicted_labels.extend(predicted_labels)\n",
        "\n",
        "# Convert labels to numpy arrays\n",
        "val_labels_array = np.array(all_val_labels)\n",
        "predicted_labels_array = np.array(all_predicted_labels)\n",
        "\n",
        "# Calculate the confusion matrix\n",
        "cm = confusion_matrix(val_labels_array, predicted_labels_array)\n",
        "\n",
        "# Calculate accuracy\n",
        "accuracy = np.sum(np.diag(cm)) / np.sum(cm)\n",
        "\n",
        "wandb.log({\"Accuracy\": accuracy})\n",
        "\n",
        "disp = ConfusionMatrixDisplay(confusion_matrix=cm, display_labels=[\"NEG\",\"NCSO\",\"O\",\"UNC\",\"USCO\"])\n",
        "disp.plot()\n",
        "plt.title(\"Confusion Matrix\")\n",
        "plt.show()\n",
        "\n",
        "# Print accuracy\n",
        "print(\"Accuracy: {:.2f}%\".format(accuracy * 100))\n",
        "\n",
        "# Print classification report\n",
        "print(\"Classification Report:\")\n",
        "print(classification_report(val_labels_array, predicted_labels_array,zero_division=0))"
      ]
    },
    {
      "cell_type": "code",
      "execution_count": null,
      "metadata": {
        "colab": {
          "base_uri": "https://localhost:8080/",
          "height": 227
        },
        "id": "3Dw3Zcsa0Ctg",
        "outputId": "58bbb2e1-8d61-42eb-cc80-da95712ce5c4"
      },
      "outputs": [
        {
          "data": {
            "text/html": [
              "Waiting for W&B process to finish... <strong style=\"color:green\">(success).</strong>"
            ],
            "text/plain": [
              "<IPython.core.display.HTML object>"
            ]
          },
          "metadata": {},
          "output_type": "display_data"
        },
        {
          "data": {
            "text/html": [
              "<style>\n",
              "    table.wandb td:nth-child(1) { padding: 0 10px; text-align: left ; width: auto;} td:nth-child(2) {text-align: left ; width: 100%}\n",
              "    .wandb-row { display: flex; flex-direction: row; flex-wrap: wrap; justify-content: flex-start; width: 100% }\n",
              "    .wandb-col { display: flex; flex-direction: column; flex-basis: 100%; flex: 1; padding: 10px; }\n",
              "    </style>\n",
              "<div class=\"wandb-row\"><div class=\"wandb-col\"><h3>Run history:</h3><br/><table class=\"wandb\"><tr><td>Accuracy</td><td>▁</td></tr><tr><td>Loss</td><td>█████▆▃▂▂▂▂▁▁▁▁▁▁▁▁▁</td></tr></table><br/></div><div class=\"wandb-col\"><h3>Run summary:</h3><br/><table class=\"wandb\"><tr><td>Accuracy</td><td>0.96783</td></tr><tr><td>Loss</td><td>0.93002</td></tr></table><br/></div></div>"
            ],
            "text/plain": [
              "<IPython.core.display.HTML object>"
            ]
          },
          "metadata": {},
          "output_type": "display_data"
        },
        {
          "data": {
            "text/html": [
              " View run <strong style=\"color:#cdcd00\">vibrant-plant-7</strong> at: <a href='https://wandb.ai/juliagartor/natural_language/runs/dxcf6tve' target=\"_blank\">https://wandb.ai/juliagartor/natural_language/runs/dxcf6tve</a><br/>Synced 5 W&B file(s), 0 media file(s), 0 artifact file(s) and 0 other file(s)"
            ],
            "text/plain": [
              "<IPython.core.display.HTML object>"
            ]
          },
          "metadata": {},
          "output_type": "display_data"
        },
        {
          "data": {
            "text/html": [
              "Find logs at: <code>./wandb/run-20230524_140959-dxcf6tve/logs</code>"
            ],
            "text/plain": [
              "<IPython.core.display.HTML object>"
            ]
          },
          "metadata": {},
          "output_type": "display_data"
        }
      ],
      "source": [
        "wandb.finish()"
      ]
    },
    {
      "cell_type": "markdown",
      "metadata": {
        "id": "LFW6F3BdTleH"
      },
      "source": [
        "- Problems and solutions\n",
        "\n",
        "- Problems and solutions\n",
        "\n",
        "The current accuracy of the model cannot be solely relied upon due to its high value, which is primarily a result of classifying all tokens as \"OTHER\" due to the prevalence of this label. To address this issue, we need to introduce changes to the loss function to assign different weights to the different classes.\n",
        "\n",
        "We will use two cross-entropy loss functions: `criterion_specific` and `criterion_full`. The `ignore_index` parameter in `criterion_specific` is set to 0, indicating that the loss calculation should ignore tokens labeled as \"OTHER\". \n",
        "\n",
        "To determine the overall loss, we compute `loss_full` using `criterion_full` with all tokens included and `loss_specific` using `criterion_specific` without considering tokens labeled as \"OTHER\". We will calculate the weighted sum of `loss_full` and `loss_specific` using weights of 0.2 and 0.8, respectively.\n",
        "\n",
        "This approach aims to address the imbalanced distribution of labels and assign higher importance to the specific classes while still considering the overall classification performance.\n",
        "\n",
        "We will be using the parameters of the best run in the previous section."
      ]
    },
    {
      "cell_type": "code",
      "execution_count": null,
      "metadata": {
        "id": "1E-I5Dcxf4wq"
      },
      "outputs": [],
      "source": [
        "batch_size = 64\n",
        "embedding_dim = 100\n",
        "hidden_dim = 150\n",
        "num_classes = 5  # NEG, UNC, NSCO, USCO, and O.\n",
        "num_epochs = 20\n",
        "vocab_size = len(dataset.vocab)\n",
        "\n",
        "model = NegationDetectionModel(vocab_size, embedding_dim, hidden_dim, num_classes)"
      ]
    },
    {
      "cell_type": "code",
      "execution_count": null,
      "metadata": {
        "colab": {
          "base_uri": "https://localhost:8080/"
        },
        "id": "TNcunoKugn0y",
        "outputId": "0218ba53-d8e9-4f27-fe46-15a5e047cb4b"
      },
      "outputs": [
        {
          "data": {
            "text/plain": [
              "True"
            ]
          },
          "execution_count": 196,
          "metadata": {},
          "output_type": "execute_result"
        }
      ],
      "source": [
        "wandb.login()"
      ]
    },
    {
      "cell_type": "code",
      "execution_count": null,
      "metadata": {
        "id": "kiC_ilcAUMgJ"
      },
      "outputs": [],
      "source": [
        "import math"
      ]
    },
    {
      "cell_type": "code",
      "execution_count": null,
      "metadata": {
        "colab": {
          "base_uri": "https://localhost:8080/",
          "height": 272,
          "referenced_widgets": [
            "304c537496d04f9595f8872a2a4300f7",
            "0e250981b56c4cb4bc3b663458a92fe0",
            "3cda985bab974a949e428500935a16a5",
            "61d3e6aba45c4ff7b3d73366a19a774e",
            "66efafb9e69e42e59a85a97a01cc7848",
            "aebe411d55b244d3b69c33c46d054993",
            "bf092a2784b04ba4b362f485745a5fa2",
            "b70fa87417124ff7ac71b9ca17451b19"
          ]
        },
        "id": "XNVb7XkHfksl",
        "outputId": "6045577d-0553-4013-c4cc-08da6680128a"
      },
      "outputs": [
        {
          "data": {
            "text/html": [
              "Finishing last run (ID:odgp1d8o) before initializing another..."
            ],
            "text/plain": [
              "<IPython.core.display.HTML object>"
            ]
          },
          "metadata": {},
          "output_type": "display_data"
        },
        {
          "data": {
            "text/html": [
              "Waiting for W&B process to finish... <strong style=\"color:green\">(success).</strong>"
            ],
            "text/plain": [
              "<IPython.core.display.HTML object>"
            ]
          },
          "metadata": {},
          "output_type": "display_data"
        },
        {
          "data": {
            "application/vnd.jupyter.widget-view+json": {
              "model_id": "304c537496d04f9595f8872a2a4300f7",
              "version_major": 2,
              "version_minor": 0
            },
            "text/plain": [
              "VBox(children=(Label(value='0.001 MB of 0.009 MB uploaded (0.000 MB deduped)\\r'), FloatProgress(value=0.106533…"
            ]
          },
          "metadata": {},
          "output_type": "display_data"
        },
        {
          "data": {
            "text/html": [
              " View run <strong style=\"color:#cdcd00\">earthy-shape-13</strong> at: <a href='https://wandb.ai/juliagartor/natural_language/runs/odgp1d8o' target=\"_blank\">https://wandb.ai/juliagartor/natural_language/runs/odgp1d8o</a><br/>Synced 4 W&B file(s), 0 media file(s), 0 artifact file(s) and 0 other file(s)"
            ],
            "text/plain": [
              "<IPython.core.display.HTML object>"
            ]
          },
          "metadata": {},
          "output_type": "display_data"
        },
        {
          "data": {
            "text/html": [
              "Find logs at: <code>./wandb/run-20230527_133612-odgp1d8o/logs</code>"
            ],
            "text/plain": [
              "<IPython.core.display.HTML object>"
            ]
          },
          "metadata": {},
          "output_type": "display_data"
        },
        {
          "data": {
            "text/html": [
              "Successfully finished last run (ID:odgp1d8o). Initializing new run:<br/>"
            ],
            "text/plain": [
              "<IPython.core.display.HTML object>"
            ]
          },
          "metadata": {},
          "output_type": "display_data"
        },
        {
          "data": {
            "text/html": [
              "Tracking run with wandb version 0.15.3"
            ],
            "text/plain": [
              "<IPython.core.display.HTML object>"
            ]
          },
          "metadata": {},
          "output_type": "display_data"
        },
        {
          "data": {
            "text/html": [
              "Run data is saved locally in <code>/content/wandb/run-20230527_133639-z93zg3bw</code>"
            ],
            "text/plain": [
              "<IPython.core.display.HTML object>"
            ]
          },
          "metadata": {},
          "output_type": "display_data"
        },
        {
          "data": {
            "text/html": [
              "Syncing run <strong><a href='https://wandb.ai/juliagartor/natural_language/runs/z93zg3bw' target=\"_blank\">desert-wood-14</a></strong> to <a href='https://wandb.ai/juliagartor/natural_language' target=\"_blank\">Weights & Biases</a> (<a href='https://wandb.me/run' target=\"_blank\">docs</a>)<br/>"
            ],
            "text/plain": [
              "<IPython.core.display.HTML object>"
            ]
          },
          "metadata": {},
          "output_type": "display_data"
        },
        {
          "data": {
            "text/html": [
              " View project at <a href='https://wandb.ai/juliagartor/natural_language' target=\"_blank\">https://wandb.ai/juliagartor/natural_language</a>"
            ],
            "text/plain": [
              "<IPython.core.display.HTML object>"
            ]
          },
          "metadata": {},
          "output_type": "display_data"
        },
        {
          "data": {
            "text/html": [
              " View run at <a href='https://wandb.ai/juliagartor/natural_language/runs/z93zg3bw' target=\"_blank\">https://wandb.ai/juliagartor/natural_language/runs/z93zg3bw</a>"
            ],
            "text/plain": [
              "<IPython.core.display.HTML object>"
            ]
          },
          "metadata": {},
          "output_type": "display_data"
        }
      ],
      "source": [
        "wandb.init(project=\"natural_language\", entity = \"juliagartor\")\n",
        "\n",
        "# Log the hyperparameters\n",
        "config = {\n",
        "    \"num_epochs\": num_epochs,\n",
        "    \"batch_size\": batch_size,\n",
        "    \"embedding_dim\": embedding_dim,\n",
        "    \"hidden_dim\": hidden_dim,\n",
        "}\n",
        "wandb.config.update(config)"
      ]
    },
    {
      "cell_type": "code",
      "execution_count": null,
      "metadata": {
        "id": "5RQaYiW1esSM"
      },
      "outputs": [],
      "source": [
        "criterion_specific = nn.CrossEntropyLoss(ignore_index = 0)\n",
        "criterion_full = nn.CrossEntropyLoss()\n",
        "\n",
        "optimizer = torch.optim.Adam(model.parameters(), lr=0.001) "
      ]
    },
    {
      "cell_type": "code",
      "execution_count": null,
      "metadata": {
        "colab": {
          "base_uri": "https://localhost:8080/"
        },
        "id": "1RKs299-SVew",
        "outputId": "994773a1-d43b-4782-a3e5-96bb478bccb1"
      },
      "outputs": [
        {
          "data": {
            "text/plain": [
              "0"
            ]
          },
          "execution_count": 183,
          "metadata": {},
          "output_type": "execute_result"
        }
      ],
      "source": [
        "dataset.label_to_index(\"O\")"
      ]
    },
    {
      "cell_type": "code",
      "execution_count": null,
      "metadata": {
        "colab": {
          "base_uri": "https://localhost:8080/"
        },
        "id": "L-Pbk02QR2q1",
        "outputId": "e1ef58db-381e-44b9-be94-dd01aa177b09"
      },
      "outputs": [
        {
          "name": "stdout",
          "output_type": "stream",
          "text": [
            "Epoch 1/20, Loss: 1.0747951004411695\n",
            "Epoch 2/20, Loss: 1.028501805887949\n",
            "Epoch 3/20, Loss: 1.0151405995987224\n",
            "Epoch 4/20, Loss: 0.9997297625702161\n",
            "Epoch 5/20, Loss: 0.9835482357874424\n",
            "Epoch 6/20, Loss: 0.9699832730700632\n",
            "Epoch 7/20, Loss: 0.9596446740424492\n",
            "Epoch 8/20, Loss: 0.952377402725128\n",
            "Epoch 9/20, Loss: 0.9487269821207551\n",
            "Epoch 10/20, Loss: 0.94333826737291\n",
            "Epoch 11/20, Loss: 0.940726254091284\n",
            "Epoch 12/20, Loss: 0.9383280211343215\n",
            "Epoch 13/20, Loss: 0.936754653858539\n",
            "Epoch 14/20, Loss: 0.9358241759549232\n",
            "Epoch 15/20, Loss: 0.9345622957854934\n",
            "Epoch 16/20, Loss: 0.9323756454964361\n",
            "Epoch 17/20, Loss: 0.9316863300796796\n",
            "Epoch 18/20, Loss: 0.931080441216569\n",
            "Epoch 19/20, Loss: 0.9301596939255147\n",
            "Epoch 20/20, Loss: 0.92976673560206\n"
          ]
        }
      ],
      "source": [
        "for epoch in range(num_epochs):\n",
        "\n",
        "    model.train()\n",
        "\n",
        "    running_loss = 0.0\n",
        "\n",
        "    for batch_inputs, batch_labels in train_dataloader:\n",
        "\n",
        "        batch_inputs_indices.clear()\n",
        "        batch_labels_indices.clear()\n",
        "\n",
        "        for token in batch_inputs:\n",
        "          batch_inputs_indices.append(dataset.word_to_index(token))\n",
        "\n",
        "        for label in batch_labels:\n",
        "            batch_labels_indices.append(dataset.label_to_index(label))\n",
        "        \n",
        "        #print(batch_inputs_indices)\n",
        "        #print(batch_labels_indices)\n",
        "\n",
        "        # Convert batch inputs and labels to tensors\n",
        "        batch_inputs_tensor = torch.tensor(batch_inputs_indices)\n",
        "        batch_labels_tensor = torch.tensor(batch_labels_indices)\n",
        "\n",
        "        # Zero the gradients\n",
        "        optimizer.zero_grad()\n",
        "\n",
        "        # Forward pass\n",
        "        outputs = model(batch_inputs_tensor)\n",
        "\n",
        "        # Compute the loss\n",
        "        loss_full = criterion_full(outputs, batch_labels_tensor)\n",
        "        loss_specific = criterion_specific(outputs, batch_labels_tensor)\n",
        "        if math.isnan(loss_specific):\n",
        "          loss = loss_full\n",
        "        else:\n",
        "          loss = loss_full*0.2 + loss_specific*0.8\n",
        "          #print(\"Specific\")\n",
        "\n",
        "        # Backward pass\n",
        "        loss.backward()\n",
        "\n",
        "        # Update the model parameters\n",
        "        optimizer.step()\n",
        "\n",
        "        # Accumulate the loss\n",
        "        running_loss += loss.item()\n",
        "\n",
        "    # Calculate the average loss for the epoch\n",
        "    average_loss = running_loss / len(train_dataloader)\n",
        "\n",
        "    # Log the loss for the current epoch\n",
        "    wandb.log({\"Loss\": average_loss})\n",
        "\n",
        "    # Print the average loss for the epoch\n",
        "    print(f\"Epoch {epoch+1}/{num_epochs}, Loss: {average_loss}\")\n"
      ]
    },
    {
      "cell_type": "code",
      "execution_count": null,
      "metadata": {
        "colab": {
          "base_uri": "https://localhost:8080/",
          "height": 715
        },
        "id": "EZ5fQ_UZpKaZ",
        "outputId": "6b304b63-798b-4719-d1d7-e41d90de3477"
      },
      "outputs": [
        {
          "data": {
            "image/png": "[encoded data removed]",
            "text/plain": [
              "<Figure size 640x480 with 2 Axes>"
            ]
          },
          "metadata": {},
          "output_type": "display_data"
        },
        {
          "name": "stdout",
          "output_type": "stream",
          "text": [
            "Accuracy: 97.49%\n",
            "Classification Report:\n",
            "              precision    recall  f1-score   support\n",
            "\n",
            "         NEG       0.90      0.98      0.94      3500\n",
            "        NSCO       0.75      0.98      0.85     10571\n",
            "           O       1.00      0.98      0.99    157076\n",
            "         UNC       0.93      0.83      0.88       497\n",
            "        USCO       0.86      0.88      0.87      1399\n",
            "\n",
            "    accuracy                           0.97    173043\n",
            "   macro avg       0.89      0.93      0.90    173043\n",
            "weighted avg       0.98      0.97      0.98    173043\n",
            "\n"
          ]
        }
      ],
      "source": [
        "#wandb.init(project=\"natural_language\", entity = \"juliagartor\")\n",
        "\n",
        "model.eval()  # Set the model to evaluation mode\n",
        "\n",
        "all_val_labels = []\n",
        "all_predicted_labels = []\n",
        "\n",
        "for val_inputs, val_labels in val_dataloader:\n",
        "    batch_inputs_indices.clear()\n",
        "    batch_labels_indices.clear()\n",
        "\n",
        "    for token in val_inputs:\n",
        "        batch_inputs_indices.append(dataset.word_to_index(token))\n",
        "\n",
        "    for label in val_labels:\n",
        "        batch_labels_indices.append(dataset.label_to_index(label))\n",
        "\n",
        "    # Convert batch inputs to a tensor\n",
        "    batch_inputs_tensor = torch.tensor(batch_inputs_indices)\n",
        "\n",
        "    # Forward pass\n",
        "    outputs = model(batch_inputs_tensor)\n",
        "\n",
        "    # Get the predicted labels\n",
        "    _, predicted_indices = torch.max(outputs, 1)\n",
        "\n",
        "    # Convert predicted indices to label format\n",
        "    predicted_labels = [dataset.index_to_label(index) for index in predicted_indices]\n",
        "\n",
        "    # Accumulate the labels and predictions\n",
        "    all_val_labels.extend(val_labels)\n",
        "    all_predicted_labels.extend(predicted_labels)\n",
        "\n",
        "# Convert labels to numpy arrays\n",
        "val_labels_array = np.array(all_val_labels)\n",
        "predicted_labels_array = np.array(all_predicted_labels)\n",
        "\n",
        "# Calculate the confusion matrix\n",
        "cm = confusion_matrix(val_labels_array, predicted_labels_array)\n",
        "\n",
        "# Calculate accuracy\n",
        "accuracy = np.sum(np.diag(cm)) / np.sum(cm)\n",
        "\n",
        "wandb.log({\"Accuracy\": accuracy})\n",
        "\n",
        "disp = ConfusionMatrixDisplay(confusion_matrix=cm, display_labels=[\"NEG\",\"NCSO\",\"O\",\"UNC\",\"USCO\"])\n",
        "disp.plot()\n",
        "plt.title(\"Confusion Matrix\")\n",
        "plt.show()\n",
        "\n",
        "# Print accuracy\n",
        "print(\"Accuracy: {:.2f}%\".format(accuracy * 100))\n",
        "\n",
        "# Print classification report\n",
        "print(\"Classification Report:\")\n",
        "print(classification_report(val_labels_array, predicted_labels_array,zero_division=0))"
      ]
    },
    {
      "cell_type": "code",
      "execution_count": null,
      "metadata": {
        "id": "NvrZPrf3Zdst"
      },
      "outputs": [],
      "source": [
        "wandb.finish()"
      ]
    },
    {
      "cell_type": "markdown",
      "metadata": {
        "id": "Psy8l6On5zUk"
      },
      "source": [
        "With the modification of the loss function, the model has shown significant improvement, as evidenced by the following examples and the observed changes in the confusion matrix. The updated loss function, which assigns different weights to the classes, has effectively addressed the issue of imbalanced label distribution and improved the overall performance of the model."
      ]
    },
    {
      "cell_type": "markdown",
      "metadata": {
        "id": "G5GSI0tqqAVF"
      },
      "source": [
        "- Qualitative results\n",
        "\n",
        "This function will make the results more visible, the text is displayed and each word is colored depending on its predictied label."
      ]
    },
    {
      "cell_type": "code",
      "execution_count": null,
      "metadata": {
        "id": "JGFJ_uP2L4tC"
      },
      "outputs": [],
      "source": [
        "def colorize_tokens(tokens, labels):\n",
        "    colored_tokens = []\n",
        "\n",
        "    for token, label in zip(tokens, labels):\n",
        "        if label == \"NEG\":\n",
        "            colored_tokens.append(f\"{Fore.RED}{token}{Style.RESET_ALL}\")\n",
        "        elif label == \"NSCO\":\n",
        "            colored_tokens.append(f\"{Fore.BLUE}{token}{Style.RESET_ALL}\")\n",
        "        elif label == \"UNC\":\n",
        "            colored_tokens.append(f\"{Fore.YELLOW}{token}{Style.RESET_ALL}\")\n",
        "        elif label == \"USCO\":\n",
        "            colored_tokens.append(f\"{Fore.GREEN}{token}{Style.RESET_ALL}\")\n",
        "        else:\n",
        "            colored_tokens.append(token)\n",
        "\n",
        "    colored_string = \" \".join(colored_tokens)\n",
        "    wrapped_string = textwrap.fill(colored_string, width=180)\n",
        "\n",
        "    print(f\"{Fore.RESET}- Negation cues are represented with {Fore.RED}RED\")\n",
        "    print(f\"{Fore.RESET}- Negation scopes are represented with {Fore.BLUE}BLUE\")\n",
        "    print(f\"{Fore.RESET}- Uncertainty cues are represented with {Fore.YELLOW}YELLOW\")\n",
        "    print(f\"{Fore.RESET}- Uncertainty scopes are represented with {Fore.GREEN}GREEN\")\n",
        "    print(\"\\n\")\n",
        "\n",
        "    print(wrapped_string)\n"
      ]
    },
    {
      "cell_type": "markdown",
      "metadata": {
        "id": "N8e1gktRzRrk"
      },
      "source": [
        "Take some random texts from the data (not from the training data), see how the model behaves. "
      ]
    },
    {
      "cell_type": "code",
      "execution_count": null,
      "metadata": {
        "id": "Epf4stPLOkSm"
      },
      "outputs": [],
      "source": [
        "random_number = random.randint(90, 313)\n",
        "input = data[random_number][\"data\"][\"text\"]\n",
        "#input = cut_text(data[random_number][\"data\"][\"text\"])\n",
        "doc = nlp(input)\n",
        "\n",
        "tokens = [\"<start>\"] + [token.text for token in doc] + [\"<end>\"]\n",
        "tokens_indices = [dataset.word_to_index(token) for token in tokens]\n",
        "\n",
        "input_tensor = torch.tensor(tokens_indices)\n",
        "\n",
        "predicted_idx = model(input_tensor)\n",
        "_, predicted_idx = torch.max(predicted_idx, 1)\n",
        "\n",
        "predicted_labels = [dataset.index_to_label(index) for index in predicted_idx]"
      ]
    },
    {
      "cell_type": "code",
      "execution_count": null,
      "metadata": {
        "colab": {
          "base_uri": "https://localhost:8080/"
        },
        "id": "ahIkY6MmxG7e",
        "outputId": "94136073-ad17-47c8-b375-32c06d5629bb"
      },
      "outputs": [
        {
          "name": "stdout",
          "output_type": "stream",
          "text": [
            "\u001b[39m- Negation cues are represented with \u001b[31mRED\n",
            "\u001b[39m- Negation scopes are represented with \u001b[34mBLUE\n",
            "\u001b[39m- Uncertainty cues are represented with \u001b[33mYELLOW\n",
            "\u001b[39m- Uncertainty scopes are represented with \u001b[32mGREEN\n",
            "\n",
            "\n",
            "<start> nº historia clinica : ** *** *** nºepisodi : ******** sexe : home data de naixement : 20.02.1949 edat : 68 anys procedencia domicil/res .soc servei pneumologia data\n",
            "d'ingres 30.01.2018 data d'alta 08.02.2018 09:47:42 ates per equipo dra . ********* ( ********* , ********* , ********* ) informe d'alta d'hospitalitzacio motiu d'ingres varon de\n",
            "68 años que ingresa en neurocirugia el 30/01 bajo \u001b[33msospecha\u001b[0m \u001b[33mde\u001b[0m \u001b[32mhidrocefalia\u001b[0m \u001b[32mcronica\u001b[0m \u001b[32mde\u001b[0m \u001b[32mel\u001b[0m \u001b[32madulto\u001b[0m \u001b[32mpara\u001b[0m\n",
            "\u001b[32mmonitorizacion\u001b[0m y registro de la presion intracraneal y que se traslada a neumologia el 03/02 por hallazgo en tc de cuello y torax de masa pulmonar de cara a completar\n",
            "estudio . antecedents - \u001b[31msin\u001b[0m \u001b[34malergias\u001b[0m \u001b[34mmedicamentosas\u001b[0m \u001b[34mconocidas\u001b[0m \u001b[34m.\u001b[0m - fumador de 2 paquetes/dia durante mas de 50 años ( fe 100 paq/año ) .\n",
            "- alcohol : 1 copa de vino diaria y 7 cervezas a el dia ( enolismo 80 g/dia ) . - hipertension arterial esencial en tratamiento farmacologico con dos farmacos con correcto control\n",
            "tensional . - poliposis colonica por lo que sigue controles en ccee de digestivo de huvh . fcs ( 6/10 ) polipectomia de 5 lesiones polipoideas . ap de colon ascendente : adenoma\n",
            "tubular y tubulo-vellosos , alguno con focos superficiales de displasia de alto grado . ap colon a 15 cm de margen anal : adenoma tubulo-velloso con displasia de bajo grado\n",
            "**ultima colonoscopia en enero de 2013 : \u001b[31msin\u001b[0m \u001b[34mevidencias\u001b[0m \u001b[34mde\u001b[0m \u001b[34mhallazgos\u001b[0m \u001b[34mpatologicos\u001b[0m \u001b[34msalvo\u001b[0m a nivel de sigma , mucosa discretamente\n",
            "eritematosa \u001b[33msugestiva\u001b[0m \u001b[33mde\u001b[0m \u001b[32msigmoiditis\u001b[0m \u001b[32mleve\u001b[0m \u001b[32m.\u001b[0m diverticulosis de sigma \u001b[31mno\u001b[0m \u001b[34mcomplicada\u001b[0m \u001b[34m.\u001b[0m lesion submucosa a 90\n",
            "cms de el margen anal \u001b[33msugestiva\u001b[0m \u001b[33mde\u001b[0m \u001b[32mlipoma\u001b[0m \u001b[32m.\u001b[0m hemorroides externas . - aneurisma de aorta ascendente predominantemente tubular diagnosticado en\n",
            "2013 de manera incidental mediante tc toracoabdominal realizado ambulatoriamente por sindrome constitucional . siguio controles en la unidad de patologia aortica de cardiologia de\n",
            "huvu ( dra. *************** ) siendo dado de alta en enero de 2014 para seguimiento ambulatorio con ecografia de control cada 2 años . *ultima ett en mayo de 2013 : aa ( 48 mm ) y\n",
            "raiz aortica ( 39 mm ) dilatadas . insuficiencia aortica ligera-moderada ii . ventriculo izquierdo ligeramente hipertrofico con funcion sistolica conservada . *ultima angiornm en\n",
            "octubre de 2013 : dilatacion de la porcion tubular de la aorta ascendente ( 47mm ) con morfologia de la raiz aortica conservada y aorta descendente \u001b[31mno\u001b[0m \u001b[34mdilatada\u001b[0m\n",
            "\u001b[34m.\u001b[0m - litiasis renal bilateral . \u001b[31mno\u001b[0m \u001b[34mdisponemos\u001b[0m \u001b[34mde\u001b[0m \u001b[34mmas\u001b[0m \u001b[34minformacion\u001b[0m \u001b[34mclinica\u001b[0m \u001b[34m.\u001b[0m - esquizofrenia diagnosticada hace\n",
            "unos 15 años . en seguimiento ambulatorio por psiquiatra de zona . - parkinsonismo vascular diagnosticado en junio de 2016 a raiz de cuadro de bradicinesia y trastorno de la marcha\n",
            ". en tratamiento farmacologico y en seguimiento por la utm de neurologia de huvh ( dr. ************ ) solicitando se valoracion por ncr en septiembre de 2017 dada la aparicion de\n",
            "la triada de hakim con hallazgo de hidrocefalia en la rnm de craneo de abril de 2017 . se decidio ingreso para registro de la pic. *tc craneal en agosto de 2016 : marcada atrofia\n",
            "cerebral de predominio subcortical , signos de leucoaraiosis , un infarto lacunar cronico en territorio de vascularizacion de arterias perforantes dependientes de la circulacion\n",
            "anterior asi como un pequeño infarto cronico en territorio de vascularizacion de arteria cerebelosa superior derecha . *rnm craneal en abril de 2017 : moderat grau d'atrofia\n",
            "corticosubcortical global . acusada hidrocefalia \u001b[34msupratentorial\u001b[0m \u001b[34mde\u001b[0m \u001b[34mcaracteristiques\u001b[0m \u001b[34mcroniques\u001b[0m \u001b[34m,\u001b[0m amb estenosi de el terç mitja de\n",
            "l'aqüeducte de silvi malgrat aquest persisteix permeable . \u001b[31mno\u001b[0m \u001b[34ms'evidencien\u001b[0m \u001b[34msignes\u001b[0m \u001b[34md'hidrocefalia\u001b[0m \u001b[34mcronica\u001b[0m \u001b[34mde\u001b[0m \u001b[34ml'adult\u001b[0m\n",
            "\u001b[34m.\u001b[0m moderada desmielinitzacio de substancia blanca profunda de \u001b[33mprobable\u001b[0m \u001b[32morigen\u001b[0m \u001b[32mhipoxic\u001b[0m \u001b[32mcronic\u001b[0m \u001b[32m.\u001b[0m petit infart lacunar cronic a el\n",
            "territori perforant de la circulacio anterior esquerra . petit infart cronic a el territori irrigat per l'arteria cerebel·losa superior dreta . -ingreso en julio de 2015 por tinea\n",
            "pedis interdigital entre tercer y cuarto dedo de el pie derecho con celulitis en dorso de el pie que requirio ingreso para tratamiento endovenoso . se procedio a el alta bajo\n",
            "tratamiento topico con nhc ** *** *** ( ******** ) age-v-nml 1/5 lopd cotrimazol y augmentine oral que finalizo el 31/07/15 . - hemorroidectomia . - faquectomia bilateral en mayo y\n",
            "junio de 2013 , y capsulotomia posterior de oi mediante en noviembre de 2014 . situacion sociofuncional : casado . vive con su esposa . ttiene 4 hijos . actualmente jubilado .\n",
            "trabajo en la banca . estudios tecnicos medios de contable . parcialmente dependiente para las actividades basicas e intrumentadas de la vida diaria . deterioro cognitivo leve .\n",
            "medicacio habitual adiro 100 mg a el dia , amlodipino 5 mg a el dia , losartan 50 mg a el dia , lorazepam 3 o 4 comprimidos de 1 mg a el dia segun precise , paracetamol 1 g si\n",
            "precisa , polaramine 2 mg si precisa y sinemet plus retard ( levodopa+carbidopa ) 25+100 mg 2 comprimidos a el dia . proces actual ingresa en planta de neurocirugia por\n",
            "\u001b[33msospecha\u001b[0m \u001b[33mde\u001b[0m \u001b[32mhidrocefalia\u001b[0m \u001b[32mcronica\u001b[0m \u001b[32mde\u001b[0m \u001b[32mel\u001b[0m \u001b[32madulto\u001b[0m \u001b[32mcon\u001b[0m \u001b[32mcuadro\u001b[0m clinico de 2 años de evolucion ,\n",
            "progresivo , caracterizado por alteracion de la marcha ( deambulacion a pasos cortos , necesita ayuda , caidas frecuentes con empeoramiento en los ultimos 3 meses ) , incontinencia\n",
            "de esfinter vesical desde hace 1 año y desde hace 1 mes \u001b[31mno\u001b[0m \u001b[34mcontrol\u001b[0m \u001b[34mde\u001b[0m \u001b[34mesfinter\u001b[0m \u001b[34mrectal\u001b[0m asi como alteracion conductual . por otro lado ,\n",
            "a el interrogatorio dirigido , explica clinica constitucional caracterizada por astenia , hiporexia y perdida de aproximadamente 20 kg de peso en el ultimo mes ( 84 - 68 kg ) .\n",
            "asocia tos seca y disfonia de 2-3 meses de evolucion . \u001b[31msin\u001b[0m \u001b[34mdisnea\u001b[0m \u001b[34mni\u001b[0m \u001b[34mdolor\u001b[0m \u001b[34mtoracico\u001b[0m \u001b[34m.\u001b[0m fue valorado por orl en enero de 2018\n",
            "evidenciando se paralisis de cuerda vocal izquierda por lo que se solicito tc de cuello y torax para diagnostico rapido que se encontraba pendiente de realizacion . exploracio\n",
            "fisica en planta de neurocirugia constantes : ta 118/72 mmhg ; fc 79 lpm ; tª 35 ºc ; spo2 98 % ( aa ) ; imc : 24.7 kg/m2 ( peso : 80 kg y talla : 180 cm ) aspecto : estado general\n",
            "conservado . normocoloreado , normohidratado y normoperfundido . aparato cardiovascular : tcr \u001b[31msin\u001b[0m \u001b[34msoplos\u001b[0m \u001b[34mni\u001b[0m \u001b[34mroce\u001b[0m \u001b[34m.\u001b[0m \u001b[31msin\u001b[0m\n",
            "\u001b[34miy\u001b[0m \u001b[34m,\u001b[0m \u001b[34mrhy\u001b[0m \u001b[34mni\u001b[0m \u001b[34medemas\u001b[0m \u001b[34mdistales\u001b[0m . pppys . aparato respiratorio : hipofonesis apical izquierda \u001b[31msin\u001b[0m \u001b[34motros\u001b[0m\n",
            "\u001b[34magregados\u001b[0m \u001b[34m.\u001b[0m abdomen : blando , depresible y \u001b[31mno\u001b[0m \u001b[34mdoloroso\u001b[0m \u001b[34ma\u001b[0m \u001b[34mla\u001b[0m \u001b[34mpalpacion\u001b[0m \u001b[34msuperficial\u001b[0m \u001b[34mni\u001b[0m\n",
            "\u001b[34mprofunda\u001b[0m \u001b[34m.\u001b[0m \u001b[31msin\u001b[0m \u001b[34mperitonismo\u001b[0m \u001b[34m.\u001b[0m peristaltismo conservado . \u001b[31msin\u001b[0m \u001b[34mmasas\u001b[0m \u001b[34mni\u001b[0m \u001b[34mmegalias\u001b[0m \u001b[34m.\u001b[0m pplb- .\n",
            "nrl : alerta . desorientacion parcial . picnr . \u001b[31msin\u001b[0m \u001b[34msignos\u001b[0m \u001b[34mde\u001b[0m \u001b[34mfocalidad\u001b[0m \u001b[34mneurologica\u001b[0m \u001b[34maguda\u001b[0m \u001b[34mni\u001b[0m \u001b[34mmeningismo\u001b[0m\n",
            "\u001b[34m.\u001b[0m \u001b[31msin\u001b[0m \u001b[34mflapping\u001b[0m \u001b[34m.\u001b[0m lateralidad motora : diestro . escolaridad : tecnico medio ( contable ) . indice de evans : 0.33 . escala de hidrocefalia de\n",
            "presion normal ( nph ) : marcha : 2/ puede caminar con ayuda . control de esfinteres : 2/ incontinencia urinaria continua . funciones cognitivas : 4/ problemas de memoria . nhc **\n",
            "*** *** ( ******** ) age-v-nml 2/5 lopd ev . neuropsico ( graficos y tablas en documents cex ) addenbrooke's ( screening ) : orientacio ( temp i espacial ) : 8/10 ( -2 or . temp )\n",
            ". atencio i concentracio : 8/8 . memoria : 19/26 ( -2 mem . retrograda / -4 proceso aprendijzaje / -5 mem. diferida ) . fluencia verbal : 8/14 ( fonetica 10 ( pe : 4 ) / semantica\n",
            "13 ( pe : 4 ) ) . lenguaje : 25/26 ( -1 denominacio ) . hab. visoespac : 13/16 ( -3 func. visoconstr grafomotora ) . auditory verbal learning test : muestra dificultades durante la\n",
            "fase de aprendizaje de nueva informacion , asi como para iniciar la tarea . dificultades de inhibicion proactiva y tambien interferencia retroactiva . asimismo , muestra deficit de\n",
            "memoria a corto y largo plazo , evidenciando dificultades tanto para la fase de reconocimiento como evocacion de nueva informacion . figura compleja de rey : evidenciamos apraxia\n",
            "constructiva ( grafomotora ) con capacidades visoperceptivas preservadas . praxias test bcn : dificultades para la imitacion de posturas con la mano \u001b[31mno\u001b[0m \u001b[34mdominante\u001b[0m\n",
            "( izquierda ) y bilateral . en planta de neumologia exploracio complementaria -analitica general : hb 12.4 g/dl ; hto . 36.6 % ; vcm 91.3 fl ; hcm 30.9 pg ; ade 13.7 % ; leucocitos\n",
            "7.170/l ( n 77.6 % ; l 14.5 % ) ; plaquetas 441.000/l ; urea 15 mg/dl ; cr 0.5 mg/dl ; fg &gt ; 90 ml/min/1.73m2 ; urato 2.5 mg/dl ; bi total 0.59 mg/dl ; bi directa 0.31 mg/dl ;\n",
            "sodio 135.2 mmol/l ; potasio 4.21 mmol/l ; calcio 8.7 mg/dl ; ast/alt 170/110 mg/dl ; proteina 6.1 g/dl ; albumina 3 g/dl . -marcadores tumorales : cea 5.7 ng/ml , psa 1.230 ng/ml\n",
            ", ca-19-9 6.8 u/ml , antigeno contra las celulas escamosas 1.6 ng/ml , alfa-fetoproteina 1.3 ng/ml , nse-- 86.9 ng/ml . - radiografia de torax : ict &lt ; 0.5 . scf libres . masa\n",
            "pulmonar en lobulo superior izquierdo \u001b[31msin\u001b[0m \u001b[34mdesplazamiento\u001b[0m \u001b[34mtraqueal\u001b[0m \u001b[34m.\u001b[0m \u001b[34m-\u001b[0m tc de cuello : paralisis de cuerda vocal izquierda , \u001b[31msin\u001b[0m\n",
            "\u001b[34mlesion\u001b[0m \u001b[34msubglotica\u001b[0m \u001b[34mresponsable\u001b[0m \u001b[34mde\u001b[0m \u001b[34mla\u001b[0m \u001b[34mmisma\u001b[0m \u001b[34m.\u001b[0m \u001b[31mno\u001b[0m \u001b[34mse\u001b[0m \u001b[34mobservan\u001b[0m \u001b[34madenopatias\u001b[0m\n",
            "\u001b[34men\u001b[0m \u001b[34mel\u001b[0m \u001b[34msegmento\u001b[0m \u001b[34mcervical\u001b[0m \u001b[34mque\u001b[0m \u001b[34msugieran\u001b[0m \u001b[34mmetastasis\u001b[0m \u001b[34mganglionares\u001b[0m \u001b[34mni\u001b[0m \u001b[34motras\u001b[0m\n",
            "\u001b[34malteraciones\u001b[0m \u001b[34mque\u001b[0m \u001b[34mindiquen\u001b[0m \u001b[34mneoplasia\u001b[0m \u001b[34mde\u001b[0m \u001b[34mcabeza/cuello\u001b[0m \u001b[34m.\u001b[0m consolidacion de apex pulmonar izquierdo , a \u001b[33mvalorar\u001b[0m\n",
            "\u001b[32men\u001b[0m \u001b[32mestudio\u001b[0m \u001b[32mtoracico\u001b[0m \u001b[33mposible\u001b[0m \u001b[32mlesion\u001b[0m \u001b[32mtumoral\u001b[0m \u001b[32m(\u001b[0m que explicaria la paralisis de cuerda vocal referida ) . - tc de torax :\n",
            "masa pulmonar en lsi que se extiende a ventana aorto-pulmonar , de las dimensiones descritas , asociada a lesion apical ipsilateral y nodulos pulmonares satelites en lsi de\n",
            "localizacion pericisural . los hallazgos radiologicos son \u001b[33mcompatibles\u001b[0m \u001b[33mcon\u001b[0m \u001b[32mneoplasia\u001b[0m \u001b[32mpulmonar\u001b[0m \u001b[32mprimaria\u001b[0m \u001b[32m.\u001b[0m - pfr : solicitadas ,\n",
            "se realizaran ambulatoriamente . - pet/tc : masa pulmonar hipermetabolica en lsi que se extiende a ventana aorto-pulmonar , asociada a lesion apical ipsilateral , tambien\n",
            "hipermetabolica y nodulos pulmonares ipsilobares hipermetabolicos en lsi . adenopatias hiliares izquierdas y mediastinicas , \u001b[33mssospechosas\u001b[0m \u001b[33mde\u001b[0m \u001b[32mmalignidad\u001b[0m\n",
            "\u001b[32m.\u001b[0m leve derrame pleural izquierdo con imagenes de aspecto nodular , hipermetabolicas , \u001b[33msospechosas\u001b[0m \u001b[33mde\u001b[0m \u001b[32mafectacion\u001b[0m \u001b[32mpleural\u001b[0m \u001b[32m.\u001b[0m nhc\n",
            "** *** \u001b[32m***\u001b[0m ( ******** ) age-v-nml 3/5 lopd evolucio clinica paciente que ingresa de forma programada en planta de neurocirugia para la colocacion de sensor de pic ante la\n",
            "\u001b[33msospecha\u001b[0m \u001b[33mde\u001b[0m \u001b[32mhidrocefalia\u001b[0m \u001b[32mcronica\u001b[0m \u001b[32mde\u001b[0m \u001b[32mel\u001b[0m \u001b[32madulto\u001b[0m \u001b[32m.\u001b[0m el dia 31/01/2018 , previo consentimiento informado y bajo\n",
            "anestesia local y sedacion , se procede a la colocacion de sensor de pic que se retira el dia 03/02/2018 \u001b[31msin\u001b[0m \u001b[34mincidencias\u001b[0m \u001b[34my\u001b[0m tras realizar se 3 registros\n",
            "continuos . se decide alta de neurocirugia para control ambulatorio en ccee donde se proporcionara resultado de registro de pic. de forma incidental durante el estudio\n",
            "preoperatorio se indentifica masa pulmonar en lsi que se extiende a ventana aorto-pulmonar , asociada a lesion apical ipsilateral y nodulos pulmonares satelites en lsi de\n",
            "localizacion pericisural ; hallazgos radiologicos \u001b[33mcompatibles\u001b[0m \u001b[33mcon\u001b[0m \u001b[32mneoplasia\u001b[0m \u001b[32mpulmonar\u001b[0m \u001b[32mprimaria\u001b[0m \u001b[32m.\u001b[0m por este motivo el paciente se\n",
            "traslada a planta de neumologia donde se continua estudio con pet/tc que muestra masa pulmonar hipermetabolica en lsi que se extiende a ventana aorto-pulmonar , asociada a lesion\n",
            "apical ipsilateral , tambien hipermetabolica y nodulos pulmonares ipsilobares hipermetabolicos en lsi , adenopatias hiliares izquierdas y mediastinicas , \u001b[33mssospechosas\u001b[0m\n",
            "\u001b[33mde\u001b[0m \u001b[32mmalignidad\u001b[0m \u001b[32m.\u001b[0m leve derrame pleural izquierdo con imagenes de aspecto nodular , hipermetabolicas , \u001b[33msospechosas\u001b[0m \u001b[33mde\u001b[0m \u001b[32mafectacion\u001b[0m\n",
            "\u001b[32mpleural\u001b[0m \u001b[32m.\u001b[0m \u001b[32mde\u001b[0m acuerdo con estos resultados y dada la estabilidad clinica de el paciente se decide completar estudio de forma ambulatoria con pfr y\n",
            "broncoscopia tras vinculacio con la unidad de diagnostico rapido de nodulo pulmonar . previo a el alta y dados los antecedentes psicopatologicos , se solicita valoracion por\n",
            "psiquiatria que ajusta tratamiento de cara a el alta . seguira controles por especialista habitual . ante la estabilidad clinica , de acuerdo con el paciente y su familia , con\n",
            "buena tolerancia a dieta oral y a movilizacion progresiva , se decide alta a domicilio . seguira controles en consultas externas de neurocirugia y neumologia . orientacio\n",
            "diagnostica - masa pulmonar a estudio . - \u001b[33msospecha\u001b[0m \u001b[33mde\u001b[0m \u001b[32mhidrocefalia\u001b[0m \u001b[32mcronica\u001b[0m \u001b[32mde\u001b[0m \u001b[32mel\u001b[0m \u001b[32madulto\u001b[0m \u001b[32m.\u001b[0m - hipertension\n",
            "arterial . - poliposis colonica . - aneurisma de aorta ascendente . - esquizofrenia . - parkinsonismo vascular . procediments 1-colocacion de sensor de presion intracraneal ( pic )\n",
            ". 2-registro continuo de presion intracraneal ( pic ) . 3-retirada de sensor de pic. 4-estudio preoperatorio . 5- tc cuello y torax . 6- pet/tc . tractament i recomanacions a\n",
            "l'alta - abstinencia tabaquica . - nicotina parche \" 21 \" cada 24h . - cura diaria de la herida - retirar puntos/grapas a partir de el decimo dia desde el alta hospitalaria , en su\n",
            "cap correspondiente . nhc ** *** *** ( ******** ) age-v-nml 4/5 lopd - lorazepam 1mg cada 8 horas via oral . \u001b[33mpodria\u001b[0m \u001b[32mtomar\u001b[0m \u001b[32m,\u001b[0m \u001b[32men\u001b[0m \u001b[32mcaso\u001b[0m de\n",
            "necesitar lo , un comprimido adicional por la noche . - sertralina 50mg/24h via oral . en caso de buena tolerancia , aumentar a 100mg/24h via oral en una semana . resto de su\n",
            "medicacion habitual \u001b[31msin\u001b[0m \u001b[34mcambios\u001b[0m \u001b[34m:\u001b[0m adiro 100 mg a el dia , amlodipino 5 mg a el dia , losartan 50 mg a el dia , paracetamol 1 g si precisa , polaramine 2\n",
            "mg si precisa y sinemet plus retard ( levodopa+carbidopa ) 25+100 mg 2 comprimidos a el dia . control seguimiento en consultas externas de neumologia , unidad de diagnostico rapido\n",
            ". sera avisado telefonicamente o por correo convencional . control en consultas externas de neurocirugia . seguimiento por medico de atencion primaria de especialistas habituales .\n",
            "destinacio a l'alta : a domicili nhc ** *** *** ( ******** ) age-v-nml 5/5 lopd <end>\n"
          ]
        }
      ],
      "source": [
        "colored_output = colorize_tokens(tokens, predicted_labels)"
      ]
    },
    {
      "cell_type": "code",
      "execution_count": null,
      "metadata": {
        "colab": {
          "base_uri": "https://localhost:8080/"
        },
        "id": "-fbt31N4Ny6w",
        "outputId": "174542aa-df02-465e-be08-232a545bcf8e"
      },
      "outputs": [
        {
          "name": "stdout",
          "output_type": "stream",
          "text": [
            "\u001b[39m- Negation cues are represented with \u001b[31mRED\n",
            "\u001b[39m- Negation scopes are represented with \u001b[34mBLUE\n",
            "\u001b[39m- Uncertainty cues are represented with \u001b[33mYELLOW\n",
            "\u001b[39m- Uncertainty scopes are represented with \u001b[32mGREEN\n",
            "\n",
            "\n",
            "<start> nº historia clinica : ** *** *** nºepisodi : ******** sexe : home data de naixement : 11.01.1926 edat : 92 anys procedencia aguts servei medicina interna 1 data d'ingres\n",
            "06.06.2018 data d'alta 27.06.2018 16:00:00 ates per equipo dr. *****-dr.****** ( dra. ********* , dra. ***** , dra- ***** ) informe d'alta d'hospitalitzacio motiu d'ingres paciente\n",
            "de 92 años que ingresa de forma programada para estudio y tratamiento de hemofilia adquirida . antecedents antecedentes personales : - \u001b[31msin\u001b[0m \u001b[34malergias\u001b[0m\n",
            "\u001b[34mmedicamentosas\u001b[0m \u001b[34mconocidas\u001b[0m - \u001b[31mno\u001b[0m \u001b[34mrefiere\u001b[0m \u001b[34mhabitos\u001b[0m \u001b[34mtoxicos\u001b[0m antecedentes patologicos - hipertension arterial en tratamiento .\n",
            "complicacion en forma de cardiopatia hipertensiva e insuficiencia cardiaca diastolica que debuto como un episodio de insuficiencia cardiaca . \u001b[31mno\u001b[0m \u001b[34mdisponemos\u001b[0m\n",
            "\u001b[34mde\u001b[0m \u001b[34minformes\u001b[0m \u001b[34m,\u001b[0m - epoc gold ii en tratamiento broncodilatador , \u001b[31mno\u001b[0m \u001b[34magudizador\u001b[0m \u001b[34m.\u001b[0m pfr ( 2010 ) : fev1/fvc 58.94% , fev1 1.45l (\n",
            "59% ) , fvc 2.46l ( 67% ) . ingreso por agudizacion en contexto de gripe a en 2017 - enfermedad renal cron i ca con creatinina r basal 1,5mg/d y fg alrededor de 31l secundaria a\n",
            "nefroangioesclerosis . - hiperuricemia con artritis gotosa , \u001b[31msin\u001b[0m \u001b[34mtratamiento\u001b[0m \u001b[34mactualmente\u001b[0m \u001b[34m.\u001b[0m previamente alopurinol . - \u001b[34martritis\u001b[0m\n",
            "\u001b[31msin\u001b[0m \u001b[34mfiliar\u001b[0m \u001b[34m.\u001b[0m catalogada en historia clinica como \u001b[33mposibles\u001b[0m \u001b[32martritis\u001b[0m \u001b[32mreumatoide.\u001b[0m \u001b[32ma\u001b[0m \u001b[32mpesar\u001b[0m \u001b[32mde\u001b[0m\n",
            "\u001b[32mello\u001b[0m \u001b[32mno\u001b[0m \u001b[34mpueden\u001b[0m \u001b[34mdesacartar\u001b[0m \u001b[34martritis\u001b[0m \u001b[34muremica\u001b[0m \u001b[34mvs\u001b[0m \u001b[34mdegenerativa\u001b[0m \u001b[34mo\u001b[0m \u001b[34mrs3pe\u001b[0m \u001b[34m.\u001b[0m actualmente\n",
            "con dosis de manteniemiento muy bajas de corticoides . ( 5mg prednisona/dia ) - carcinoma escamoso en cuero cabelludo : exeresis de tumor escamoso de cuero cabelludo en mayo de\n",
            "2017 . nueva lesion con biopsia que describe nuevo carcinoma escamosos . tenia cita para exeresis pero \u001b[31mno\u001b[0m \u001b[34mse\u001b[0m \u001b[34mha\u001b[0m \u001b[34mpodido\u001b[0m \u001b[34mrealizar\u001b[0m\n",
            "\u001b[34mpor\u001b[0m \u001b[34mingreso\u001b[0m \u001b[34m.\u001b[0m - fractura por aplastamiento l4-l5 en 2017 , tratamiento con tramadol y pregabalina . espondilosis y canal medular estrecho rmn rmn columna\n",
            "lumbo-sacra : cambios degenerativos osteodiscales descritos , con fractura - hundimiento de los cuerpos vertebrales comprendidos en el segmento l3-l5 y estenosis forsminal\n",
            "multisegmentaria , severa en el caso de las raices l2 , l3 , y l4 izquierdas , ademas de estenosis de canal raquideo de caracter degenerativoa correlacionar con la clinica y\n",
            "artropatia degenerativa con listesis l4-l5 + estenosis foraminal y de canal medular . -ulcera postraumatica en tratamiento local con correcta evolucion . situacion sociofuncional\n",
            "-vive solo con ayuda de una cuidador aunque es independiente . \u001b[31mno\u001b[0m \u001b[34mdeterioro\u001b[0m \u001b[34mcognitivo\u001b[0m \u001b[34m.\u001b[0m medicacio habitual atrovent 2 inh cdaa 12 horas ,\n",
            "emcoretic 10/25 mg vo cada dia , mupirocina en lesiones . omeprazol 20 mg vo cada 24 horas , omnic ocas 0.4 mg vo cada dia , paracetamol 650 mg vo cada dia , prednisona 2.5 mg vo\n",
            "cada 48 horas , pirast 160/4.5 mcg 2 inh cada 12 horas , spiriva 2.5 mcg 2 inh cada dia , valsartan 80 mg vo cada dia . proces actual paciente de 92 años que acude derivado de\n",
            "manresa donde el paciente , tras encontrar alteracion en la coagulacion sospechan de hemofilia adquirida . el 25 de mayo acude a urgencias por hematomas espontaneos nhc ** *** ***\n",
            "( ******** ) age-v-mir 1/6 lopd relacionados con la toma de hidroxil b ( habia tomado 5 comprimidos ) y acude a el cap donde lo suspenden . aparece nuevo hematoma espontaneo en\n",
            "gluteo izquierdo , por lo que finalmente decide acudir a urgencias siendo dado de alta el 28 de mayo . se realiza estudio el 5 de junio que muestra hb 9,6 ttpa ratio 2,2 69\n",
            "segundos . fviii 2% f vw normal . ag y cor.resto via intrinseca ix , xi xii normales motivo por el que se deriva . el paciente explica por cuadro clinico de 10 dias de evolucion de\n",
            "aparicion de hematomas y equimosis , inicialmente en tobillo derecho , despues en extremidades izquierdas de gran extension asi como en extremidad superior derecha . \u001b[31mno\u001b[0m\n",
            "\u001b[34mdolorosos\u001b[0m \u001b[34m.\u001b[0m \u001b[34mel\u001b[0m paciente \u001b[31mniega\u001b[0m \u001b[34mtraumatismos\u001b[0m \u001b[34mprevios\u001b[0m \u001b[31mausencia\u001b[0m \u001b[31mde\u001b[0m \u001b[34mfiebre\u001b[0m \u001b[34mo\u001b[0m \u001b[34motra\u001b[0m\n",
            "\u001b[34msintomatologia\u001b[0m \u001b[34macompañante\u001b[0m \u001b[34m.\u001b[0m valorado por hematologia se decide ingreso en medicina interna para estudio etiologico y tratamiento . exploracio fisica\n",
            "exploracion en urgencias aspecto general : alerta , normohidratado exploracion cardiovascular : buena perfusion tisular . pulsos conservados . ruidos cardiacos arritmicos ,\n",
            "\u001b[31msin\u001b[0m \u001b[34msoplos\u001b[0m \u001b[34m.\u001b[0m exploracion respiratoria : eupneico , murmullo vesicular conservado , \u001b[31msin\u001b[0m \u001b[34magregados\u001b[0m \u001b[34m.\u001b[0m exploracion abdominal :\n",
            "abdomen blando , \u001b[31mno\u001b[0m \u001b[34mdistendido\u001b[0m \u001b[34m,\u001b[0m \u001b[31msin\u001b[0m \u001b[34mdolor\u001b[0m \u001b[34ma\u001b[0m \u001b[34mla\u001b[0m \u001b[34mpalpacion\u001b[0m \u001b[34m.\u001b[0m peristaltismo conservado . exploracion\n",
            "neurologica : alerta , orientado . pupilas isocoricas , normorreactivas . pares craneales \u001b[31msin\u001b[0m \u001b[34mdeficit\u001b[0m \u001b[34m.\u001b[0m \u001b[31msin\u001b[0m \u001b[34mfocalizacion\u001b[0m \u001b[34m,\u001b[0m\n",
            "\u001b[34mmeningismo\u001b[0m \u001b[34mo\u001b[0m \u001b[34mdeficit\u001b[0m \u001b[34mmotor\u001b[0m \u001b[34mni\u001b[0m \u001b[34msensitivo\u001b[0m \u001b[34m.\u001b[0m exploracion piel y faneras : multiples equimosis enextremidades , algunas\n",
            "en resolucion , la mayor en region glutea y cara posterior de miembro inferior izquierdo . exploracion a el ingreso en medicina interna paciente vigil y orientado . buen estado\n",
            "general y normohidratado . hemodinamicamente estable y \u001b[31mafebril\u001b[0m presenta grandes equimosis en extremidades superiores e inferiores , asi como en area glutea . a la\n",
            "palpacion \u001b[31mno\u001b[0m \u001b[34mson\u001b[0m \u001b[34mdolorosas\u001b[0m \u001b[34my\u001b[0m parecen \u001b[34mde\u001b[0m \u001b[34mlocalizacion\u001b[0m \u001b[34msubcutanea\u001b[0m \u001b[34m.\u001b[0m exploracion cardiocirculatoria : paciente\n",
            "bien perfundido , con pulsos perifericos presentes . tonos cardiacos ritmicos a 80lpm , \u001b[31msin\u001b[0m \u001b[34msiplos\u001b[0m \u001b[34m.\u001b[0m auscultcion respiratoria : murmullo vesicular\n",
            "conservado con crepitantes secos en base derecha . : exploracio complementaria exploraciones complementarias en urgencias eab : ph 7.44 , pco2 42 mmhg , hco3 std 27.1 mmol , hco· c\n",
            "28.5 mmol/l , be 3.9 mmol/l , ag 4 , hb 10.2 gr/dl . ecg : ritmo sinusal 85 lpm , eje electrico de 30º , pr 200 ms , qrs 80 ms . \u001b[31mno\u001b[0m \u001b[34malteraciones\u001b[0m \u001b[34magudas\u001b[0m\n",
            "\u001b[34mde\u001b[0m \u001b[34mla\u001b[0m \u001b[34mrepolarizacion\u001b[0m \u001b[34m.\u001b[0m correcta progresion de onda r en precordiales . radiografia torax : bien inspirada , \u001b[32mpenetrada\u001b[0m y centrada .\n",
            "cardiomegalia e imagen que \u001b[34msugiere\u001b[0m \u001b[34maneurisma\u001b[0m \u001b[34mde\u001b[0m \u001b[34mel\u001b[0m cayado aortico . senos costofrenicos libres . \u001b[31mno\u001b[0m \u001b[34mcondensaciones\u001b[0m \u001b[34men\u001b[0m\n",
            "\u001b[34mparenquima\u001b[0m \u001b[34mpulmonar\u001b[0m \u001b[34mni\u001b[0m \u001b[34msignos\u001b[0m \u001b[34mde\u001b[0m \u001b[34mredistribucion\u001b[0m \u001b[34mvascular\u001b[0m \u001b[34m.\u001b[0m \u001b[31mno\u001b[0m \u001b[34mlesiones\u001b[0m \u001b[34moseas\u001b[0m\n",
            "\u001b[34masociadas\u001b[0m \u001b[34m.\u001b[0m analitica urgente : hb 9.9 g/dl , vcm 99.4 fl , hcm 31.0 pg , leucocitos 9.4x10e9/l ( n 73.1% , l 15.3% , m 8.8% , e 2.6% , b 0.2% ) , plaquetas\n",
            "368x10e9/l , glucosa 114 mg/dl , cr 1.85 mg/dl , fg 31 ml/min/1,73m2 , na 142 mmol/l , k 3.97mmol/l , calcio 8.9 mg/dl , ast 19 ui/l , alt 11 ui/l , fa 70 ui/l , ggt 13 ui/l ,\n",
            "proteinas 5.7 g/dl , albumina 3.9 g/dl estudio de hemostasia : quick 108% , inr 0.96 , ttpa 11.7s , ttpa ratio 2.45 , fibrinogeno 4.33 g/l , tt 21.5 s , tt nhc ** *** *** (\n",
            "******** ) age-v-mir 2/6 lopd ratio 1.01 . exploraciones complementarias en planta de medicina interna analitica general 7/06/2018 : hb 9.9 g/dl , vcm 99.4 fl , hcm 31.0 pg ,\n",
            "leucocitos 9.4x10e9/l ( n 73.1% , l 15.3% , m 8.8% , e 2.6% , b 0.2% ) , plaquetas 368x10e9/l , glucosa 114 mg/dl , cr 1.85 mg/dl , fg 31 ml/min/1,73m2 , na 142 mmol/l , k 3.97\n",
            "mmol/l , calcio 8.9 mg/dl , ast 19 ui/l , alt 11 ui/l , fa 70 ui/l , ggt 13 ui/l , proteinas 5.7 g/dl , albumina 3.9 g/dl estudio de hemostasia : quick 108% , inr 0.96 , ttpa 11.7s\n",
            ", ttpa ratio 2.45 , fibrinogeno 4.33 g/l , tt 21.5 s , tt ratio 1.01 . factor viii activado 3.1% , inhibidor de el factor viii 5.1bu/ml . \u001b[34mmarcadores\u001b[0m \u001b[34mtumorales\u001b[0m :\n",
            "cea , antigeno prostatico especifico , ca 19.9 , cea , afp dentro de parametros de normalidad , y fosfopiruvato-hidratasa elevado ( 19.9ng/ml- volor de referencia 18 ) . estudio de\n",
            "autoimmunidad : ana \u001b[31mnegativos\u001b[0m \u001b[31m,\u001b[0m fr 7.8 , p-anca y c-anca \u001b[31mnegativos\u001b[0m \u001b[31m.\u001b[0m tc toraco-abdominal : \u001b[31mno\u001b[0m \u001b[34mse\u001b[0m \u001b[34mobservan\u001b[0m\n",
            "\u001b[34madenopatias\u001b[0m \u001b[34maxilares\u001b[0m \u001b[34m,\u001b[0m \u001b[34mhiliares\u001b[0m \u001b[34mni\u001b[0m \u001b[34mmediastinicas\u001b[0m \u001b[34mde\u001b[0m \u001b[34mtamaño\u001b[0m \u001b[34msignificativo\u001b[0m \u001b[34m.\u001b[0m\n",
            "\u001b[34mganglio\u001b[0m \u001b[34mcalcificado\u001b[0m \u001b[34mparatraqueal\u001b[0m derecho . tronco de la arteria pulmonar \u001b[31mno\u001b[0m \u001b[34mdilatado\u001b[0m \u001b[34mcon\u001b[0m \u001b[34maorta\u001b[0m \u001b[34mascendente\u001b[0m\n",
            "\u001b[34mectasica\u001b[0m \u001b[34mhasta\u001b[0m \u001b[34m38\u001b[0m \u001b[34mmm\u001b[0m \u001b[34m,\u001b[0m \u001b[31msin\u001b[0m \u001b[34msignos\u001b[0m \u001b[34mde\u001b[0m \u001b[34mcomplicacion\u001b[0m \u001b[34m.\u001b[0m calcificaciones aorticas y coronarias\n",
            ". parenquima pulmonar visualizado \u001b[31msin\u001b[0m \u001b[34mnodulos\u001b[0m \u001b[34msospechosos\u001b[0m \u001b[34mni\u001b[0m \u001b[34mcondensaciones\u001b[0m \u001b[34m.\u001b[0m dilataciones bronquiales . cavidades pleurales\n",
            "\u001b[31msin\u001b[0m \u001b[34mliquido\u001b[0m \u001b[34m.parenquima\u001b[0m \u001b[34mhepatico\u001b[0m \u001b[34mhomogeneo\u001b[0m , \u001b[34mde\u001b[0m tamaño y morfologia dentro de la normalidad . quiste de aspecto simple , de 6\n",
            "mm en segmento ii . vesicula biliar de paredes finas \u001b[31msin\u001b[0m \u001b[34maparente\u001b[0m \u001b[34mcontenido\u001b[0m \u001b[34m.\u001b[0m via biliar \u001b[31mno\u001b[0m \u001b[34mdilatada\u001b[0m \u001b[34m.\u001b[0m eje espleno-\n",
            "mesenterico- portal permeable .pancreas atrofico con lesion quistica de 9 mm , en cuerpo pancreatico sindilatacion de conducto de wirsung . bazo homogeneo , de tamaño dentro de la\n",
            "normalidad . glandula suprarrenal izquierda \u001b[31msin\u001b[0m \u001b[34malteraciones\u001b[0m \u001b[34msignificativas\u001b[0m \u001b[34m.\u001b[0m lesion de 15 x 18 mm hipodensa en suprarrenal derecha ,\n",
            "\u001b[33msugestiva\u001b[0m \u001b[33mde\u001b[0m \u001b[32madenoma\u001b[0m \u001b[32m.\u001b[0m riñones de tamaño normal , con disminucion de grosor cortical . nefrograma normal . quistes corticales de aspecto simple\n",
            "bilaterales , el mayor de 5,7 cms en polo superior de riñon derecho . vias excretoras \u001b[31mno\u001b[0m \u001b[34mdilatadas\u001b[0m \u001b[34m.\u001b[0m globo vesical . multiples hiperdensidades en area\n",
            "prostatica , que produce discreto artefacto ( braquiterapia ) . correcta disposicion y captacion de las asas de intestino delgado . marco colico \u001b[31msin\u001b[0m\n",
            "\u001b[34mengrosamientos\u001b[0m \u001b[34mmurales\u001b[0m \u001b[34mni\u001b[0m \u001b[34motras\u001b[0m \u001b[34malteraciones\u001b[0m \u001b[34m.\u001b[0m \u001b[31mausencia\u001b[0m \u001b[31mde\u001b[0m \u001b[34madenopatias\u001b[0m \u001b[34mmesentericas\u001b[0m\n",
            "\u001b[34m,\u001b[0m retroperitoneales \u001b[34mo\u001b[0m pelvicas de tamaño significativo . \u001b[31mno\u001b[0m \u001b[34mse\u001b[0m \u001b[34mobserva\u001b[0m \u001b[34mliquido\u001b[0m \u001b[34mlibre\u001b[0m \u001b[34mintraabdominal\u001b[0m\n",
            "\u001b[34m.\u001b[0m moderada ateromatosis aorto-iliaca con adecuada permeabilida de los principales troncos vasculares intrabdominales . cambios osteodegenerativos a nivel de columna dorso-\n",
            "lumbar con disminucion de altura de cuerpos vertebrales d8 y de l2-5 . anterolistesis l4-l5 . ecografia de partes blandas ( tobillo ) : \u001b[31mno\u001b[0m \u001b[34mse\u001b[0m \u001b[34mevidencian\u001b[0m\n",
            "\u001b[34msignos\u001b[0m \u001b[34mde\u001b[0m \u001b[34mocupacion\u001b[0m \u001b[34marticular\u001b[0m \u001b[34m.\u001b[0m infiltracion difusa de tejido graso subcutaneo \u001b[33mcompatible\u001b[0m \u001b[33mcon\u001b[0m \u001b[32medema\u001b[0m\n",
            "\u001b[32m.\u001b[0m coleccion localizada en tejido subcutaneo , en margen lateral de la pierna por encima de el maleolo \u001b[33mprobablemente\u001b[0m \u001b[32mcorrespondiendo\u001b[0m \u001b[32ma\u001b[0m\n",
            "\u001b[32mla\u001b[0m tumoracion palpable . esta coleccion presenta unos diametros aproximados de 7x20mm . anecoica \u001b[31msin\u001b[0m \u001b[34mparedes\u001b[0m \u001b[34mvalorables\u001b[0m \u001b[34mni\u001b[0m\n",
            "\u001b[34mseptos\u001b[0m \u001b[34men\u001b[0m \u001b[34msu\u001b[0m \u001b[34minterior\u001b[0m \u001b[34msugiriendo\u001b[0m \u001b[34mpequeño\u001b[0m \u001b[34mseroma\u001b[0m \u001b[34mcomo\u001b[0m \u001b[34mopcion\u001b[0m \u001b[34mmas\u001b[0m \u001b[34mprobable\u001b[0m\n",
            "\u001b[32m.\u001b[0m analitica 11/06/2018 : hematies 2.98x10e12 , hb 9.4g/dl , htc 29.8% , vcm 100.7fl , hcm 31.8pg , chcm31.5g( dl , ade 15.9% , leucocitos 11.340 ( neutrofilos 80.1% ,\n",
            "limfocitos 11.7% , monocitos 7.1% ) , plaquetas 335000 , tp &gt;120% , ttpa 48.2seg , glucosa 74mg/dl . urea 100mg/dl , creatinina 1.37mg/dl , fg 44 , urato 7.2mg/dl , br 0.88mg/dl\n",
            "( esterifiicada 0.34mg/dl ) , sodio 139.8mmol/l , potasio 4.88mmol/l , calci 8.5mg/dl , ast 13ui/l , alt 14ui/l , fa 67ui/l , ggt 18ui/l , proteines 5.1g/dl , albumina 3.3g/dl .\n",
            "analitica 15/06/2018 : hematies 3.15x10e12 , hb 10.2g/dl , htc 31.8% , vcm 31.8fl , hcm 32.4pg , ade 16.3% , leucocitos 12.610 ( ntf 83.9% , limfocitos 6.6% , monocitos 8.8% ) ,\n",
            "plaquetas 337000 , tp &gt;120% , ttpa 33seg , fviii actividad 38.8% , inhibidro f.viii &lt ;0,4 bu/ml , vsg 3mm , glcuosa 66mg/dl , urea 116mg/dl , cr 1.62mg/dl , fg 36 , urato\n",
            "7.9mg/dl , br 0.69 mg/dl ( directa 0.29 ) , sodio 139.8mmol/l , potasio 4.65mmol/l , cloruro 105mmol/l , nhc ** *** *** ( ******** ) age-v-mir 3/6 lopd fosfato 3.1mg/dl , calci\n",
            "8.7mg/dl , ast 10ui/l , alt 14ui/l , fa 73ui/l , ggt 20ui/l , ldh 564ui/l , colesterol 173mg/dl , hdl 76mg/dl , ldl 82mg/dl , tag 74mg/dl , proteinas 5.2g/dl , albumina 3.6 , pcr\n",
            "0.19 , beta-2-.microglobulina 3.2mg/dl , proteinograma : albumina 65.6% , alfa 1 4.9% , alfa 2 13.2% , beta 1 5.9% , beta 2 4.1% , gamma 6.3% . iga 33mg/dl , igg 366mg/dl , igm\n",
            "12mg/dl . \u001b[31mno\u001b[0m \u001b[34mse\u001b[0m \u001b[34mobserva\u001b[0m \u001b[34mcomponente\u001b[0m \u001b[34mmonoclonal\u001b[0m \u001b[34m.\u001b[0m cadenas kappa libres 11.23mg/l , cadenas lambda libres 7.87mg/dl , cadenas\n",
            "kappa/cadenas lambda 1.427 ( dentro de rango ) . analitica 19/06/2018 : hb 10.9 g/dl ; hto 34.4% ; vcm 103.0 fl ; leucocitos 13.34x10e9/l ; neutrofilos 11.0x10e9/l ; linfocitos\n",
            "1.2x10e9/l ; plaquetas 322x10e9/l ; tp 10.5seg ; ttpa 28.6 seg ; inr 0.86 ; fibrinogeno 3.38 g/l ; glucosa 65 mg/dl ; urea 127 mg/dl ; creatinina 1.95mg/dl ; fg 29 ml/min/1.73m2 ;\n",
            "sodio 136.6 mmol/l ; potasio 4.93 mmol/l ; calcio 8.8 mg/dl ; ast 9 ui/l ; alt 12ui/l ; proteina 5.6 g/dl , albumina 3.7 g/dl . actividad de f.viii 94.6% , inhibidor\n",
            "\u001b[31mnegativo\u001b[0m \u001b[31m.\u001b[0m analitica 20/06/2018 : u : 121 mg/dl cr : 1.68 mg/dl tfg : 35ml/min/1.75m2 bilirrubinas : 0.67mg/dl sodio : 137.3 mmol/l potasio : 4.61 mmol/l ast : 9\n",
            "asp : 10 ggt : 19 ui/l albumina : 3.3 proteinas . 5.1 \u001b[34mniveles\u001b[0m \u001b[34mde\u001b[0m tacrolimus : 2.7 analitica general a el alta : hb 10.8 g/dl ; hto 32.6% ; vcm 97.3 fl ;\n",
            "leucocitos 9.94x10e9/l ; neutrofilos 8.3x10e9/l ; linfocitos 0.8x10e9/l ; plaquetas 236x10e9/l ; tp 0.86seg ; ttpa 26.2 seg ; fibrinogeno 3.51 g/l ; glucosa 77 mg/dl ; urea 118\n",
            "mg/dl ; creatinina 1.79mg/dl ; fg 32 ml/min/1.73m2 ; sodio 133.3 mmol/l ; potasio 4.7 mmol/l ; calcio 8.1 mg/dl ; ast 7 ui/l ; alt 9ui/l ; proteina 4.8 g/dl , albumina 3.1 g/dl .\n",
            "tacrolimus 6.2ng/ml evolucio clinica a su llegada a urgencias estable hemodinamicamente , \u001b[31mafebril\u001b[0m \u001b[31m,\u001b[0m con multiples hematomas descritos , ninguno con signos de\n",
            "alarma . se \u001b[33morienta\u001b[0m \u001b[32mcaso\u001b[0m \u001b[32mcomo\u001b[0m \u001b[32mprobable\u001b[0m \u001b[32mhemofilia\u001b[0m \u001b[32madquirida\u001b[0m \u001b[32m,\u001b[0m \u001b[32mteniendo\u001b[0m \u001b[32men\u001b[0m \u001b[32mcuenta\u001b[0m edad\n",
            "\u001b[32mde\u001b[0m paciente y comorbilidades . se realiza analitica que muestra prolongacion de tp y ttpa asi como creatinina 1.7mg/dl y se inicia tratamiento con bolus de corticoides\n",
            "500mg . en planta de medicina interna , presentado a la exploracion los hematomas descritos , todos ellos de aparente localizacion subcutanea . se completan hasta 3 bolus de 500mg\n",
            "de metilprednisolona y se realiza despistaje de enfermedad autoimmunitaria y de patolgia tumoral asociada ( tac toraco-abdominal y marcadores \u001b[34mtumorales\u001b[0m ) que resultan\n",
            "\u001b[31mnegativos\u001b[0m \u001b[31m.\u001b[0m el factor inhibidor de llegada resulta positivo . se inicia tacrolimus . durante el seguimiento se observa mejoria de los tiempos de coagulacion , una\n",
            "recupracion progresiva de la actividad de el factor viii ( de el 2% a el 94.6% ) y una negativizacion de el inhibidor de el factor viii . de forma intercurrente el paciente refiere\n",
            "dolor y tumefaccion en tobillo derecho que se corrobora con la exploracion , por lo que se le pide ecografia de partes blandas para descartar hematoma profundo , resultando ser un\n",
            "seroma . durante el ingreso se solicita valoracion a dermatologia por carcinoma escamoso en cuero cabelludo que recomienda hacer interconsulta a cirugia plastica para exeresis una\n",
            "vez normalizados los tiempos de coagulacion y realizar un tc de cabeza y cuello para estudio de extension que se realiza previo a el alta quedando pendiente de informe . nhc ** ***\n",
            "*** ( ******** ) age-v-mir 4/6 lopd dado a el buen estado general de el paciente , la mejoria clinica , la mejoria franca de los tiempos de coagulaion , nivel de facor viii y\n",
            "negativizacion de el inhibidor , se decide alta a domicilio con tratamiento con prednisona y tacrolimus con visita de control en cosultas externas . orientacio diagnostica -\n",
            "hemofilia adquirida de etiologia desconocida -carcinoma escamoso vertex craneal - hipertension arterial esencial - enfermedad pulmonar obstructiva cronica - enfermedad renal\n",
            "cronica procediments - anallitica - ecg - radiografia de torax - eab - tc toraco-abdominal tractament i recomanacions a l'alta - prednisona en pauta descendente : prednisona 10mg\n",
            "dos comprimidos y medio en desayuno hasta el 8 de de julio de 2018 incluido prednisona 10mg dos comprimidos en desayuno hasta el 15 de julio de 2018 incluido prednisona 10mg un\n",
            "comprimidos y medio en desayuno hasta el 22 de julio de 2018 incluido prednisona 10mg un comprimidos en desayuno hasta valoracion en consultas externas - tacrolimus 0.5mg ( prograf\n",
            ") dos comprimidos en desayuno y uno en cena ( el dia de la analitica esperar a la realizacion de esta para la toma ) -ideos un comprimido cada 12 horas resto de medicacion\n",
            "\u001b[31msin\u001b[0m \u001b[34mcambios\u001b[0m \u001b[34m:\u001b[0m -spriva dos inhalaciones diarias -rilast dos inhalaciones cada 12 horas -emcoretic 10/25mg un comprimido en desayuno -omeprazol 20mg un\n",
            "comprimido antes de desayuno -valsartan 80mg un comprimido en desayuno - omnic 0.4mg un compimido en desayuno control controles en consultas de atencion inmediata , dia 2 de agosto\n",
            "a las 12:00h a consulta de atencion inmediata ( cai ) de medicina interna- primera planta . acudira previamente para realizacion de analitica en unidad de hemofilias ( planta baja\n",
            "de traumatologia ) segun citacion adjunta a las 8:45h . nhc ** *** *** ( ******** ) age-v-mir 5/6 lopd destinacio a l'alta : a domicili nhc ** *** *** ( ******** ) age-v-mir 6/6\n",
            "lopd <end>\n"
          ]
        }
      ],
      "source": [
        "colored_output = colorize_tokens(tokens, predicted_labels)"
      ]
    },
    {
      "cell_type": "code",
      "execution_count": null,
      "metadata": {
        "colab": {
          "base_uri": "https://localhost:8080/"
        },
        "id": "YU8GeHQQP-Bc",
        "outputId": "551536c5-5dff-4ae7-8d76-3edae2da8857"
      },
      "outputs": [
        {
          "name": "stdout",
          "output_type": "stream",
          "text": [
            "\u001b[39m- Negation cues are represented with \u001b[31mRED\n",
            "\u001b[39m- Negation scopes are represented with \u001b[34mBLUE\n",
            "\u001b[39m- Uncertainty cues are represented with \u001b[33mYELLOW\n",
            "\u001b[39m- Uncertainty scopes are represented with \u001b[32mGREEN\n",
            "\n",
            "\n",
            "<start> nº historia clinica : ** *** *** nºepisodi : ******** sexe : home data de naixement : 10.01.2012 edat : 7 anys procedencia cex mateix hosp servei c. ort i traumatologia ped\n",
            "data d'ingres 12.09.2019 data d'alta 13.09.2019 18:00:00 ates per *************** , ********* ; ************* , ****** ; ************************************** , ***** informe\n",
            "d'alta d'hospitalitzacio motiu d'ingres ingres iq proces actual paciente ingresa de foram programada para cirugia multiple de pie derecho y ambas manos exploracio complementaria\n",
            "\u001b[31mno\u001b[0m \u001b[34mcontraindican\u001b[0m \u001b[34mla\u001b[0m \u001b[34mcirugia\u001b[0m evolucio clinica el dia 12/09/2019 se interviene quirurgicamente a el paciene de exeresis de dedos de la mano\n",
            "accesorios + correccion de pie varo con transferencia de tibial anterior y fasciotomia plantar , \u001b[31msin\u001b[0m \u001b[34mincidencias\u001b[0m \u001b[34mintraoperatorias\u001b[0m \u001b[34m.\u001b[0m se coloca\n",
            "yeso circular en botina en pie derecho . durante el postoperatorio el paciente se mantiene hde , con buen estado general . mantiene un buen control de el dolor . buen trofismo\n",
            "distal . dieta oral y micciones espontaneas conservadas . dada la estabilidad clinica y la buena evolucion local y global se decide alta hospitalaria con las siguientes\n",
            "indicaciones . orientacio diagnostica r69 malaltia \u001b[31mno\u001b[0m \u001b[34mespecificada\u001b[0m \u001b[34mprocediments\u001b[0m 77.29 osteotomia cuneïforme , altres ossos . ossos pelvians , falanges (\n",
            "de peu ) ( de ma ) , vertebres 81.17 altra fusio de peu tractament i recomanacions a l'alta reposo relativo frio local 10 minutos cada 2-3 horas extremidades elevadas en reposo\n",
            "apiretal de 100mg/ml 3ml cada 8 horas si dolor dalsy de 40mg/ml 3-4ml alternado si dolor intenso . control control en cex cop. llamar a ********3 para programacion nhc ** *** ***\n",
            "&nbsp ; ( ******** ) &nbsp ; ami-v-cop 1/2 lopd si signos de alarma , acudir a urgencias . destinacio a l'alta : a domicili nhc ** *** *** &nbsp ; ( ******** ) &nbsp ; ami-v-cop\n",
            "2/2 lopd <end>\n"
          ]
        }
      ],
      "source": [
        "colored_output = colorize_tokens(tokens, predicted_labels)"
      ]
    }
  ],
  "metadata": {
    "colab": {
      "provenance": [],
      "toc_visible": true
    },
    "kernelspec": {
      "display_name": "Python 3",
      "name": "python3"
    },
    "language_info": {
      "codemirror_mode": {
        "name": "ipython",
        "version": 3
      },
      "file_extension": ".py",
      "mimetype": "text/x-python",
      "name": "python",
      "nbconvert_exporter": "python",
      "pygments_lexer": "ipython3",
      "version": "3.9.13"
    },
    "widgets": {
      "application/vnd.jupyter.widget-state+json": {
        "0722bc23b81349fc99c19a4cc76beb42": {
          "model_module": "@jupyter-widgets/controls",
          "model_module_version": "1.5.0",
          "model_name": "HTMLModel",
          "state": {
            "_dom_classes": [],
            "_model_module": "@jupyter-widgets/controls",
            "_model_module_version": "1.5.0",
            "_model_name": "HTMLModel",
            "_view_count": null,
            "_view_module": "@jupyter-widgets/controls",
            "_view_module_version": "1.5.0",
            "_view_name": "HTMLView",
            "description": "",
            "description_tooltip": null,
            "layout": "IPY_MODEL_f7f4e74cba5949009a418947a8a70e0f",
            "placeholder": "​",
            "style": "IPY_MODEL_ccd5a508a0cc47889b3b02913244da71",
            "value": " 216k/? [00:00&lt;00:00, 8.40MB/s]"
          }
        },
        "0a545b0c04524147b64cec72b013f94a": {
          "model_module": "@jupyter-widgets/controls",
          "model_module_version": "1.5.0",
          "model_name": "HBoxModel",
          "state": {
            "_dom_classes": [],
            "_model_module": "@jupyter-widgets/controls",
            "_model_module_version": "1.5.0",
            "_model_name": "HBoxModel",
            "_view_count": null,
            "_view_module": "@jupyter-widgets/controls",
            "_view_module_version": "1.5.0",
            "_view_name": "HBoxView",
            "box_style": "",
            "children": [
              "IPY_MODEL_3e7e11e390e34c57b796c0904c96847d",
              "IPY_MODEL_8e2dfff61fce4adf9e5d1d87923a66a3",
              "IPY_MODEL_0722bc23b81349fc99c19a4cc76beb42"
            ],
            "layout": "IPY_MODEL_72a97db60ebd4955999e4898871e40dc"
          }
        },
        "0e250981b56c4cb4bc3b663458a92fe0": {
          "model_module": "@jupyter-widgets/controls",
          "model_module_version": "1.5.0",
          "model_name": "LabelModel",
          "state": {
            "_dom_classes": [],
            "_model_module": "@jupyter-widgets/controls",
            "_model_module_version": "1.5.0",
            "_model_name": "LabelModel",
            "_view_count": null,
            "_view_module": "@jupyter-widgets/controls",
            "_view_module_version": "1.5.0",
            "_view_name": "LabelView",
            "description": "",
            "description_tooltip": null,
            "layout": "IPY_MODEL_66efafb9e69e42e59a85a97a01cc7848",
            "placeholder": "​",
            "style": "IPY_MODEL_aebe411d55b244d3b69c33c46d054993",
            "value": "0.001 MB of 0.009 MB uploaded (0.000 MB deduped)\r"
          }
        },
        "11963abed3ad4bfcaff6544f8a8e962a": {
          "model_module": "@jupyter-widgets/base",
          "model_module_version": "1.2.0",
          "model_name": "LayoutModel",
          "state": {
            "_model_module": "@jupyter-widgets/base",
            "_model_module_version": "1.2.0",
            "_model_name": "LayoutModel",
            "_view_count": null,
            "_view_module": "@jupyter-widgets/base",
            "_view_module_version": "1.2.0",
            "_view_name": "LayoutView",
            "align_content": null,
            "align_items": null,
            "align_self": null,
            "border": null,
            "bottom": null,
            "display": null,
            "flex": null,
            "flex_flow": null,
            "grid_area": null,
            "grid_auto_columns": null,
            "grid_auto_flow": null,
            "grid_auto_rows": null,
            "grid_column": null,
            "grid_gap": null,
            "grid_row": null,
            "grid_template_areas": null,
            "grid_template_columns": null,
            "grid_template_rows": null,
            "height": null,
            "justify_content": null,
            "justify_items": null,
            "left": null,
            "margin": null,
            "max_height": null,
            "max_width": null,
            "min_height": null,
            "min_width": null,
            "object_fit": null,
            "object_position": null,
            "order": null,
            "overflow": null,
            "overflow_x": null,
            "overflow_y": null,
            "padding": null,
            "right": null,
            "top": null,
            "visibility": null,
            "width": null
          }
        },
        "239a69ebdb754197aef4c5e065cc7eba": {
          "model_module": "@jupyter-widgets/controls",
          "model_module_version": "1.5.0",
          "model_name": "DescriptionStyleModel",
          "state": {
            "_model_module": "@jupyter-widgets/controls",
            "_model_module_version": "1.5.0",
            "_model_name": "DescriptionStyleModel",
            "_view_count": null,
            "_view_module": "@jupyter-widgets/base",
            "_view_module_version": "1.2.0",
            "_view_name": "StyleView",
            "description_width": ""
          }
        },
        "304c537496d04f9595f8872a2a4300f7": {
          "model_module": "@jupyter-widgets/controls",
          "model_module_version": "1.5.0",
          "model_name": "VBoxModel",
          "state": {
            "_dom_classes": [],
            "_model_module": "@jupyter-widgets/controls",
            "_model_module_version": "1.5.0",
            "_model_name": "VBoxModel",
            "_view_count": null,
            "_view_module": "@jupyter-widgets/controls",
            "_view_module_version": "1.5.0",
            "_view_name": "VBoxView",
            "box_style": "",
            "children": [
              "IPY_MODEL_0e250981b56c4cb4bc3b663458a92fe0",
              "IPY_MODEL_3cda985bab974a949e428500935a16a5"
            ],
            "layout": "IPY_MODEL_61d3e6aba45c4ff7b3d73366a19a774e"
          }
        },
        "3cda985bab974a949e428500935a16a5": {
          "model_module": "@jupyter-widgets/controls",
          "model_module_version": "1.5.0",
          "model_name": "FloatProgressModel",
          "state": {
            "_dom_classes": [],
            "_model_module": "@jupyter-widgets/controls",
            "_model_module_version": "1.5.0",
            "_model_name": "FloatProgressModel",
            "_view_count": null,
            "_view_module": "@jupyter-widgets/controls",
            "_view_module_version": "1.5.0",
            "_view_name": "ProgressView",
            "bar_style": "",
            "description": "",
            "description_tooltip": null,
            "layout": "IPY_MODEL_bf092a2784b04ba4b362f485745a5fa2",
            "max": 1,
            "min": 0,
            "orientation": "horizontal",
            "style": "IPY_MODEL_b70fa87417124ff7ac71b9ca17451b19",
            "value": 0.10653394048501535
          }
        },
        "3e7e11e390e34c57b796c0904c96847d": {
          "model_module": "@jupyter-widgets/controls",
          "model_module_version": "1.5.0",
          "model_name": "HTMLModel",
          "state": {
            "_dom_classes": [],
            "_model_module": "@jupyter-widgets/controls",
            "_model_module_version": "1.5.0",
            "_model_name": "HTMLModel",
            "_view_count": null,
            "_view_module": "@jupyter-widgets/controls",
            "_view_module_version": "1.5.0",
            "_view_name": "HTMLView",
            "description": "",
            "description_tooltip": null,
            "layout": "IPY_MODEL_f1c14e10993b4a19844ef30a47e962df",
            "placeholder": "​",
            "style": "IPY_MODEL_239a69ebdb754197aef4c5e065cc7eba",
            "value": "Downloading https://raw.githubusercontent.com/stanfordnlp/stanza-resources/main/resources_1.5.0.json: "
          }
        },
        "61d3e6aba45c4ff7b3d73366a19a774e": {
          "model_module": "@jupyter-widgets/base",
          "model_module_version": "1.2.0",
          "model_name": "LayoutModel",
          "state": {
            "_model_module": "@jupyter-widgets/base",
            "_model_module_version": "1.2.0",
            "_model_name": "LayoutModel",
            "_view_count": null,
            "_view_module": "@jupyter-widgets/base",
            "_view_module_version": "1.2.0",
            "_view_name": "LayoutView",
            "align_content": null,
            "align_items": null,
            "align_self": null,
            "border": null,
            "bottom": null,
            "display": null,
            "flex": null,
            "flex_flow": null,
            "grid_area": null,
            "grid_auto_columns": null,
            "grid_auto_flow": null,
            "grid_auto_rows": null,
            "grid_column": null,
            "grid_gap": null,
            "grid_row": null,
            "grid_template_areas": null,
            "grid_template_columns": null,
            "grid_template_rows": null,
            "height": null,
            "justify_content": null,
            "justify_items": null,
            "left": null,
            "margin": null,
            "max_height": null,
            "max_width": null,
            "min_height": null,
            "min_width": null,
            "object_fit": null,
            "object_position": null,
            "order": null,
            "overflow": null,
            "overflow_x": null,
            "overflow_y": null,
            "padding": null,
            "right": null,
            "top": null,
            "visibility": null,
            "width": null
          }
        },
        "66efafb9e69e42e59a85a97a01cc7848": {
          "model_module": "@jupyter-widgets/base",
          "model_module_version": "1.2.0",
          "model_name": "LayoutModel",
          "state": {
            "_model_module": "@jupyter-widgets/base",
            "_model_module_version": "1.2.0",
            "_model_name": "LayoutModel",
            "_view_count": null,
            "_view_module": "@jupyter-widgets/base",
            "_view_module_version": "1.2.0",
            "_view_name": "LayoutView",
            "align_content": null,
            "align_items": null,
            "align_self": null,
            "border": null,
            "bottom": null,
            "display": null,
            "flex": null,
            "flex_flow": null,
            "grid_area": null,
            "grid_auto_columns": null,
            "grid_auto_flow": null,
            "grid_auto_rows": null,
            "grid_column": null,
            "grid_gap": null,
            "grid_row": null,
            "grid_template_areas": null,
            "grid_template_columns": null,
            "grid_template_rows": null,
            "height": null,
            "justify_content": null,
            "justify_items": null,
            "left": null,
            "margin": null,
            "max_height": null,
            "max_width": null,
            "min_height": null,
            "min_width": null,
            "object_fit": null,
            "object_position": null,
            "order": null,
            "overflow": null,
            "overflow_x": null,
            "overflow_y": null,
            "padding": null,
            "right": null,
            "top": null,
            "visibility": null,
            "width": null
          }
        },
        "72a97db60ebd4955999e4898871e40dc": {
          "model_module": "@jupyter-widgets/base",
          "model_module_version": "1.2.0",
          "model_name": "LayoutModel",
          "state": {
            "_model_module": "@jupyter-widgets/base",
            "_model_module_version": "1.2.0",
            "_model_name": "LayoutModel",
            "_view_count": null,
            "_view_module": "@jupyter-widgets/base",
            "_view_module_version": "1.2.0",
            "_view_name": "LayoutView",
            "align_content": null,
            "align_items": null,
            "align_self": null,
            "border": null,
            "bottom": null,
            "display": null,
            "flex": null,
            "flex_flow": null,
            "grid_area": null,
            "grid_auto_columns": null,
            "grid_auto_flow": null,
            "grid_auto_rows": null,
            "grid_column": null,
            "grid_gap": null,
            "grid_row": null,
            "grid_template_areas": null,
            "grid_template_columns": null,
            "grid_template_rows": null,
            "height": null,
            "justify_content": null,
            "justify_items": null,
            "left": null,
            "margin": null,
            "max_height": null,
            "max_width": null,
            "min_height": null,
            "min_width": null,
            "object_fit": null,
            "object_position": null,
            "order": null,
            "overflow": null,
            "overflow_x": null,
            "overflow_y": null,
            "padding": null,
            "right": null,
            "top": null,
            "visibility": null,
            "width": null
          }
        },
        "8e2dfff61fce4adf9e5d1d87923a66a3": {
          "model_module": "@jupyter-widgets/controls",
          "model_module_version": "1.5.0",
          "model_name": "FloatProgressModel",
          "state": {
            "_dom_classes": [],
            "_model_module": "@jupyter-widgets/controls",
            "_model_module_version": "1.5.0",
            "_model_name": "FloatProgressModel",
            "_view_count": null,
            "_view_module": "@jupyter-widgets/controls",
            "_view_module_version": "1.5.0",
            "_view_name": "ProgressView",
            "bar_style": "success",
            "description": "",
            "description_tooltip": null,
            "layout": "IPY_MODEL_11963abed3ad4bfcaff6544f8a8e962a",
            "max": 30101,
            "min": 0,
            "orientation": "horizontal",
            "style": "IPY_MODEL_f14365426e9a4547b6fd2718ed1d3e27",
            "value": 30101
          }
        },
        "aebe411d55b244d3b69c33c46d054993": {
          "model_module": "@jupyter-widgets/controls",
          "model_module_version": "1.5.0",
          "model_name": "DescriptionStyleModel",
          "state": {
            "_model_module": "@jupyter-widgets/controls",
            "_model_module_version": "1.5.0",
            "_model_name": "DescriptionStyleModel",
            "_view_count": null,
            "_view_module": "@jupyter-widgets/base",
            "_view_module_version": "1.2.0",
            "_view_name": "StyleView",
            "description_width": ""
          }
        },
        "b70fa87417124ff7ac71b9ca17451b19": {
          "model_module": "@jupyter-widgets/controls",
          "model_module_version": "1.5.0",
          "model_name": "ProgressStyleModel",
          "state": {
            "_model_module": "@jupyter-widgets/controls",
            "_model_module_version": "1.5.0",
            "_model_name": "ProgressStyleModel",
            "_view_count": null,
            "_view_module": "@jupyter-widgets/base",
            "_view_module_version": "1.2.0",
            "_view_name": "StyleView",
            "bar_color": null,
            "description_width": ""
          }
        },
        "bf092a2784b04ba4b362f485745a5fa2": {
          "model_module": "@jupyter-widgets/base",
          "model_module_version": "1.2.0",
          "model_name": "LayoutModel",
          "state": {
            "_model_module": "@jupyter-widgets/base",
            "_model_module_version": "1.2.0",
            "_model_name": "LayoutModel",
            "_view_count": null,
            "_view_module": "@jupyter-widgets/base",
            "_view_module_version": "1.2.0",
            "_view_name": "LayoutView",
            "align_content": null,
            "align_items": null,
            "align_self": null,
            "border": null,
            "bottom": null,
            "display": null,
            "flex": null,
            "flex_flow": null,
            "grid_area": null,
            "grid_auto_columns": null,
            "grid_auto_flow": null,
            "grid_auto_rows": null,
            "grid_column": null,
            "grid_gap": null,
            "grid_row": null,
            "grid_template_areas": null,
            "grid_template_columns": null,
            "grid_template_rows": null,
            "height": null,
            "justify_content": null,
            "justify_items": null,
            "left": null,
            "margin": null,
            "max_height": null,
            "max_width": null,
            "min_height": null,
            "min_width": null,
            "object_fit": null,
            "object_position": null,
            "order": null,
            "overflow": null,
            "overflow_x": null,
            "overflow_y": null,
            "padding": null,
            "right": null,
            "top": null,
            "visibility": null,
            "width": null
          }
        },
        "ccd5a508a0cc47889b3b02913244da71": {
          "model_module": "@jupyter-widgets/controls",
          "model_module_version": "1.5.0",
          "model_name": "DescriptionStyleModel",
          "state": {
            "_model_module": "@jupyter-widgets/controls",
            "_model_module_version": "1.5.0",
            "_model_name": "DescriptionStyleModel",
            "_view_count": null,
            "_view_module": "@jupyter-widgets/base",
            "_view_module_version": "1.2.0",
            "_view_name": "StyleView",
            "description_width": ""
          }
        },
        "f14365426e9a4547b6fd2718ed1d3e27": {
          "model_module": "@jupyter-widgets/controls",
          "model_module_version": "1.5.0",
          "model_name": "ProgressStyleModel",
          "state": {
            "_model_module": "@jupyter-widgets/controls",
            "_model_module_version": "1.5.0",
            "_model_name": "ProgressStyleModel",
            "_view_count": null,
            "_view_module": "@jupyter-widgets/base",
            "_view_module_version": "1.2.0",
            "_view_name": "StyleView",
            "bar_color": null,
            "description_width": ""
          }
        },
        "f1c14e10993b4a19844ef30a47e962df": {
          "model_module": "@jupyter-widgets/base",
          "model_module_version": "1.2.0",
          "model_name": "LayoutModel",
          "state": {
            "_model_module": "@jupyter-widgets/base",
            "_model_module_version": "1.2.0",
            "_model_name": "LayoutModel",
            "_view_count": null,
            "_view_module": "@jupyter-widgets/base",
            "_view_module_version": "1.2.0",
            "_view_name": "LayoutView",
            "align_content": null,
            "align_items": null,
            "align_self": null,
            "border": null,
            "bottom": null,
            "display": null,
            "flex": null,
            "flex_flow": null,
            "grid_area": null,
            "grid_auto_columns": null,
            "grid_auto_flow": null,
            "grid_auto_rows": null,
            "grid_column": null,
            "grid_gap": null,
            "grid_row": null,
            "grid_template_areas": null,
            "grid_template_columns": null,
            "grid_template_rows": null,
            "height": null,
            "justify_content": null,
            "justify_items": null,
            "left": null,
            "margin": null,
            "max_height": null,
            "max_width": null,
            "min_height": null,
            "min_width": null,
            "object_fit": null,
            "object_position": null,
            "order": null,
            "overflow": null,
            "overflow_x": null,
            "overflow_y": null,
            "padding": null,
            "right": null,
            "top": null,
            "visibility": null,
            "width": null
          }
        },
        "f7f4e74cba5949009a418947a8a70e0f": {
          "model_module": "@jupyter-widgets/base",
          "model_module_version": "1.2.0",
          "model_name": "LayoutModel",
          "state": {
            "_model_module": "@jupyter-widgets/base",
            "_model_module_version": "1.2.0",
            "_model_name": "LayoutModel",
            "_view_count": null,
            "_view_module": "@jupyter-widgets/base",
            "_view_module_version": "1.2.0",
            "_view_name": "LayoutView",
            "align_content": null,
            "align_items": null,
            "align_self": null,
            "border": null,
            "bottom": null,
            "display": null,
            "flex": null,
            "flex_flow": null,
            "grid_area": null,
            "grid_auto_columns": null,
            "grid_auto_flow": null,
            "grid_auto_rows": null,
            "grid_column": null,
            "grid_gap": null,
            "grid_row": null,
            "grid_template_areas": null,
            "grid_template_columns": null,
            "grid_template_rows": null,
            "height": null,
            "justify_content": null,
            "justify_items": null,
            "left": null,
            "margin": null,
            "max_height": null,
            "max_width": null,
            "min_height": null,
            "min_width": null,
            "object_fit": null,
            "object_position": null,
            "order": null,
            "overflow": null,
            "overflow_x": null,
            "overflow_y": null,
            "padding": null,
            "right": null,
            "top": null,
            "visibility": null,
            "width": null
          }
        }
      }
    }
  },
  "nbformat": 4,
  "nbformat_minor": 0
}
